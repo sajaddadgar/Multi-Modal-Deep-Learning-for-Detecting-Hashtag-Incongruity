{
 "cells": [
  {
   "cell_type": "markdown",
   "metadata": {
    "id": "LNE14pdXWlyk"
   },
   "source": [
    "# Installing the libraries"
   ]
  },
  {
   "cell_type": "code",
   "execution_count": null,
   "metadata": {
    "colab": {
     "base_uri": "https://localhost:8080/"
    },
    "id": "J3XSQnZEBfbf",
    "outputId": "62eb2dbe-ccd7-47db-9bd5-1e239bffcf32"
   },
   "outputs": [
    {
     "name": "stdout",
     "output_type": "stream",
     "text": [
      "Looking in indexes: https://pypi.org/simple, https://us-python.pkg.dev/colab-wheels/public/simple/\n",
      "Collecting scikeras\n",
      "  Downloading scikeras-0.9.0-py3-none-any.whl (27 kB)\n",
      "Requirement already satisfied: scikit-learn>=1.0.0 in /usr/local/lib/python3.7/dist-packages (from scikeras) (1.0.2)\n",
      "Requirement already satisfied: packaging>=0.21 in /usr/local/lib/python3.7/dist-packages (from scikeras) (21.3)\n",
      "Requirement already satisfied: importlib-metadata>=3 in /usr/local/lib/python3.7/dist-packages (from scikeras) (4.12.0)\n",
      "Requirement already satisfied: zipp>=0.5 in /usr/local/lib/python3.7/dist-packages (from importlib-metadata>=3->scikeras) (3.8.1)\n",
      "Requirement already satisfied: typing-extensions>=3.6.4 in /usr/local/lib/python3.7/dist-packages (from importlib-metadata>=3->scikeras) (4.1.1)\n",
      "Requirement already satisfied: pyparsing!=3.0.5,>=2.0.2 in /usr/local/lib/python3.7/dist-packages (from packaging>=0.21->scikeras) (3.0.9)\n",
      "Requirement already satisfied: joblib>=0.11 in /usr/local/lib/python3.7/dist-packages (from scikit-learn>=1.0.0->scikeras) (1.1.0)\n",
      "Requirement already satisfied: scipy>=1.1.0 in /usr/local/lib/python3.7/dist-packages (from scikit-learn>=1.0.0->scikeras) (1.7.3)\n",
      "Requirement already satisfied: threadpoolctl>=2.0.0 in /usr/local/lib/python3.7/dist-packages (from scikit-learn>=1.0.0->scikeras) (3.1.0)\n",
      "Requirement already satisfied: numpy>=1.14.6 in /usr/local/lib/python3.7/dist-packages (from scikit-learn>=1.0.0->scikeras) (1.21.6)\n",
      "Installing collected packages: scikeras\n",
      "Successfully installed scikeras-0.9.0\n"
     ]
    }
   ],
   "source": [
    "!pip install scikeras"
   ]
  },
  {
   "cell_type": "markdown",
   "metadata": {
    "id": "gddLQEnIboH0"
   },
   "source": [
    "# Import libraries"
   ]
  },
  {
   "cell_type": "code",
   "execution_count": null,
   "metadata": {
    "id": "x105f-TVBbYj"
   },
   "outputs": [],
   "source": [
    "import numpy as np\n",
    "import pandas as pd\n",
    "from google.colab import files\n",
    "from google.colab import drive\n",
    "import matplotlib\n",
    "import matplotlib.pyplot as plt\n",
    "import seaborn as sns\n",
    "import pickle\n",
    "%matplotlib inline\n",
    "matplotlib.rcParams['figure.figsize'] = (16, 6)\n",
    "\n",
    "import statsmodels.api as sm\n",
    "from sklearn.model_selection import train_test_split, cross_val_score, GridSearchCV\n",
    "from sklearn.preprocessing import StandardScaler\n",
    "from sklearn.linear_model import LogisticRegression\n",
    "from sklearn.ensemble import ExtraTreesClassifier, RandomForestRegressor\n",
    "\n",
    "import tensorflow as tf\n",
    "from tensorflow.keras.constraints import MaxNorm\n",
    "from keras.models import Sequential\n",
    "from keras.layers import Dense, Dropout\n",
    "from scikeras.wrappers import KerasClassifier\n",
    "from tensorflow.keras.callbacks import ModelCheckpoint"
   ]
  },
  {
   "cell_type": "markdown",
   "metadata": {
    "id": "Rs7BBNdVb1Fm"
   },
   "source": [
    "# Loading the data"
   ]
  },
  {
   "cell_type": "code",
   "execution_count": null,
   "metadata": {
    "colab": {
     "base_uri": "https://localhost:8080/"
    },
    "id": "s6LuA8L_35G2",
    "outputId": "d9dcb5b1-19bc-4505-ff6d-e8cb14f174f1"
   },
   "outputs": [
    {
     "name": "stdout",
     "output_type": "stream",
     "text": [
      "Mounted at /content/gdrive\n",
      "/content/gdrive/MyDrive/Incongruence_Data/data_metadata\n"
     ]
    }
   ],
   "source": [
    "drive.mount('/content/gdrive')\n",
    "%cd gdrive/MyDrive/Incongruence_Data/data_metadata\n",
    "from utils import *"
   ]
  },
  {
   "cell_type": "code",
   "execution_count": null,
   "metadata": {
    "colab": {
     "base_uri": "https://localhost:8080/"
    },
    "id": "LHrM3V1m_-fn",
    "outputId": "30f7055d-a023-489c-b8ec-02d1dad12dcc"
   },
   "outputs": [
    {
     "name": "stderr",
     "output_type": "stream",
     "text": [
      "/content/gdrive/MyDrive/Incongruence_Data/data_metadata/utils.py:56: SettingWithCopyWarning: \n",
      "A value is trying to be set on a copy of a slice from a DataFrame.\n",
      "Try using .loc[row_indexer,col_indexer] = value instead\n",
      "\n",
      "See the caveats in the documentation: https://pandas.pydata.org/pandas-docs/stable/user_guide/indexing.html#returning-a-view-versus-a-copy\n",
      "  df['user_post_count'] = pd.to_numeric(df['user_post_count'].values)\n",
      "/content/gdrive/MyDrive/Incongruence_Data/data_metadata/utils.py:57: SettingWithCopyWarning: \n",
      "A value is trying to be set on a copy of a slice from a DataFrame.\n",
      "Try using .loc[row_indexer,col_indexer] = value instead\n",
      "\n",
      "See the caveats in the documentation: https://pandas.pydata.org/pandas-docs/stable/user_guide/indexing.html#returning-a-view-versus-a-copy\n",
      "  df['user_follower_count'] = pd.to_numeric(df['user_follower_count'].values)\n",
      "/content/gdrive/MyDrive/Incongruence_Data/data_metadata/utils.py:58: SettingWithCopyWarning: \n",
      "A value is trying to be set on a copy of a slice from a DataFrame.\n",
      "Try using .loc[row_indexer,col_indexer] = value instead\n",
      "\n",
      "See the caveats in the documentation: https://pandas.pydata.org/pandas-docs/stable/user_guide/indexing.html#returning-a-view-versus-a-copy\n",
      "  df['user_following_count'] = pd.to_numeric(df['user_following_count'].values)\n",
      "/content/gdrive/MyDrive/Incongruence_Data/data_metadata/utils.py:59: SettingWithCopyWarning: \n",
      "A value is trying to be set on a copy of a slice from a DataFrame.\n",
      "Try using .loc[row_indexer,col_indexer] = value instead\n",
      "\n",
      "See the caveats in the documentation: https://pandas.pydata.org/pandas-docs/stable/user_guide/indexing.html#returning-a-view-versus-a-copy\n",
      "  df['comment_count'] = pd.to_numeric(df['comment_count'].values)\n",
      "/content/gdrive/MyDrive/Incongruence_Data/data_metadata/utils.py:68: SettingWithCopyWarning: \n",
      "A value is trying to be set on a copy of a slice from a DataFrame.\n",
      "Try using .loc[row_indexer,col_indexer] = value instead\n",
      "\n",
      "See the caveats in the documentation: https://pandas.pydata.org/pandas-docs/stable/user_guide/indexing.html#returning-a-view-versus-a-copy\n",
      "  df['usertag_list'] = tags\n",
      "/content/gdrive/MyDrive/Incongruence_Data/data_metadata/utils.py:91: SettingWithCopyWarning: \n",
      "A value is trying to be set on a copy of a slice from a DataFrame.\n",
      "Try using .loc[row_indexer,col_indexer] = value instead\n",
      "\n",
      "See the caveats in the documentation: https://pandas.pydata.org/pandas-docs/stable/user_guide/indexing.html#returning-a-view-versus-a-copy\n",
      "  df['caption_text'] = all_caption_text\n",
      "/content/gdrive/MyDrive/Incongruence_Data/data_metadata/utils.py:92: SettingWithCopyWarning: \n",
      "A value is trying to be set on a copy of a slice from a DataFrame.\n",
      "Try using .loc[row_indexer,col_indexer] = value instead\n",
      "\n",
      "See the caveats in the documentation: https://pandas.pydata.org/pandas-docs/stable/user_guide/indexing.html#returning-a-view-versus-a-copy\n",
      "  df['hashtags'] = all_tags\n",
      "/content/gdrive/MyDrive/Incongruence_Data/data_metadata/utils.py:101: SettingWithCopyWarning: \n",
      "A value is trying to be set on a copy of a slice from a DataFrame.\n",
      "Try using .loc[row_indexer,col_indexer] = value instead\n",
      "\n",
      "See the caveats in the documentation: https://pandas.pydata.org/pandas-docs/stable/user_guide/indexing.html#returning-a-view-versus-a-copy\n",
      "  df['usertag_list'] = new_usertag_list\n",
      "/content/gdrive/MyDrive/Incongruence_Data/data_metadata/utils.py:114: SettingWithCopyWarning: \n",
      "A value is trying to be set on a copy of a slice from a DataFrame.\n",
      "Try using .loc[row_indexer,col_indexer] = value instead\n",
      "\n",
      "See the caveats in the documentation: https://pandas.pydata.org/pandas-docs/stable/user_guide/indexing.html#returning-a-view-versus-a-copy\n",
      "  df['hashtags'] = all_tag\n",
      "/content/gdrive/MyDrive/Incongruence_Data/data_metadata/utils.py:124: SettingWithCopyWarning: \n",
      "A value is trying to be set on a copy of a slice from a DataFrame.\n",
      "Try using .loc[row_indexer,col_indexer] = value instead\n",
      "\n",
      "See the caveats in the documentation: https://pandas.pydata.org/pandas-docs/stable/user_guide/indexing.html#returning-a-view-versus-a-copy\n",
      "  df['caption_text_new'] = english_text\n"
     ]
    }
   ],
   "source": [
    "df_nike = get_dataframe('nike')\n",
    "df_gucci = get_dataframe('gucci')\n",
    "df_cristianoronaldo = get_dataframe('cristianoronaldo')\n",
    "df_edsheeran = get_dataframe('edsheeran')\n",
    "df = df_nike.append([df_gucci, df_cristianoronaldo, df_edsheeran])"
   ]
  },
  {
   "cell_type": "code",
   "execution_count": null,
   "metadata": {
    "id": "AfDztnkN8OD7"
   },
   "outputs": [],
   "source": [
    "# dominant image\n",
    "# df_nike = get_dominant_image(df_nike)\n",
    "# df_gucci = get_dominant_image(df_gucci)\n",
    "# df_cristianoronaldo = get_dominant_image(df_cristianoronaldo)\n",
    "# df_edsheeran = get_dominant_image(df_edsheeran)"
   ]
  },
  {
   "cell_type": "markdown",
   "metadata": {
    "id": "c7JUjJM_BbZE"
   },
   "source": [
    "# Analyzing the general charactrisitic of data"
   ]
  },
  {
   "cell_type": "code",
   "execution_count": null,
   "metadata": {
    "id": "9yAtc7MhieGD"
   },
   "outputs": [],
   "source": [
    "def degree_of_imbalance(dist):\n",
    "  if dist < 1:\n",
    "    return 'Extreme'\n",
    "  elif (dist < 20) and (dist >= 1):\n",
    "    return 'Moderate'\n",
    "  elif (dist < 40) and (dist >= 20):\n",
    "    return 'Mild'\n",
    "  else:\n",
    "    return 'Balance'"
   ]
  },
  {
   "cell_type": "code",
   "execution_count": null,
   "metadata": {
    "colab": {
     "base_uri": "https://localhost:8080/"
    },
    "id": "CqxwoWTYgAT3",
    "outputId": "deff2f21-05a4-4ac3-c320-680e0f07dada"
   },
   "outputs": [
    {
     "name": "stdout",
     "output_type": "stream",
     "text": [
      "#Nike:\n",
      "Balance\n",
      "**********\n",
      "#Gucci:\n",
      "Balance\n",
      "**********\n",
      "#CristianoRonaldo:\n",
      "Balance\n",
      "**********\n",
      "#EdSheeran:\n",
      "Balance\n",
      "**********\n",
      "All datasets:\n",
      "Balance\n"
     ]
    }
   ],
   "source": [
    "# Check whehther the data is imbalanced or not\n",
    "nike_mismatch_num = len(df_nike[df_nike['class'] == 0].values)\n",
    "nike_match_num = len(df_nike[df_nike['class'] == 1].values)\n",
    "gucci_mismatch_num = len(df_gucci[df_gucci['class'] == 0].values)\n",
    "gucci_match_num = len(df_gucci[df_gucci['class'] == 1].values)\n",
    "cristianoronaldo_mismatch_num = len(df_cristianoronaldo[df_cristianoronaldo['class'] == 0].values)\n",
    "cristianoronaldo_match_num = len(df_cristianoronaldo[df_cristianoronaldo['class'] == 1].values)\n",
    "edsheeran_mismatch_num = len(df_edsheeran[df_edsheeran['class'] == 0].values)\n",
    "edsheeran_match_num = len(df_edsheeran[df_edsheeran['class'] == 1].values)\n",
    "\n",
    "all_mismatch_num = len(df[df['class'] == 0].values)\n",
    "all_match_num = len(df[df['class'] == 1].values)\n",
    "\n",
    "print('#Nike:')\n",
    "print(f'{degree_of_imbalance((nike_match_num/nike_mismatch_num)*100)}')\n",
    "print('*'*10)\n",
    "print('#Gucci:')\n",
    "print(f'{degree_of_imbalance((gucci_match_num/gucci_mismatch_num)*100)}')\n",
    "print('*'*10)\n",
    "print('#CristianoRonaldo:')\n",
    "print(f'{degree_of_imbalance((cristianoronaldo_match_num/cristianoronaldo_mismatch_num)*100)}')\n",
    "print('*'*10)\n",
    "print('#EdSheeran:')\n",
    "print(f'{degree_of_imbalance((edsheeran_mismatch_num/edsheeran_match_num)*100)}')\n",
    "\n",
    "print('*'*10)\n",
    "print('All datasets:')\n",
    "print(f'{degree_of_imbalance((all_match_num/all_mismatch_num)*100)}')"
   ]
  },
  {
   "cell_type": "code",
   "execution_count": null,
   "metadata": {
    "id": "AbFsN3HAQlV_"
   },
   "outputs": [],
   "source": [
    "def post_user_count(df):\n",
    "  return len(df['username'].values), len(set(df['username'].values))"
   ]
  },
  {
   "cell_type": "code",
   "execution_count": null,
   "metadata": {
    "colab": {
     "base_uri": "https://localhost:8080/"
    },
    "id": "COew3_MeQ7AI",
    "outputId": "4e5b8026-e21d-48e1-dd5b-647c098c7c02"
   },
   "outputs": [
    {
     "name": "stdout",
     "output_type": "stream",
     "text": [
      "#Nike\n",
      "No. of posts: 3151, No. of users: 2266\n",
      "**********\n",
      "#Gucci\n",
      "No. of posts: 3343, No. of users: 1940\n",
      "**********\n",
      "#CristianoRonaldo\n",
      "No. of posts: 3481, No. of users: 2405\n",
      "**********\n",
      "#EdSheeran\n",
      "No. of posts: 2144, No. of users: 1403\n"
     ]
    }
   ],
   "source": [
    "print('#Nike')\n",
    "print(f'No. of posts: {post_user_count(df_nike)[0]}, No. of users: {post_user_count(df_nike)[1]}')\n",
    "print('*'*10)\n",
    "print('#Gucci')\n",
    "print(f'No. of posts: {post_user_count(df_gucci)[0]}, No. of users: {post_user_count(df_gucci)[1]}')\n",
    "print('*'*10)\n",
    "print('#CristianoRonaldo')\n",
    "print(f'No. of posts: {post_user_count(df_cristianoronaldo)[0]}, No. of users: {post_user_count(df_cristianoronaldo)[1]}')\n",
    "print('*'*10)\n",
    "print('#EdSheeran')\n",
    "print(f'No. of posts: {post_user_count(df_edsheeran)[0]}, No. of users: {post_user_count(df_edsheeran)[1]}')"
   ]
  },
  {
   "cell_type": "code",
   "execution_count": null,
   "metadata": {},
   "outputs": [],
   "source": [
    "print('#Nike')\n",
    "print(f'No. of matches: {df_nike[df_nike[\"class\"] == 1].shape[0]}, No. of mismatches: {df_nike[df_nike[\"class\"] == 0].shape[0]}')\n",
    "print('*'*10)\n",
    "print('#Gucci')\n",
    "print(f'No. of matches: {df_gucci[df_gucci[\"class\"] == 1].shape[0]}, No. of mismatches: {df_gucci[df_gucci[\"class\"] == 0].shape[0]}')\n",
    "print('*'*10)\n",
    "print('#CristianoRonaldo')\n",
    "print(f'No. of matches: {df_cristianoronaldo[df_cristianoronaldo[\"class\"] == 1].shape[0]}, No. of mismatches: {df_cristianoronaldo[df_cristianoronaldo[\"class\"] == 0].shape[0]}')\n",
    "print('*'*10)\n",
    "print('#EdSheeran')\n",
    "print(f'No. of matches: {df_edsheeran[df_edsheeran[\"class\"] == 1].shape[0]}, No. of mismatches: {df_edsheeran[df_edsheeran[\"class\"] == 0].shape[0]}')"
   ]
  },
  {
   "cell_type": "markdown",
   "metadata": {
    "id": "JmBfmLSsmu_6"
   },
   "source": [
    "# Feature selection"
   ]
  },
  {
   "cell_type": "code",
   "execution_count": null,
   "metadata": {
    "id": "j-DNXR2bZUCU"
   },
   "outputs": [],
   "source": [
    "df.drop(columns=['file_name', 'caption', 'username', 'fullname', 'hashtags',\n",
    "                 'caption_text_new', 'location_city', 'location_name', 'user_biography',\n",
    "                'user_business_category', 'caption_text', 'usertag_list'], inplace=True)\n",
    "df = df.sample(frac=1)\n",
    "y = df.iloc[:, 7].values\n",
    "df2 = df.drop(columns=['class'])\n",
    "X = df2.iloc[:, :].values"
   ]
  },
  {
   "cell_type": "code",
   "execution_count": null,
   "metadata": {
    "colab": {
     "base_uri": "https://localhost:8080/"
    },
    "id": "ShcX2f1Xmu_7",
    "outputId": "86db6af4-bdff-46ce-8bd1-0c7f3630f440"
   },
   "outputs": [
    {
     "name": "stdout",
     "output_type": "stream",
     "text": [
      "                                 OLS Regression Results                                \n",
      "=======================================================================================\n",
      "Dep. Variable:                      y   R-squared (uncentered):                   0.478\n",
      "Model:                            OLS   Adj. R-squared (uncentered):              0.477\n",
      "Method:                 Least Squares   F-statistic:                              443.7\n",
      "Date:                Sat, 13 Aug 2022   Prob (F-statistic):                        0.00\n",
      "Time:                        22:36:17   Log-Likelihood:                         -7548.7\n",
      "No. Observations:               12119   AIC:                                  1.515e+04\n",
      "Df Residuals:                   12094   BIC:                                  1.533e+04\n",
      "Df Model:                          25                                                  \n",
      "Covariance Type:            nonrobust                                                  \n",
      "==============================================================================\n",
      "                 coef    std err          t      P>|t|      [0.025      0.975]\n",
      "------------------------------------------------------------------------------\n",
      "x1            -0.0016      0.000     -3.797      0.000      -0.002      -0.001\n",
      "x2          1.332e-05   1.52e-05      0.876      0.381   -1.65e-05    4.31e-05\n",
      "x3           1.04e-07   7.63e-08      1.363      0.173   -4.55e-08    2.53e-07\n",
      "x4           2.36e-06   2.69e-06      0.879      0.379    -2.9e-06    7.62e-06\n",
      "x5          1.444e-06   9.78e-07      1.476      0.140   -4.73e-07    3.36e-06\n",
      "x6             0.1870      0.012     16.134      0.000       0.164       0.210\n",
      "x7             0.2476      0.057      4.327      0.000       0.135       0.360\n",
      "x8             0.0002   2.69e-05      8.499      0.000       0.000       0.000\n",
      "x9         -2.419e-05   2.16e-05     -1.121      0.262   -6.65e-05    1.81e-05\n",
      "x10            0.0256      0.001     24.585      0.000       0.024       0.028\n",
      "x11           -0.0106      0.000    -27.626      0.000      -0.011      -0.010\n",
      "x12           -0.0056      0.001     -4.806      0.000      -0.008      -0.003\n",
      "x13           -0.0006      0.000     -3.416      0.001      -0.001      -0.000\n",
      "x14            0.0017      0.000      5.076      0.000       0.001       0.002\n",
      "x15           -0.1471      0.013    -11.071      0.000      -0.173      -0.121\n",
      "x16           -0.0082      0.001     -8.634      0.000      -0.010      -0.006\n",
      "x17            0.3110      0.073      4.267      0.000       0.168       0.454\n",
      "x18           -0.0305      0.077     -0.399      0.690      -0.181       0.120\n",
      "x19            0.0337      0.009      3.749      0.000       0.016       0.051\n",
      "x20            0.0009      0.000      7.488      0.000       0.001       0.001\n",
      "x21           -0.0270      0.017     -1.597      0.110      -0.060       0.006\n",
      "x22           -0.0952      0.010     -9.651      0.000      -0.115      -0.076\n",
      "x23            0.1519      0.029      5.160      0.000       0.094       0.210\n",
      "x24            0.1722      0.032      5.451      0.000       0.110       0.234\n",
      "x25         2.031e-06   1.14e-06      1.774      0.076   -2.13e-07    4.27e-06\n",
      "==============================================================================\n",
      "Omnibus:                     6947.157   Durbin-Watson:                   1.994\n",
      "Prob(Omnibus):                  0.000   Jarque-Bera (JB):              942.289\n",
      "Skew:                           0.374   Prob(JB):                    2.42e-205\n",
      "Kurtosis:                       1.857   Cond. No.                     1.20e+06\n",
      "==============================================================================\n",
      "\n",
      "Warnings:\n",
      "[1] Standard Errors assume that the covariance matrix of the errors is correctly specified.\n",
      "[2] The condition number is large, 1.2e+06. This might indicate that there are\n",
      "strong multicollinearity or other numerical problems.\n"
     ]
    }
   ],
   "source": [
    "model = sm.OLS(y,X)\n",
    "results = model.fit()\n",
    "print(results.summary())"
   ]
  },
  {
   "cell_type": "code",
   "execution_count": null,
   "metadata": {
    "colab": {
     "base_uri": "https://localhost:8080/",
     "height": 833
    },
    "id": "ht5Yn4RAWkjS",
    "outputId": "9b2297a5-4c56-4955-e7d2-62cff160e603"
   },
   "outputs": [
    {
     "data": {
      "text/html": [
       "\n",
       "  <div id=\"df-7a106958-94f7-497e-a5e9-eb24f326d877\">\n",
       "    <div class=\"colab-df-container\">\n",
       "      <div>\n",
       "<style scoped>\n",
       "    .dataframe tbody tr th:only-of-type {\n",
       "        vertical-align: middle;\n",
       "    }\n",
       "\n",
       "    .dataframe tbody tr th {\n",
       "        vertical-align: top;\n",
       "    }\n",
       "\n",
       "    .dataframe thead th {\n",
       "        text-align: right;\n",
       "    }\n",
       "</style>\n",
       "<table border=\"1\" class=\"dataframe\">\n",
       "  <thead>\n",
       "    <tr style=\"text-align: right;\">\n",
       "      <th></th>\n",
       "      <th>feature importance</th>\n",
       "    </tr>\n",
       "  </thead>\n",
       "  <tbody>\n",
       "    <tr>\n",
       "      <th>hashtags_num</th>\n",
       "      <td>0.199366</td>\n",
       "    </tr>\n",
       "    <tr>\n",
       "      <th>user_post_count</th>\n",
       "      <td>0.103186</td>\n",
       "    </tr>\n",
       "    <tr>\n",
       "      <th>user_follower_count</th>\n",
       "      <td>0.100009</td>\n",
       "    </tr>\n",
       "    <tr>\n",
       "      <th>user_following_count</th>\n",
       "      <td>0.082850</td>\n",
       "    </tr>\n",
       "    <tr>\n",
       "      <th>hashtag_sequence_num</th>\n",
       "      <td>0.067510</td>\n",
       "    </tr>\n",
       "    <tr>\n",
       "      <th>text_word_count</th>\n",
       "      <td>0.054070</td>\n",
       "    </tr>\n",
       "    <tr>\n",
       "      <th>capital_char_num</th>\n",
       "      <td>0.050578</td>\n",
       "    </tr>\n",
       "    <tr>\n",
       "      <th>sentiment</th>\n",
       "      <td>0.046734</td>\n",
       "    </tr>\n",
       "    <tr>\n",
       "      <th>like_count</th>\n",
       "      <td>0.046077</td>\n",
       "    </tr>\n",
       "    <tr>\n",
       "      <th>image_width</th>\n",
       "      <td>0.037400</td>\n",
       "    </tr>\n",
       "    <tr>\n",
       "      <th>image_height</th>\n",
       "      <td>0.035889</td>\n",
       "    </tr>\n",
       "    <tr>\n",
       "      <th>digit_num</th>\n",
       "      <td>0.035513</td>\n",
       "    </tr>\n",
       "    <tr>\n",
       "      <th>mention_num</th>\n",
       "      <td>0.032974</td>\n",
       "    </tr>\n",
       "    <tr>\n",
       "      <th>user_business_category_encoded</th>\n",
       "      <td>0.031482</td>\n",
       "    </tr>\n",
       "    <tr>\n",
       "      <th>comment_count</th>\n",
       "      <td>0.022816</td>\n",
       "    </tr>\n",
       "    <tr>\n",
       "      <th>hashtag_other_related_brands</th>\n",
       "      <td>0.018953</td>\n",
       "    </tr>\n",
       "    <tr>\n",
       "      <th>has_location</th>\n",
       "      <td>0.012848</td>\n",
       "    </tr>\n",
       "    <tr>\n",
       "      <th>is_comment_hashtags</th>\n",
       "      <td>0.005172</td>\n",
       "    </tr>\n",
       "    <tr>\n",
       "      <th>user_is_business_account</th>\n",
       "      <td>0.004448</td>\n",
       "    </tr>\n",
       "    <tr>\n",
       "      <th>tag_other_related_brands</th>\n",
       "      <td>0.003747</td>\n",
       "    </tr>\n",
       "    <tr>\n",
       "      <th>mention_target_brand</th>\n",
       "      <td>0.003673</td>\n",
       "    </tr>\n",
       "    <tr>\n",
       "      <th>dominant_color</th>\n",
       "      <td>0.002652</td>\n",
       "    </tr>\n",
       "    <tr>\n",
       "      <th>is_username_related_brand</th>\n",
       "      <td>0.000702</td>\n",
       "    </tr>\n",
       "    <tr>\n",
       "      <th>is_bio_related_brand</th>\n",
       "      <td>0.000675</td>\n",
       "    </tr>\n",
       "    <tr>\n",
       "      <th>user_is_verified</th>\n",
       "      <td>0.000675</td>\n",
       "    </tr>\n",
       "  </tbody>\n",
       "</table>\n",
       "</div>\n",
       "      <button class=\"colab-df-convert\" onclick=\"convertToInteractive('df-7a106958-94f7-497e-a5e9-eb24f326d877')\"\n",
       "              title=\"Convert this dataframe to an interactive table.\"\n",
       "              style=\"display:none;\">\n",
       "        \n",
       "  <svg xmlns=\"http://www.w3.org/2000/svg\" height=\"24px\"viewBox=\"0 0 24 24\"\n",
       "       width=\"24px\">\n",
       "    <path d=\"M0 0h24v24H0V0z\" fill=\"none\"/>\n",
       "    <path d=\"M18.56 5.44l.94 2.06.94-2.06 2.06-.94-2.06-.94-.94-2.06-.94 2.06-2.06.94zm-11 1L8.5 8.5l.94-2.06 2.06-.94-2.06-.94L8.5 2.5l-.94 2.06-2.06.94zm10 10l.94 2.06.94-2.06 2.06-.94-2.06-.94-.94-2.06-.94 2.06-2.06.94z\"/><path d=\"M17.41 7.96l-1.37-1.37c-.4-.4-.92-.59-1.43-.59-.52 0-1.04.2-1.43.59L10.3 9.45l-7.72 7.72c-.78.78-.78 2.05 0 2.83L4 21.41c.39.39.9.59 1.41.59.51 0 1.02-.2 1.41-.59l7.78-7.78 2.81-2.81c.8-.78.8-2.07 0-2.86zM5.41 20L4 18.59l7.72-7.72 1.47 1.35L5.41 20z\"/>\n",
       "  </svg>\n",
       "      </button>\n",
       "      \n",
       "  <style>\n",
       "    .colab-df-container {\n",
       "      display:flex;\n",
       "      flex-wrap:wrap;\n",
       "      gap: 12px;\n",
       "    }\n",
       "\n",
       "    .colab-df-convert {\n",
       "      background-color: #E8F0FE;\n",
       "      border: none;\n",
       "      border-radius: 50%;\n",
       "      cursor: pointer;\n",
       "      display: none;\n",
       "      fill: #1967D2;\n",
       "      height: 32px;\n",
       "      padding: 0 0 0 0;\n",
       "      width: 32px;\n",
       "    }\n",
       "\n",
       "    .colab-df-convert:hover {\n",
       "      background-color: #E2EBFA;\n",
       "      box-shadow: 0px 1px 2px rgba(60, 64, 67, 0.3), 0px 1px 3px 1px rgba(60, 64, 67, 0.15);\n",
       "      fill: #174EA6;\n",
       "    }\n",
       "\n",
       "    [theme=dark] .colab-df-convert {\n",
       "      background-color: #3B4455;\n",
       "      fill: #D2E3FC;\n",
       "    }\n",
       "\n",
       "    [theme=dark] .colab-df-convert:hover {\n",
       "      background-color: #434B5C;\n",
       "      box-shadow: 0px 1px 3px 1px rgba(0, 0, 0, 0.15);\n",
       "      filter: drop-shadow(0px 1px 2px rgba(0, 0, 0, 0.3));\n",
       "      fill: #FFFFFF;\n",
       "    }\n",
       "  </style>\n",
       "\n",
       "      <script>\n",
       "        const buttonEl =\n",
       "          document.querySelector('#df-7a106958-94f7-497e-a5e9-eb24f326d877 button.colab-df-convert');\n",
       "        buttonEl.style.display =\n",
       "          google.colab.kernel.accessAllowed ? 'block' : 'none';\n",
       "\n",
       "        async function convertToInteractive(key) {\n",
       "          const element = document.querySelector('#df-7a106958-94f7-497e-a5e9-eb24f326d877');\n",
       "          const dataTable =\n",
       "            await google.colab.kernel.invokeFunction('convertToInteractive',\n",
       "                                                     [key], {});\n",
       "          if (!dataTable) return;\n",
       "\n",
       "          const docLinkHtml = 'Like what you see? Visit the ' +\n",
       "            '<a target=\"_blank\" href=https://colab.research.google.com/notebooks/data_table.ipynb>data table notebook</a>'\n",
       "            + ' to learn more about interactive tables.';\n",
       "          element.innerHTML = '';\n",
       "          dataTable['output_type'] = 'display_data';\n",
       "          await google.colab.output.renderOutput(dataTable, element);\n",
       "          const docLink = document.createElement('div');\n",
       "          docLink.innerHTML = docLinkHtml;\n",
       "          element.appendChild(docLink);\n",
       "        }\n",
       "      </script>\n",
       "    </div>\n",
       "  </div>\n",
       "  "
      ],
      "text/plain": [
       "                                feature importance\n",
       "hashtags_num                              0.199366\n",
       "user_post_count                           0.103186\n",
       "user_follower_count                       0.100009\n",
       "user_following_count                      0.082850\n",
       "hashtag_sequence_num                      0.067510\n",
       "text_word_count                           0.054070\n",
       "capital_char_num                          0.050578\n",
       "sentiment                                 0.046734\n",
       "like_count                                0.046077\n",
       "image_width                               0.037400\n",
       "image_height                              0.035889\n",
       "digit_num                                 0.035513\n",
       "mention_num                               0.032974\n",
       "user_business_category_encoded            0.031482\n",
       "comment_count                             0.022816\n",
       "hashtag_other_related_brands              0.018953\n",
       "has_location                              0.012848\n",
       "is_comment_hashtags                       0.005172\n",
       "user_is_business_account                  0.004448\n",
       "tag_other_related_brands                  0.003747\n",
       "mention_target_brand                      0.003673\n",
       "dominant_color                            0.002652\n",
       "is_username_related_brand                 0.000702\n",
       "is_bio_related_brand                      0.000675\n",
       "user_is_verified                          0.000675"
      ]
     },
     "execution_count": 147,
     "metadata": {},
     "output_type": "execute_result"
    }
   ],
   "source": [
    "col = list(df)\n",
    "sc_x = StandardScaler()\n",
    "X_sc = sc_x.fit_transform(X)\n",
    "\n",
    "reg = RandomForestRegressor(n_estimators=50)\n",
    "reg.fit(X_sc, y)\n",
    "\n",
    "df_feature_importance = pd.DataFrame(reg.feature_importances_, index=list(df2), columns=['feature importance']).sort_values('feature importance', ascending=False)\n",
    "df_feature_importance"
   ]
  },
  {
   "cell_type": "markdown",
   "metadata": {
    "id": "VDpEMiSbmu_7"
   },
   "source": [
    "## Visualizing the feature importance"
   ]
  },
  {
   "cell_type": "code",
   "execution_count": null,
   "metadata": {
    "colab": {
     "base_uri": "https://localhost:8080/",
     "height": 584
    },
    "id": "-G8ikOwlXmMw",
    "outputId": "ebf4a417-933a-47d7-b422-28848a93d7a6"
   },
   "outputs": [
    {
     "data": {
      "image/png": "[encoded data removed]",
      "text/plain": [
       "<Figure size 1152x432 with 1 Axes>"
      ]
     },
     "metadata": {
      "needs_background": "light"
     },
     "output_type": "display_data"
    }
   ],
   "source": [
    "df_feature_all = pd.DataFrame([tree.feature_importances_ for tree in reg.estimators_], columns=list(df2))\n",
    "df_feature_long = pd.melt(df_feature_all,var_name='feature name', value_name='values')\n",
    "\n",
    "df_feature_importance.plot(kind='bar', color='darkcyan', fontsize=12, legend=False)\n",
    "plt.title('Feature Importance')\n",
    "plt.savefig('feature_importance.png')"
   ]
  },
  {
   "cell_type": "markdown",
   "metadata": {
    "id": "yvN5-qdfZx4I"
   },
   "source": [
    "# Features analysis"
   ]
  },
  {
   "cell_type": "code",
   "execution_count": null,
   "metadata": {
    "id": "VtPPWnMNmu_9"
   },
   "outputs": [],
   "source": [
    "colors = [\"#c5585b\", \"#43a071\"]\n",
    "sns.set(font_scale=1.5)\n",
    "customPalette = sns.set_palette(sns.color_palette(colors))"
   ]
  },
  {
   "cell_type": "markdown",
   "metadata": {
    "id": "DVo5RL5-mu_9"
   },
   "source": [
    "### Number of hashtag vs. class"
   ]
  },
  {
   "cell_type": "code",
   "execution_count": null,
   "metadata": {
    "colab": {
     "base_uri": "https://localhost:8080/",
     "height": 587
    },
    "id": "YEFxbaUXmu_9",
    "outputId": "2a5dc4cc-50e8-49e1-f9b5-f5a40867a5ba"
   },
   "outputs": [
    {
     "data": {
      "text/plain": [
       "([<matplotlib.axis.XTick at 0x7f5a30b25610>,\n",
       "  <matplotlib.axis.XTick at 0x7f5a30b25ed0>],\n",
       " [Text(0, 0, 'Mismatch'), Text(0, 0, 'Match')])"
      ]
     },
     "execution_count": 72,
     "metadata": {},
     "output_type": "execute_result"
    },
    {
     "data": {
      "image/png": "[encoded data removed]",
      "text/plain": [
       "<Figure size 720x576 with 1 Axes>"
      ]
     },
     "metadata": {},
     "output_type": "display_data"
    }
   ],
   "source": [
    "plt.figure(figsize=(10,8))\n",
    "sns.boxplot(x='class',y='hashtags_num',data=df, palette=customPalette, showfliers=False)\n",
    "plt.title(\"Number of hashtag vs. class\")\n",
    "plt.xlabel('Class')\n",
    "plt.ylabel('Index')\n",
    "plt.xticks([0, 1], ['Mismatch', 'Match'])"
   ]
  },
  {
   "cell_type": "markdown",
   "metadata": {
    "id": "lZngVdpnCMix"
   },
   "source": [
    "### User post count vs. Class"
   ]
  },
  {
   "cell_type": "code",
   "execution_count": null,
   "metadata": {
    "colab": {
     "base_uri": "https://localhost:8080/",
     "height": 587
    },
    "id": "9a6l6hH4CL2l",
    "outputId": "57a1fea6-d9a9-45ff-e45a-7fa8758ff2b1"
   },
   "outputs": [
    {
     "data": {
      "text/plain": [
       "([<matplotlib.axis.XTick at 0x7f5a30d50f10>,\n",
       "  <matplotlib.axis.XTick at 0x7f5a30d3a290>],\n",
       " [Text(0, 0, 'Mismatch'), Text(0, 0, 'Match')])"
      ]
     },
     "execution_count": 92,
     "metadata": {},
     "output_type": "execute_result"
    },
    {
     "data": {
      "image/png": "[encoded data removed]",
      "text/plain": [
       "<Figure size 720x576 with 1 Axes>"
      ]
     },
     "metadata": {},
     "output_type": "display_data"
    }
   ],
   "source": [
    "plt.figure(figsize=(10,8))\n",
    "sns.boxplot(x='class',y='user_post_count',data=df, palette=customPalette, showfliers=False)\n",
    "plt.title(\"User post number vs. class\")\n",
    "plt.xlabel('Class')\n",
    "plt.ylabel('Post Count')\n",
    "plt.xticks([0, 1], ['Mismatch', 'Match'])"
   ]
  },
  {
   "cell_type": "markdown",
   "metadata": {
    "id": "oYxUeJoJJoE6"
   },
   "source": [
    "### User follower count vs. Class"
   ]
  },
  {
   "cell_type": "code",
   "execution_count": null,
   "metadata": {
    "colab": {
     "base_uri": "https://localhost:8080/",
     "height": 587
    },
    "id": "f1Y-ZnNXJiM0",
    "outputId": "dc4f20d3-06a9-4220-8fdf-c175a32d8108"
   },
   "outputs": [
    {
     "data": {
      "text/plain": [
       "([<matplotlib.axis.XTick at 0x7f5a31bdb590>,\n",
       "  <matplotlib.axis.XTick at 0x7f5a31bdb910>],\n",
       " [Text(0, 0, 'Mismatch'), Text(0, 0, 'Match')])"
      ]
     },
     "execution_count": 94,
     "metadata": {},
     "output_type": "execute_result"
    },
    {
     "data": {
      "image/png": "[encoded data removed]",
      "text/plain": [
       "<Figure size 720x576 with 1 Axes>"
      ]
     },
     "metadata": {},
     "output_type": "display_data"
    }
   ],
   "source": [
    "plt.figure(figsize=(10,8))\n",
    "sns.boxplot(x='class',y='user_follower_count',data=df, palette=customPalette, showfliers=False)\n",
    "plt.title(\"User follower number vs. class\")\n",
    "plt.xlabel('Class')\n",
    "plt.ylabel('Follower Count')\n",
    "plt.xticks([0, 1], ['Mismatch', 'Match'])"
   ]
  },
  {
   "cell_type": "markdown",
   "metadata": {
    "id": "VH3BZLnlJuDF"
   },
   "source": [
    "### User following count vs. Class"
   ]
  },
  {
   "cell_type": "code",
   "execution_count": null,
   "metadata": {
    "colab": {
     "base_uri": "https://localhost:8080/",
     "height": 587
    },
    "id": "DrAbjCAfJu8H",
    "outputId": "66e79c34-b7f5-4ff1-c0ff-c4dc9497f5ee"
   },
   "outputs": [
    {
     "data": {
      "text/plain": [
       "([<matplotlib.axis.XTick at 0x7f5a31b05d90>,\n",
       "  <matplotlib.axis.XTick at 0x7f5a31b05a90>],\n",
       " [Text(0, 0, 'Mismatch'), Text(0, 0, 'Match')])"
      ]
     },
     "execution_count": 96,
     "metadata": {},
     "output_type": "execute_result"
    },
    {
     "data": {
      "image/png": "[encoded data removed]",
      "text/plain": [
       "<Figure size 720x576 with 1 Axes>"
      ]
     },
     "metadata": {},
     "output_type": "display_data"
    }
   ],
   "source": [
    "plt.figure(figsize=(10,8))\n",
    "sns.boxplot(x='class',y='user_following_count',data=df, palette=customPalette, showfliers=False)\n",
    "plt.title(\"User following number vs. class\")\n",
    "plt.xlabel('Class')\n",
    "plt.ylabel('Following Count')\n",
    "plt.xticks([0, 1], ['Mismatch', 'Match'])"
   ]
  },
  {
   "cell_type": "markdown",
   "metadata": {
    "id": "jy47KqDpCFVr"
   },
   "source": [
    "### Order of hashtag vs. Class"
   ]
  },
  {
   "cell_type": "code",
   "execution_count": null,
   "metadata": {
    "colab": {
     "base_uri": "https://localhost:8080/",
     "height": 587
    },
    "id": "E-qNRZTKB-_O",
    "outputId": "a4a8da8c-cf46-40a8-9a84-afdf8fe091bc"
   },
   "outputs": [
    {
     "data": {
      "text/plain": [
       "([<matplotlib.axis.XTick at 0x7f5a31ba2290>,\n",
       "  <matplotlib.axis.XTick at 0x7f5a31ba2e90>],\n",
       " [Text(0, 0, 'Mismatch'), Text(0, 0, 'Match')])"
      ]
     },
     "execution_count": 98,
     "metadata": {},
     "output_type": "execute_result"
    },
    {
     "data": {
      "image/png": "[encoded data removed]",
      "text/plain": [
       "<Figure size 720x576 with 1 Axes>"
      ]
     },
     "metadata": {},
     "output_type": "display_data"
    }
   ],
   "source": [
    "plt.figure(figsize=(10,8))\n",
    "sns.boxplot(x='class',y='hashtag_sequence_num',data=df, palette=customPalette, showfliers=False)\n",
    "plt.title(\"hashtag Sequence index vs. class\")\n",
    "plt.xlabel('Class')\n",
    "plt.ylabel('Index')\n",
    "plt.xticks([0, 1], ['Mismatch', 'Match'])"
   ]
  },
  {
   "cell_type": "markdown",
   "metadata": {
    "id": "5EjcjpvzJ8GA"
   },
   "source": [
    "### Caption word count vs. Class"
   ]
  },
  {
   "cell_type": "code",
   "execution_count": null,
   "metadata": {
    "colab": {
     "base_uri": "https://localhost:8080/",
     "height": 587
    },
    "id": "yn_Hw6-tB_CU",
    "outputId": "c268dd15-f954-4083-dacf-033e4d10d6e1"
   },
   "outputs": [
    {
     "data": {
      "text/plain": [
       "([<matplotlib.axis.XTick at 0x7f5a31bbe310>,\n",
       "  <matplotlib.axis.XTick at 0x7f5a31bbe190>],\n",
       " [Text(0, 0, 'Mismatch'), Text(0, 0, 'Match')])"
      ]
     },
     "execution_count": 99,
     "metadata": {},
     "output_type": "execute_result"
    },
    {
     "data": {
      "image/png": "[encoded data removed]",
      "text/plain": [
       "<Figure size 720x576 with 1 Axes>"
      ]
     },
     "metadata": {},
     "output_type": "display_data"
    }
   ],
   "source": [
    "plt.figure(figsize=(10,8))\n",
    "sns.boxplot(x='class',y='capital_char_num',data=df, palette=customPalette, showfliers=False)\n",
    "plt.title(\"Caption word count vs. class\")\n",
    "plt.xlabel('Class')\n",
    "plt.ylabel('Caption Word Count')\n",
    "plt.xticks([0, 1], ['Mismatch', 'Match'])"
   ]
  },
  {
   "cell_type": "markdown",
   "metadata": {
    "id": "CfexS1gIKLdt"
   },
   "source": [
    "### Number of capital character vs. Class"
   ]
  },
  {
   "cell_type": "code",
   "execution_count": null,
   "metadata": {
    "colab": {
     "base_uri": "https://localhost:8080/",
     "height": 587
    },
    "id": "xWgKy20WB_FX",
    "outputId": "03a95bcf-aeca-443d-c4c6-07527eda0730"
   },
   "outputs": [
    {
     "data": {
      "text/plain": [
       "([<matplotlib.axis.XTick at 0x7f5a31c46810>,\n",
       "  <matplotlib.axis.XTick at 0x7f5a2d3bee50>],\n",
       " [Text(0, 0, 'Mismatch'), Text(0, 0, 'Match')])"
      ]
     },
     "execution_count": 110,
     "metadata": {},
     "output_type": "execute_result"
    },
    {
     "data": {
      "image/png": "[encoded data removed]",
      "text/plain": [
       "<Figure size 720x576 with 1 Axes>"
      ]
     },
     "metadata": {},
     "output_type": "display_data"
    }
   ],
   "source": [
    "plt.figure(figsize=(10,8))\n",
    "sns.boxplot(x='class',y='text_word_count',data=df, palette=customPalette, showfliers=False)\n",
    "plt.title(\"Capital character count vs. class\")\n",
    "plt.xlabel('Class')\n",
    "plt.ylabel('Capital character count')\n",
    "plt.xticks([0, 1], ['Mismatch', 'Match'])"
   ]
  },
  {
   "cell_type": "markdown",
   "metadata": {
    "id": "TyLSRMUmKy9l"
   },
   "source": [
    "### Sentiment vs. Class"
   ]
  },
  {
   "cell_type": "code",
   "execution_count": null,
   "metadata": {
    "colab": {
     "base_uri": "https://localhost:8080/",
     "height": 587
    },
    "id": "g5_zIjopB_JE",
    "outputId": "4a7a3107-868c-4875-b7a8-1c4e17d87e26"
   },
   "outputs": [
    {
     "data": {
      "text/plain": [
       "([<matplotlib.axis.XTick at 0x7f5a30fed4d0>,\n",
       "  <matplotlib.axis.XTick at 0x7f5a30fedc50>],\n",
       " [Text(0, 0, 'Mismatch'), Text(0, 0, 'Match')])"
      ]
     },
     "execution_count": 106,
     "metadata": {},
     "output_type": "execute_result"
    },
    {
     "data": {
      "image/png": "[encoded data removed]",
      "text/plain": [
       "<Figure size 720x576 with 1 Axes>"
      ]
     },
     "metadata": {},
     "output_type": "display_data"
    }
   ],
   "source": [
    "plt.figure(figsize=(10,8))\n",
    "sns.boxplot(x='class',y='sentiment',data=df, palette=customPalette, showfliers=False)\n",
    "plt.title(\"Sentiment vs. class\")\n",
    "plt.xlabel('Class')\n",
    "plt.ylabel('Sentiment')\n",
    "plt.xticks([0, 1], ['Mismatch', 'Match'])"
   ]
  },
  {
   "cell_type": "markdown",
   "metadata": {
    "id": "blQRxkoXMAmO"
   },
   "source": [
    "### Like count vs. Class"
   ]
  },
  {
   "cell_type": "code",
   "execution_count": null,
   "metadata": {
    "colab": {
     "base_uri": "https://localhost:8080/",
     "height": 587
    },
    "id": "yCEYi2_5MBDZ",
    "outputId": "e082f6cd-4446-42a0-b57c-7934d74fc4eb"
   },
   "outputs": [
    {
     "data": {
      "text/plain": [
       "([<matplotlib.axis.XTick at 0x7f5a31b6cb10>,\n",
       "  <matplotlib.axis.XTick at 0x7f5a31b6ccd0>],\n",
       " [Text(0, 0, 'Mismatch'), Text(0, 0, 'Match')])"
      ]
     },
     "execution_count": 107,
     "metadata": {},
     "output_type": "execute_result"
    },
    {
     "data": {
      "image/png": "[encoded data removed]",
      "text/plain": [
       "<Figure size 720x576 with 1 Axes>"
      ]
     },
     "metadata": {},
     "output_type": "display_data"
    }
   ],
   "source": [
    "plt.figure(figsize=(10,8))\n",
    "sns.boxplot(x='class',y='like_count',data=df, palette=customPalette, showfliers=False)\n",
    "plt.title(\"Like count vs. class\")\n",
    "plt.xlabel('Class')\n",
    "plt.ylabel('Like Count')\n",
    "plt.xticks([0, 1], ['Mismatch', 'Match'])"
   ]
  },
  {
   "cell_type": "markdown",
   "metadata": {
    "id": "q6hRq_CJR4XV"
   },
   "source": [
    "# Model building"
   ]
  },
  {
   "cell_type": "code",
   "execution_count": null,
   "metadata": {
    "id": "p_8F0C1DYmiM"
   },
   "outputs": [],
   "source": [
    "df_nike = get_dataframe('nike')\n",
    "df_gucci = get_dataframe('gucci')\n",
    "df_cristianoronaldo = get_dataframe('cristianoronaldo')\n",
    "df_edsheeran = get_dataframe('edsheeran')\n",
    "df = df_nike.append([df_gucci, df_cristianoronaldo, df_edsheeran])"
   ]
  },
  {
   "cell_type": "code",
   "execution_count": null,
   "metadata": {
    "id": "M9SbqW9fU4Dt"
   },
   "outputs": [],
   "source": [
    "df.drop(columns=['file_name', 'caption', 'username', 'fullname', 'hashtags',\n",
    "                 'caption_text_new', 'location_city', 'location_name', 'user_biography',\n",
    "                 'user_business_category', 'caption_text', 'usertag_list', \n",
    "                 'user_is_verified', 'is_bio_related_brand', 'is_username_related_brand',\n",
    "                 'mention_target_brand', 'tag_other_related_brands', 'user_is_business_account',\n",
    "                 'is_comment_hashtags', 'has_location', 'hashtag_other_related_brands', 'comment_count',\n",
    "                 'user_business_category_encoded', 'mention_num', 'image_height', 'digit_num'], inplace=True)\n",
    "\n",
    "df = df.sample(frac=1)\n",
    "y = df.iloc[:, 4].values\n",
    "df2 = df.drop(columns=['class'])\n",
    "X = df2.iloc[:, :].values\n",
    "sc_x = StandardScaler()\n",
    "X_sc = sc_x.fit_transform(X)"
   ]
  },
  {
   "cell_type": "markdown",
   "metadata": {
    "id": "6PwvLlhZBbZM"
   },
   "source": [
    "## Hyperparameter Tuning"
   ]
  },
  {
   "cell_type": "code",
   "execution_count": null,
   "metadata": {},
   "outputs": [],
   "source": [
    "def create_model():\n",
    "    model = Sequential()\n",
    "    model.add(Dense(units = 128, input_shape=(X.shape[1],), activation = 'relu'))\n",
    "    model.add(Dropout(0.2))\n",
    "    model.add(Dense(units = 64, activation = 'relu'))\n",
    "    model.add(Dense(units = 1, activation = 'sigmoid'))\n",
    "    model.compile(loss='binary_crossentropy', optimizer = 'adam', metrics=['accuracy'])\n",
    "    \n",
    "    return model"
   ]
  },
  {
   "cell_type": "markdown",
   "metadata": {
    "id": "WkNr-0D3PjkR"
   },
   "source": [
    "### Batch size & Epoch"
   ]
  },
  {
   "cell_type": "code",
   "execution_count": null,
   "metadata": {
    "colab": {
     "base_uri": "https://localhost:8080/"
    },
    "id": "9ApMpR1SBbZN",
    "outputId": "71dfff4e-acb4-490f-a750-03a4548b9490"
   },
   "outputs": [
    {
     "name": "stdout",
     "output_type": "stream",
     "text": [
      "Best: 0.629970 using {'batch_size': 20, 'epochs': 100}\n",
      "0.590614 (0.018489) with: {'batch_size': 10, 'epochs': 10}\n",
      "0.606153 (0.024063) with: {'batch_size': 10, 'epochs': 50}\n",
      "0.617270 (0.013842) with: {'batch_size': 10, 'epochs': 100}\n",
      "0.572831 (0.025952) with: {'batch_size': 20, 'epochs': 10}\n",
      "0.629008 (0.005085) with: {'batch_size': 20, 'epochs': 50}\n",
      "0.629970 (0.031637) with: {'batch_size': 20, 'epochs': 100}\n",
      "0.550935 (0.007756) with: {'batch_size': 40, 'epochs': 10}\n",
      "0.620761 (0.017529) with: {'batch_size': 40, 'epochs': 50}\n",
      "0.628072 (0.040376) with: {'batch_size': 40, 'epochs': 100}\n",
      "0.533815 (0.036522) with: {'batch_size': 60, 'epochs': 10}\n",
      "0.585848 (0.021630) with: {'batch_size': 60, 'epochs': 50}\n",
      "0.600440 (0.025401) with: {'batch_size': 60, 'epochs': 100}\n",
      "0.523328 (0.009786) with: {'batch_size': 80, 'epochs': 10}\n",
      "0.598867 (0.026177) with: {'batch_size': 80, 'epochs': 50}\n",
      "0.603618 (0.003897) with: {'batch_size': 80, 'epochs': 100}\n",
      "0.541414 (0.003690) with: {'batch_size': 100, 'epochs': 10}\n",
      "0.586796 (0.005741) with: {'batch_size': 100, 'epochs': 50}\n",
      "0.607744 (0.035385) with: {'batch_size': 100, 'epochs': 100}\n"
     ]
    }
   ],
   "source": [
    "tf.random.set_seed(7)\n",
    "model = KerasClassifier(model=create_model, verbose=0)\n",
    "batch_size = [10, 20, 40, 60, 80, 100]\n",
    "epochs = [10, 50, 100]\n",
    "param_grid = dict(batch_size=batch_size, epochs=epochs)\n",
    "grid = GridSearchCV(estimator=model, param_grid=param_grid, n_jobs=-1, cv=3)\n",
    "grid_result = grid.fit(X, y)\n",
    "print(\"Best: %f using %s\" % (grid_result.best_score_, grid_result.best_params_))\n",
    "means = grid_result.cv_results_['mean_test_score']\n",
    "stds = grid_result.cv_results_['std_test_score']\n",
    "params = grid_result.cv_results_['params']\n",
    "for mean, stdev, param in zip(means, stds, params):\n",
    "    print(\"%f (%f) with: %r\" % (mean, stdev, param))"
   ]
  },
  {
   "cell_type": "markdown",
   "metadata": {
    "id": "QE4nFXhuSGDt"
   },
   "source": [
    "### Optimizer Algorithms"
   ]
  },
  {
   "cell_type": "code",
   "execution_count": null,
   "metadata": {
    "colab": {
     "base_uri": "https://localhost:8080/"
    },
    "id": "6mc_TETePsh8",
    "outputId": "87aa7464-be32-4ffb-972f-4af48c92f525"
   },
   "outputs": [
    {
     "name": "stdout",
     "output_type": "stream",
     "text": [
      "Best: 0.620115 using {'optimizer': 'Adam'}\n",
      "0.606474 (0.020611) with: {'optimizer': 'SGD'}\n",
      "0.574426 (0.011923) with: {'optimizer': 'RMSprop'}\n",
      "0.581716 (0.019397) with: {'optimizer': 'Adagrad'}\n",
      "0.613158 (0.047310) with: {'optimizer': 'Adadelta'}\n",
      "0.620115 (0.025680) with: {'optimizer': 'Adam'}\n",
      "0.562998 (0.012281) with: {'optimizer': 'Adamax'}\n",
      "0.590607 (0.001876) with: {'optimizer': 'Nadam'}\n"
     ]
    }
   ],
   "source": [
    "model = KerasClassifier(model=create_model, loss=\"binary_crossentropy\", epochs=100, batch_size=20, verbose=0)\n",
    "# define the grid search parameters\n",
    "optimizer = ['SGD', 'RMSprop', 'Adagrad', 'Adadelta', 'Adam', 'Adamax', 'Nadam']\n",
    "param_grid = dict(optimizer=optimizer)\n",
    "grid = GridSearchCV(estimator=model, param_grid=param_grid, n_jobs=-1, cv=3)\n",
    "grid_result = grid.fit(X, y)\n",
    "# summarize results\n",
    "print(\"Best: %f using %s\" % (grid_result.best_score_, grid_result.best_params_))\n",
    "means = grid_result.cv_results_['mean_test_score']\n",
    "stds = grid_result.cv_results_['std_test_score']\n",
    "params = grid_result.cv_results_['params']\n",
    "for mean, stdev, param in zip(means, stds, params):\n",
    "    print(\"%f (%f) with: %r\" % (mean, stdev, param))"
   ]
  },
  {
   "cell_type": "markdown",
   "metadata": {
    "id": "e6GBr7wpSMt9"
   },
   "source": [
    "### Learning rate & Momentum"
   ]
  },
  {
   "cell_type": "code",
   "execution_count": null,
   "metadata": {
    "colab": {
     "base_uri": "https://localhost:8080/"
    },
    "id": "u14sgs0WR-Fp",
    "outputId": "9b5dc78a-c4d8-40b1-f068-e583dc98defe"
   },
   "outputs": [
    {
     "name": "stderr",
     "output_type": "stream",
     "text": [
      "/usr/local/lib/python3.7/dist-packages/joblib/externals/loky/process_executor.py:705: UserWarning: A worker stopped while some jobs were given to the executor. This can be caused by a too short worker timeout or by a memory leak.\n",
      "  \"timeout or by a memory leak.\", UserWarning\n"
     ]
    },
    {
     "name": "stdout",
     "output_type": "stream",
     "text": [
      "Best: 0.642333 using {'optimizer__learning_rate': 0.1, 'optimizer__momentum': 0.6}\n",
      "0.582997 (0.052844) with: {'optimizer__learning_rate': 0.001, 'optimizer__momentum': 0.0}\n",
      "0.616628 (0.027892) with: {'optimizer__learning_rate': 0.001, 'optimizer__momentum': 0.2}\n",
      "0.613766 (0.024214) with: {'optimizer__learning_rate': 0.001, 'optimizer__momentum': 0.4}\n",
      "0.579496 (0.006001) with: {'optimizer__learning_rate': 0.001, 'optimizer__momentum': 0.6}\n",
      "0.594094 (0.024601) with: {'optimizer__learning_rate': 0.001, 'optimizer__momentum': 0.8}\n",
      "0.593456 (0.020853) with: {'optimizer__learning_rate': 0.001, 'optimizer__momentum': 0.9}\n",
      "0.589982 (0.025153) with: {'optimizer__learning_rate': 0.01, 'optimizer__momentum': 0.0}\n",
      "0.583313 (0.054950) with: {'optimizer__learning_rate': 0.01, 'optimizer__momentum': 0.2}\n",
      "0.590306 (0.038081) with: {'optimizer__learning_rate': 0.01, 'optimizer__momentum': 0.4}\n",
      "0.620127 (0.026848) with: {'optimizer__learning_rate': 0.01, 'optimizer__momentum': 0.6}\n",
      "0.591565 (0.015419) with: {'optimizer__learning_rate': 0.01, 'optimizer__momentum': 0.8}\n",
      "0.593780 (0.001442) with: {'optimizer__learning_rate': 0.01, 'optimizer__momentum': 0.9}\n",
      "0.600443 (0.020227) with: {'optimizer__learning_rate': 0.1, 'optimizer__momentum': 0.0}\n",
      "0.607427 (0.028475) with: {'optimizer__learning_rate': 0.1, 'optimizer__momentum': 0.2}\n",
      "0.624904 (0.051725) with: {'optimizer__learning_rate': 0.1, 'optimizer__momentum': 0.4}\n",
      "0.642333 (0.006752) with: {'optimizer__learning_rate': 0.1, 'optimizer__momentum': 0.6}\n",
      "0.616299 (0.030579) with: {'optimizer__learning_rate': 0.1, 'optimizer__momentum': 0.8}\n",
      "0.597583 (0.013479) with: {'optimizer__learning_rate': 0.1, 'optimizer__momentum': 0.9}\n",
      "0.598212 (0.033009) with: {'optimizer__learning_rate': 0.2, 'optimizer__momentum': 0.0}\n",
      "0.625518 (0.006463) with: {'optimizer__learning_rate': 0.2, 'optimizer__momentum': 0.2}\n",
      "0.612184 (0.013331) with: {'optimizer__learning_rate': 0.2, 'optimizer__momentum': 0.4}\n",
      "0.611235 (0.016332) with: {'optimizer__learning_rate': 0.2, 'optimizer__momentum': 0.6}\n",
      "0.584588 (0.025524) with: {'optimizer__learning_rate': 0.2, 'optimizer__momentum': 0.8}\n",
      "0.614730 (0.032718) with: {'optimizer__learning_rate': 0.2, 'optimizer__momentum': 0.9}\n",
      "0.609342 (0.041044) with: {'optimizer__learning_rate': 0.3, 'optimizer__momentum': 0.0}\n",
      "0.586804 (0.040087) with: {'optimizer__learning_rate': 0.3, 'optimizer__momentum': 0.2}\n",
      "0.627414 (0.015348) with: {'optimizer__learning_rate': 0.3, 'optimizer__momentum': 0.4}\n",
      "0.626785 (0.026833) with: {'optimizer__learning_rate': 0.3, 'optimizer__momentum': 0.6}\n",
      "0.605846 (0.032328) with: {'optimizer__learning_rate': 0.3, 'optimizer__momentum': 0.8}\n",
      "0.610283 (0.013034) with: {'optimizer__learning_rate': 0.3, 'optimizer__momentum': 0.9}\n"
     ]
    }
   ],
   "source": [
    "model = KerasClassifier(model=create_model, loss=\"binary_crossentropy\", optimizer=\"Adam\", epochs=100, batch_size=20, verbose=0)\n",
    "learn_rate = [0.001, 0.01, 0.1, 0.2, 0.3]\n",
    "momentum = [0.0, 0.2, 0.4, 0.6, 0.8, 0.9]\n",
    "param_grid = dict(optimizer__learning_rate=learn_rate, optimizer__momentum=momentum)\n",
    "grid = GridSearchCV(estimator=model, param_grid=param_grid, n_jobs=-1, cv=3)\n",
    "grid_result = grid.fit(X, y)\n",
    "print(\"Best: %f using %s\" % (grid_result.best_score_, grid_result.best_params_))\n",
    "means = grid_result.cv_results_['mean_test_score']\n",
    "stds = grid_result.cv_results_['std_test_score']\n",
    "params = grid_result.cv_results_['params']\n",
    "for mean, stdev, param in zip(means, stds, params):\n",
    "    print(\"%f (%f) with: %r\" % (mean, stdev, param))"
   ]
  },
  {
   "cell_type": "markdown",
   "metadata": {
    "id": "sqTyAmvYbd7n"
   },
   "source": [
    "### Network Weight Initialization"
   ]
  },
  {
   "cell_type": "code",
   "execution_count": null,
   "metadata": {
    "colab": {
     "base_uri": "https://localhost:8080/"
    },
    "id": "g2yVd6rGcESf",
    "outputId": "029cbf52-9b7d-42fc-cdc0-295621ba93c0"
   },
   "outputs": [
    {
     "name": "stdout",
     "output_type": "stream",
     "text": [
      "Best: 0.654395 using {'model__init_mode': 'uniform'}\n",
      "0.654395 (0.011760) with: {'model__init_mode': 'uniform'}\n",
      "0.630595 (0.028108) with: {'model__init_mode': 'lecun_uniform'}\n",
      "0.627733 (0.009126) with: {'model__init_mode': 'normal'}\n",
      "0.514123 (0.000231) with: {'model__init_mode': 'zero'}\n",
      "0.636310 (0.012397) with: {'model__init_mode': 'glorot_normal'}\n",
      "0.615038 (0.015689) with: {'model__init_mode': 'glorot_uniform'}\n",
      "0.582675 (0.010249) with: {'model__init_mode': 'he_normal'}\n",
      "0.594723 (0.018838) with: {'model__init_mode': 'he_uniform'}\n"
     ]
    }
   ],
   "source": [
    "def create_model(init_mode='uniform'):\n",
    " \tmodel = Sequential()\n",
    "\tmodel.add(Dense(units = 128, input_shape=(X.shape[1],), kernel_initializer=init_mode, activation = 'relu'))\n",
    "\tmodel.add(Dropout(0.2))\n",
    "\tmodel.add(Dense(units = 64, activation = 'relu'))\n",
    "\tmodel.add(Dense(units = 1, activation = 'sigmoid'))\n",
    "\tmodel.compile(loss='binary_crossentropy', optimizer = tf.keras.optimizers.Adam(learning_rate=0.001), metrics=['accuracy'])\n",
    "\treturn model\n",
    "\t\n",
    "seed = 7\n",
    "tf.random.set_seed(seed)\n",
    "model = KerasClassifier(model=create_model, epochs=100, batch_size=20, verbose=0)\n",
    "init_mode = ['uniform', 'lecun_uniform', 'normal', 'zero', 'glorot_normal', 'glorot_uniform', 'he_normal', 'he_uniform']\n",
    "param_grid = dict(model__init_mode=init_mode)\n",
    "grid = GridSearchCV(estimator=model, param_grid=param_grid, n_jobs=-1, cv=3)\n",
    "grid_result = grid.fit(X, y)\n",
    "print(\"Best: %f using %s\" % (grid_result.best_score_, grid_result.best_params_))\n",
    "means = grid_result.cv_results_['mean_test_score']\n",
    "stds = grid_result.cv_results_['std_test_score']\n",
    "params = grid_result.cv_results_['params']\n",
    "for mean, stdev, param in zip(means, stds, params):\n",
    "    print(\"%f (%f) with: %r\" % (mean, stdev, param))"
   ]
  },
  {
   "cell_type": "markdown",
   "metadata": {
    "id": "K6gcWtGGfTcv"
   },
   "source": [
    "### Activation Function"
   ]
  },
  {
   "cell_type": "code",
   "execution_count": null,
   "metadata": {
    "colab": {
     "base_uri": "https://localhost:8080/"
    },
    "id": "lwXnICU6fT9Z",
    "outputId": "70c63457-4bb7-451b-80c0-7e47c38d322b"
   },
   "outputs": [
    {
     "name": "stdout",
     "output_type": "stream",
     "text": [
      "Best: 0.647099 using {'model__activation': 'linear'}\n",
      "0.549670 (0.008212) with: {'model__activation': 'softmax'}\n",
      "0.645514 (0.016646) with: {'model__activation': 'softplus'}\n",
      "0.592199 (0.020354) with: {'model__activation': 'softsign'}\n",
      "0.639802 (0.019289) with: {'model__activation': 'relu'}\n",
      "0.573471 (0.012873) with: {'model__activation': 'tanh'}\n",
      "0.596319 (0.006628) with: {'model__activation': 'sigmoid'}\n",
      "0.570938 (0.018352) with: {'model__activation': 'hard_sigmoid'}\n",
      "0.647099 (0.007433) with: {'model__activation': 'linear'}\n"
     ]
    }
   ],
   "source": [
    "def create_model(init_mode='uniform'):\n",
    " \tmodel = Sequential()\n",
    "\tmodel.add(Dense(units = 128, input_shape=(X.shape[1],), kernel_initializer='uniform', activation = activation))\n",
    "\tmodel.add(Dropout(0.2))\n",
    "\tmodel.add(Dense(units = 64, activation = 'relu'))\n",
    "\tmodel.add(Dense(units = 1, activation = 'sigmoid'))\n",
    "\tmodel.compile(loss='binary_crossentropy', optimizer = tf.keras.optimizers.Adam(learning_rate=0.001), metrics=['accuracy'])\n",
    "\treturn model\n",
    "\n",
    "seed = 7\n",
    "tf.random.set_seed(seed)\n",
    "model = KerasClassifier(model=create_model, epochs=100, batch_size=20, verbose=0)\n",
    "activation = ['softmax', 'softplus', 'softsign', 'relu', 'tanh', 'sigmoid', 'hard_sigmoid', 'linear']\n",
    "param_grid = dict(model__activation=activation)\n",
    "grid = GridSearchCV(estimator=model, param_grid=param_grid, n_jobs=-1, cv=3)\n",
    "grid_result = grid.fit(X, y)\n",
    "print(\"Best: %f using %s\" % (grid_result.best_score_, grid_result.best_params_))\n",
    "means = grid_result.cv_results_['mean_test_score']\n",
    "stds = grid_result.cv_results_['std_test_score']\n",
    "params = grid_result.cv_results_['params']\n",
    "for mean, stdev, param in zip(means, stds, params):\n",
    "    print(\"%f (%f) with: %r\" % (mean, stdev, param))"
   ]
  },
  {
   "cell_type": "markdown",
   "metadata": {
    "id": "qSIFegD-iu41"
   },
   "source": [
    "### Dropout"
   ]
  },
  {
   "cell_type": "code",
   "execution_count": null,
   "metadata": {
    "colab": {
     "base_uri": "https://localhost:8080/"
    },
    "id": "o9LFXk-DiwKk",
    "outputId": "ac5705b9-e67b-4755-8725-c4cc6b412fd0"
   },
   "outputs": [
    {
     "name": "stderr",
     "output_type": "stream",
     "text": [
      "/usr/local/lib/python3.7/dist-packages/joblib/externals/loky/process_executor.py:705: UserWarning: A worker stopped while some jobs were given to the executor. This can be caused by a too short worker timeout or by a memory leak.\n",
      "  \"timeout or by a memory leak.\", UserWarning\n"
     ]
    },
    {
     "name": "stdout",
     "output_type": "stream",
     "text": [
      "Best: 0.657255 using {'model__dropout_rate': 0.2, 'model__weight_constraint': 3.0}\n",
      "0.560774 (0.009116) with: {'model__dropout_rate': 0.0, 'model__weight_constraint': 1.0}\n",
      "0.649320 (0.007864) with: {'model__dropout_rate': 0.0, 'model__weight_constraint': 2.0}\n",
      "0.617902 (0.012947) with: {'model__dropout_rate': 0.0, 'model__weight_constraint': 3.0}\n",
      "0.644559 (0.002981) with: {'model__dropout_rate': 0.0, 'model__weight_constraint': 4.0}\n",
      "0.650273 (0.013615) with: {'model__dropout_rate': 0.0, 'model__weight_constraint': 5.0}\n",
      "0.617584 (0.036566) with: {'model__dropout_rate': 0.1, 'model__weight_constraint': 1.0}\n",
      "0.637902 (0.021729) with: {'model__dropout_rate': 0.1, 'model__weight_constraint': 2.0}\n",
      "0.645194 (0.009839) with: {'model__dropout_rate': 0.1, 'model__weight_constraint': 3.0}\n",
      "0.637253 (0.012301) with: {'model__dropout_rate': 0.1, 'model__weight_constraint': 4.0}\n",
      "0.655032 (0.008291) with: {'model__dropout_rate': 0.1, 'model__weight_constraint': 5.0}\n",
      "0.610283 (0.012090) with: {'model__dropout_rate': 0.2, 'model__weight_constraint': 1.0}\n",
      "0.619170 (0.011553) with: {'model__dropout_rate': 0.2, 'model__weight_constraint': 2.0}\n",
      "0.657255 (0.012241) with: {'model__dropout_rate': 0.2, 'model__weight_constraint': 3.0}\n",
      "0.634415 (0.031898) with: {'model__dropout_rate': 0.2, 'model__weight_constraint': 4.0}\n",
      "0.640111 (0.006788) with: {'model__dropout_rate': 0.2, 'model__weight_constraint': 5.0}\n",
      "0.600454 (0.022376) with: {'model__dropout_rate': 0.3, 'model__weight_constraint': 1.0}\n",
      "0.549340 (0.052894) with: {'model__dropout_rate': 0.3, 'model__weight_constraint': 2.0}\n",
      "0.654399 (0.009809) with: {'model__dropout_rate': 0.3, 'model__weight_constraint': 3.0}\n",
      "0.653448 (0.011927) with: {'model__dropout_rate': 0.3, 'model__weight_constraint': 4.0}\n",
      "0.593770 (0.053772) with: {'model__dropout_rate': 0.3, 'model__weight_constraint': 5.0}\n",
      "0.605843 (0.029836) with: {'model__dropout_rate': 0.4, 'model__weight_constraint': 1.0}\n",
      "0.623295 (0.015690) with: {'model__dropout_rate': 0.4, 'model__weight_constraint': 2.0}\n",
      "0.638211 (0.007617) with: {'model__dropout_rate': 0.4, 'model__weight_constraint': 3.0}\n",
      "0.609983 (0.040510) with: {'model__dropout_rate': 0.4, 'model__weight_constraint': 4.0}\n",
      "0.639800 (0.007651) with: {'model__dropout_rate': 0.4, 'model__weight_constraint': 5.0}\n",
      "0.573786 (0.019829) with: {'model__dropout_rate': 0.5, 'model__weight_constraint': 1.0}\n",
      "0.610924 (0.017340) with: {'model__dropout_rate': 0.5, 'model__weight_constraint': 2.0}\n",
      "0.623615 (0.016999) with: {'model__dropout_rate': 0.5, 'model__weight_constraint': 3.0}\n",
      "0.523010 (0.089093) with: {'model__dropout_rate': 0.5, 'model__weight_constraint': 4.0}\n",
      "0.649959 (0.014200) with: {'model__dropout_rate': 0.5, 'model__weight_constraint': 5.0}\n",
      "0.518270 (0.077146) with: {'model__dropout_rate': 0.6, 'model__weight_constraint': 1.0}\n",
      "0.592520 (0.037090) with: {'model__dropout_rate': 0.6, 'model__weight_constraint': 2.0}\n",
      "0.614408 (0.019058) with: {'model__dropout_rate': 0.6, 'model__weight_constraint': 3.0}\n",
      "0.626149 (0.003399) with: {'model__dropout_rate': 0.6, 'model__weight_constraint': 4.0}\n",
      "0.598566 (0.064940) with: {'model__dropout_rate': 0.6, 'model__weight_constraint': 5.0}\n",
      "0.566805 (0.023357) with: {'model__dropout_rate': 0.7, 'model__weight_constraint': 1.0}\n",
      "0.583635 (0.024521) with: {'model__dropout_rate': 0.7, 'model__weight_constraint': 2.0}\n",
      "0.568703 (0.037688) with: {'model__dropout_rate': 0.7, 'model__weight_constraint': 3.0}\n",
      "0.564273 (0.024452) with: {'model__dropout_rate': 0.7, 'model__weight_constraint': 4.0}\n",
      "0.562036 (0.016367) with: {'model__dropout_rate': 0.7, 'model__weight_constraint': 5.0}\n",
      "0.551576 (0.016924) with: {'model__dropout_rate': 0.8, 'model__weight_constraint': 1.0}\n",
      "0.508398 (0.043295) with: {'model__dropout_rate': 0.8, 'model__weight_constraint': 2.0}\n",
      "0.515079 (0.009188) with: {'model__dropout_rate': 0.8, 'model__weight_constraint': 3.0}\n",
      "0.536655 (0.018274) with: {'model__dropout_rate': 0.8, 'model__weight_constraint': 4.0}\n",
      "0.550933 (0.018014) with: {'model__dropout_rate': 0.8, 'model__weight_constraint': 5.0}\n",
      "0.528718 (0.010921) with: {'model__dropout_rate': 0.9, 'model__weight_constraint': 1.0}\n",
      "0.533481 (0.018727) with: {'model__dropout_rate': 0.9, 'model__weight_constraint': 2.0}\n",
      "0.505551 (0.008814) with: {'model__dropout_rate': 0.9, 'model__weight_constraint': 3.0}\n",
      "0.538555 (0.009477) with: {'model__dropout_rate': 0.9, 'model__weight_constraint': 4.0}\n",
      "0.531580 (0.007510) with: {'model__dropout_rate': 0.9, 'model__weight_constraint': 5.0}\n"
     ]
    }
   ],
   "source": [
    "def create_model(dropout_rate, weight_constraint):\n",
    " \tmodel = Sequential()\n",
    "\tmodel.add(Dense(units = 128, input_shape=(X.shape[1],), kernel_initializer='uniform', activation = 'linear', kernel_constraint=MaxNorm(weight_constraint)))\n",
    "\tmodel.add(Dropout(dropout_rate))\n",
    "\tmodel.add(Dense(units = 64, activation = 'relu'))\n",
    "\tmodel.add(Dense(units = 1, activation = 'sigmoid'))\n",
    "\tmodel.compile(loss='binary_crossentropy', optimizer = tf.keras.optimizers.Adam(learning_rate=0.001), metrics=['accuracy'])\n",
    "\treturn model\n",
    "\n",
    "seed = 7\n",
    "tf.random.set_seed(seed)\n",
    "model = KerasClassifier(model=create_model, epochs=100, batch_size=20, verbose=0)\n",
    "weight_constraint = [1.0, 2.0, 3.0, 4.0, 5.0]\n",
    "dropout_rate = [0.0, 0.1, 0.2, 0.3, 0.4, 0.5, 0.6, 0.7, 0.8, 0.9]\n",
    "param_grid = dict(model__dropout_rate=dropout_rate, model__weight_constraint=weight_constraint)\n",
    "grid = GridSearchCV(estimator=model, param_grid=param_grid, n_jobs=-1, cv=3)\n",
    "grid_result = grid.fit(X, y)\n",
    "print(\"Best: %f using %s\" % (grid_result.best_score_, grid_result.best_params_))\n",
    "means = grid_result.cv_results_['mean_test_score']\n",
    "stds = grid_result.cv_results_['std_test_score']\n",
    "params = grid_result.cv_results_['params']\n",
    "for mean, stdev, param in zip(means, stds, params):\n",
    "    print(\"%f (%f) with: %r\" % (mean, stdev, param))"
   ]
  },
  {
   "cell_type": "markdown",
   "metadata": {
    "id": "Dc6-C7DbrEcd"
   },
   "source": [
    "### Number of neurons"
   ]
  },
  {
   "cell_type": "code",
   "execution_count": null,
   "metadata": {
    "colab": {
     "base_uri": "https://localhost:8080/"
    },
    "id": "6AIHcwCHrD0B",
    "outputId": "581fc54a-ae43-43cd-dffa-a460f14ac4be"
   },
   "outputs": [
    {
     "name": "stdout",
     "output_type": "stream",
     "text": [
      "Best: 0.651544 using {'model__neurons': 30}\n",
      "0.590915 (0.054431) with: {'model__neurons': 1}\n",
      "0.642021 (0.018463) with: {'model__neurons': 5}\n",
      "0.636304 (0.020907) with: {'model__neurons': 10}\n",
      "0.626793 (0.016879) with: {'model__neurons': 15}\n",
      "0.578534 (0.070719) with: {'model__neurons': 20}\n",
      "0.633776 (0.025614) with: {'model__neurons': 25}\n",
      "0.651544 (0.014456) with: {'model__neurons': 30}\n"
     ]
    }
   ],
   "source": [
    "def create_model(neurons):\n",
    " \tmodel = Sequential()\n",
    "\tmodel.add(Dense(128, input_shape=(X.shape[1],), kernel_initializer='uniform', activation='linear', kernel_constraint=MaxNorm(3)))\n",
    "\tmodel.add(Dropout(dropout_rate))\n",
    "\tmodel.add(Dense(units = neurons, activation = 'relu'))\n",
    "\tmodel.add(Dense(units = 1, activation = 'sigmoid'))\n",
    "\tmodel.compile(loss='binary_crossentropy', optimizer = tf.keras.optimizers.Adam(learning_rate=0.001), metrics=['accuracy'])\n",
    "\treturn model\n",
    "\n",
    "seed = 7\n",
    "tf.random.set_seed(seed)\n",
    "model = KerasClassifier(model=create_model, epochs=100, batch_size=20, verbose=0)\n",
    "neurons = [1, 5, 10, 15, 20, 25, 30]\n",
    "param_grid = dict(model__neurons=neurons)\n",
    "grid = GridSearchCV(estimator=model, param_grid=param_grid, n_jobs=-1, cv=3)\n",
    "grid_result = grid.fit(X, y)\n",
    "print(\"Best: %f using %s\" % (grid_result.best_score_, grid_result.best_params_))\n",
    "means = grid_result.cv_results_['mean_test_score']\n",
    "stds = grid_result.cv_results_['std_test_score']\n",
    "params = grid_result.cv_results_['params']\n",
    "for mean, stdev, param in zip(means, stds, params):\n",
    "    print(\"%f (%f) with: %r\" % (mean, stdev, param))"
   ]
  },
  {
   "cell_type": "code",
   "execution_count": null,
   "metadata": {
    "id": "f2NlBYyAPVps"
   },
   "outputs": [],
   "source": [
    "batch_size = 20\n",
    "epochs = 100\n",
    "optimizer = tf.keras.optimizers.Adam(learning_rate=0.001)\n",
    "init_mode = 'uniform'\n",
    "activation = 'linear'\n",
    "weight_constraint = 3.0\n",
    "dropout_rate = 0.0\n",
    "neurons = 30"
   ]
  },
  {
   "cell_type": "markdown",
   "metadata": {
    "id": "CS45i03o9ZTq"
   },
   "source": [
    "## Model training"
   ]
  },
  {
   "cell_type": "markdown",
   "metadata": {
    "id": "_UVp8qKdSAxL"
   },
   "source": [
    "### All hashtags"
   ]
  },
  {
   "cell_type": "code",
   "execution_count": null,
   "metadata": {
    "colab": {
     "base_uri": "https://localhost:8080/"
    },
    "id": "Ny-HpHc2o5kr",
    "outputId": "e804e3eb-630b-4bc0-cf15-c6e55e2b24e0"
   },
   "outputs": [
    {
     "name": "stdout",
     "output_type": "stream",
     "text": [
      "Epoch 1/100\n",
      "285/285 [==============================] - 2s 3ms/step - loss: 0.5979 - accuracy: 0.6834 - val_loss: 0.5895 - val_accuracy: 0.6914\n",
      "Epoch 2/100\n",
      "285/285 [==============================] - 1s 2ms/step - loss: 0.5743 - accuracy: 0.7011 - val_loss: 0.5800 - val_accuracy: 0.7073\n",
      "Epoch 3/100\n",
      "285/285 [==============================] - 1s 2ms/step - loss: 0.5647 - accuracy: 0.7131 - val_loss: 0.5759 - val_accuracy: 0.6957\n",
      "Epoch 4/100\n",
      "285/285 [==============================] - 1s 2ms/step - loss: 0.5539 - accuracy: 0.7187 - val_loss: 0.5747 - val_accuracy: 0.6944\n",
      "Epoch 5/100\n",
      "285/285 [==============================] - 1s 2ms/step - loss: 0.5511 - accuracy: 0.7215 - val_loss: 0.5708 - val_accuracy: 0.7023\n",
      "Epoch 6/100\n",
      "285/285 [==============================] - 1s 2ms/step - loss: 0.5459 - accuracy: 0.7254 - val_loss: 0.5708 - val_accuracy: 0.7059\n",
      "Epoch 7/100\n",
      "285/285 [==============================] - 1s 2ms/step - loss: 0.5437 - accuracy: 0.7300 - val_loss: 0.5666 - val_accuracy: 0.7066\n",
      "Epoch 8/100\n",
      "285/285 [==============================] - 1s 2ms/step - loss: 0.5397 - accuracy: 0.7345 - val_loss: 0.5709 - val_accuracy: 0.6997\n",
      "Epoch 9/100\n",
      "285/285 [==============================] - 1s 2ms/step - loss: 0.5365 - accuracy: 0.7405 - val_loss: 0.5625 - val_accuracy: 0.7086\n",
      "Epoch 10/100\n",
      "285/285 [==============================] - 1s 2ms/step - loss: 0.5344 - accuracy: 0.7370 - val_loss: 0.5601 - val_accuracy: 0.7205\n",
      "Epoch 11/100\n",
      "285/285 [==============================] - 1s 2ms/step - loss: 0.5316 - accuracy: 0.7362 - val_loss: 0.5615 - val_accuracy: 0.7205\n",
      "Epoch 12/100\n",
      "285/285 [==============================] - 1s 2ms/step - loss: 0.5280 - accuracy: 0.7397 - val_loss: 0.5579 - val_accuracy: 0.7142\n",
      "Epoch 13/100\n",
      "285/285 [==============================] - 1s 2ms/step - loss: 0.5240 - accuracy: 0.7433 - val_loss: 0.5592 - val_accuracy: 0.7158\n",
      "Epoch 14/100\n",
      "285/285 [==============================] - 1s 2ms/step - loss: 0.5213 - accuracy: 0.7451 - val_loss: 0.5494 - val_accuracy: 0.7248\n",
      "Epoch 15/100\n",
      "285/285 [==============================] - 1s 2ms/step - loss: 0.5204 - accuracy: 0.7455 - val_loss: 0.5559 - val_accuracy: 0.7185\n",
      "Epoch 16/100\n",
      "285/285 [==============================] - 1s 2ms/step - loss: 0.5131 - accuracy: 0.7490 - val_loss: 0.5594 - val_accuracy: 0.7290\n",
      "Epoch 17/100\n",
      "285/285 [==============================] - 1s 2ms/step - loss: 0.5129 - accuracy: 0.7535 - val_loss: 0.5510 - val_accuracy: 0.7337\n",
      "Epoch 18/100\n",
      "285/285 [==============================] - 1s 2ms/step - loss: 0.5092 - accuracy: 0.7521 - val_loss: 0.5501 - val_accuracy: 0.7281\n",
      "Epoch 19/100\n",
      "285/285 [==============================] - 1s 2ms/step - loss: 0.5105 - accuracy: 0.7544 - val_loss: 0.5491 - val_accuracy: 0.7314\n",
      "Epoch 20/100\n",
      "285/285 [==============================] - 1s 2ms/step - loss: 0.5074 - accuracy: 0.7538 - val_loss: 0.5549 - val_accuracy: 0.7244\n",
      "Epoch 21/100\n",
      "285/285 [==============================] - 1s 2ms/step - loss: 0.5024 - accuracy: 0.7577 - val_loss: 0.5572 - val_accuracy: 0.7284\n",
      "Epoch 22/100\n",
      "285/285 [==============================] - 1s 2ms/step - loss: 0.5050 - accuracy: 0.7574 - val_loss: 0.5495 - val_accuracy: 0.7317\n",
      "Epoch 23/100\n",
      "285/285 [==============================] - 1s 2ms/step - loss: 0.5020 - accuracy: 0.7608 - val_loss: 0.5499 - val_accuracy: 0.7323\n",
      "Epoch 24/100\n",
      "285/285 [==============================] - 1s 2ms/step - loss: 0.4992 - accuracy: 0.7607 - val_loss: 0.5551 - val_accuracy: 0.7317\n",
      "Epoch 25/100\n",
      "285/285 [==============================] - 1s 2ms/step - loss: 0.4977 - accuracy: 0.7577 - val_loss: 0.5484 - val_accuracy: 0.7347\n",
      "Epoch 26/100\n",
      "285/285 [==============================] - 1s 2ms/step - loss: 0.4966 - accuracy: 0.7565 - val_loss: 0.5542 - val_accuracy: 0.7310\n",
      "Epoch 27/100\n",
      "285/285 [==============================] - 1s 2ms/step - loss: 0.4952 - accuracy: 0.7651 - val_loss: 0.5624 - val_accuracy: 0.7323\n",
      "Epoch 28/100\n",
      "285/285 [==============================] - 1s 2ms/step - loss: 0.4917 - accuracy: 0.7593 - val_loss: 0.5507 - val_accuracy: 0.7439\n",
      "Epoch 29/100\n",
      "285/285 [==============================] - 1s 2ms/step - loss: 0.4915 - accuracy: 0.7637 - val_loss: 0.5537 - val_accuracy: 0.7393\n",
      "Epoch 30/100\n",
      "285/285 [==============================] - 1s 2ms/step - loss: 0.4869 - accuracy: 0.7652 - val_loss: 0.5501 - val_accuracy: 0.7409\n",
      "Epoch 31/100\n",
      "285/285 [==============================] - 1s 2ms/step - loss: 0.4874 - accuracy: 0.7662 - val_loss: 0.5539 - val_accuracy: 0.7314\n",
      "Epoch 32/100\n",
      "285/285 [==============================] - 1s 2ms/step - loss: 0.4881 - accuracy: 0.7688 - val_loss: 0.5480 - val_accuracy: 0.7373\n",
      "Epoch 33/100\n",
      "285/285 [==============================] - 1s 2ms/step - loss: 0.4842 - accuracy: 0.7665 - val_loss: 0.5487 - val_accuracy: 0.7363\n",
      "Epoch 34/100\n",
      "285/285 [==============================] - 1s 2ms/step - loss: 0.4779 - accuracy: 0.7746 - val_loss: 0.5513 - val_accuracy: 0.7432\n",
      "Epoch 35/100\n",
      "285/285 [==============================] - 1s 2ms/step - loss: 0.4795 - accuracy: 0.7752 - val_loss: 0.5537 - val_accuracy: 0.7383\n",
      "Epoch 36/100\n",
      "285/285 [==============================] - 1s 2ms/step - loss: 0.4773 - accuracy: 0.7713 - val_loss: 0.5571 - val_accuracy: 0.7383\n",
      "Epoch 37/100\n",
      "285/285 [==============================] - 1s 2ms/step - loss: 0.4752 - accuracy: 0.7770 - val_loss: 0.5487 - val_accuracy: 0.7419\n",
      "Epoch 38/100\n",
      "285/285 [==============================] - 1s 2ms/step - loss: 0.4771 - accuracy: 0.7709 - val_loss: 0.5497 - val_accuracy: 0.7446\n",
      "Epoch 39/100\n",
      "285/285 [==============================] - 1s 2ms/step - loss: 0.4750 - accuracy: 0.7731 - val_loss: 0.5554 - val_accuracy: 0.7347\n",
      "Epoch 40/100\n",
      "285/285 [==============================] - 1s 2ms/step - loss: 0.4745 - accuracy: 0.7759 - val_loss: 0.5592 - val_accuracy: 0.7429\n",
      "Epoch 41/100\n",
      "285/285 [==============================] - 1s 2ms/step - loss: 0.4703 - accuracy: 0.7753 - val_loss: 0.5535 - val_accuracy: 0.7469\n",
      "Epoch 42/100\n",
      "285/285 [==============================] - 1s 2ms/step - loss: 0.4716 - accuracy: 0.7807 - val_loss: 0.5514 - val_accuracy: 0.7459\n",
      "Epoch 43/100\n",
      "285/285 [==============================] - 1s 2ms/step - loss: 0.4719 - accuracy: 0.7760 - val_loss: 0.5468 - val_accuracy: 0.7439\n",
      "Epoch 44/100\n",
      "285/285 [==============================] - 1s 2ms/step - loss: 0.4719 - accuracy: 0.7750 - val_loss: 0.5544 - val_accuracy: 0.7446\n",
      "Epoch 45/100\n",
      "285/285 [==============================] - 1s 2ms/step - loss: 0.4652 - accuracy: 0.7797 - val_loss: 0.5515 - val_accuracy: 0.7452\n",
      "Epoch 46/100\n",
      "285/285 [==============================] - 1s 2ms/step - loss: 0.4658 - accuracy: 0.7825 - val_loss: 0.5462 - val_accuracy: 0.7508\n",
      "Epoch 47/100\n",
      "285/285 [==============================] - 1s 2ms/step - loss: 0.4658 - accuracy: 0.7822 - val_loss: 0.5565 - val_accuracy: 0.7399\n",
      "Epoch 48/100\n",
      "285/285 [==============================] - 1s 2ms/step - loss: 0.4638 - accuracy: 0.7768 - val_loss: 0.5540 - val_accuracy: 0.7505\n",
      "Epoch 49/100\n",
      "285/285 [==============================] - 1s 2ms/step - loss: 0.4635 - accuracy: 0.7812 - val_loss: 0.5477 - val_accuracy: 0.7449\n",
      "Epoch 50/100\n",
      "285/285 [==============================] - 1s 2ms/step - loss: 0.4617 - accuracy: 0.7842 - val_loss: 0.5508 - val_accuracy: 0.7449\n",
      "Epoch 51/100\n",
      "285/285 [==============================] - 1s 2ms/step - loss: 0.4599 - accuracy: 0.7852 - val_loss: 0.5579 - val_accuracy: 0.7393\n",
      "Epoch 52/100\n",
      "285/285 [==============================] - 1s 2ms/step - loss: 0.4619 - accuracy: 0.7820 - val_loss: 0.5527 - val_accuracy: 0.7485\n",
      "Epoch 53/100\n",
      "285/285 [==============================] - 1s 2ms/step - loss: 0.4617 - accuracy: 0.7826 - val_loss: 0.5488 - val_accuracy: 0.7545\n",
      "Epoch 54/100\n",
      "285/285 [==============================] - 1s 2ms/step - loss: 0.4592 - accuracy: 0.7835 - val_loss: 0.5506 - val_accuracy: 0.7545\n",
      "Epoch 55/100\n",
      "285/285 [==============================] - 1s 2ms/step - loss: 0.4563 - accuracy: 0.7868 - val_loss: 0.5524 - val_accuracy: 0.7508\n",
      "Epoch 56/100\n",
      "285/285 [==============================] - 1s 3ms/step - loss: 0.4541 - accuracy: 0.7872 - val_loss: 0.5547 - val_accuracy: 0.7446\n",
      "Epoch 57/100\n",
      "285/285 [==============================] - 1s 2ms/step - loss: 0.4542 - accuracy: 0.7861 - val_loss: 0.5550 - val_accuracy: 0.7462\n",
      "Epoch 58/100\n",
      "285/285 [==============================] - 1s 2ms/step - loss: 0.4547 - accuracy: 0.7874 - val_loss: 0.5516 - val_accuracy: 0.7455\n",
      "Epoch 59/100\n",
      "285/285 [==============================] - 1s 2ms/step - loss: 0.4511 - accuracy: 0.7880 - val_loss: 0.5528 - val_accuracy: 0.7459\n",
      "Epoch 60/100\n",
      "285/285 [==============================] - 1s 2ms/step - loss: 0.4527 - accuracy: 0.7881 - val_loss: 0.5539 - val_accuracy: 0.7505\n",
      "Epoch 61/100\n",
      "285/285 [==============================] - 1s 2ms/step - loss: 0.4498 - accuracy: 0.7890 - val_loss: 0.5593 - val_accuracy: 0.7446\n",
      "Epoch 62/100\n",
      "285/285 [==============================] - 1s 2ms/step - loss: 0.4483 - accuracy: 0.7908 - val_loss: 0.5748 - val_accuracy: 0.7370\n",
      "Epoch 63/100\n",
      "285/285 [==============================] - 1s 2ms/step - loss: 0.4492 - accuracy: 0.7891 - val_loss: 0.5550 - val_accuracy: 0.7518\n",
      "Epoch 64/100\n",
      "285/285 [==============================] - 1s 2ms/step - loss: 0.4462 - accuracy: 0.7896 - val_loss: 0.5593 - val_accuracy: 0.7521\n",
      "Epoch 65/100\n",
      "285/285 [==============================] - 1s 2ms/step - loss: 0.4482 - accuracy: 0.7885 - val_loss: 0.5607 - val_accuracy: 0.7482\n",
      "Epoch 66/100\n",
      "285/285 [==============================] - 1s 3ms/step - loss: 0.4432 - accuracy: 0.7932 - val_loss: 0.5597 - val_accuracy: 0.7469\n",
      "Epoch 67/100\n",
      "285/285 [==============================] - 1s 2ms/step - loss: 0.4453 - accuracy: 0.7908 - val_loss: 0.5626 - val_accuracy: 0.7512\n",
      "Epoch 68/100\n",
      "285/285 [==============================] - 1s 2ms/step - loss: 0.4439 - accuracy: 0.7932 - val_loss: 0.5600 - val_accuracy: 0.7502\n",
      "Epoch 69/100\n",
      "285/285 [==============================] - 1s 2ms/step - loss: 0.4402 - accuracy: 0.7949 - val_loss: 0.5569 - val_accuracy: 0.7512\n",
      "Epoch 70/100\n",
      "285/285 [==============================] - 1s 2ms/step - loss: 0.4441 - accuracy: 0.7951 - val_loss: 0.5570 - val_accuracy: 0.7554\n",
      "Epoch 71/100\n",
      "285/285 [==============================] - 1s 2ms/step - loss: 0.4395 - accuracy: 0.7972 - val_loss: 0.5568 - val_accuracy: 0.7581\n",
      "Epoch 72/100\n",
      "285/285 [==============================] - 1s 3ms/step - loss: 0.4399 - accuracy: 0.7976 - val_loss: 0.5612 - val_accuracy: 0.7518\n",
      "Epoch 73/100\n",
      "285/285 [==============================] - 1s 2ms/step - loss: 0.4397 - accuracy: 0.7947 - val_loss: 0.5617 - val_accuracy: 0.7581\n",
      "Epoch 74/100\n",
      "285/285 [==============================] - 1s 2ms/step - loss: 0.4370 - accuracy: 0.7991 - val_loss: 0.5681 - val_accuracy: 0.7502\n",
      "Epoch 75/100\n",
      "285/285 [==============================] - 1s 2ms/step - loss: 0.4367 - accuracy: 0.7985 - val_loss: 0.5657 - val_accuracy: 0.7508\n",
      "Epoch 76/100\n",
      "285/285 [==============================] - 1s 2ms/step - loss: 0.4358 - accuracy: 0.7956 - val_loss: 0.5690 - val_accuracy: 0.7505\n",
      "Epoch 77/100\n",
      "285/285 [==============================] - 1s 2ms/step - loss: 0.4358 - accuracy: 0.8004 - val_loss: 0.5764 - val_accuracy: 0.7442\n",
      "Epoch 78/100\n",
      "285/285 [==============================] - 1s 2ms/step - loss: 0.4361 - accuracy: 0.7978 - val_loss: 0.5753 - val_accuracy: 0.7502\n",
      "Epoch 79/100\n",
      "285/285 [==============================] - 1s 2ms/step - loss: 0.4330 - accuracy: 0.7988 - val_loss: 0.5679 - val_accuracy: 0.7554\n",
      "Epoch 80/100\n",
      "285/285 [==============================] - 1s 2ms/step - loss: 0.4316 - accuracy: 0.8016 - val_loss: 0.5661 - val_accuracy: 0.7531\n",
      "Epoch 81/100\n",
      "285/285 [==============================] - 1s 2ms/step - loss: 0.4393 - accuracy: 0.7972 - val_loss: 0.5695 - val_accuracy: 0.7535\n",
      "Epoch 82/100\n",
      "285/285 [==============================] - 1s 2ms/step - loss: 0.4346 - accuracy: 0.7974 - val_loss: 0.5703 - val_accuracy: 0.7525\n",
      "Epoch 83/100\n",
      "285/285 [==============================] - 1s 2ms/step - loss: 0.4333 - accuracy: 0.8015 - val_loss: 0.5769 - val_accuracy: 0.7488\n",
      "Epoch 84/100\n",
      "285/285 [==============================] - 1s 2ms/step - loss: 0.4292 - accuracy: 0.8028 - val_loss: 0.5766 - val_accuracy: 0.7561\n",
      "Epoch 85/100\n",
      "285/285 [==============================] - 1s 2ms/step - loss: 0.4281 - accuracy: 0.8036 - val_loss: 0.5753 - val_accuracy: 0.7545\n",
      "Epoch 86/100\n",
      "285/285 [==============================] - 1s 2ms/step - loss: 0.4322 - accuracy: 0.8012 - val_loss: 0.5730 - val_accuracy: 0.7564\n",
      "Epoch 87/100\n",
      "285/285 [==============================] - 1s 2ms/step - loss: 0.4285 - accuracy: 0.8025 - val_loss: 0.5756 - val_accuracy: 0.7568\n",
      "Epoch 88/100\n",
      "285/285 [==============================] - 1s 2ms/step - loss: 0.4277 - accuracy: 0.8012 - val_loss: 0.5822 - val_accuracy: 0.7518\n",
      "Epoch 89/100\n",
      "285/285 [==============================] - 1s 2ms/step - loss: 0.4245 - accuracy: 0.8070 - val_loss: 0.5713 - val_accuracy: 0.7558\n",
      "Epoch 90/100\n",
      "285/285 [==============================] - 1s 2ms/step - loss: 0.4249 - accuracy: 0.8042 - val_loss: 0.5733 - val_accuracy: 0.7515\n",
      "Epoch 91/100\n",
      "285/285 [==============================] - 1s 2ms/step - loss: 0.4179 - accuracy: 0.8091 - val_loss: 0.5762 - val_accuracy: 0.7505\n",
      "Epoch 92/100\n",
      "285/285 [==============================] - 1s 2ms/step - loss: 0.4182 - accuracy: 0.8107 - val_loss: 0.5774 - val_accuracy: 0.7551\n",
      "Epoch 93/100\n",
      "285/285 [==============================] - 1s 2ms/step - loss: 0.4265 - accuracy: 0.8061 - val_loss: 0.5789 - val_accuracy: 0.7525\n",
      "Epoch 94/100\n",
      "285/285 [==============================] - 1s 2ms/step - loss: 0.4243 - accuracy: 0.8037 - val_loss: 0.5748 - val_accuracy: 0.7518\n",
      "Epoch 95/100\n",
      "285/285 [==============================] - 1s 2ms/step - loss: 0.4221 - accuracy: 0.8049 - val_loss: 0.5885 - val_accuracy: 0.7472\n",
      "Epoch 96/100\n",
      "285/285 [==============================] - 1s 2ms/step - loss: 0.4228 - accuracy: 0.8054 - val_loss: 0.5839 - val_accuracy: 0.7591\n",
      "Epoch 97/100\n",
      "285/285 [==============================] - 1s 2ms/step - loss: 0.4242 - accuracy: 0.8040 - val_loss: 0.5931 - val_accuracy: 0.7475\n",
      "Epoch 98/100\n",
      "285/285 [==============================] - 1s 2ms/step - loss: 0.4167 - accuracy: 0.8067 - val_loss: 0.5788 - val_accuracy: 0.7554\n",
      "Epoch 99/100\n",
      "285/285 [==============================] - 1s 2ms/step - loss: 0.4197 - accuracy: 0.8056 - val_loss: 0.5694 - val_accuracy: 0.7604\n",
      "Epoch 100/100\n",
      "285/285 [==============================] - 1s 2ms/step - loss: 0.4178 - accuracy: 0.8075 - val_loss: 0.5872 - val_accuracy: 0.7495\n"
     ]
    },
    {
     "data": {
      "text/plain": [
       "<keras.callbacks.History at 0x7f86e34a1d10>"
      ]
     },
     "execution_count": 95,
     "metadata": {},
     "output_type": "execute_result"
    }
   ],
   "source": [
    "y = df.iloc[:, 4].values\n",
    "df2 = df.drop(columns=['class'])\n",
    "X = df2.iloc[:, :].values\n",
    "\n",
    "x_train, x_test, y_train, y_test = train_test_split(X, y, test_size=0.1, random_state=42)\n",
    "x_train, x_val, y_train, y_val = train_test_split(x_train, y_train, test_size=0.1, random_state=42)\n",
    "\n",
    "sc_x = StandardScaler()\n",
    "x_train = sc_x.fit_transform(x_train)\n",
    "x_val = sc_x.transform(x_val)\n",
    "x_test = sc_x.transform(x_test)\n",
    "\n",
    "model = Sequential()\n",
    "model.add(Dense(128, input_shape=(X.shape[1],), kernel_initializer=init_mode, activation=activation, kernel_constraint=MaxNorm(weight_constraint)))\n",
    "model.add(Dropout(0.2))\n",
    "model.add(Dense(units = neurons, activation = 'relu'))\n",
    "model.add(Dense(units = 1, activation = 'sigmoid'))\n",
    "model.compile(loss='binary_crossentropy', optimizer = 'adam', metrics=['accuracy'])\n",
    "my_callbacks = [ModelCheckpoint(\"./saved_models/checkpoints/best_model\", monitor='val_accuracy', verbose=0, save_best_only=True)]\n",
    "\n",
    "\n",
    "model.fit(x_train, y_train, validation_data = (x_val, y_val), batch_size = batch_size, epochs = epochs, callbacks=my_callbacks)"
   ]
  },
  {
   "cell_type": "code",
   "execution_count": null,
   "metadata": {
    "colab": {
     "base_uri": "https://localhost:8080/"
    },
    "id": "6v1vQT6tVgYj",
    "outputId": "c2b24e4b-7e16-416a-fdcd-bc3612ca7842"
   },
   "outputs": [
    {
     "name": "stdout",
     "output_type": "stream",
     "text": [
      "Accuracy score: 0.7550\n"
     ]
    }
   ],
   "source": [
    "model = tf.keras.models.load_model(\"./saved_models/checkpoints/best_model\")\n",
    "y_predict = model.predict(x_test)\n",
    "y_predict = np.where(y_predict > 0.5, 1, 0)\n",
    "accuracy = evaluate(y_test, y_predict)"
   ]
  },
  {
   "cell_type": "markdown",
   "metadata": {
    "id": "ETxF2aWXWfFG"
   },
   "source": [
    "### Nike"
   ]
  },
  {
   "cell_type": "code",
   "execution_count": null,
   "metadata": {
    "colab": {
     "base_uri": "https://localhost:8080/"
    },
    "id": "Xe6BoeJLBbZP",
    "outputId": "33e259dc-f4f2-4374-fab1-d651f6f7a44f"
   },
   "outputs": [
    {
     "name": "stdout",
     "output_type": "stream",
     "text": [
      "Epoch 1/100\n",
      "74/74 [==============================] - 1s 6ms/step - loss: 0.6427 - accuracy: 0.6344 - val_loss: 0.5988 - val_accuracy: 0.6701\n",
      "Epoch 2/100\n",
      "74/74 [==============================] - 0s 4ms/step - loss: 0.6024 - accuracy: 0.6868 - val_loss: 0.5878 - val_accuracy: 0.6751\n",
      "Epoch 3/100\n",
      "74/74 [==============================] - 0s 5ms/step - loss: 0.5871 - accuracy: 0.6873 - val_loss: 0.5810 - val_accuracy: 0.6751\n",
      "Epoch 4/100\n",
      "74/74 [==============================] - 1s 8ms/step - loss: 0.5789 - accuracy: 0.7059 - val_loss: 0.5823 - val_accuracy: 0.6739\n",
      "Epoch 5/100\n",
      "74/74 [==============================] - 1s 7ms/step - loss: 0.5696 - accuracy: 0.7050 - val_loss: 0.5918 - val_accuracy: 0.6739\n",
      "Epoch 6/100\n",
      "74/74 [==============================] - 1s 7ms/step - loss: 0.5677 - accuracy: 0.7088 - val_loss: 0.5780 - val_accuracy: 0.6891\n",
      "Epoch 7/100\n",
      "74/74 [==============================] - 0s 5ms/step - loss: 0.5623 - accuracy: 0.7131 - val_loss: 0.5795 - val_accuracy: 0.6751\n",
      "Epoch 8/100\n",
      "74/74 [==============================] - 0s 4ms/step - loss: 0.5606 - accuracy: 0.7076 - val_loss: 0.5762 - val_accuracy: 0.6865\n",
      "Epoch 9/100\n",
      "74/74 [==============================] - 0s 4ms/step - loss: 0.5550 - accuracy: 0.7182 - val_loss: 0.5753 - val_accuracy: 0.6916\n",
      "Epoch 10/100\n",
      "74/74 [==============================] - 0s 4ms/step - loss: 0.5505 - accuracy: 0.7127 - val_loss: 0.5785 - val_accuracy: 0.6904\n",
      "Epoch 11/100\n",
      "74/74 [==============================] - 0s 4ms/step - loss: 0.5486 - accuracy: 0.7173 - val_loss: 0.5755 - val_accuracy: 0.6878\n",
      "Epoch 12/100\n",
      "74/74 [==============================] - 0s 3ms/step - loss: 0.5444 - accuracy: 0.7266 - val_loss: 0.5778 - val_accuracy: 0.6942\n",
      "Epoch 13/100\n",
      "74/74 [==============================] - 0s 4ms/step - loss: 0.5392 - accuracy: 0.7270 - val_loss: 0.5822 - val_accuracy: 0.6865\n",
      "Epoch 14/100\n",
      "74/74 [==============================] - 0s 3ms/step - loss: 0.5431 - accuracy: 0.7198 - val_loss: 0.5769 - val_accuracy: 0.6954\n",
      "Epoch 15/100\n",
      "74/74 [==============================] - 0s 3ms/step - loss: 0.5432 - accuracy: 0.7249 - val_loss: 0.5758 - val_accuracy: 0.6942\n",
      "Epoch 16/100\n",
      "74/74 [==============================] - 0s 3ms/step - loss: 0.5391 - accuracy: 0.7215 - val_loss: 0.5744 - val_accuracy: 0.6942\n",
      "Epoch 17/100\n",
      "74/74 [==============================] - 0s 4ms/step - loss: 0.5340 - accuracy: 0.7372 - val_loss: 0.5761 - val_accuracy: 0.7094\n",
      "Epoch 18/100\n",
      "74/74 [==============================] - 0s 5ms/step - loss: 0.5362 - accuracy: 0.7224 - val_loss: 0.5784 - val_accuracy: 0.7030\n",
      "Epoch 19/100\n",
      "74/74 [==============================] - 0s 6ms/step - loss: 0.5275 - accuracy: 0.7309 - val_loss: 0.5786 - val_accuracy: 0.6980\n",
      "Epoch 20/100\n",
      "74/74 [==============================] - 0s 6ms/step - loss: 0.5278 - accuracy: 0.7287 - val_loss: 0.5751 - val_accuracy: 0.7030\n",
      "Epoch 21/100\n",
      "74/74 [==============================] - 0s 5ms/step - loss: 0.5230 - accuracy: 0.7419 - val_loss: 0.5861 - val_accuracy: 0.6865\n",
      "Epoch 22/100\n",
      "74/74 [==============================] - 1s 7ms/step - loss: 0.5239 - accuracy: 0.7359 - val_loss: 0.5825 - val_accuracy: 0.6980\n",
      "Epoch 23/100\n",
      "74/74 [==============================] - 0s 6ms/step - loss: 0.5197 - accuracy: 0.7440 - val_loss: 0.5825 - val_accuracy: 0.6802\n",
      "Epoch 24/100\n",
      "74/74 [==============================] - 0s 5ms/step - loss: 0.5187 - accuracy: 0.7393 - val_loss: 0.5792 - val_accuracy: 0.6942\n",
      "Epoch 25/100\n",
      "74/74 [==============================] - 1s 7ms/step - loss: 0.5160 - accuracy: 0.7334 - val_loss: 0.5866 - val_accuracy: 0.6967\n",
      "Epoch 26/100\n",
      "74/74 [==============================] - 0s 6ms/step - loss: 0.5207 - accuracy: 0.7380 - val_loss: 0.5852 - val_accuracy: 0.6865\n",
      "Epoch 27/100\n",
      "74/74 [==============================] - 0s 5ms/step - loss: 0.5158 - accuracy: 0.7402 - val_loss: 0.5847 - val_accuracy: 0.6954\n",
      "Epoch 28/100\n",
      "74/74 [==============================] - 0s 3ms/step - loss: 0.5145 - accuracy: 0.7389 - val_loss: 0.5890 - val_accuracy: 0.6891\n",
      "Epoch 29/100\n",
      "74/74 [==============================] - 0s 3ms/step - loss: 0.5138 - accuracy: 0.7461 - val_loss: 0.5835 - val_accuracy: 0.6840\n",
      "Epoch 30/100\n",
      "74/74 [==============================] - 0s 4ms/step - loss: 0.5030 - accuracy: 0.7499 - val_loss: 0.5873 - val_accuracy: 0.6992\n",
      "Epoch 31/100\n",
      "74/74 [==============================] - 0s 3ms/step - loss: 0.5085 - accuracy: 0.7385 - val_loss: 0.5914 - val_accuracy: 0.6904\n",
      "Epoch 32/100\n",
      "74/74 [==============================] - 0s 4ms/step - loss: 0.5016 - accuracy: 0.7558 - val_loss: 0.5911 - val_accuracy: 0.6853\n",
      "Epoch 33/100\n",
      "74/74 [==============================] - 0s 4ms/step - loss: 0.5020 - accuracy: 0.7537 - val_loss: 0.5855 - val_accuracy: 0.7056\n",
      "Epoch 34/100\n",
      "74/74 [==============================] - 0s 3ms/step - loss: 0.5000 - accuracy: 0.7478 - val_loss: 0.5847 - val_accuracy: 0.6967\n",
      "Epoch 35/100\n",
      "74/74 [==============================] - 0s 3ms/step - loss: 0.4934 - accuracy: 0.7613 - val_loss: 0.5912 - val_accuracy: 0.6891\n",
      "Epoch 36/100\n",
      "74/74 [==============================] - 0s 4ms/step - loss: 0.4958 - accuracy: 0.7524 - val_loss: 0.5847 - val_accuracy: 0.6916\n",
      "Epoch 37/100\n",
      "74/74 [==============================] - 0s 3ms/step - loss: 0.5004 - accuracy: 0.7554 - val_loss: 0.5954 - val_accuracy: 0.6891\n",
      "Epoch 38/100\n",
      "74/74 [==============================] - 0s 4ms/step - loss: 0.4913 - accuracy: 0.7520 - val_loss: 0.6032 - val_accuracy: 0.6853\n",
      "Epoch 39/100\n",
      "74/74 [==============================] - 0s 3ms/step - loss: 0.4959 - accuracy: 0.7617 - val_loss: 0.5878 - val_accuracy: 0.6904\n",
      "Epoch 40/100\n",
      "74/74 [==============================] - 0s 3ms/step - loss: 0.4958 - accuracy: 0.7596 - val_loss: 0.5891 - val_accuracy: 0.6967\n",
      "Epoch 41/100\n",
      "74/74 [==============================] - 0s 3ms/step - loss: 0.4842 - accuracy: 0.7634 - val_loss: 0.5965 - val_accuracy: 0.6865\n",
      "Epoch 42/100\n",
      "74/74 [==============================] - 0s 3ms/step - loss: 0.4864 - accuracy: 0.7592 - val_loss: 0.5900 - val_accuracy: 0.7030\n",
      "Epoch 43/100\n",
      "74/74 [==============================] - 0s 4ms/step - loss: 0.4833 - accuracy: 0.7639 - val_loss: 0.5971 - val_accuracy: 0.6980\n",
      "Epoch 44/100\n",
      "74/74 [==============================] - 0s 3ms/step - loss: 0.4785 - accuracy: 0.7685 - val_loss: 0.5965 - val_accuracy: 0.6904\n",
      "Epoch 45/100\n",
      "74/74 [==============================] - 0s 3ms/step - loss: 0.4876 - accuracy: 0.7664 - val_loss: 0.6041 - val_accuracy: 0.6916\n",
      "Epoch 46/100\n",
      "74/74 [==============================] - 0s 3ms/step - loss: 0.4739 - accuracy: 0.7719 - val_loss: 0.6003 - val_accuracy: 0.6967\n",
      "Epoch 47/100\n",
      "74/74 [==============================] - 0s 3ms/step - loss: 0.4740 - accuracy: 0.7613 - val_loss: 0.6005 - val_accuracy: 0.6954\n",
      "Epoch 48/100\n",
      "74/74 [==============================] - 0s 3ms/step - loss: 0.4817 - accuracy: 0.7702 - val_loss: 0.5914 - val_accuracy: 0.6929\n",
      "Epoch 49/100\n",
      "74/74 [==============================] - 0s 4ms/step - loss: 0.4717 - accuracy: 0.7711 - val_loss: 0.5939 - val_accuracy: 0.6980\n",
      "Epoch 50/100\n",
      "74/74 [==============================] - 0s 3ms/step - loss: 0.4774 - accuracy: 0.7711 - val_loss: 0.5967 - val_accuracy: 0.6827\n",
      "Epoch 51/100\n",
      "74/74 [==============================] - 0s 3ms/step - loss: 0.4651 - accuracy: 0.7727 - val_loss: 0.6030 - val_accuracy: 0.6980\n",
      "Epoch 52/100\n",
      "74/74 [==============================] - 0s 3ms/step - loss: 0.4691 - accuracy: 0.7702 - val_loss: 0.6040 - val_accuracy: 0.7005\n",
      "Epoch 53/100\n",
      "74/74 [==============================] - 0s 3ms/step - loss: 0.4640 - accuracy: 0.7867 - val_loss: 0.6081 - val_accuracy: 0.6865\n",
      "Epoch 54/100\n",
      "74/74 [==============================] - 0s 3ms/step - loss: 0.4728 - accuracy: 0.7744 - val_loss: 0.5948 - val_accuracy: 0.7056\n",
      "Epoch 55/100\n",
      "74/74 [==============================] - 0s 3ms/step - loss: 0.4711 - accuracy: 0.7791 - val_loss: 0.6070 - val_accuracy: 0.7018\n",
      "Epoch 56/100\n",
      "74/74 [==============================] - 0s 3ms/step - loss: 0.4578 - accuracy: 0.7812 - val_loss: 0.5977 - val_accuracy: 0.7094\n",
      "Epoch 57/100\n",
      "74/74 [==============================] - 0s 2ms/step - loss: 0.4559 - accuracy: 0.7787 - val_loss: 0.6100 - val_accuracy: 0.6891\n",
      "Epoch 58/100\n",
      "74/74 [==============================] - 0s 3ms/step - loss: 0.4647 - accuracy: 0.7757 - val_loss: 0.6054 - val_accuracy: 0.6980\n",
      "Epoch 59/100\n",
      "74/74 [==============================] - 0s 3ms/step - loss: 0.4581 - accuracy: 0.7787 - val_loss: 0.6103 - val_accuracy: 0.6980\n",
      "Epoch 60/100\n",
      "74/74 [==============================] - 0s 2ms/step - loss: 0.4574 - accuracy: 0.7782 - val_loss: 0.6126 - val_accuracy: 0.6853\n",
      "Epoch 61/100\n",
      "74/74 [==============================] - 0s 3ms/step - loss: 0.4542 - accuracy: 0.7787 - val_loss: 0.6234 - val_accuracy: 0.6904\n",
      "Epoch 62/100\n",
      "74/74 [==============================] - 0s 2ms/step - loss: 0.4533 - accuracy: 0.7821 - val_loss: 0.6155 - val_accuracy: 0.6967\n",
      "Epoch 63/100\n",
      "74/74 [==============================] - 0s 3ms/step - loss: 0.4491 - accuracy: 0.7829 - val_loss: 0.6119 - val_accuracy: 0.6992\n",
      "Epoch 64/100\n",
      "74/74 [==============================] - 0s 3ms/step - loss: 0.4571 - accuracy: 0.7842 - val_loss: 0.6227 - val_accuracy: 0.6904\n",
      "Epoch 65/100\n",
      "74/74 [==============================] - 0s 3ms/step - loss: 0.4431 - accuracy: 0.7918 - val_loss: 0.6157 - val_accuracy: 0.6891\n",
      "Epoch 66/100\n",
      "74/74 [==============================] - 0s 3ms/step - loss: 0.4484 - accuracy: 0.7863 - val_loss: 0.6216 - val_accuracy: 0.6878\n",
      "Epoch 67/100\n",
      "74/74 [==============================] - 0s 3ms/step - loss: 0.4552 - accuracy: 0.7787 - val_loss: 0.6245 - val_accuracy: 0.6980\n",
      "Epoch 68/100\n",
      "74/74 [==============================] - 0s 3ms/step - loss: 0.4474 - accuracy: 0.7859 - val_loss: 0.6159 - val_accuracy: 0.6942\n",
      "Epoch 69/100\n",
      "74/74 [==============================] - 0s 3ms/step - loss: 0.4432 - accuracy: 0.7922 - val_loss: 0.6211 - val_accuracy: 0.6942\n",
      "Epoch 70/100\n",
      "74/74 [==============================] - 0s 3ms/step - loss: 0.4420 - accuracy: 0.8011 - val_loss: 0.6218 - val_accuracy: 0.6980\n",
      "Epoch 71/100\n",
      "74/74 [==============================] - 0s 4ms/step - loss: 0.4369 - accuracy: 0.7935 - val_loss: 0.6222 - val_accuracy: 0.7018\n",
      "Epoch 72/100\n",
      "74/74 [==============================] - 0s 4ms/step - loss: 0.4392 - accuracy: 0.7964 - val_loss: 0.6268 - val_accuracy: 0.6992\n",
      "Epoch 73/100\n",
      "74/74 [==============================] - 0s 4ms/step - loss: 0.4384 - accuracy: 0.7893 - val_loss: 0.6288 - val_accuracy: 0.6980\n",
      "Epoch 74/100\n",
      "74/74 [==============================] - 0s 4ms/step - loss: 0.4497 - accuracy: 0.7909 - val_loss: 0.6304 - val_accuracy: 0.6865\n",
      "Epoch 75/100\n",
      "74/74 [==============================] - 0s 4ms/step - loss: 0.4277 - accuracy: 0.8066 - val_loss: 0.6403 - val_accuracy: 0.6967\n",
      "Epoch 76/100\n",
      "74/74 [==============================] - 0s 5ms/step - loss: 0.4354 - accuracy: 0.7960 - val_loss: 0.6441 - val_accuracy: 0.6891\n",
      "Epoch 77/100\n",
      "74/74 [==============================] - 0s 5ms/step - loss: 0.4370 - accuracy: 0.7943 - val_loss: 0.6462 - val_accuracy: 0.6827\n",
      "Epoch 78/100\n",
      "74/74 [==============================] - 0s 5ms/step - loss: 0.4289 - accuracy: 0.8036 - val_loss: 0.6466 - val_accuracy: 0.6916\n",
      "Epoch 79/100\n",
      "74/74 [==============================] - 0s 4ms/step - loss: 0.4358 - accuracy: 0.7909 - val_loss: 0.6292 - val_accuracy: 0.7018\n",
      "Epoch 80/100\n",
      "74/74 [==============================] - 0s 4ms/step - loss: 0.4376 - accuracy: 0.7905 - val_loss: 0.6364 - val_accuracy: 0.6942\n",
      "Epoch 81/100\n",
      "74/74 [==============================] - 0s 4ms/step - loss: 0.4314 - accuracy: 0.8041 - val_loss: 0.6364 - val_accuracy: 0.6954\n",
      "Epoch 82/100\n",
      "74/74 [==============================] - 0s 4ms/step - loss: 0.4285 - accuracy: 0.7986 - val_loss: 0.6353 - val_accuracy: 0.6980\n",
      "Epoch 83/100\n",
      "74/74 [==============================] - 0s 4ms/step - loss: 0.4215 - accuracy: 0.8041 - val_loss: 0.6387 - val_accuracy: 0.7107\n",
      "Epoch 84/100\n",
      "74/74 [==============================] - 0s 4ms/step - loss: 0.4186 - accuracy: 0.8045 - val_loss: 0.6369 - val_accuracy: 0.7081\n",
      "Epoch 85/100\n",
      "74/74 [==============================] - 0s 4ms/step - loss: 0.4219 - accuracy: 0.8079 - val_loss: 0.6334 - val_accuracy: 0.7043\n",
      "Epoch 86/100\n",
      "74/74 [==============================] - 0s 4ms/step - loss: 0.4153 - accuracy: 0.8121 - val_loss: 0.6346 - val_accuracy: 0.6980\n",
      "Epoch 87/100\n",
      "74/74 [==============================] - 0s 4ms/step - loss: 0.4163 - accuracy: 0.8108 - val_loss: 0.6430 - val_accuracy: 0.7043\n",
      "Epoch 88/100\n",
      "74/74 [==============================] - 0s 4ms/step - loss: 0.4150 - accuracy: 0.8011 - val_loss: 0.6501 - val_accuracy: 0.6942\n",
      "Epoch 89/100\n",
      "74/74 [==============================] - 0s 4ms/step - loss: 0.4199 - accuracy: 0.8024 - val_loss: 0.6431 - val_accuracy: 0.7107\n",
      "Epoch 90/100\n",
      "74/74 [==============================] - 0s 4ms/step - loss: 0.4265 - accuracy: 0.7969 - val_loss: 0.6416 - val_accuracy: 0.6967\n",
      "Epoch 91/100\n",
      "74/74 [==============================] - 0s 4ms/step - loss: 0.4077 - accuracy: 0.8100 - val_loss: 0.6492 - val_accuracy: 0.6967\n",
      "Epoch 92/100\n",
      "74/74 [==============================] - 0s 2ms/step - loss: 0.4173 - accuracy: 0.8117 - val_loss: 0.6665 - val_accuracy: 0.7030\n",
      "Epoch 93/100\n",
      "74/74 [==============================] - 0s 3ms/step - loss: 0.4146 - accuracy: 0.8062 - val_loss: 0.6524 - val_accuracy: 0.6980\n",
      "Epoch 94/100\n",
      "74/74 [==============================] - 0s 3ms/step - loss: 0.4054 - accuracy: 0.8142 - val_loss: 0.6532 - val_accuracy: 0.7030\n",
      "Epoch 95/100\n",
      "74/74 [==============================] - 0s 2ms/step - loss: 0.4075 - accuracy: 0.8019 - val_loss: 0.6626 - val_accuracy: 0.7005\n",
      "Epoch 96/100\n",
      "74/74 [==============================] - 0s 3ms/step - loss: 0.4092 - accuracy: 0.8062 - val_loss: 0.6555 - val_accuracy: 0.7030\n",
      "Epoch 97/100\n",
      "74/74 [==============================] - 0s 3ms/step - loss: 0.4068 - accuracy: 0.8142 - val_loss: 0.6616 - val_accuracy: 0.7069\n",
      "Epoch 98/100\n",
      "74/74 [==============================] - 0s 2ms/step - loss: 0.4054 - accuracy: 0.8163 - val_loss: 0.6504 - val_accuracy: 0.7043\n",
      "Epoch 99/100\n",
      "74/74 [==============================] - 0s 3ms/step - loss: 0.4074 - accuracy: 0.8104 - val_loss: 0.6519 - val_accuracy: 0.7069\n",
      "Epoch 100/100\n",
      "74/74 [==============================] - 0s 2ms/step - loss: 0.4086 - accuracy: 0.8015 - val_loss: 0.6621 - val_accuracy: 0.7030\n"
     ]
    },
    {
     "data": {
      "text/plain": [
       "<keras.callbacks.History at 0x7f622facd8d0>"
      ]
     },
     "execution_count": 69,
     "metadata": {},
     "output_type": "execute_result"
    }
   ],
   "source": [
    "df_nike.drop(columns=['file_name', 'caption', 'username', 'fullname', 'hashtags',\n",
    "                 'caption_text_new', 'location_city', 'location_name', 'user_biography',\n",
    "                 'user_business_category', 'caption_text', 'usertag_list', \n",
    "                 'user_is_verified', 'is_bio_related_brand', 'is_username_related_brand',\n",
    "                 'mention_target_brand', 'tag_other_related_brands', 'user_is_business_account',\n",
    "                 'is_comment_hashtags', 'has_location', 'hashtag_other_related_brands', 'comment_count',\n",
    "                 'user_business_category_encoded', 'mention_num', 'image_height', 'digit_num'], inplace=True)\n",
    "\n",
    "y = df_nike.iloc[:, 4].values\n",
    "df_nike2 = df_nike.drop(columns=['class'])\n",
    "X = df_nike2.iloc[:, :].values\n",
    "\n",
    "x_train, x_test, y_train, y_test = train_test_split(X, y, test_size=0.1, random_state=42)\n",
    "x_train, x_val, y_train, y_val = train_test_split(x_train, y_train, test_size=0.1, random_state=42)\n",
    "\n",
    "sc_x = StandardScaler()\n",
    "x_train = sc_x.fit_transform(x_train)\n",
    "x_val = sc_x.transform(x_val)\n",
    "x_test = sc_x.transform(x_test)\n",
    "\n",
    "model2 = Sequential()\n",
    "model2.add(Dense(128, input_shape=(X.shape[1],), kernel_initializer=init_mode, activation=activation, kernel_constraint=MaxNorm(weight_constraint)))\n",
    "model2.add(Dropout(0.2))\n",
    "model2.add(Dense(units = neurons, activation = 'relu'))\n",
    "model2.add(Dense(units = 1, activation = 'sigmoid'))\n",
    "model2.compile(loss='binary_crossentropy', optimizer = 'adam', metrics=['accuracy'])\n",
    "my_callbacks = [ModelCheckpoint(\"./saved_models/checkpoints/best_model\", monitor='val_accuracy', verbose=0, save_best_only=True)]\n",
    "\n",
    "\n",
    "model2.fit(x_train, y_train, validation_data = (x_val, y_val), batch_size = batch_size, epochs = epochs, callbacks=my_callbacks)"
   ]
  },
  {
   "cell_type": "code",
   "execution_count": null,
   "metadata": {
    "colab": {
     "base_uri": "https://localhost:8080/"
    },
    "id": "qmOwiAegUpon",
    "outputId": "0e153b46-cea8-46fe-cf46-2910503da16d"
   },
   "outputs": [
    {
     "name": "stdout",
     "output_type": "stream",
     "text": [
      "Accuracy score: 0.7022\n"
     ]
    }
   ],
   "source": [
    "model2 = tf.keras.models.load_model(\"./saved_models/checkpoints/best_model\")\n",
    "y_predict = model2.predict(x_test)\n",
    "y_predict = np.where(y_predict > 0.5, 1, 0)\n",
    "accuracy = evaluate(y_test, y_predict)"
   ]
  },
  {
   "cell_type": "markdown",
   "metadata": {
    "id": "qUsxARIe0Y2u"
   },
   "source": [
    "### Ed sheeran"
   ]
  },
  {
   "cell_type": "code",
   "execution_count": null,
   "metadata": {
    "colab": {
     "base_uri": "https://localhost:8080/"
    },
    "id": "MhHwzDqjos9Y",
    "outputId": "2ff1eec1-03a2-4336-cebd-652f79d84751"
   },
   "outputs": [
    {
     "name": "stdout",
     "output_type": "stream",
     "text": [
      "Epoch 1/100\n",
      "87/87 [==============================] - 2s 6ms/step - loss: 0.5808 - accuracy: 0.7140 - val_loss: 0.5595 - val_accuracy: 0.7229\n",
      "Epoch 2/100\n",
      "87/87 [==============================] - 1s 4ms/step - loss: 0.5578 - accuracy: 0.7314 - val_loss: 0.5569 - val_accuracy: 0.7229\n",
      "Epoch 3/100\n",
      "87/87 [==============================] - 1s 4ms/step - loss: 0.5531 - accuracy: 0.7360 - val_loss: 0.5577 - val_accuracy: 0.7229\n",
      "Epoch 4/100\n",
      "87/87 [==============================] - 1s 5ms/step - loss: 0.5499 - accuracy: 0.7402 - val_loss: 0.5550 - val_accuracy: 0.7197\n",
      "Epoch 5/100\n",
      "87/87 [==============================] - 1s 4ms/step - loss: 0.5487 - accuracy: 0.7399 - val_loss: 0.5547 - val_accuracy: 0.7197\n",
      "Epoch 6/100\n",
      "87/87 [==============================] - 1s 4ms/step - loss: 0.5478 - accuracy: 0.7406 - val_loss: 0.5531 - val_accuracy: 0.7197\n",
      "Epoch 7/100\n",
      "87/87 [==============================] - 1s 4ms/step - loss: 0.5464 - accuracy: 0.7395 - val_loss: 0.5524 - val_accuracy: 0.7197\n",
      "Epoch 8/100\n",
      "87/87 [==============================] - 1s 4ms/step - loss: 0.5458 - accuracy: 0.7413 - val_loss: 0.5515 - val_accuracy: 0.7197\n",
      "Epoch 9/100\n",
      "87/87 [==============================] - 1s 4ms/step - loss: 0.5448 - accuracy: 0.7449 - val_loss: 0.5508 - val_accuracy: 0.7166\n",
      "Epoch 10/100\n",
      "87/87 [==============================] - 1s 4ms/step - loss: 0.5444 - accuracy: 0.7399 - val_loss: 0.5503 - val_accuracy: 0.7197\n",
      "Epoch 11/100\n",
      "87/87 [==============================] - 1s 4ms/step - loss: 0.5431 - accuracy: 0.7424 - val_loss: 0.5506 - val_accuracy: 0.7166\n",
      "Epoch 12/100\n",
      "87/87 [==============================] - 0s 3ms/step - loss: 0.5422 - accuracy: 0.7441 - val_loss: 0.5490 - val_accuracy: 0.7166\n",
      "Epoch 13/100\n",
      "87/87 [==============================] - 0s 2ms/step - loss: 0.5422 - accuracy: 0.7473 - val_loss: 0.5498 - val_accuracy: 0.7134\n",
      "Epoch 14/100\n",
      "87/87 [==============================] - 0s 2ms/step - loss: 0.5414 - accuracy: 0.7392 - val_loss: 0.5490 - val_accuracy: 0.7293\n",
      "Epoch 15/100\n",
      "87/87 [==============================] - 0s 3ms/step - loss: 0.5401 - accuracy: 0.7424 - val_loss: 0.5486 - val_accuracy: 0.7197\n",
      "Epoch 16/100\n",
      "87/87 [==============================] - 0s 2ms/step - loss: 0.5398 - accuracy: 0.7434 - val_loss: 0.5472 - val_accuracy: 0.7261\n",
      "Epoch 17/100\n",
      "87/87 [==============================] - 0s 2ms/step - loss: 0.5391 - accuracy: 0.7470 - val_loss: 0.5478 - val_accuracy: 0.7197\n",
      "Epoch 18/100\n",
      "87/87 [==============================] - 0s 2ms/step - loss: 0.5388 - accuracy: 0.7431 - val_loss: 0.5483 - val_accuracy: 0.7197\n",
      "Epoch 19/100\n",
      "87/87 [==============================] - 0s 2ms/step - loss: 0.5381 - accuracy: 0.7424 - val_loss: 0.5463 - val_accuracy: 0.7229\n",
      "Epoch 20/100\n",
      "87/87 [==============================] - 0s 2ms/step - loss: 0.5373 - accuracy: 0.7441 - val_loss: 0.5456 - val_accuracy: 0.7229\n",
      "Epoch 21/100\n",
      "87/87 [==============================] - 0s 2ms/step - loss: 0.5366 - accuracy: 0.7480 - val_loss: 0.5460 - val_accuracy: 0.7197\n",
      "Epoch 22/100\n",
      "87/87 [==============================] - 0s 2ms/step - loss: 0.5362 - accuracy: 0.7484 - val_loss: 0.5461 - val_accuracy: 0.7197\n",
      "Epoch 23/100\n",
      "87/87 [==============================] - 0s 2ms/step - loss: 0.5356 - accuracy: 0.7441 - val_loss: 0.5459 - val_accuracy: 0.7293\n",
      "Epoch 24/100\n",
      "87/87 [==============================] - 0s 2ms/step - loss: 0.5347 - accuracy: 0.7470 - val_loss: 0.5442 - val_accuracy: 0.7261\n",
      "Epoch 25/100\n",
      "87/87 [==============================] - 0s 2ms/step - loss: 0.5342 - accuracy: 0.7456 - val_loss: 0.5453 - val_accuracy: 0.7261\n",
      "Epoch 26/100\n",
      "87/87 [==============================] - 0s 2ms/step - loss: 0.5338 - accuracy: 0.7477 - val_loss: 0.5442 - val_accuracy: 0.7261\n",
      "Epoch 27/100\n",
      "87/87 [==============================] - 0s 3ms/step - loss: 0.5329 - accuracy: 0.7484 - val_loss: 0.5448 - val_accuracy: 0.7293\n",
      "Epoch 28/100\n",
      "87/87 [==============================] - 0s 3ms/step - loss: 0.5324 - accuracy: 0.7466 - val_loss: 0.5435 - val_accuracy: 0.7293\n",
      "Epoch 29/100\n",
      "87/87 [==============================] - 0s 3ms/step - loss: 0.5318 - accuracy: 0.7463 - val_loss: 0.5437 - val_accuracy: 0.7261\n",
      "Epoch 30/100\n",
      "87/87 [==============================] - 0s 2ms/step - loss: 0.5307 - accuracy: 0.7480 - val_loss: 0.5427 - val_accuracy: 0.7293\n",
      "Epoch 31/100\n",
      "87/87 [==============================] - 0s 3ms/step - loss: 0.5306 - accuracy: 0.7473 - val_loss: 0.5422 - val_accuracy: 0.7293\n",
      "Epoch 32/100\n",
      "87/87 [==============================] - 0s 2ms/step - loss: 0.5302 - accuracy: 0.7495 - val_loss: 0.5428 - val_accuracy: 0.7261\n",
      "Epoch 33/100\n",
      "87/87 [==============================] - 0s 3ms/step - loss: 0.5298 - accuracy: 0.7456 - val_loss: 0.5432 - val_accuracy: 0.7452\n",
      "Epoch 34/100\n",
      "87/87 [==============================] - 0s 2ms/step - loss: 0.5289 - accuracy: 0.7470 - val_loss: 0.5419 - val_accuracy: 0.7325\n",
      "Epoch 35/100\n",
      "87/87 [==============================] - 0s 2ms/step - loss: 0.5282 - accuracy: 0.7477 - val_loss: 0.5412 - val_accuracy: 0.7389\n",
      "Epoch 36/100\n",
      "87/87 [==============================] - 0s 2ms/step - loss: 0.5277 - accuracy: 0.7477 - val_loss: 0.5415 - val_accuracy: 0.7357\n",
      "Epoch 37/100\n",
      "87/87 [==============================] - 0s 3ms/step - loss: 0.5269 - accuracy: 0.7495 - val_loss: 0.5417 - val_accuracy: 0.7293\n",
      "Epoch 38/100\n",
      "87/87 [==============================] - 0s 3ms/step - loss: 0.5267 - accuracy: 0.7463 - val_loss: 0.5397 - val_accuracy: 0.7389\n",
      "Epoch 39/100\n",
      "87/87 [==============================] - 0s 2ms/step - loss: 0.5262 - accuracy: 0.7502 - val_loss: 0.5408 - val_accuracy: 0.7389\n",
      "Epoch 40/100\n",
      "87/87 [==============================] - 0s 2ms/step - loss: 0.5257 - accuracy: 0.7498 - val_loss: 0.5404 - val_accuracy: 0.7389\n",
      "Epoch 41/100\n",
      "87/87 [==============================] - 0s 3ms/step - loss: 0.5257 - accuracy: 0.7480 - val_loss: 0.5406 - val_accuracy: 0.7389\n",
      "Epoch 42/100\n",
      "87/87 [==============================] - 0s 2ms/step - loss: 0.5242 - accuracy: 0.7509 - val_loss: 0.5406 - val_accuracy: 0.7389\n",
      "Epoch 43/100\n",
      "87/87 [==============================] - 0s 2ms/step - loss: 0.5246 - accuracy: 0.7466 - val_loss: 0.5405 - val_accuracy: 0.7389\n",
      "Epoch 44/100\n",
      "87/87 [==============================] - 0s 2ms/step - loss: 0.5238 - accuracy: 0.7470 - val_loss: 0.5392 - val_accuracy: 0.7420\n",
      "Epoch 45/100\n",
      "87/87 [==============================] - 0s 3ms/step - loss: 0.5229 - accuracy: 0.7488 - val_loss: 0.5394 - val_accuracy: 0.7420\n",
      "Epoch 46/100\n",
      "87/87 [==============================] - 0s 3ms/step - loss: 0.5224 - accuracy: 0.7484 - val_loss: 0.5390 - val_accuracy: 0.7420\n",
      "Epoch 47/100\n",
      "87/87 [==============================] - 0s 2ms/step - loss: 0.5227 - accuracy: 0.7530 - val_loss: 0.5386 - val_accuracy: 0.7389\n",
      "Epoch 48/100\n",
      "87/87 [==============================] - 0s 2ms/step - loss: 0.5219 - accuracy: 0.7505 - val_loss: 0.5384 - val_accuracy: 0.7420\n",
      "Epoch 49/100\n",
      "87/87 [==============================] - 0s 2ms/step - loss: 0.5210 - accuracy: 0.7488 - val_loss: 0.5390 - val_accuracy: 0.7420\n",
      "Epoch 50/100\n",
      "87/87 [==============================] - 0s 3ms/step - loss: 0.5209 - accuracy: 0.7491 - val_loss: 0.5392 - val_accuracy: 0.7420\n",
      "Epoch 51/100\n",
      "87/87 [==============================] - 0s 3ms/step - loss: 0.5205 - accuracy: 0.7491 - val_loss: 0.5381 - val_accuracy: 0.7357\n",
      "Epoch 52/100\n",
      "87/87 [==============================] - 0s 2ms/step - loss: 0.5199 - accuracy: 0.7495 - val_loss: 0.5376 - val_accuracy: 0.7420\n",
      "Epoch 53/100\n",
      "87/87 [==============================] - 0s 3ms/step - loss: 0.5197 - accuracy: 0.7516 - val_loss: 0.5367 - val_accuracy: 0.7357\n",
      "Epoch 54/100\n",
      "87/87 [==============================] - 0s 2ms/step - loss: 0.5189 - accuracy: 0.7480 - val_loss: 0.5375 - val_accuracy: 0.7389\n",
      "Epoch 55/100\n",
      "87/87 [==============================] - 0s 3ms/step - loss: 0.5185 - accuracy: 0.7512 - val_loss: 0.5369 - val_accuracy: 0.7420\n",
      "Epoch 56/100\n",
      "87/87 [==============================] - 0s 2ms/step - loss: 0.5184 - accuracy: 0.7530 - val_loss: 0.5383 - val_accuracy: 0.7420\n",
      "Epoch 57/100\n",
      "87/87 [==============================] - 0s 3ms/step - loss: 0.5176 - accuracy: 0.7502 - val_loss: 0.5368 - val_accuracy: 0.7389\n",
      "Epoch 58/100\n",
      "87/87 [==============================] - 0s 2ms/step - loss: 0.5173 - accuracy: 0.7456 - val_loss: 0.5374 - val_accuracy: 0.7389\n",
      "Epoch 59/100\n",
      "87/87 [==============================] - 0s 2ms/step - loss: 0.5171 - accuracy: 0.7509 - val_loss: 0.5368 - val_accuracy: 0.7389\n",
      "Epoch 60/100\n",
      "87/87 [==============================] - 0s 2ms/step - loss: 0.5168 - accuracy: 0.7530 - val_loss: 0.5359 - val_accuracy: 0.7389\n",
      "Epoch 61/100\n",
      "87/87 [==============================] - 0s 2ms/step - loss: 0.5164 - accuracy: 0.7502 - val_loss: 0.5360 - val_accuracy: 0.7389\n",
      "Epoch 62/100\n",
      "87/87 [==============================] - 0s 2ms/step - loss: 0.5150 - accuracy: 0.7516 - val_loss: 0.5364 - val_accuracy: 0.7420\n",
      "Epoch 63/100\n",
      "87/87 [==============================] - 0s 2ms/step - loss: 0.5155 - accuracy: 0.7527 - val_loss: 0.5380 - val_accuracy: 0.7420\n",
      "Epoch 64/100\n",
      "87/87 [==============================] - 0s 2ms/step - loss: 0.5150 - accuracy: 0.7523 - val_loss: 0.5355 - val_accuracy: 0.7389\n",
      "Epoch 65/100\n",
      "87/87 [==============================] - 0s 2ms/step - loss: 0.5146 - accuracy: 0.7520 - val_loss: 0.5354 - val_accuracy: 0.7389\n",
      "Epoch 66/100\n",
      "87/87 [==============================] - 0s 2ms/step - loss: 0.5143 - accuracy: 0.7548 - val_loss: 0.5346 - val_accuracy: 0.7389\n",
      "Epoch 67/100\n",
      "87/87 [==============================] - 0s 2ms/step - loss: 0.5140 - accuracy: 0.7530 - val_loss: 0.5341 - val_accuracy: 0.7357\n",
      "Epoch 68/100\n",
      "87/87 [==============================] - 0s 3ms/step - loss: 0.5137 - accuracy: 0.7530 - val_loss: 0.5341 - val_accuracy: 0.7389\n",
      "Epoch 69/100\n",
      "87/87 [==============================] - 0s 2ms/step - loss: 0.5137 - accuracy: 0.7505 - val_loss: 0.5338 - val_accuracy: 0.7357\n",
      "Epoch 70/100\n",
      "87/87 [==============================] - 0s 3ms/step - loss: 0.5130 - accuracy: 0.7534 - val_loss: 0.5335 - val_accuracy: 0.7389\n",
      "Epoch 71/100\n",
      "87/87 [==============================] - 0s 3ms/step - loss: 0.5122 - accuracy: 0.7516 - val_loss: 0.5355 - val_accuracy: 0.7389\n",
      "Epoch 72/100\n",
      "87/87 [==============================] - 0s 3ms/step - loss: 0.5123 - accuracy: 0.7527 - val_loss: 0.5344 - val_accuracy: 0.7357\n",
      "Epoch 73/100\n",
      "87/87 [==============================] - 0s 2ms/step - loss: 0.5114 - accuracy: 0.7555 - val_loss: 0.5360 - val_accuracy: 0.7452\n",
      "Epoch 74/100\n",
      "87/87 [==============================] - 0s 3ms/step - loss: 0.5115 - accuracy: 0.7534 - val_loss: 0.5342 - val_accuracy: 0.7452\n",
      "Epoch 75/100\n",
      "87/87 [==============================] - 0s 3ms/step - loss: 0.5112 - accuracy: 0.7548 - val_loss: 0.5350 - val_accuracy: 0.7420\n",
      "Epoch 76/100\n",
      "87/87 [==============================] - 0s 3ms/step - loss: 0.5107 - accuracy: 0.7530 - val_loss: 0.5366 - val_accuracy: 0.7420\n",
      "Epoch 77/100\n",
      "87/87 [==============================] - 0s 3ms/step - loss: 0.5108 - accuracy: 0.7541 - val_loss: 0.5351 - val_accuracy: 0.7389\n",
      "Epoch 78/100\n",
      "87/87 [==============================] - 0s 2ms/step - loss: 0.5105 - accuracy: 0.7544 - val_loss: 0.5338 - val_accuracy: 0.7357\n",
      "Epoch 79/100\n",
      "87/87 [==============================] - 0s 2ms/step - loss: 0.5097 - accuracy: 0.7551 - val_loss: 0.5348 - val_accuracy: 0.7420\n",
      "Epoch 80/100\n",
      "87/87 [==============================] - 0s 2ms/step - loss: 0.5098 - accuracy: 0.7569 - val_loss: 0.5335 - val_accuracy: 0.7420\n",
      "Epoch 81/100\n",
      "87/87 [==============================] - 0s 3ms/step - loss: 0.5098 - accuracy: 0.7559 - val_loss: 0.5332 - val_accuracy: 0.7357\n",
      "Epoch 82/100\n",
      "87/87 [==============================] - 0s 2ms/step - loss: 0.5081 - accuracy: 0.7576 - val_loss: 0.5349 - val_accuracy: 0.7484\n",
      "Epoch 83/100\n",
      "87/87 [==============================] - 0s 2ms/step - loss: 0.5088 - accuracy: 0.7566 - val_loss: 0.5335 - val_accuracy: 0.7452\n",
      "Epoch 84/100\n",
      "87/87 [==============================] - 0s 3ms/step - loss: 0.5080 - accuracy: 0.7601 - val_loss: 0.5342 - val_accuracy: 0.7452\n",
      "Epoch 85/100\n",
      "87/87 [==============================] - 0s 2ms/step - loss: 0.5081 - accuracy: 0.7562 - val_loss: 0.5335 - val_accuracy: 0.7420\n",
      "Epoch 86/100\n",
      "87/87 [==============================] - 0s 3ms/step - loss: 0.5079 - accuracy: 0.7548 - val_loss: 0.5320 - val_accuracy: 0.7484\n",
      "Epoch 87/100\n",
      "87/87 [==============================] - 0s 2ms/step - loss: 0.5069 - accuracy: 0.7573 - val_loss: 0.5323 - val_accuracy: 0.7484\n",
      "Epoch 88/100\n",
      "87/87 [==============================] - 0s 2ms/step - loss: 0.5074 - accuracy: 0.7566 - val_loss: 0.5347 - val_accuracy: 0.7484\n",
      "Epoch 89/100\n",
      "87/87 [==============================] - 0s 2ms/step - loss: 0.5061 - accuracy: 0.7566 - val_loss: 0.5325 - val_accuracy: 0.7357\n",
      "Epoch 90/100\n",
      "87/87 [==============================] - 0s 2ms/step - loss: 0.5060 - accuracy: 0.7608 - val_loss: 0.5350 - val_accuracy: 0.7484\n",
      "Epoch 91/100\n",
      "87/87 [==============================] - 0s 2ms/step - loss: 0.5063 - accuracy: 0.7566 - val_loss: 0.5337 - val_accuracy: 0.7484\n",
      "Epoch 92/100\n",
      "87/87 [==============================] - 0s 2ms/step - loss: 0.5057 - accuracy: 0.7583 - val_loss: 0.5319 - val_accuracy: 0.7452\n",
      "Epoch 93/100\n",
      "87/87 [==============================] - 0s 2ms/step - loss: 0.5055 - accuracy: 0.7580 - val_loss: 0.5315 - val_accuracy: 0.7484\n",
      "Epoch 94/100\n",
      "87/87 [==============================] - 0s 2ms/step - loss: 0.5043 - accuracy: 0.7580 - val_loss: 0.5322 - val_accuracy: 0.7516\n",
      "Epoch 95/100\n",
      "87/87 [==============================] - 0s 2ms/step - loss: 0.5053 - accuracy: 0.7583 - val_loss: 0.5334 - val_accuracy: 0.7516\n",
      "Epoch 96/100\n",
      "87/87 [==============================] - 0s 2ms/step - loss: 0.5052 - accuracy: 0.7594 - val_loss: 0.5331 - val_accuracy: 0.7420\n",
      "Epoch 97/100\n",
      "87/87 [==============================] - 0s 2ms/step - loss: 0.5040 - accuracy: 0.7569 - val_loss: 0.5332 - val_accuracy: 0.7452\n",
      "Epoch 98/100\n",
      "87/87 [==============================] - 0s 2ms/step - loss: 0.5038 - accuracy: 0.7580 - val_loss: 0.5323 - val_accuracy: 0.7548\n",
      "Epoch 99/100\n",
      "87/87 [==============================] - 0s 2ms/step - loss: 0.5032 - accuracy: 0.7566 - val_loss: 0.5308 - val_accuracy: 0.7516\n",
      "Epoch 100/100\n",
      "87/87 [==============================] - 0s 2ms/step - loss: 0.5032 - accuracy: 0.7598 - val_loss: 0.5307 - val_accuracy: 0.7516\n"
     ]
    },
    {
     "data": {
      "text/plain": [
       "<keras.callbacks.History at 0x7f806de08350>"
      ]
     },
     "execution_count": 79,
     "metadata": {},
     "output_type": "execute_result"
    }
   ],
   "source": [
    "df_edsheeran.drop(columns=['file_name', 'caption', 'username', 'fullname', 'hashtags',\n",
    "                 'caption_text_new', 'location_city', 'location_name', 'user_biography',\n",
    "                 'user_business_category', 'caption_text', 'usertag_list', \n",
    "                 'user_is_verified', 'is_bio_related_brand', 'is_username_related_brand',\n",
    "                 'mention_target_brand', 'tag_other_related_brands', 'user_is_business_account',\n",
    "                 'is_comment_hashtags', 'has_location', 'hashtag_other_related_brands', 'comment_count',\n",
    "                 'user_business_category_encoded', 'mention_num', 'image_height', 'digit_num'], inplace=True)\n",
    "\n",
    "y = df_edsheeran.iloc[:, 4].values\n",
    "df_edsheeran2 = df_edsheeran.drop(columns=['class'])\n",
    "X = df_edsheeran2.iloc[:, :].values\n",
    "\n",
    "x_train, x_test, y_train, y_test = train_test_split(X, y, test_size=0.1, random_state=1)\n",
    "x_train, x_val, y_train, y_val = train_test_split(x_train, y_train, test_size=0.1, random_state=1)\n",
    "\n",
    "sc_x = StandardScaler()\n",
    "x_train = sc_x.fit_transform(x_train)\n",
    "x_val = sc_x.transform(x_val)\n",
    "x_test = sc_x.transform(x_test)\n",
    "\n",
    "model3 = Sequential()\n",
    "model3.add(Dense(128, input_shape=(X.shape[1],), kernel_initializer=init_mode, activation=activation, kernel_constraint=MaxNorm(weight_constraint)))\n",
    "model3.add(Dropout(0.2))\n",
    "model3.add(Dense(units = neurons, activation = 'relu'))\n",
    "model3.add(Dense(units = 1, activation = 'sigmoid'))\n",
    "model3.compile(loss='binary_crossentropy', optimizer = 'adam', metrics=['accuracy'])\n",
    "my_callbacks = [ModelCheckpoint(\"./saved_models/checkpoints/best_model\", monitor='val_accuracy', verbose=0, save_best_only=True)]\n",
    "\n",
    "model3.fit(x_train, y_train, validation_data = (x_val, y_val), batch_size = batch_size, epochs = epochs, callbacks=my_callbacks)"
   ]
  },
  {
   "cell_type": "code",
   "execution_count": null,
   "metadata": {
    "colab": {
     "base_uri": "https://localhost:8080/"
    },
    "id": "oIBq4jAA_Eew",
    "outputId": "0769c533-9d1c-4f6d-b891-eb6a9b9ab0ec"
   },
   "outputs": [
    {
     "name": "stdout",
     "output_type": "stream",
     "text": [
      "Accuracy score: 0.7478\n"
     ]
    }
   ],
   "source": [
    "model3 = tf.keras.models.load_model(\"./saved_models/checkpoints/best_model\")\n",
    "y_predict = model3.predict(x_test)\n",
    "y_predict = np.where(y_predict > 0.5, 1, 0)\n",
    "accuracy = evaluate(y_test, y_predict)"
   ]
  },
  {
   "cell_type": "markdown",
   "metadata": {
    "id": "Qx3eCVum1gt9"
   },
   "source": [
    "### Gucci"
   ]
  },
  {
   "cell_type": "code",
   "execution_count": null,
   "metadata": {
    "colab": {
     "base_uri": "https://localhost:8080/"
    },
    "id": "C0UkWgzj0Sz0",
    "outputId": "8b043d57-ef31-4ad9-9c6f-2d3e853d953d"
   },
   "outputs": [
    {
     "name": "stdout",
     "output_type": "stream",
     "text": [
      "Epoch 1/100\n",
      "136/136 [==============================] - 2s 6ms/step - loss: 0.5931 - accuracy: 0.6886 - val_loss: 0.5913 - val_accuracy: 0.6645\n",
      "Epoch 2/100\n",
      "136/136 [==============================] - 1s 4ms/step - loss: 0.5688 - accuracy: 0.7011 - val_loss: 0.5903 - val_accuracy: 0.6777\n",
      "Epoch 3/100\n",
      "136/136 [==============================] - 1s 7ms/step - loss: 0.5660 - accuracy: 0.7056 - val_loss: 0.5884 - val_accuracy: 0.6711\n",
      "Epoch 4/100\n",
      "136/136 [==============================] - 1s 6ms/step - loss: 0.5647 - accuracy: 0.7056 - val_loss: 0.5886 - val_accuracy: 0.6711\n",
      "Epoch 5/100\n",
      "136/136 [==============================] - 1s 7ms/step - loss: 0.5638 - accuracy: 0.7048 - val_loss: 0.5896 - val_accuracy: 0.6844\n",
      "Epoch 6/100\n",
      "136/136 [==============================] - 1s 9ms/step - loss: 0.5637 - accuracy: 0.7085 - val_loss: 0.5874 - val_accuracy: 0.6777\n",
      "Epoch 7/100\n",
      "136/136 [==============================] - 1s 4ms/step - loss: 0.5627 - accuracy: 0.7048 - val_loss: 0.5880 - val_accuracy: 0.6777\n",
      "Epoch 8/100\n",
      "136/136 [==============================] - 0s 4ms/step - loss: 0.5620 - accuracy: 0.7063 - val_loss: 0.5888 - val_accuracy: 0.6777\n",
      "Epoch 9/100\n",
      "136/136 [==============================] - 1s 4ms/step - loss: 0.5620 - accuracy: 0.7063 - val_loss: 0.5889 - val_accuracy: 0.6811\n",
      "Epoch 10/100\n",
      "136/136 [==============================] - 1s 8ms/step - loss: 0.5613 - accuracy: 0.7052 - val_loss: 0.5883 - val_accuracy: 0.6711\n",
      "Epoch 11/100\n",
      "136/136 [==============================] - 1s 4ms/step - loss: 0.5607 - accuracy: 0.7100 - val_loss: 0.5881 - val_accuracy: 0.6711\n",
      "Epoch 12/100\n",
      "136/136 [==============================] - 1s 4ms/step - loss: 0.5604 - accuracy: 0.7063 - val_loss: 0.5893 - val_accuracy: 0.6744\n",
      "Epoch 13/100\n",
      "136/136 [==============================] - 1s 4ms/step - loss: 0.5605 - accuracy: 0.7059 - val_loss: 0.5891 - val_accuracy: 0.6744\n",
      "Epoch 14/100\n",
      "136/136 [==============================] - 0s 2ms/step - loss: 0.5598 - accuracy: 0.7041 - val_loss: 0.5886 - val_accuracy: 0.6744\n",
      "Epoch 15/100\n",
      "136/136 [==============================] - 0s 2ms/step - loss: 0.5594 - accuracy: 0.7078 - val_loss: 0.5883 - val_accuracy: 0.6711\n",
      "Epoch 16/100\n",
      "136/136 [==============================] - 0s 2ms/step - loss: 0.5588 - accuracy: 0.7078 - val_loss: 0.5914 - val_accuracy: 0.6744\n",
      "Epoch 17/100\n",
      "136/136 [==============================] - 0s 2ms/step - loss: 0.5589 - accuracy: 0.7023 - val_loss: 0.5904 - val_accuracy: 0.6744\n",
      "Epoch 18/100\n",
      "136/136 [==============================] - 0s 2ms/step - loss: 0.5585 - accuracy: 0.7030 - val_loss: 0.5912 - val_accuracy: 0.6711\n",
      "Epoch 19/100\n",
      "136/136 [==============================] - 0s 2ms/step - loss: 0.5584 - accuracy: 0.7026 - val_loss: 0.5897 - val_accuracy: 0.6744\n",
      "Epoch 20/100\n",
      "136/136 [==============================] - 0s 2ms/step - loss: 0.5581 - accuracy: 0.7071 - val_loss: 0.5901 - val_accuracy: 0.6777\n",
      "Epoch 21/100\n",
      "136/136 [==============================] - 0s 2ms/step - loss: 0.5576 - accuracy: 0.7034 - val_loss: 0.5896 - val_accuracy: 0.6777\n",
      "Epoch 22/100\n",
      "136/136 [==============================] - 0s 2ms/step - loss: 0.5575 - accuracy: 0.7071 - val_loss: 0.5896 - val_accuracy: 0.6844\n",
      "Epoch 23/100\n",
      "136/136 [==============================] - 0s 2ms/step - loss: 0.5571 - accuracy: 0.7059 - val_loss: 0.5913 - val_accuracy: 0.6877\n",
      "Epoch 24/100\n",
      "136/136 [==============================] - 0s 2ms/step - loss: 0.5566 - accuracy: 0.7059 - val_loss: 0.5898 - val_accuracy: 0.6877\n",
      "Epoch 25/100\n",
      "136/136 [==============================] - 0s 2ms/step - loss: 0.5569 - accuracy: 0.7045 - val_loss: 0.5904 - val_accuracy: 0.6811\n",
      "Epoch 26/100\n",
      "136/136 [==============================] - 0s 2ms/step - loss: 0.5561 - accuracy: 0.7048 - val_loss: 0.5909 - val_accuracy: 0.6744\n",
      "Epoch 27/100\n",
      "136/136 [==============================] - 0s 2ms/step - loss: 0.5559 - accuracy: 0.7019 - val_loss: 0.5894 - val_accuracy: 0.6844\n",
      "Epoch 28/100\n",
      "136/136 [==============================] - 0s 2ms/step - loss: 0.5556 - accuracy: 0.7037 - val_loss: 0.5903 - val_accuracy: 0.6811\n",
      "Epoch 29/100\n",
      "136/136 [==============================] - 0s 2ms/step - loss: 0.5551 - accuracy: 0.7045 - val_loss: 0.5910 - val_accuracy: 0.6844\n",
      "Epoch 30/100\n",
      "136/136 [==============================] - 0s 2ms/step - loss: 0.5550 - accuracy: 0.7034 - val_loss: 0.5919 - val_accuracy: 0.6844\n",
      "Epoch 31/100\n",
      "136/136 [==============================] - 0s 2ms/step - loss: 0.5547 - accuracy: 0.7034 - val_loss: 0.5924 - val_accuracy: 0.6844\n",
      "Epoch 32/100\n",
      "136/136 [==============================] - 0s 2ms/step - loss: 0.5545 - accuracy: 0.7056 - val_loss: 0.5919 - val_accuracy: 0.6844\n",
      "Epoch 33/100\n",
      "136/136 [==============================] - 0s 2ms/step - loss: 0.5542 - accuracy: 0.7063 - val_loss: 0.5901 - val_accuracy: 0.6844\n",
      "Epoch 34/100\n",
      "136/136 [==============================] - 0s 2ms/step - loss: 0.5540 - accuracy: 0.7052 - val_loss: 0.5908 - val_accuracy: 0.6844\n",
      "Epoch 35/100\n",
      "136/136 [==============================] - 0s 2ms/step - loss: 0.5537 - accuracy: 0.7037 - val_loss: 0.5910 - val_accuracy: 0.6811\n",
      "Epoch 36/100\n",
      "136/136 [==============================] - 0s 2ms/step - loss: 0.5536 - accuracy: 0.7048 - val_loss: 0.5905 - val_accuracy: 0.6877\n",
      "Epoch 37/100\n",
      "136/136 [==============================] - 0s 2ms/step - loss: 0.5535 - accuracy: 0.7074 - val_loss: 0.5899 - val_accuracy: 0.6910\n",
      "Epoch 38/100\n",
      "136/136 [==============================] - 0s 2ms/step - loss: 0.5535 - accuracy: 0.7056 - val_loss: 0.5904 - val_accuracy: 0.6910\n",
      "Epoch 39/100\n",
      "136/136 [==============================] - 0s 2ms/step - loss: 0.5533 - accuracy: 0.7067 - val_loss: 0.5923 - val_accuracy: 0.6844\n",
      "Epoch 40/100\n",
      "136/136 [==============================] - 0s 3ms/step - loss: 0.5525 - accuracy: 0.7037 - val_loss: 0.5913 - val_accuracy: 0.6844\n",
      "Epoch 41/100\n",
      "136/136 [==============================] - 0s 2ms/step - loss: 0.5527 - accuracy: 0.7078 - val_loss: 0.5917 - val_accuracy: 0.6844\n",
      "Epoch 42/100\n",
      "136/136 [==============================] - 0s 2ms/step - loss: 0.5521 - accuracy: 0.7008 - val_loss: 0.5913 - val_accuracy: 0.6844\n",
      "Epoch 43/100\n",
      "136/136 [==============================] - 0s 2ms/step - loss: 0.5519 - accuracy: 0.7052 - val_loss: 0.5935 - val_accuracy: 0.6877\n",
      "Epoch 44/100\n",
      "136/136 [==============================] - 0s 2ms/step - loss: 0.5517 - accuracy: 0.7048 - val_loss: 0.5917 - val_accuracy: 0.6877\n",
      "Epoch 45/100\n",
      "136/136 [==============================] - 0s 2ms/step - loss: 0.5517 - accuracy: 0.7111 - val_loss: 0.5918 - val_accuracy: 0.6877\n",
      "Epoch 46/100\n",
      "136/136 [==============================] - 0s 2ms/step - loss: 0.5512 - accuracy: 0.7082 - val_loss: 0.5933 - val_accuracy: 0.6844\n",
      "Epoch 47/100\n",
      "136/136 [==============================] - 0s 2ms/step - loss: 0.5511 - accuracy: 0.7078 - val_loss: 0.5919 - val_accuracy: 0.6844\n",
      "Epoch 48/100\n",
      "136/136 [==============================] - 0s 2ms/step - loss: 0.5504 - accuracy: 0.7130 - val_loss: 0.5903 - val_accuracy: 0.6811\n",
      "Epoch 49/100\n",
      "136/136 [==============================] - 0s 2ms/step - loss: 0.5509 - accuracy: 0.7045 - val_loss: 0.5925 - val_accuracy: 0.6877\n",
      "Epoch 50/100\n",
      "136/136 [==============================] - 0s 2ms/step - loss: 0.5504 - accuracy: 0.7082 - val_loss: 0.5932 - val_accuracy: 0.6877\n",
      "Epoch 51/100\n",
      "136/136 [==============================] - 0s 2ms/step - loss: 0.5503 - accuracy: 0.7019 - val_loss: 0.5920 - val_accuracy: 0.6910\n",
      "Epoch 52/100\n",
      "136/136 [==============================] - 0s 2ms/step - loss: 0.5498 - accuracy: 0.7041 - val_loss: 0.5932 - val_accuracy: 0.6877\n",
      "Epoch 53/100\n",
      "136/136 [==============================] - 0s 2ms/step - loss: 0.5499 - accuracy: 0.7063 - val_loss: 0.5936 - val_accuracy: 0.6877\n",
      "Epoch 54/100\n",
      "136/136 [==============================] - 0s 2ms/step - loss: 0.5496 - accuracy: 0.7023 - val_loss: 0.5929 - val_accuracy: 0.6844\n",
      "Epoch 55/100\n",
      "136/136 [==============================] - 0s 2ms/step - loss: 0.5495 - accuracy: 0.7074 - val_loss: 0.5932 - val_accuracy: 0.6844\n",
      "Epoch 56/100\n",
      "136/136 [==============================] - 0s 2ms/step - loss: 0.5492 - accuracy: 0.7104 - val_loss: 0.5934 - val_accuracy: 0.6811\n",
      "Epoch 57/100\n",
      "136/136 [==============================] - 0s 2ms/step - loss: 0.5489 - accuracy: 0.7093 - val_loss: 0.5951 - val_accuracy: 0.6811\n",
      "Epoch 58/100\n",
      "136/136 [==============================] - 0s 2ms/step - loss: 0.5490 - accuracy: 0.7059 - val_loss: 0.5943 - val_accuracy: 0.6811\n",
      "Epoch 59/100\n",
      "136/136 [==============================] - 0s 2ms/step - loss: 0.5490 - accuracy: 0.7052 - val_loss: 0.5946 - val_accuracy: 0.6877\n",
      "Epoch 60/100\n",
      "136/136 [==============================] - 0s 2ms/step - loss: 0.5485 - accuracy: 0.7082 - val_loss: 0.5933 - val_accuracy: 0.6844\n",
      "Epoch 61/100\n",
      "136/136 [==============================] - 0s 2ms/step - loss: 0.5481 - accuracy: 0.7082 - val_loss: 0.5949 - val_accuracy: 0.6811\n",
      "Epoch 62/100\n",
      "136/136 [==============================] - 0s 2ms/step - loss: 0.5478 - accuracy: 0.7126 - val_loss: 0.5944 - val_accuracy: 0.6877\n",
      "Epoch 63/100\n",
      "136/136 [==============================] - 0s 2ms/step - loss: 0.5478 - accuracy: 0.7130 - val_loss: 0.5951 - val_accuracy: 0.6877\n",
      "Epoch 64/100\n",
      "136/136 [==============================] - 0s 2ms/step - loss: 0.5478 - accuracy: 0.7063 - val_loss: 0.5941 - val_accuracy: 0.6910\n",
      "Epoch 65/100\n",
      "136/136 [==============================] - 0s 2ms/step - loss: 0.5472 - accuracy: 0.7119 - val_loss: 0.5930 - val_accuracy: 0.6877\n",
      "Epoch 66/100\n",
      "136/136 [==============================] - 0s 2ms/step - loss: 0.5475 - accuracy: 0.7082 - val_loss: 0.5962 - val_accuracy: 0.6877\n",
      "Epoch 67/100\n",
      "136/136 [==============================] - 0s 2ms/step - loss: 0.5471 - accuracy: 0.7089 - val_loss: 0.5944 - val_accuracy: 0.6877\n",
      "Epoch 68/100\n",
      "136/136 [==============================] - 0s 2ms/step - loss: 0.5471 - accuracy: 0.7074 - val_loss: 0.5936 - val_accuracy: 0.6877\n",
      "Epoch 69/100\n",
      "136/136 [==============================] - 0s 2ms/step - loss: 0.5472 - accuracy: 0.7133 - val_loss: 0.5961 - val_accuracy: 0.6877\n",
      "Epoch 70/100\n",
      "136/136 [==============================] - 0s 3ms/step - loss: 0.5469 - accuracy: 0.7104 - val_loss: 0.5956 - val_accuracy: 0.6877\n",
      "Epoch 71/100\n",
      "136/136 [==============================] - 0s 3ms/step - loss: 0.5463 - accuracy: 0.7093 - val_loss: 0.5958 - val_accuracy: 0.6877\n",
      "Epoch 72/100\n",
      "136/136 [==============================] - 0s 2ms/step - loss: 0.5466 - accuracy: 0.7093 - val_loss: 0.5949 - val_accuracy: 0.6844\n",
      "Epoch 73/100\n",
      "136/136 [==============================] - 0s 2ms/step - loss: 0.5463 - accuracy: 0.7089 - val_loss: 0.5960 - val_accuracy: 0.6877\n",
      "Epoch 74/100\n",
      "136/136 [==============================] - 0s 2ms/step - loss: 0.5455 - accuracy: 0.7119 - val_loss: 0.5935 - val_accuracy: 0.6877\n",
      "Epoch 75/100\n",
      "136/136 [==============================] - 0s 2ms/step - loss: 0.5463 - accuracy: 0.7111 - val_loss: 0.5941 - val_accuracy: 0.6844\n",
      "Epoch 76/100\n",
      "136/136 [==============================] - 0s 2ms/step - loss: 0.5457 - accuracy: 0.7093 - val_loss: 0.5950 - val_accuracy: 0.6877\n",
      "Epoch 77/100\n",
      "136/136 [==============================] - 0s 2ms/step - loss: 0.5458 - accuracy: 0.7126 - val_loss: 0.5964 - val_accuracy: 0.6877\n",
      "Epoch 78/100\n",
      "136/136 [==============================] - 0s 2ms/step - loss: 0.5454 - accuracy: 0.7119 - val_loss: 0.5959 - val_accuracy: 0.6811\n",
      "Epoch 79/100\n",
      "136/136 [==============================] - 0s 2ms/step - loss: 0.5450 - accuracy: 0.7085 - val_loss: 0.5947 - val_accuracy: 0.6844\n",
      "Epoch 80/100\n",
      "136/136 [==============================] - 0s 2ms/step - loss: 0.5446 - accuracy: 0.7119 - val_loss: 0.5938 - val_accuracy: 0.6877\n",
      "Epoch 81/100\n",
      "136/136 [==============================] - 0s 2ms/step - loss: 0.5451 - accuracy: 0.7137 - val_loss: 0.5949 - val_accuracy: 0.6944\n",
      "Epoch 82/100\n",
      "136/136 [==============================] - 0s 2ms/step - loss: 0.5446 - accuracy: 0.7148 - val_loss: 0.5963 - val_accuracy: 0.6811\n",
      "Epoch 83/100\n",
      "136/136 [==============================] - 0s 2ms/step - loss: 0.5450 - accuracy: 0.7093 - val_loss: 0.5962 - val_accuracy: 0.6844\n",
      "Epoch 84/100\n",
      "136/136 [==============================] - 0s 2ms/step - loss: 0.5440 - accuracy: 0.7111 - val_loss: 0.5975 - val_accuracy: 0.6811\n",
      "Epoch 85/100\n",
      "136/136 [==============================] - 0s 3ms/step - loss: 0.5437 - accuracy: 0.7141 - val_loss: 0.5933 - val_accuracy: 0.6844\n",
      "Epoch 86/100\n",
      "136/136 [==============================] - 0s 2ms/step - loss: 0.5437 - accuracy: 0.7122 - val_loss: 0.5960 - val_accuracy: 0.6844\n",
      "Epoch 87/100\n",
      "136/136 [==============================] - 0s 2ms/step - loss: 0.5440 - accuracy: 0.7133 - val_loss: 0.5953 - val_accuracy: 0.6910\n",
      "Epoch 88/100\n",
      "136/136 [==============================] - 0s 2ms/step - loss: 0.5437 - accuracy: 0.7119 - val_loss: 0.5965 - val_accuracy: 0.6811\n",
      "Epoch 89/100\n",
      "136/136 [==============================] - 0s 2ms/step - loss: 0.5435 - accuracy: 0.7115 - val_loss: 0.5945 - val_accuracy: 0.6877\n",
      "Epoch 90/100\n",
      "136/136 [==============================] - 0s 2ms/step - loss: 0.5432 - accuracy: 0.7100 - val_loss: 0.5957 - val_accuracy: 0.6811\n",
      "Epoch 91/100\n",
      "136/136 [==============================] - 0s 2ms/step - loss: 0.5433 - accuracy: 0.7141 - val_loss: 0.5960 - val_accuracy: 0.6844\n",
      "Epoch 92/100\n",
      "136/136 [==============================] - 0s 2ms/step - loss: 0.5428 - accuracy: 0.7152 - val_loss: 0.5944 - val_accuracy: 0.6844\n",
      "Epoch 93/100\n",
      "136/136 [==============================] - 0s 2ms/step - loss: 0.5429 - accuracy: 0.7167 - val_loss: 0.5956 - val_accuracy: 0.6877\n",
      "Epoch 94/100\n",
      "136/136 [==============================] - 0s 2ms/step - loss: 0.5427 - accuracy: 0.7115 - val_loss: 0.5960 - val_accuracy: 0.6877\n",
      "Epoch 95/100\n",
      "136/136 [==============================] - 0s 2ms/step - loss: 0.5425 - accuracy: 0.7126 - val_loss: 0.5981 - val_accuracy: 0.6844\n",
      "Epoch 96/100\n",
      "136/136 [==============================] - 0s 2ms/step - loss: 0.5427 - accuracy: 0.7119 - val_loss: 0.5973 - val_accuracy: 0.6844\n",
      "Epoch 97/100\n",
      "136/136 [==============================] - 0s 2ms/step - loss: 0.5420 - accuracy: 0.7115 - val_loss: 0.5947 - val_accuracy: 0.6811\n",
      "Epoch 98/100\n",
      "136/136 [==============================] - 0s 2ms/step - loss: 0.5418 - accuracy: 0.7130 - val_loss: 0.5925 - val_accuracy: 0.6744\n",
      "Epoch 99/100\n",
      "136/136 [==============================] - 0s 2ms/step - loss: 0.5417 - accuracy: 0.7178 - val_loss: 0.5972 - val_accuracy: 0.6877\n",
      "Epoch 100/100\n",
      "136/136 [==============================] - 0s 2ms/step - loss: 0.5414 - accuracy: 0.7156 - val_loss: 0.5960 - val_accuracy: 0.6910\n"
     ]
    },
    {
     "data": {
      "text/plain": [
       "<keras.callbacks.History at 0x7f806b37d4d0>"
      ]
     },
     "execution_count": 83,
     "metadata": {},
     "output_type": "execute_result"
    }
   ],
   "source": [
    "df_gucci.drop(columns=['file_name', 'caption', 'username', 'fullname', 'hashtags',\n",
    "                 'caption_text_new', 'location_city', 'location_name', 'user_biography',\n",
    "                 'user_business_category', 'caption_text', 'usertag_list', \n",
    "                 'user_is_verified', 'is_bio_related_brand', 'is_username_related_brand',\n",
    "                 'mention_target_brand', 'tag_other_related_brands', 'user_is_business_account',\n",
    "                 'is_comment_hashtags', 'has_location', 'hashtag_other_related_brands', 'comment_count',\n",
    "                 'user_business_category_encoded', 'mention_num', 'image_height', 'digit_num'], inplace=True)\n",
    "\n",
    "y = df_gucci.iloc[:, 4].values\n",
    "df_gucci2 = df_gucci.drop(columns=['class'])\n",
    "X = df_gucci2.iloc[:, :].values\n",
    "\n",
    "x_train, x_test, y_train, y_test = train_test_split(X, y, test_size=0.1, random_state=42)\n",
    "x_train, x_val, y_train, y_val = train_test_split(x_train, y_train, test_size=0.1, random_state=42)\n",
    "\n",
    "sc_x = StandardScaler()\n",
    "x_train = sc_x.fit_transform(x_train)\n",
    "x_val = sc_x.transform(x_val)\n",
    "x_test = sc_x.transform(x_test)\n",
    "\n",
    "model4 = Sequential()\n",
    "model4.add(Dense(128, input_shape=(X.shape[1],), kernel_initializer=init_mode, activation=activation, kernel_constraint=MaxNorm(weight_constraint)))\n",
    "model4.add(Dropout(0.2))\n",
    "model4.add(Dense(units = neurons, activation = 'relu'))\n",
    "model4.add(Dense(units = 1, activation = 'sigmoid'))\n",
    "model4.compile(loss='binary_crossentropy', optimizer = 'adam', metrics=['accuracy'])\n",
    "my_callbacks = [ModelCheckpoint(\"./saved_models/checkpoints/best_model\", monitor='val_accuracy', verbose=0, save_best_only=True)]\n",
    "\n",
    "model4.fit(x_train, y_train, validation_data = (x_val, y_val), batch_size = batch_size, epochs = epochs, callbacks=my_callbacks)"
   ]
  },
  {
   "cell_type": "code",
   "execution_count": null,
   "metadata": {
    "colab": {
     "base_uri": "https://localhost:8080/"
    },
    "id": "SDLTWhJ3wiTL",
    "outputId": "06a76b05-3eb7-4c13-c432-1b9c98dd38d9"
   },
   "outputs": [
    {
     "name": "stdout",
     "output_type": "stream",
     "text": [
      "Accuracy score: 0.7164\n"
     ]
    }
   ],
   "source": [
    "model4 = tf.keras.models.load_model(\"./saved_models/checkpoints/best_model\")\n",
    "y_predict = model4.predict(x_test)\n",
    "y_predict = np.where(y_predict > 0.5, 1, 0)\n",
    "accuracy = evaluate(y_test, y_predict)"
   ]
  },
  {
   "cell_type": "markdown",
   "metadata": {
    "id": "BfckJ25X4vCL"
   },
   "source": [
    "### CristianoRonaldo"
   ]
  },
  {
   "cell_type": "code",
   "execution_count": null,
   "metadata": {
    "colab": {
     "base_uri": "https://localhost:8080/"
    },
    "id": "7njHqmUB0TB2",
    "outputId": "70316073-dd62-46c9-d386-8dacdef8434a"
   },
   "outputs": [
    {
     "name": "stdout",
     "output_type": "stream",
     "text": [
      "Epoch 1/100\n",
      "141/141 [==============================] - 14s 91ms/step - loss: 0.5807 - accuracy: 0.7168 - val_loss: 0.5769 - val_accuracy: 0.7038\n",
      "Epoch 2/100\n",
      "141/141 [==============================] - 0s 2ms/step - loss: 0.5490 - accuracy: 0.7317 - val_loss: 0.5675 - val_accuracy: 0.7197\n",
      "Epoch 3/100\n",
      "141/141 [==============================] - 0s 2ms/step - loss: 0.5455 - accuracy: 0.7363 - val_loss: 0.5650 - val_accuracy: 0.7325\n",
      "Epoch 4/100\n",
      "141/141 [==============================] - 0s 3ms/step - loss: 0.5428 - accuracy: 0.7410 - val_loss: 0.5616 - val_accuracy: 0.7261\n",
      "Epoch 5/100\n",
      "141/141 [==============================] - 0s 2ms/step - loss: 0.5414 - accuracy: 0.7441 - val_loss: 0.5601 - val_accuracy: 0.7357\n",
      "Epoch 6/100\n",
      "141/141 [==============================] - 1s 4ms/step - loss: 0.5392 - accuracy: 0.7417 - val_loss: 0.5588 - val_accuracy: 0.7293\n",
      "Epoch 7/100\n",
      "141/141 [==============================] - 1s 8ms/step - loss: 0.5381 - accuracy: 0.7388 - val_loss: 0.5592 - val_accuracy: 0.7261\n",
      "Epoch 8/100\n",
      "141/141 [==============================] - 1s 10ms/step - loss: 0.5368 - accuracy: 0.7413 - val_loss: 0.5574 - val_accuracy: 0.7357\n",
      "Epoch 9/100\n",
      "141/141 [==============================] - 1s 9ms/step - loss: 0.5356 - accuracy: 0.7438 - val_loss: 0.5568 - val_accuracy: 0.7357\n",
      "Epoch 10/100\n",
      "141/141 [==============================] - 1s 9ms/step - loss: 0.5346 - accuracy: 0.7459 - val_loss: 0.5539 - val_accuracy: 0.7389\n",
      "Epoch 11/100\n",
      "141/141 [==============================] - 1s 5ms/step - loss: 0.5333 - accuracy: 0.7445 - val_loss: 0.5552 - val_accuracy: 0.7357\n",
      "Epoch 12/100\n",
      "141/141 [==============================] - 1s 5ms/step - loss: 0.5324 - accuracy: 0.7441 - val_loss: 0.5542 - val_accuracy: 0.7357\n",
      "Epoch 13/100\n",
      "141/141 [==============================] - 1s 6ms/step - loss: 0.5319 - accuracy: 0.7441 - val_loss: 0.5529 - val_accuracy: 0.7389\n",
      "Epoch 14/100\n",
      "141/141 [==============================] - 1s 4ms/step - loss: 0.5307 - accuracy: 0.7434 - val_loss: 0.5531 - val_accuracy: 0.7357\n",
      "Epoch 15/100\n",
      "141/141 [==============================] - 0s 3ms/step - loss: 0.5300 - accuracy: 0.7452 - val_loss: 0.5534 - val_accuracy: 0.7357\n",
      "Epoch 16/100\n",
      "141/141 [==============================] - 0s 3ms/step - loss: 0.5287 - accuracy: 0.7463 - val_loss: 0.5506 - val_accuracy: 0.7389\n",
      "Epoch 17/100\n",
      "141/141 [==============================] - 1s 5ms/step - loss: 0.5277 - accuracy: 0.7463 - val_loss: 0.5514 - val_accuracy: 0.7357\n",
      "Epoch 18/100\n",
      "141/141 [==============================] - 1s 4ms/step - loss: 0.5273 - accuracy: 0.7452 - val_loss: 0.5501 - val_accuracy: 0.7389\n",
      "Epoch 19/100\n",
      "141/141 [==============================] - 1s 4ms/step - loss: 0.5266 - accuracy: 0.7484 - val_loss: 0.5502 - val_accuracy: 0.7389\n",
      "Epoch 20/100\n",
      "141/141 [==============================] - 1s 4ms/step - loss: 0.5261 - accuracy: 0.7466 - val_loss: 0.5500 - val_accuracy: 0.7389\n",
      "Epoch 21/100\n",
      "141/141 [==============================] - 1s 4ms/step - loss: 0.5249 - accuracy: 0.7459 - val_loss: 0.5506 - val_accuracy: 0.7293\n",
      "Epoch 22/100\n",
      "141/141 [==============================] - 1s 5ms/step - loss: 0.5236 - accuracy: 0.7480 - val_loss: 0.5490 - val_accuracy: 0.7452\n",
      "Epoch 23/100\n",
      "141/141 [==============================] - 1s 4ms/step - loss: 0.5235 - accuracy: 0.7470 - val_loss: 0.5492 - val_accuracy: 0.7325\n",
      "Epoch 24/100\n",
      "141/141 [==============================] - 1s 4ms/step - loss: 0.5225 - accuracy: 0.7516 - val_loss: 0.5482 - val_accuracy: 0.7389\n",
      "Epoch 25/100\n",
      "141/141 [==============================] - 1s 7ms/step - loss: 0.5217 - accuracy: 0.7484 - val_loss: 0.5485 - val_accuracy: 0.7325\n",
      "Epoch 26/100\n",
      "141/141 [==============================] - 1s 5ms/step - loss: 0.5216 - accuracy: 0.7480 - val_loss: 0.5474 - val_accuracy: 0.7325\n",
      "Epoch 27/100\n",
      "141/141 [==============================] - 0s 2ms/step - loss: 0.5212 - accuracy: 0.7480 - val_loss: 0.5466 - val_accuracy: 0.7389\n",
      "Epoch 28/100\n",
      "141/141 [==============================] - 0s 2ms/step - loss: 0.5202 - accuracy: 0.7488 - val_loss: 0.5468 - val_accuracy: 0.7357\n",
      "Epoch 29/100\n",
      "141/141 [==============================] - 0s 2ms/step - loss: 0.5199 - accuracy: 0.7502 - val_loss: 0.5468 - val_accuracy: 0.7389\n",
      "Epoch 30/100\n",
      "141/141 [==============================] - 0s 3ms/step - loss: 0.5190 - accuracy: 0.7488 - val_loss: 0.5477 - val_accuracy: 0.7325\n",
      "Epoch 31/100\n",
      "141/141 [==============================] - 0s 2ms/step - loss: 0.5189 - accuracy: 0.7502 - val_loss: 0.5462 - val_accuracy: 0.7325\n",
      "Epoch 32/100\n",
      "141/141 [==============================] - 0s 2ms/step - loss: 0.5182 - accuracy: 0.7484 - val_loss: 0.5457 - val_accuracy: 0.7325\n",
      "Epoch 33/100\n",
      "141/141 [==============================] - 0s 2ms/step - loss: 0.5175 - accuracy: 0.7512 - val_loss: 0.5450 - val_accuracy: 0.7325\n",
      "Epoch 34/100\n",
      "141/141 [==============================] - 0s 2ms/step - loss: 0.5174 - accuracy: 0.7516 - val_loss: 0.5445 - val_accuracy: 0.7357\n",
      "Epoch 35/100\n",
      "141/141 [==============================] - 0s 2ms/step - loss: 0.5169 - accuracy: 0.7512 - val_loss: 0.5445 - val_accuracy: 0.7420\n",
      "Epoch 36/100\n",
      "141/141 [==============================] - 0s 2ms/step - loss: 0.5161 - accuracy: 0.7520 - val_loss: 0.5433 - val_accuracy: 0.7389\n",
      "Epoch 37/100\n",
      "141/141 [==============================] - 0s 2ms/step - loss: 0.5154 - accuracy: 0.7512 - val_loss: 0.5450 - val_accuracy: 0.7389\n",
      "Epoch 38/100\n",
      "141/141 [==============================] - 0s 3ms/step - loss: 0.5149 - accuracy: 0.7505 - val_loss: 0.5445 - val_accuracy: 0.7420\n",
      "Epoch 39/100\n",
      "141/141 [==============================] - 0s 3ms/step - loss: 0.5144 - accuracy: 0.7530 - val_loss: 0.5447 - val_accuracy: 0.7389\n",
      "Epoch 40/100\n",
      "141/141 [==============================] - 1s 6ms/step - loss: 0.5142 - accuracy: 0.7527 - val_loss: 0.5451 - val_accuracy: 0.7389\n",
      "Epoch 41/100\n",
      "141/141 [==============================] - 1s 5ms/step - loss: 0.5134 - accuracy: 0.7520 - val_loss: 0.5440 - val_accuracy: 0.7420\n",
      "Epoch 42/100\n",
      "141/141 [==============================] - 1s 5ms/step - loss: 0.5135 - accuracy: 0.7520 - val_loss: 0.5449 - val_accuracy: 0.7389\n",
      "Epoch 43/100\n",
      "141/141 [==============================] - 1s 5ms/step - loss: 0.5125 - accuracy: 0.7509 - val_loss: 0.5427 - val_accuracy: 0.7389\n",
      "Epoch 44/100\n",
      "141/141 [==============================] - 1s 4ms/step - loss: 0.5124 - accuracy: 0.7512 - val_loss: 0.5432 - val_accuracy: 0.7389\n",
      "Epoch 45/100\n",
      "141/141 [==============================] - 1s 5ms/step - loss: 0.5120 - accuracy: 0.7527 - val_loss: 0.5440 - val_accuracy: 0.7389\n",
      "Epoch 46/100\n",
      "141/141 [==============================] - 1s 5ms/step - loss: 0.5120 - accuracy: 0.7527 - val_loss: 0.5425 - val_accuracy: 0.7357\n",
      "Epoch 47/100\n",
      "141/141 [==============================] - 1s 4ms/step - loss: 0.5110 - accuracy: 0.7516 - val_loss: 0.5447 - val_accuracy: 0.7389\n",
      "Epoch 48/100\n",
      "141/141 [==============================] - 1s 4ms/step - loss: 0.5107 - accuracy: 0.7537 - val_loss: 0.5424 - val_accuracy: 0.7389\n",
      "Epoch 49/100\n",
      "141/141 [==============================] - 1s 4ms/step - loss: 0.5103 - accuracy: 0.7548 - val_loss: 0.5416 - val_accuracy: 0.7452\n",
      "Epoch 50/100\n",
      "141/141 [==============================] - 1s 5ms/step - loss: 0.5102 - accuracy: 0.7544 - val_loss: 0.5416 - val_accuracy: 0.7389\n",
      "Epoch 51/100\n",
      "141/141 [==============================] - 0s 2ms/step - loss: 0.5094 - accuracy: 0.7512 - val_loss: 0.5432 - val_accuracy: 0.7452\n",
      "Epoch 52/100\n",
      "141/141 [==============================] - 0s 2ms/step - loss: 0.5093 - accuracy: 0.7541 - val_loss: 0.5416 - val_accuracy: 0.7420\n",
      "Epoch 53/100\n",
      "141/141 [==============================] - 0s 2ms/step - loss: 0.5083 - accuracy: 0.7541 - val_loss: 0.5424 - val_accuracy: 0.7452\n",
      "Epoch 54/100\n",
      "141/141 [==============================] - 0s 2ms/step - loss: 0.5084 - accuracy: 0.7555 - val_loss: 0.5404 - val_accuracy: 0.7420\n",
      "Epoch 55/100\n",
      "141/141 [==============================] - 1s 4ms/step - loss: 0.5076 - accuracy: 0.7551 - val_loss: 0.5397 - val_accuracy: 0.7420\n",
      "Epoch 56/100\n",
      "141/141 [==============================] - 1s 5ms/step - loss: 0.5074 - accuracy: 0.7566 - val_loss: 0.5389 - val_accuracy: 0.7389\n",
      "Epoch 57/100\n",
      "141/141 [==============================] - 0s 3ms/step - loss: 0.5069 - accuracy: 0.7541 - val_loss: 0.5395 - val_accuracy: 0.7389\n",
      "Epoch 58/100\n",
      "141/141 [==============================] - 1s 4ms/step - loss: 0.5066 - accuracy: 0.7559 - val_loss: 0.5401 - val_accuracy: 0.7357\n",
      "Epoch 59/100\n",
      "141/141 [==============================] - 1s 4ms/step - loss: 0.5065 - accuracy: 0.7541 - val_loss: 0.5406 - val_accuracy: 0.7420\n",
      "Epoch 60/100\n",
      "141/141 [==============================] - 1s 4ms/step - loss: 0.5061 - accuracy: 0.7551 - val_loss: 0.5404 - val_accuracy: 0.7389\n",
      "Epoch 61/100\n",
      "141/141 [==============================] - 1s 4ms/step - loss: 0.5058 - accuracy: 0.7587 - val_loss: 0.5387 - val_accuracy: 0.7357\n",
      "Epoch 62/100\n",
      "141/141 [==============================] - 1s 5ms/step - loss: 0.5052 - accuracy: 0.7580 - val_loss: 0.5393 - val_accuracy: 0.7389\n",
      "Epoch 63/100\n",
      "141/141 [==============================] - 1s 4ms/step - loss: 0.5054 - accuracy: 0.7566 - val_loss: 0.5393 - val_accuracy: 0.7389\n",
      "Epoch 64/100\n",
      "141/141 [==============================] - 1s 4ms/step - loss: 0.5047 - accuracy: 0.7587 - val_loss: 0.5386 - val_accuracy: 0.7389\n",
      "Epoch 65/100\n",
      "141/141 [==============================] - 1s 4ms/step - loss: 0.5043 - accuracy: 0.7573 - val_loss: 0.5379 - val_accuracy: 0.7389\n",
      "Epoch 66/100\n",
      "141/141 [==============================] - 1s 4ms/step - loss: 0.5035 - accuracy: 0.7569 - val_loss: 0.5383 - val_accuracy: 0.7420\n",
      "Epoch 67/100\n",
      "141/141 [==============================] - 1s 4ms/step - loss: 0.5032 - accuracy: 0.7590 - val_loss: 0.5388 - val_accuracy: 0.7420\n",
      "Epoch 68/100\n",
      "141/141 [==============================] - 1s 5ms/step - loss: 0.5036 - accuracy: 0.7590 - val_loss: 0.5384 - val_accuracy: 0.7452\n",
      "Epoch 69/100\n",
      "141/141 [==============================] - 0s 2ms/step - loss: 0.5025 - accuracy: 0.7551 - val_loss: 0.5378 - val_accuracy: 0.7389\n",
      "Epoch 70/100\n",
      "141/141 [==============================] - 0s 2ms/step - loss: 0.5029 - accuracy: 0.7587 - val_loss: 0.5369 - val_accuracy: 0.7389\n",
      "Epoch 71/100\n",
      "141/141 [==============================] - 0s 2ms/step - loss: 0.5024 - accuracy: 0.7569 - val_loss: 0.5363 - val_accuracy: 0.7389\n",
      "Epoch 72/100\n",
      "141/141 [==============================] - 0s 2ms/step - loss: 0.5021 - accuracy: 0.7594 - val_loss: 0.5375 - val_accuracy: 0.7452\n",
      "Epoch 73/100\n",
      "141/141 [==============================] - 0s 2ms/step - loss: 0.5015 - accuracy: 0.7615 - val_loss: 0.5357 - val_accuracy: 0.7452\n",
      "Epoch 74/100\n",
      "141/141 [==============================] - 0s 2ms/step - loss: 0.5018 - accuracy: 0.7562 - val_loss: 0.5353 - val_accuracy: 0.7420\n",
      "Epoch 75/100\n",
      "141/141 [==============================] - 0s 3ms/step - loss: 0.5007 - accuracy: 0.7615 - val_loss: 0.5358 - val_accuracy: 0.7420\n",
      "Epoch 76/100\n",
      "141/141 [==============================] - 0s 2ms/step - loss: 0.5009 - accuracy: 0.7594 - val_loss: 0.5349 - val_accuracy: 0.7389\n",
      "Epoch 77/100\n",
      "141/141 [==============================] - 0s 2ms/step - loss: 0.5002 - accuracy: 0.7615 - val_loss: 0.5347 - val_accuracy: 0.7420\n",
      "Epoch 78/100\n",
      "141/141 [==============================] - 0s 2ms/step - loss: 0.4995 - accuracy: 0.7622 - val_loss: 0.5369 - val_accuracy: 0.7357\n",
      "Epoch 79/100\n",
      "141/141 [==============================] - 0s 3ms/step - loss: 0.5000 - accuracy: 0.7601 - val_loss: 0.5347 - val_accuracy: 0.7357\n",
      "Epoch 80/100\n",
      "141/141 [==============================] - 0s 2ms/step - loss: 0.4993 - accuracy: 0.7605 - val_loss: 0.5367 - val_accuracy: 0.7389\n",
      "Epoch 81/100\n",
      "141/141 [==============================] - 0s 2ms/step - loss: 0.4989 - accuracy: 0.7622 - val_loss: 0.5361 - val_accuracy: 0.7516\n",
      "Epoch 82/100\n",
      "141/141 [==============================] - 0s 2ms/step - loss: 0.4984 - accuracy: 0.7590 - val_loss: 0.5340 - val_accuracy: 0.7452\n",
      "Epoch 83/100\n",
      "141/141 [==============================] - 0s 2ms/step - loss: 0.4981 - accuracy: 0.7605 - val_loss: 0.5361 - val_accuracy: 0.7420\n",
      "Epoch 84/100\n",
      "141/141 [==============================] - 0s 2ms/step - loss: 0.4986 - accuracy: 0.7615 - val_loss: 0.5343 - val_accuracy: 0.7452\n",
      "Epoch 85/100\n",
      "141/141 [==============================] - 0s 3ms/step - loss: 0.4981 - accuracy: 0.7644 - val_loss: 0.5334 - val_accuracy: 0.7452\n",
      "Epoch 86/100\n",
      "141/141 [==============================] - 0s 2ms/step - loss: 0.4977 - accuracy: 0.7612 - val_loss: 0.5334 - val_accuracy: 0.7484\n",
      "Epoch 87/100\n",
      "141/141 [==============================] - 0s 2ms/step - loss: 0.4975 - accuracy: 0.7612 - val_loss: 0.5335 - val_accuracy: 0.7452\n",
      "Epoch 88/100\n",
      "141/141 [==============================] - 0s 2ms/step - loss: 0.4966 - accuracy: 0.7612 - val_loss: 0.5329 - val_accuracy: 0.7484\n",
      "Epoch 89/100\n",
      "141/141 [==============================] - 0s 2ms/step - loss: 0.4971 - accuracy: 0.7615 - val_loss: 0.5312 - val_accuracy: 0.7452\n",
      "Epoch 90/100\n",
      "141/141 [==============================] - 0s 2ms/step - loss: 0.4963 - accuracy: 0.7615 - val_loss: 0.5338 - val_accuracy: 0.7389\n",
      "Epoch 91/100\n",
      "141/141 [==============================] - 0s 2ms/step - loss: 0.4967 - accuracy: 0.7637 - val_loss: 0.5357 - val_accuracy: 0.7452\n",
      "Epoch 92/100\n",
      "141/141 [==============================] - 0s 2ms/step - loss: 0.4953 - accuracy: 0.7601 - val_loss: 0.5316 - val_accuracy: 0.7389\n",
      "Epoch 93/100\n",
      "141/141 [==============================] - 0s 2ms/step - loss: 0.4959 - accuracy: 0.7619 - val_loss: 0.5348 - val_accuracy: 0.7389\n",
      "Epoch 94/100\n",
      "141/141 [==============================] - 0s 2ms/step - loss: 0.4953 - accuracy: 0.7608 - val_loss: 0.5315 - val_accuracy: 0.7484\n",
      "Epoch 95/100\n",
      "141/141 [==============================] - 0s 2ms/step - loss: 0.4948 - accuracy: 0.7630 - val_loss: 0.5305 - val_accuracy: 0.7452\n",
      "Epoch 96/100\n",
      "141/141 [==============================] - 0s 2ms/step - loss: 0.4946 - accuracy: 0.7661 - val_loss: 0.5326 - val_accuracy: 0.7484\n",
      "Epoch 97/100\n",
      "141/141 [==============================] - 0s 2ms/step - loss: 0.4949 - accuracy: 0.7644 - val_loss: 0.5349 - val_accuracy: 0.7452\n",
      "Epoch 98/100\n",
      "141/141 [==============================] - 0s 2ms/step - loss: 0.4944 - accuracy: 0.7619 - val_loss: 0.5319 - val_accuracy: 0.7452\n",
      "Epoch 99/100\n",
      "141/141 [==============================] - 0s 2ms/step - loss: 0.4936 - accuracy: 0.7640 - val_loss: 0.5321 - val_accuracy: 0.7452\n",
      "Epoch 100/100\n",
      "141/141 [==============================] - 0s 2ms/step - loss: 0.4938 - accuracy: 0.7661 - val_loss: 0.5304 - val_accuracy: 0.7452\n"
     ]
    },
    {
     "data": {
      "text/plain": [
       "<keras.callbacks.History at 0x7f8066b7f110>"
      ]
     },
     "execution_count": 59,
     "metadata": {},
     "output_type": "execute_result"
    }
   ],
   "source": [
    "df_cristianoronaldo.drop(columns=['file_name', 'caption', 'username', 'fullname', 'hashtags',\n",
    "                 'caption_text_new', 'location_city', 'location_name', 'user_biography',\n",
    "                 'user_business_category', 'caption_text', 'usertag_list', \n",
    "                 'user_is_verified', 'is_bio_related_brand', 'is_username_related_brand',\n",
    "                 'mention_target_brand', 'tag_other_related_brands', 'user_is_business_account',\n",
    "                 'is_comment_hashtags', 'has_location', 'hashtag_other_related_brands', 'comment_count',\n",
    "                 'user_business_category_encoded', 'mention_num', 'image_height', 'digit_num'], inplace=True)\n",
    "\n",
    "y = df_cristianoronaldo.iloc[:, 4].values\n",
    "df_cristianoronaldo2 = df_cristianoronaldo.drop(columns=['class'])\n",
    "X = df_cristianoronaldo2.iloc[:, :].values\n",
    "\n",
    "x_train, x_test, y_train, y_test = train_test_split(X, y, test_size=0.1, random_state=42)\n",
    "x_train, x_val, y_train, y_val = train_test_split(x_train, y_train, test_size=0.1, random_state=42)\n",
    "\n",
    "sc_x = StandardScaler()\n",
    "x_train = sc_x.fit_transform(x_train)\n",
    "x_val = sc_x.transform(x_val)\n",
    "x_test = sc_x.transform(x_test)\n",
    "\n",
    "model5 = Sequential()\n",
    "model5.add(Dense(128, input_shape=(X.shape[1],), kernel_initializer=init_mode, activation=activation, kernel_constraint=MaxNorm(weight_constraint)))\n",
    "model5.add(Dropout(0.2))\n",
    "model5.add(Dense(units = neurons, activation = 'relu'))\n",
    "model5.add(Dense(units = 1, activation = 'sigmoid'))\n",
    "model5.compile(loss='binary_crossentropy', optimizer = 'adam', metrics=['accuracy'])\n",
    "my_callbacks = [ModelCheckpoint(\"./saved_models/checkpoints/best_model\", monitor='val_accuracy', verbose=0, save_best_only=True)]\n",
    "\n",
    "model5.fit(x_train, y_train, validation_data = (x_val, y_val), batch_size = batch_size, epochs = epochscallbacks=my_callbacks)"
   ]
  },
  {
   "cell_type": "code",
   "execution_count": null,
   "metadata": {
    "colab": {
     "base_uri": "https://localhost:8080/"
    },
    "id": "f-NvhtP7_UNE",
    "outputId": "da135a8d-2925-40be-ff65-ab3a7b34a691"
   },
   "outputs": [
    {
     "name": "stdout",
     "output_type": "stream",
     "text": [
      "Accuracy score: 0.7249\n"
     ]
    }
   ],
   "source": [
    "model5 = tf.keras.models.load_model(\"./saved_models/checkpoints/best_model\")\n",
    "y_predict = model5.predict(x_test)\n",
    "y_predict = np.where(y_predict > 0.5, 1, 0)\n",
    "accuracy = evaluate(y_test, y_predict)"
   ]
  }
 ],
 "metadata": {
  "colab": {
   "collapsed_sections": [
    "yvN5-qdfZx4I",
    "WkNr-0D3PjkR",
    "QE4nFXhuSGDt",
    "e6GBr7wpSMt9",
    "sqTyAmvYbd7n",
    "K6gcWtGGfTcv",
    "qSIFegD-iu41"
   ],
   "name": "Metadata.ipynb",
   "provenance": [],
   "toc_visible": true
  },
  "gpuClass": "standard",
  "kernelspec": {
   "display_name": "Python 3",
   "language": "python",
   "name": "python3"
  },
  "language_info": {
   "codemirror_mode": {
    "name": "ipython",
    "version": 3
   },
   "file_extension": ".py",
   "mimetype": "text/x-python",
   "name": "python",
   "nbconvert_exporter": "python",
   "pygments_lexer": "ipython3",
   "version": "3.7.2"
  }
 },
 "nbformat": 4,
 "nbformat_minor": 1
}
