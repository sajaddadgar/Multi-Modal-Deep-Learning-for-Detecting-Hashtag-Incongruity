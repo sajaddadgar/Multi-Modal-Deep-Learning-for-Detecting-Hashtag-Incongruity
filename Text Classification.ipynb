{
 "cells": [
  {
   "cell_type": "markdown",
   "metadata": {
    "id": "qN7VYi4cWrhs"
   },
   "source": [
    "# Installing the libraries"
   ]
  },
  {
   "cell_type": "code",
   "execution_count": 1,
   "metadata": {
    "colab": {
     "base_uri": "https://localhost:8080/"
    },
    "id": "PRlEggQ-BQWR",
    "outputId": "641b2697-97ca-4101-9d0f-1e216625193c"
   },
   "outputs": [
    {
     "name": "stdout",
     "output_type": "stream",
     "text": [
      "\u001b[K     |████████████████████████████████| 4.9 MB 30.0 MB/s \n",
      "\u001b[K     |████████████████████████████████| 1.8 MB 34.4 MB/s \n",
      "\u001b[K     |████████████████████████████████| 1.3 MB 67.0 MB/s \n",
      "\u001b[K     |████████████████████████████████| 99 kB 10.9 MB/s \n",
      "\u001b[K     |████████████████████████████████| 116 kB 52.0 MB/s \n",
      "\u001b[K     |████████████████████████████████| 352 kB 50.4 MB/s \n",
      "\u001b[K     |████████████████████████████████| 1.1 MB 59.3 MB/s \n",
      "\u001b[K     |████████████████████████████████| 43 kB 2.3 MB/s \n",
      "\u001b[K     |████████████████████████████████| 238 kB 60.2 MB/s \n",
      "\u001b[K     |████████████████████████████████| 596 kB 44.8 MB/s \n",
      "\u001b[?25h  Building wheel for py-cpuinfo (setup.py) ... \u001b[?25l\u001b[?25hdone\n",
      "  Building wheel for seqeval (setup.py) ... \u001b[?25l\u001b[?25hdone\n",
      "Looking in indexes: https://pypi.org/simple, https://us-python.pkg.dev/colab-wheels/public/simple/\n",
      "Collecting contractions\n",
      "  Downloading contractions-0.1.72-py2.py3-none-any.whl (8.3 kB)\n",
      "Collecting textsearch>=0.0.21\n",
      "  Downloading textsearch-0.0.21-py2.py3-none-any.whl (7.5 kB)\n",
      "Collecting anyascii\n",
      "  Downloading anyascii-0.3.1-py3-none-any.whl (287 kB)\n",
      "\u001b[K     |████████████████████████████████| 287 kB 21.7 MB/s \n",
      "\u001b[?25hCollecting pyahocorasick\n",
      "  Downloading pyahocorasick-1.4.4-cp37-cp37m-manylinux_2_17_x86_64.manylinux2014_x86_64.whl (106 kB)\n",
      "\u001b[K     |████████████████████████████████| 106 kB 63.4 MB/s \n",
      "\u001b[?25hInstalling collected packages: pyahocorasick, anyascii, textsearch, contractions\n",
      "Successfully installed anyascii-0.3.1 contractions-0.1.72 pyahocorasick-1.4.4 textsearch-0.0.21\n",
      "Looking in indexes: https://pypi.org/simple, https://us-python.pkg.dev/colab-wheels/public/simple/\n",
      "Collecting emoji\n",
      "  Downloading emoji-2.0.0.tar.gz (197 kB)\n",
      "\u001b[K     |████████████████████████████████| 197 kB 17.1 MB/s \n",
      "\u001b[?25hBuilding wheels for collected packages: emoji\n",
      "  Building wheel for emoji (setup.py) ... \u001b[?25l\u001b[?25hdone\n",
      "  Created wheel for emoji: filename=emoji-2.0.0-py3-none-any.whl size=193022 sha256=8e78b9fefda959b4930fa3791fade796908876f4cdbdda5316254cf5ccaf027b\n",
      "  Stored in directory: /root/.cache/pip/wheels/ec/29/4d/3cfe7452ac7d8d83b1930f8a6205c3c9649b24e80f9029fc38\n",
      "Successfully built emoji\n",
      "Installing collected packages: emoji\n",
      "Successfully installed emoji-2.0.0\n",
      "Looking in indexes: https://pypi.org/simple, https://us-python.pkg.dev/colab-wheels/public/simple/\n",
      "Collecting googletrans==3.1.0-alpha\n",
      "  Downloading googletrans-3.1.0a0.tar.gz (19 kB)\n",
      "Collecting httpx==0.13.3\n",
      "  Downloading httpx-0.13.3-py3-none-any.whl (55 kB)\n",
      "\u001b[K     |████████████████████████████████| 55 kB 3.1 MB/s \n",
      "\u001b[?25hCollecting httpcore==0.9.*\n",
      "  Downloading httpcore-0.9.1-py3-none-any.whl (42 kB)\n",
      "\u001b[K     |████████████████████████████████| 42 kB 1.6 MB/s \n",
      "\u001b[?25hRequirement already satisfied: chardet==3.* in /usr/local/lib/python3.7/dist-packages (from httpx==0.13.3->googletrans==3.1.0-alpha) (3.0.4)\n",
      "Collecting rfc3986<2,>=1.3\n",
      "  Downloading rfc3986-1.5.0-py2.py3-none-any.whl (31 kB)\n",
      "Collecting sniffio\n",
      "  Downloading sniffio-1.2.0-py3-none-any.whl (10 kB)\n",
      "Requirement already satisfied: certifi in /usr/local/lib/python3.7/dist-packages (from httpx==0.13.3->googletrans==3.1.0-alpha) (2022.6.15)\n",
      "Requirement already satisfied: idna==2.* in /usr/local/lib/python3.7/dist-packages (from httpx==0.13.3->googletrans==3.1.0-alpha) (2.10)\n",
      "Collecting hstspreload\n",
      "  Downloading hstspreload-2022.8.1-py3-none-any.whl (1.4 MB)\n",
      "\u001b[K     |████████████████████████████████| 1.4 MB 41.0 MB/s \n",
      "\u001b[?25hCollecting h11<0.10,>=0.8\n",
      "  Downloading h11-0.9.0-py2.py3-none-any.whl (53 kB)\n",
      "\u001b[K     |████████████████████████████████| 53 kB 2.1 MB/s \n",
      "\u001b[?25hCollecting h2==3.*\n",
      "  Downloading h2-3.2.0-py2.py3-none-any.whl (65 kB)\n",
      "\u001b[K     |████████████████████████████████| 65 kB 4.7 MB/s \n",
      "\u001b[?25hCollecting hyperframe<6,>=5.2.0\n",
      "  Downloading hyperframe-5.2.0-py2.py3-none-any.whl (12 kB)\n",
      "Collecting hpack<4,>=3.0\n",
      "  Downloading hpack-3.0.0-py2.py3-none-any.whl (38 kB)\n",
      "Building wheels for collected packages: googletrans\n",
      "  Building wheel for googletrans (setup.py) ... \u001b[?25l\u001b[?25hdone\n",
      "  Created wheel for googletrans: filename=googletrans-3.1.0a0-py3-none-any.whl size=16367 sha256=c7835822bf9541eed3feb055baf46f226db80be76ff4d1c5c3f1462b5bf4c03b\n",
      "  Stored in directory: /root/.cache/pip/wheels/0c/be/fe/93a6a40ffe386e16089e44dad9018ebab9dc4cb9eb7eab65ae\n",
      "Successfully built googletrans\n",
      "Installing collected packages: hyperframe, hpack, sniffio, h2, h11, rfc3986, httpcore, hstspreload, httpx, googletrans\n",
      "Successfully installed googletrans-3.1.0a0 h11-0.9.0 h2-3.2.0 hpack-3.0.0 hstspreload-2022.8.1 httpcore-0.9.1 httpx-0.13.3 hyperframe-5.2.0 rfc3986-1.5.0 sniffio-1.2.0\n"
     ]
    }
   ],
   "source": [
    "!pip install -q -U 'tensorflow-text==2.8.*'\n",
    "!pip install -q tf-models-official==2.7.0\n",
    "!pip install contractions\n",
    "!pip install emoji\n",
    "!pip install googletrans==3.1.0-alpha"
   ]
  },
  {
   "cell_type": "markdown",
   "metadata": {
    "id": "zvRtljcA1A9g"
   },
   "source": [
    "# Import the libraries"
   ]
  },
  {
   "cell_type": "code",
   "execution_count": 2,
   "metadata": {
    "colab": {
     "base_uri": "https://localhost:8080/"
    },
    "id": "NoSkE9IspcZ8",
    "outputId": "3d695c84-4414-455b-a63a-2d1f757d6a5b"
   },
   "outputs": [
    {
     "name": "stderr",
     "output_type": "stream",
     "text": [
      "[nltk_data] Downloading package punkt to /root/nltk_data...\n",
      "[nltk_data]   Unzipping tokenizers/punkt.zip.\n",
      "[nltk_data] Downloading package stopwords to /root/nltk_data...\n",
      "[nltk_data]   Unzipping corpora/stopwords.zip.\n"
     ]
    },
    {
     "data": {
      "text/plain": [
       "True"
      ]
     },
     "execution_count": 2,
     "metadata": {},
     "output_type": "execute_result"
    }
   ],
   "source": [
    "import os\n",
    "import shutil\n",
    "import pickle\n",
    "from google.colab import drive\n",
    "import pandas as pd\n",
    "import numpy as np\n",
    "import seaborn as sns\n",
    "\n",
    "import string\n",
    "import re\n",
    "import nltk\n",
    "from nltk.tokenize import word_tokenize\n",
    "import contractions\n",
    "from nltk.stem.porter import PorterStemmer\n",
    "import googletrans\n",
    "from googletrans import Translator\n",
    "import emoji \n",
    "\n",
    "import tensorflow as tf\n",
    "from tensorflow import keras\n",
    "import tensorflow_hub as hub\n",
    "import tensorflow_text as text\n",
    "from official.nlp import optimization\n",
    "import matplotlib.pyplot as plt\n",
    "from sklearn.model_selection import train_test_split\n",
    "from tensorflow.keras.callbacks import ModelCheckpoint\n",
    "from sklearn.metrics import accuracy_score, precision_score, recall_score, classification_report, confusion_matrix\n",
    "\n",
    "tf.get_logger().setLevel('ERROR')\n",
    "nltk.download('punkt')\n",
    "nltk.download('stopwords')\n",
    "\n",
    "os.environ['TF_CPP_MIN_LOG_LEVEL'] = '3'\n",
    "tf.compat.v1.logging.set_verbosity(tf.compat.v1.logging.ERROR)"
   ]
  },
  {
   "cell_type": "markdown",
   "metadata": {
    "id": "XMzsIIO63kIQ"
   },
   "source": [
    "# Loading the data"
   ]
  },
  {
   "cell_type": "code",
   "execution_count": 3,
   "metadata": {
    "colab": {
     "base_uri": "https://localhost:8080/"
    },
    "id": "_Ou6rMpj1Tmc",
    "outputId": "443c278d-28dd-4d56-bfcd-253a76226a95"
   },
   "outputs": [
    {
     "name": "stdout",
     "output_type": "stream",
     "text": [
      "Mounted at /content/gdrive\n"
     ]
    }
   ],
   "source": [
    "drive.mount('/content/gdrive')"
   ]
  },
  {
   "cell_type": "code",
   "execution_count": null,
   "metadata": {
    "id": "AO9_aPct7lqM"
   },
   "outputs": [],
   "source": [
    "!unzip gdrive/MyDrive/Incongruence_Data/data_text/nike.zip -d textual_data\n",
    "!unzip gdrive/MyDrive/Incongruence_Data/data_text/gucci.zip -d textual_data\n",
    "!unzip gdrive/MyDrive/Incongruence_Data/data_text/cristianoronaldo.zip -d textual_data\n",
    "!unzip gdrive/MyDrive/Incongruence_Data/data_text/edsheeran.zip -d textual_data"
   ]
  },
  {
   "cell_type": "markdown",
   "metadata": {
    "id": "w88szuH3Fg0A"
   },
   "source": [
    "# Preprocessing"
   ]
  },
  {
   "cell_type": "code",
   "execution_count": 5,
   "metadata": {
    "id": "6irWaeS37e5c"
   },
   "outputs": [],
   "source": [
    "def get_data_files(path, textual_data):\n",
    "  a = 0\n",
    "  translator = Translator()\n",
    "  for folder in os.listdir(path):\n",
    "      for file in os.listdir(path + folder):\n",
    "          f = open(path+folder+'/'+file, encoding='UTF-8')\n",
    "          text = f.read()\n",
    "          # Get only English captions\n",
    "          result = translator.translate(text)\n",
    "          if result.src != 'en':\n",
    "            caption = result.text\n",
    "          else:\n",
    "            caption = text\n",
    "          textual_data.append([file, text, caption, 1])\n",
    "          a += 1\n",
    "          print(f'{a}/{len(os.listdir(path))}')\n",
    "  return textual_data"
   ]
  },
  {
   "cell_type": "code",
   "execution_count": 6,
   "metadata": {
    "id": "SpVgmFlU3cot"
   },
   "outputs": [],
   "source": [
    "# Creating a dataframe for each hashtags and save as a pickle to avoid time-consuming process\n",
    "def create_dataframe(name):\n",
    "  path_match = 'textual_data/' + name + '/Matches/'\n",
    "  path_mismatch = 'textual_data/' + name + '/Mismatches/'\n",
    "  textual_data = []\n",
    "  textual_data = get_data_files(path_match, textual_data)\n",
    "  textual_data = get_data_files(path_mismatch, textual_data)\n",
    "  with open('gdrive/MyDrive/Incongruence_Data/data_text/' + name + '_data_list.pickle', 'wb') as handle:\n",
    "      pickle.dump(textual_data, handle, protocol=pickle.HIGHEST_PROTOCOL)\n",
    "\n",
    "# hashtags = ['cristianoronaldo', 'edsheeran', 'gucci', 'nike']\n",
    "# for name in hashtags:\n",
    "#   create_dataframe(name)"
   ]
  },
  {
   "cell_type": "code",
   "execution_count": 7,
   "metadata": {
    "id": "JpgbwWPe1SG6"
   },
   "outputs": [],
   "source": [
    "def get_df(name):\n",
    "  with open('gdrive/MyDrive/Incongruence_Data/data_text/' + name + '_data_list.pickle', 'rb') as handle:\n",
    "    data = pickle.load(handle)\n",
    "  df = pd.DataFrame(data, columns=['file_name', 'caption2', 'caption', 'class'])\n",
    "  df.drop(columns=['caption2'], inplace=True)\n",
    "  return df"
   ]
  },
  {
   "cell_type": "code",
   "execution_count": 8,
   "metadata": {
    "id": "fbIjjkHKusAX"
   },
   "outputs": [],
   "source": [
    "def preprocess(df):\n",
    "\n",
    "  # Lowering the text\n",
    "  df['caption'] = df['caption'].apply(lambda x: x.lower())\n",
    "\n",
    "  # Expand Contractions\n",
    "  contractions_text = []\n",
    "  for caption in df['caption'].values:\n",
    "    expanded_words = []   \n",
    "    for word in caption.split():\n",
    "      expanded_words.append(contractions.fix(word))  \n",
    "    contractions_text.append(' '.join(expanded_words))\n",
    "  df['caption'] = contractions_text\n",
    "\n",
    "  # Emoji Conversion\n",
    "  df['caption'] = df['caption'].apply(lambda x: emoji.demojize(x))\n",
    "  df['caption'] = df['caption'].apply(lambda x: x.replace(':', ' '))\n",
    "\n",
    "  # Punctuation Removal\n",
    "  # data = []\n",
    "  # special_punctuation = '#_@:.【】'\n",
    "  # for caption in df['caption'].values:\n",
    "  #   for char in caption:\n",
    "  #     if char in string.punctuation:\n",
    "  #       if char in special_punctuation:\n",
    "  #         caption = caption.replace(char, ' ')\n",
    "  #       else:\n",
    "  #         caption = caption.replace(char, '')\n",
    "  #   data.append(caption)\n",
    "  # df['caption'] = data\n",
    "\n",
    "  # Tokenization\n",
    "  # df['tokenized_caption'] = df['caption'].apply(lambda x: word_tokenize(x))\n",
    "\n",
    "  # Stop word removal\n",
    "  # stopwords = nltk.corpus.stopwords.words('english')\n",
    "  # df['tokenized_caption'] = df['tokenized_caption'].apply(lambda x:[i for i in x if i not in stopwords])\n",
    "\n",
    "  # Stemming\n",
    "  # porter_stemmer = PorterStemmer()\n",
    "  # df['tokenized_caption'] = df['tokenized_caption'].apply(lambda x: [porter_stemmer.stem(word) for word in x])\n",
    "  # df['caption'] = df['tokenized_caption'].apply(lambda x: ' '.join(x))\n",
    "\n",
    "  # df.drop(columns=['tokenized_caption'], inplace=True)\n",
    "\n",
    "  return df"
   ]
  },
  {
   "cell_type": "code",
   "execution_count": 9,
   "metadata": {
    "id": "omthzWnr9m-r"
   },
   "outputs": [],
   "source": [
    "def load_ocr_text(df, name):\n",
    "  ocr_text = []\n",
    "  a = 0\n",
    "  file_num = len(df['file_name'].values)\n",
    "  for data in df['file_name'].values:\n",
    "    flag = False\n",
    "    new_data_name = data.split('UTC')[0]\n",
    "    if new_data_name in os.listdir('gdrive/MyDrive/Incongruence_Data/data_text/OCR data/' + name + '_match_OCR_output/'):\n",
    "      flag = True\n",
    "      text = ''\n",
    "      for match_data in os.listdir('gdrive/MyDrive/Incongruence_Data/data_text/OCR data/' + name + '_match_OCR_output/' + new_data_name):\n",
    "        f = open('gdrive/MyDrive/Incongruence_Data/data_text/OCR data/' + name + '_match_OCR_output/' + new_data_name + '/' + match_data, encoding='UTF-8')\n",
    "        text += f.read()\n",
    "      ocr_text.append(text)\n",
    "      f.close()\n",
    "\n",
    "    elif new_data_name in os.listdir('gdrive/MyDrive/Incongruence_Data/data_text/OCR data/' + name + '_mismatch_OCR_output/'):\n",
    "      if not flag:\n",
    "        text = ''\n",
    "        for mismatch_data in os.listdir('gdrive/MyDrive/Incongruence_Data/data_text/OCR data/' + name + '_mismatch_OCR_output/' + new_data_name):\n",
    "          f = open('gdrive/MyDrive/Incongruence_Data/data_text/OCR data/' + name + '_mismatch_OCR_output/' + new_data_name + '/' + mismatch_data, encoding='UTF-8')\n",
    "          text += f.read()\n",
    "        ocr_text.append(text)\n",
    "        f.close()  \n",
    "    a += 1\n",
    "    print(f'{a}/{file_num}')\n",
    "\n",
    "    # if name == '':\n",
    "    #   ocr_text.append('cristianoronaldo')\n",
    "  \n",
    "  with open('gdrive/MyDrive/Incongruence_Data/data_text/' + name + '_data_OCR.pickle', 'wb') as handle:\n",
    "      pickle.dump(ocr_text, handle, protocol=pickle.HIGHEST_PROTOCOL)"
   ]
  },
  {
   "cell_type": "code",
   "execution_count": 10,
   "metadata": {
    "id": "VviGkx283H9c"
   },
   "outputs": [],
   "source": [
    "def get_ocr_text(name):\n",
    "  with open('gdrive/MyDrive/Incongruence_Data/data_text/' + name + '_data_OCR.pickle', 'rb') as handle:\n",
    "    data = pickle.load(handle)\n",
    "  return data"
   ]
  },
  {
   "cell_type": "code",
   "execution_count": 11,
   "metadata": {
    "id": "khe58lPYeBZt"
   },
   "outputs": [],
   "source": [
    "def preprocess_ocr(df):\n",
    "  # Lowering the text\n",
    "  df['ocr_text'] = df['ocr_text'].apply(lambda x: x.lower())\n",
    "\n",
    "  # Expand Contractions\n",
    "  contractions_text = []\n",
    "  for caption in df['ocr_text'].values:\n",
    "    expanded_words = []   \n",
    "    for word in caption.split():\n",
    "      expanded_words.append(contractions.fix(word))  \n",
    "    contractions_text.append(' '.join(expanded_words))\n",
    "  df['ocr_text'] = contractions_text\n",
    "\n",
    "  # Punctuation Removal\n",
    "  # data = []\n",
    "  # special_punctuation = '#_@:.【】'\n",
    "  # for caption in df['ocr_text'].values:\n",
    "  #   for char in caption:\n",
    "  #     if char in string.punctuation:\n",
    "  #       if char in special_punctuation:\n",
    "  #         caption = caption.replace(char, ' ')\n",
    "  #       else:\n",
    "  #         caption = caption.replace(char, '')\n",
    "  #   data.append(caption)\n",
    "  # df['ocr_text'] = data\n",
    "\n",
    "  # Tokenization\n",
    "  # df['tokenized_ocr'] = df['ocr_text'].apply(lambda x: word_tokenize(x))\n",
    "\n",
    "  # Stop word removal\n",
    "  # stopwords = nltk.corpus.stopwords.words('english')\n",
    "  # df['tokenized_ocr'] = df['tokenized_ocr'].apply(lambda x:[i for i in x if i not in stopwords])\n",
    "\n",
    "  # Stemming\n",
    "  # porter_stemmer = PorterStemmer()\n",
    "  # df['tokenized_ocr'] = df['tokenized_ocr'].apply(lambda x: [porter_stemmer.stem(word) for word in x])\n",
    "  # df['ocr_text'] = df['tokenized_ocr'].apply(lambda x: ' '.join(x))\n",
    "\n",
    "  # df.drop(columns=['tokenized_ocr'], inplace=True)\n",
    "  \n",
    "  return df"
   ]
  },
  {
   "cell_type": "code",
   "execution_count": 12,
   "metadata": {
    "id": "Lh-mjmtJWWDm"
   },
   "outputs": [],
   "source": [
    "df_cristianoronaldo = get_df('cristianoronaldo')\n",
    "df_edsheeran = get_df('edsheeran')\n",
    "df_gucci = get_df('gucci')\n",
    "df_nike = get_df('nike')"
   ]
  },
  {
   "cell_type": "code",
   "execution_count": 13,
   "metadata": {
    "id": "Jw3UeQ5CfYii"
   },
   "outputs": [],
   "source": [
    "df_nike = preprocess(df_nike)\n",
    "df_cristianoronaldo = preprocess(df_cristianoronaldo)\n",
    "df_gucci = preprocess(df_gucci)\n",
    "df_edsheeran = preprocess(df_edsheeran)"
   ]
  },
  {
   "cell_type": "code",
   "execution_count": 14,
   "metadata": {
    "id": "-ennT97nfizY"
   },
   "outputs": [],
   "source": [
    "# load_ocr_text(df_nike, 'nike')\n",
    "# load_ocr_text(df_cristianoronaldo, 'cristianoronaldo')\n",
    "# load_ocr_text(df_gucci, 'gucci')\n",
    "# load_ocr_text(df_edsheeran, 'edsheeran')\n",
    "\n",
    "ocr_list_nike = get_ocr_text('nike')\n",
    "ocr_list_cristianoronaldo = get_ocr_text('cristianoronaldo')\n",
    "ocr_list_cristianoronaldo.append('')\n",
    "ocr_list_gucci = get_ocr_text('gucci')\n",
    "ocr_list_edsheeran = get_ocr_text('edsheeran')\n",
    "\n",
    "df_nike['ocr_text'] = ocr_list_nike\n",
    "df_cristianoronaldo['ocr_text'] = ocr_list_cristianoronaldo\n",
    "df_gucci['ocr_text'] = ocr_list_gucci\n",
    "df_edsheeran['ocr_text'] = ocr_list_edsheeran"
   ]
  },
  {
   "cell_type": "code",
   "execution_count": 15,
   "metadata": {
    "id": "Lqocp5-rWAhC"
   },
   "outputs": [],
   "source": [
    "df_nike = preprocess_ocr(df_nike)\n",
    "df_cristianoronaldo = preprocess_ocr(df_cristianoronaldo)\n",
    "df_gucci = preprocess_ocr(df_gucci)\n",
    "df_edsheeran = preprocess_ocr(df_edsheeran)"
   ]
  },
  {
   "cell_type": "code",
   "execution_count": 16,
   "metadata": {
    "id": "WtGX2K_Dxck6"
   },
   "outputs": [],
   "source": [
    "df = df_nike.append([df_gucci, df_cristianoronaldo, df_edsheeran])"
   ]
  },
  {
   "cell_type": "code",
   "execution_count": null,
   "metadata": {
    "colab": {
     "base_uri": "https://localhost:8080/"
    },
    "id": "BNapdyEw46IA",
    "outputId": "f9262a4a-6360-4a05-d9fe-287ab442d3ee"
   },
   "outputs": [
    {
     "name": "stdout",
     "output_type": "stream",
     "text": [
      "Number of data without OCR texts: 5881\n",
      "Number of data with OCR texts: 8159\n"
     ]
    }
   ],
   "source": [
    "a = df[df['ocr_text'] == ''].shape[0]\n",
    "b = df[df['ocr_text'] != ''].shape[0]\n",
    "print(f'Number of data without OCR texts: {a}')\n",
    "print(f'Number of data with OCR texts: {b}')"
   ]
  },
  {
   "cell_type": "markdown",
   "metadata": {
    "id": "6HeBQqjrFlQN"
   },
   "source": [
    "# Model Training (without OCR)"
   ]
  },
  {
   "cell_type": "markdown",
   "metadata": {
    "id": "uzq1VJrRH-a9"
   },
   "source": [
    "## Load the Bert model"
   ]
  },
  {
   "cell_type": "code",
   "execution_count": 17,
   "metadata": {
    "cellView": "form",
    "colab": {
     "base_uri": "https://localhost:8080/"
    },
    "id": "0RjeZYtJFpml",
    "outputId": "1936ffb7-5541-460d-b9e3-ca4b79d5d0b6"
   },
   "outputs": [
    {
     "name": "stdout",
     "output_type": "stream",
     "text": [
      "BERT model selected           : https://tfhub.dev/tensorflow/bert_en_uncased_L-12_H-768_A-12/3\n",
      "Preprocessing model auto-selected: https://tfhub.dev/tensorflow/bert_en_uncased_preprocess/3\n"
     ]
    }
   ],
   "source": [
    "#@title Choose a BERT model to fine-tune\n",
    "\n",
    "bert_model_name = 'bert_en_uncased_L-12_H-768_A-12'  #@param [\"bert_en_uncased_L-12_H-768_A-12\", \"bert_en_uncased_L-24_H-1024_A-16\", \"bert_en_wwm_uncased_L-24_H-1024_A-16\", \"bert_en_cased_L-12_H-768_A-12\", \"bert_en_cased_L-24_H-1024_A-16\", \"bert_en_wwm_cased_L-24_H-1024_A-16\", \"bert_multi_cased_L-12_H-768_A-12\", \"small_bert/bert_en_uncased_L-2_H-128_A-2\", \"small_bert/bert_en_uncased_L-2_H-256_A-4\", \"small_bert/bert_en_uncased_L-2_H-512_A-8\", \"small_bert/bert_en_uncased_L-2_H-768_A-12\", \"small_bert/bert_en_uncased_L-4_H-128_A-2\", \"small_bert/bert_en_uncased_L-4_H-256_A-4\", \"small_bert/bert_en_uncased_L-4_H-512_A-8\", \"small_bert/bert_en_uncased_L-4_H-768_A-12\", \"small_bert/bert_en_uncased_L-6_H-128_A-2\", \"small_bert/bert_en_uncased_L-6_H-256_A-4\", \"small_bert/bert_en_uncased_L-6_H-512_A-8\", \"small_bert/bert_en_uncased_L-6_H-768_A-12\", \"small_bert/bert_en_uncased_L-8_H-128_A-2\", \"small_bert/bert_en_uncased_L-8_H-256_A-4\", \"small_bert/bert_en_uncased_L-8_H-512_A-8\", \"small_bert/bert_en_uncased_L-8_H-768_A-12\", \"small_bert/bert_en_uncased_L-10_H-128_A-2\", \"small_bert/bert_en_uncased_L-10_H-256_A-4\", \"small_bert/bert_en_uncased_L-10_H-512_A-8\", \"small_bert/bert_en_uncased_L-10_H-768_A-12\", \"small_bert/bert_en_uncased_L-12_H-128_A-2\", \"small_bert/bert_en_uncased_L-12_H-256_A-4\", \"small_bert/bert_en_uncased_L-12_H-512_A-8\", \"small_bert/bert_en_uncased_L-12_H-768_A-12\", \"albert_en_base\", \"albert_en_large\", \"albert_en_xlarge\", \"albert_en_xxlarge\", \"electra_small\", \"electra_base\", \"experts_pubmed\", \"experts_wiki_books\", \"talking-heads_base\", \"talking-heads_large\"]\n",
    "\n",
    "map_name_to_handle = {\n",
    "    'bert_en_uncased_L-12_H-768_A-12':\n",
    "        'https://tfhub.dev/tensorflow/bert_en_uncased_L-12_H-768_A-12/3',\n",
    "    'bert_en_uncased_L-24_H-1024_A-16':\n",
    "        'https://tfhub.dev/tensorflow/bert_en_uncased_L-24_H-1024_A-16/3',\n",
    "    'bert_en_wwm_uncased_L-24_H-1024_A-16':\n",
    "        'https://tfhub.dev/tensorflow/bert_en_wwm_uncased_L-24_H-1024_A-16/3',\n",
    "    'bert_en_cased_L-12_H-768_A-12':\n",
    "        'https://tfhub.dev/tensorflow/bert_en_cased_L-12_H-768_A-12/3',\n",
    "    'bert_en_cased_L-24_H-1024_A-16':\n",
    "        'https://tfhub.dev/tensorflow/bert_en_cased_L-24_H-1024_A-16/3',\n",
    "    'bert_en_wwm_cased_L-24_H-1024_A-16':\n",
    "        'https://tfhub.dev/tensorflow/bert_en_wwm_cased_L-24_H-1024_A-16/3',\n",
    "    'bert_multi_cased_L-12_H-768_A-12':\n",
    "        'https://tfhub.dev/tensorflow/bert_multi_cased_L-12_H-768_A-12/3',\n",
    "    'small_bert/bert_en_uncased_L-2_H-128_A-2':\n",
    "        'https://tfhub.dev/tensorflow/small_bert/bert_en_uncased_L-2_H-128_A-2/1',\n",
    "    'small_bert/bert_en_uncased_L-2_H-256_A-4':\n",
    "        'https://tfhub.dev/tensorflow/small_bert/bert_en_uncased_L-2_H-256_A-4/1',\n",
    "    'small_bert/bert_en_uncased_L-2_H-512_A-8':\n",
    "        'https://tfhub.dev/tensorflow/small_bert/bert_en_uncased_L-2_H-512_A-8/1',\n",
    "    'small_bert/bert_en_uncased_L-2_H-768_A-12':\n",
    "        'https://tfhub.dev/tensorflow/small_bert/bert_en_uncased_L-2_H-768_A-12/1',\n",
    "    'small_bert/bert_en_uncased_L-4_H-128_A-2':\n",
    "        'https://tfhub.dev/tensorflow/small_bert/bert_en_uncased_L-4_H-128_A-2/1',\n",
    "    'small_bert/bert_en_uncased_L-4_H-256_A-4':\n",
    "        'https://tfhub.dev/tensorflow/small_bert/bert_en_uncased_L-4_H-256_A-4/1',\n",
    "    'small_bert/bert_en_uncased_L-4_H-512_A-8':\n",
    "        'https://tfhub.dev/tensorflow/small_bert/bert_en_uncased_L-4_H-512_A-8/1',\n",
    "    'small_bert/bert_en_uncased_L-4_H-768_A-12':\n",
    "        'https://tfhub.dev/tensorflow/small_bert/bert_en_uncased_L-4_H-768_A-12/1',\n",
    "    'small_bert/bert_en_uncased_L-6_H-128_A-2':\n",
    "        'https://tfhub.dev/tensorflow/small_bert/bert_en_uncased_L-6_H-128_A-2/1',\n",
    "    'small_bert/bert_en_uncased_L-6_H-256_A-4':\n",
    "        'https://tfhub.dev/tensorflow/small_bert/bert_en_uncased_L-6_H-256_A-4/1',\n",
    "    'small_bert/bert_en_uncased_L-6_H-512_A-8':\n",
    "        'https://tfhub.dev/tensorflow/small_bert/bert_en_uncased_L-6_H-512_A-8/1',\n",
    "    'small_bert/bert_en_uncased_L-6_H-768_A-12':\n",
    "        'https://tfhub.dev/tensorflow/small_bert/bert_en_uncased_L-6_H-768_A-12/1',\n",
    "    'small_bert/bert_en_uncased_L-8_H-128_A-2':\n",
    "        'https://tfhub.dev/tensorflow/small_bert/bert_en_uncased_L-8_H-128_A-2/1',\n",
    "    'small_bert/bert_en_uncased_L-8_H-256_A-4':\n",
    "        'https://tfhub.dev/tensorflow/small_bert/bert_en_uncased_L-8_H-256_A-4/1',\n",
    "    'small_bert/bert_en_uncased_L-8_H-512_A-8':\n",
    "        'https://tfhub.dev/tensorflow/small_bert/bert_en_uncased_L-8_H-512_A-8/1',\n",
    "    'small_bert/bert_en_uncased_L-8_H-768_A-12':\n",
    "        'https://tfhub.dev/tensorflow/small_bert/bert_en_uncased_L-8_H-768_A-12/1',\n",
    "    'small_bert/bert_en_uncased_L-10_H-128_A-2':\n",
    "        'https://tfhub.dev/tensorflow/small_bert/bert_en_uncased_L-10_H-128_A-2/1',\n",
    "    'small_bert/bert_en_uncased_L-10_H-256_A-4':\n",
    "        'https://tfhub.dev/tensorflow/small_bert/bert_en_uncased_L-10_H-256_A-4/1',\n",
    "    'small_bert/bert_en_uncased_L-10_H-512_A-8':\n",
    "        'https://tfhub.dev/tensorflow/small_bert/bert_en_uncased_L-10_H-512_A-8/1',\n",
    "    'small_bert/bert_en_uncased_L-10_H-768_A-12':\n",
    "        'https://tfhub.dev/tensorflow/small_bert/bert_en_uncased_L-10_H-768_A-12/1',\n",
    "    'small_bert/bert_en_uncased_L-12_H-128_A-2':\n",
    "        'https://tfhub.dev/tensorflow/small_bert/bert_en_uncased_L-12_H-128_A-2/1',\n",
    "    'small_bert/bert_en_uncased_L-12_H-256_A-4':\n",
    "        'https://tfhub.dev/tensorflow/small_bert/bert_en_uncased_L-12_H-256_A-4/1',\n",
    "    'small_bert/bert_en_uncased_L-12_H-512_A-8':\n",
    "        'https://tfhub.dev/tensorflow/small_bert/bert_en_uncased_L-12_H-512_A-8/1',\n",
    "    'small_bert/bert_en_uncased_L-12_H-768_A-12':\n",
    "        'https://tfhub.dev/tensorflow/small_bert/bert_en_uncased_L-12_H-768_A-12/1',\n",
    "    'albert_en_base':\n",
    "        'https://tfhub.dev/tensorflow/albert_en_base/2',\n",
    "    'albert_en_large':\n",
    "        'https://tfhub.dev/tensorflow/albert_en_large/2',\n",
    "    'albert_en_xlarge':\n",
    "        'https://tfhub.dev/tensorflow/albert_en_xlarge/2',\n",
    "    'albert_en_xxlarge':\n",
    "        'https://tfhub.dev/tensorflow/albert_en_xxlarge/2',\n",
    "    'electra_small':\n",
    "        'https://tfhub.dev/google/electra_small/2',\n",
    "    'electra_base':\n",
    "        'https://tfhub.dev/google/electra_base/2',\n",
    "    'experts_pubmed':\n",
    "        'https://tfhub.dev/google/experts/bert/pubmed/2',\n",
    "    'experts_wiki_books':\n",
    "        'https://tfhub.dev/google/experts/bert/wiki_books/2',\n",
    "    'talking-heads_base':\n",
    "        'https://tfhub.dev/tensorflow/talkheads_ggelu_bert_en_base/1',\n",
    "    'talking-heads_large':\n",
    "        'https://tfhub.dev/tensorflow/talkheads_ggelu_bert_en_large/1',\n",
    "}\n",
    "\n",
    "map_model_to_preprocess = {\n",
    "    'bert_en_uncased_L-24_H-1024_A-16':\n",
    "        'https://tfhub.dev/tensorflow/bert_en_uncased_preprocess/3',\n",
    "    'bert_en_uncased_L-12_H-768_A-12':\n",
    "        'https://tfhub.dev/tensorflow/bert_en_uncased_preprocess/3',\n",
    "    'bert_en_wwm_cased_L-24_H-1024_A-16':\n",
    "        'https://tfhub.dev/tensorflow/bert_en_cased_preprocess/3',\n",
    "    'bert_en_cased_L-24_H-1024_A-16':\n",
    "        'https://tfhub.dev/tensorflow/bert_en_cased_preprocess/3',\n",
    "    'bert_en_cased_L-12_H-768_A-12':\n",
    "        'https://tfhub.dev/tensorflow/bert_en_cased_preprocess/3',\n",
    "    'bert_en_wwm_uncased_L-24_H-1024_A-16':\n",
    "        'https://tfhub.dev/tensorflow/bert_en_uncased_preprocess/3',\n",
    "    'small_bert/bert_en_uncased_L-2_H-128_A-2':\n",
    "        'https://tfhub.dev/tensorflow/bert_en_uncased_preprocess/3',\n",
    "    'small_bert/bert_en_uncased_L-2_H-256_A-4':\n",
    "        'https://tfhub.dev/tensorflow/bert_en_uncased_preprocess/3',\n",
    "    'small_bert/bert_en_uncased_L-2_H-512_A-8':\n",
    "        'https://tfhub.dev/tensorflow/bert_en_uncased_preprocess/3',\n",
    "    'small_bert/bert_en_uncased_L-2_H-768_A-12':\n",
    "        'https://tfhub.dev/tensorflow/bert_en_uncased_preprocess/3',\n",
    "    'small_bert/bert_en_uncased_L-4_H-128_A-2':\n",
    "        'https://tfhub.dev/tensorflow/bert_en_uncased_preprocess/3',\n",
    "    'small_bert/bert_en_uncased_L-4_H-256_A-4':\n",
    "        'https://tfhub.dev/tensorflow/bert_en_uncased_preprocess/3',\n",
    "    'small_bert/bert_en_uncased_L-4_H-512_A-8':\n",
    "        'https://tfhub.dev/tensorflow/bert_en_uncased_preprocess/3',\n",
    "    'small_bert/bert_en_uncased_L-4_H-768_A-12':\n",
    "        'https://tfhub.dev/tensorflow/bert_en_uncased_preprocess/3',\n",
    "    'small_bert/bert_en_uncased_L-6_H-128_A-2':\n",
    "        'https://tfhub.dev/tensorflow/bert_en_uncased_preprocess/3',\n",
    "    'small_bert/bert_en_uncased_L-6_H-256_A-4':\n",
    "        'https://tfhub.dev/tensorflow/bert_en_uncased_preprocess/3',\n",
    "    'small_bert/bert_en_uncased_L-6_H-512_A-8':\n",
    "        'https://tfhub.dev/tensorflow/bert_en_uncased_preprocess/3',\n",
    "    'small_bert/bert_en_uncased_L-6_H-768_A-12':\n",
    "        'https://tfhub.dev/tensorflow/bert_en_uncased_preprocess/3',\n",
    "    'small_bert/bert_en_uncased_L-8_H-128_A-2':\n",
    "        'https://tfhub.dev/tensorflow/bert_en_uncased_preprocess/3',\n",
    "    'small_bert/bert_en_uncased_L-8_H-256_A-4':\n",
    "        'https://tfhub.dev/tensorflow/bert_en_uncased_preprocess/3',\n",
    "    'small_bert/bert_en_uncased_L-8_H-512_A-8':\n",
    "        'https://tfhub.dev/tensorflow/bert_en_uncased_preprocess/3',\n",
    "    'small_bert/bert_en_uncased_L-8_H-768_A-12':\n",
    "        'https://tfhub.dev/tensorflow/bert_en_uncased_preprocess/3',\n",
    "    'small_bert/bert_en_uncased_L-10_H-128_A-2':\n",
    "        'https://tfhub.dev/tensorflow/bert_en_uncased_preprocess/3',\n",
    "    'small_bert/bert_en_uncased_L-10_H-256_A-4':\n",
    "        'https://tfhub.dev/tensorflow/bert_en_uncased_preprocess/3',\n",
    "    'small_bert/bert_en_uncased_L-10_H-512_A-8':\n",
    "        'https://tfhub.dev/tensorflow/bert_en_uncased_preprocess/3',\n",
    "    'small_bert/bert_en_uncased_L-10_H-768_A-12':\n",
    "        'https://tfhub.dev/tensorflow/bert_en_uncased_preprocess/3',\n",
    "    'small_bert/bert_en_uncased_L-12_H-128_A-2':\n",
    "        'https://tfhub.dev/tensorflow/bert_en_uncased_preprocess/3',\n",
    "    'small_bert/bert_en_uncased_L-12_H-256_A-4':\n",
    "        'https://tfhub.dev/tensorflow/bert_en_uncased_preprocess/3',\n",
    "    'small_bert/bert_en_uncased_L-12_H-512_A-8':\n",
    "        'https://tfhub.dev/tensorflow/bert_en_uncased_preprocess/3',\n",
    "    'small_bert/bert_en_uncased_L-12_H-768_A-12':\n",
    "        'https://tfhub.dev/tensorflow/bert_en_uncased_preprocess/3',\n",
    "    'bert_multi_cased_L-12_H-768_A-12':\n",
    "        'https://tfhub.dev/tensorflow/bert_multi_cased_preprocess/3',\n",
    "    'albert_en_base':\n",
    "        'https://tfhub.dev/tensorflow/albert_en_preprocess/3',\n",
    "    'albert_en_large':\n",
    "        'https://tfhub.dev/tensorflow/albert_en_preprocess/3',\n",
    "    'albert_en_xlarge':\n",
    "        'https://tfhub.dev/tensorflow/albert_en_preprocess/3',\n",
    "    'albert_en_xxlarge':\n",
    "        'https://tfhub.dev/tensorflow/albert_en_preprocess/3',\n",
    "    'electra_small':\n",
    "        'https://tfhub.dev/tensorflow/bert_en_uncased_preprocess/3',\n",
    "    'electra_base':\n",
    "        'https://tfhub.dev/tensorflow/bert_en_uncased_preprocess/3',\n",
    "    'experts_pubmed':\n",
    "        'https://tfhub.dev/tensorflow/bert_en_uncased_preprocess/3',\n",
    "    'experts_wiki_books':\n",
    "        'https://tfhub.dev/tensorflow/bert_en_uncased_preprocess/3',\n",
    "    'talking-heads_base':\n",
    "        'https://tfhub.dev/tensorflow/bert_en_uncased_preprocess/3',\n",
    "    'talking-heads_large':\n",
    "        'https://tfhub.dev/tensorflow/bert_en_uncased_preprocess/3',\n",
    "}\n",
    "\n",
    "bert_model_path = map_name_to_handle[bert_model_name]\n",
    "bert_preprocess_path = map_model_to_preprocess[bert_model_name]\n",
    "\n",
    "print('BERT model selected           :', bert_model_path)\n",
    "print('Preprocessing model auto-selected:', bert_preprocess_path)"
   ]
  },
  {
   "cell_type": "markdown",
   "metadata": {
    "id": "YX5WC8OfX9HG"
   },
   "source": [
    "## Bert preprocess model"
   ]
  },
  {
   "cell_type": "code",
   "execution_count": 18,
   "metadata": {
    "id": "xjfsFucac_9m"
   },
   "outputs": [],
   "source": [
    "# input_segments = [tf.keras.layers.Input(shape=(), dtype=tf.string, name=ft) for ft in ['caption', 'OCR']]\n",
    "input_segments = tf.keras.layers.Input(shape=(), dtype=tf.string, name='caption')\n",
    "bert_preprocess = hub.load(bert_preprocess_path)\n",
    "tokenizer = hub.KerasLayer(bert_preprocess.tokenize, name='tokenizer')\n",
    "# segments = [tokenizer(s) for s in input_segments]\n",
    "truncated_segments = [tokenizer(input_segments)]\n",
    "packer = hub.KerasLayer(bert_preprocess.bert_pack_inputs, arguments=dict(seq_length=128), name='packer')\n",
    "model_inputs = packer(truncated_segments)\n",
    "bert_preprocess_model = keras.Model(input_segments, model_inputs)"
   ]
  },
  {
   "cell_type": "markdown",
   "metadata": {
    "id": "SGZ3kiSYf8Lv"
   },
   "source": [
    "### Preprocess a sample data"
   ]
  },
  {
   "cell_type": "code",
   "execution_count": null,
   "metadata": {
    "colab": {
     "base_uri": "https://localhost:8080/"
    },
    "id": "49VxPMQ4au0_",
    "outputId": "37a9ed67-b9bd-4536-9c47-b11c2055e31b"
   },
   "outputs": [
    {
     "name": "stdout",
     "output_type": "stream",
     "text": [
      "Caption: nike sports shorts, size xs, but also fits s, condition 9/10, 200,- #jestejednoudokola#sekac#zdruheruky#zdruhejruky#sport#nike#czechgirl#ceskaholka#slovakgirl#recycling\n",
      "Keys           :  ['input_type_ids', 'input_word_ids', 'input_mask']\n",
      "Shape Word Ids :  (1, 128)\n",
      "Word Ids       :  tf.Tensor(\n",
      "[  101 18368  2998  9132  1010  2946  1060  2015  1010  2021  2036 16142\n",
      "  1055  1010  4650  1023], shape=(16,), dtype=int32)\n",
      "Shape Mask     :  (1, 128)\n",
      "Input Mask     :  tf.Tensor([1 1 1 1 1 1 1 1 1 1 1 1 1 1 1 1], shape=(16,), dtype=int32)\n",
      "Shape Type Ids :  (1, 128)\n",
      "Type Ids       :  tf.Tensor([0 0 0 0 0 0 0 0 0 0 0 0 0 0 0 0], shape=(16,), dtype=int32)\n"
     ]
    }
   ],
   "source": [
    "idx = np.random.choice(len(df))\n",
    "sample_caption = df.iloc[idx]['caption']\n",
    "print(f\"Caption: {sample_caption}\")\n",
    "\n",
    "text_preprocessed = bert_preprocess_model(np.array([sample_caption]))\n",
    "\n",
    "print(\"Keys           : \", list(text_preprocessed.keys()))\n",
    "print(\"Shape Word Ids : \", text_preprocessed[\"input_word_ids\"].shape)\n",
    "print(\"Word Ids       : \", text_preprocessed[\"input_word_ids\"][0, :16])\n",
    "print(\"Shape Mask     : \", text_preprocessed[\"input_mask\"].shape)\n",
    "print(\"Input Mask     : \", text_preprocessed[\"input_mask\"][0, :16])\n",
    "print(\"Shape Type Ids : \", text_preprocessed[\"input_type_ids\"].shape)\n",
    "print(\"Type Ids       : \", text_preprocessed[\"input_type_ids\"][0, :16])"
   ]
  },
  {
   "cell_type": "code",
   "execution_count": 19,
   "metadata": {
    "id": "jLzC_bL6au7Q"
   },
   "outputs": [],
   "source": [
    "def preprocess_text(sample):\n",
    "  caption = tf.convert_to_tensor([sample['caption']])\n",
    "  output = bert_preprocess_model(caption)\n",
    "  text = {feature: tf.squeeze(output[feature]) for feature in bert_input_features}\n",
    "  return {'text': text}"
   ]
  },
  {
   "cell_type": "code",
   "execution_count": 20,
   "metadata": {
    "id": "7-uUanNteDxn"
   },
   "outputs": [],
   "source": [
    "auto = tf.data.AUTOTUNE\n",
    "batch_size = 32\n",
    "\n",
    "def prepare_dataset(dataframe, training=True):\n",
    "  columns = ['caption', 'class']\n",
    "  dataframe = dataframe[columns].copy()\n",
    "  labels = dataframe.pop('class')\n",
    "  ds = tf.data.Dataset.from_tensor_slices((dict(dataframe), labels))\n",
    "  ds = ds.shuffle(buffer_size=len(dataframe))\n",
    "\n",
    "  if training:\n",
    "      ds = ds.shuffle(len(dataframe))\n",
    "  ds = ds.map(lambda x, y: (preprocess_text(x), y)).cache()\n",
    "  ds = ds.batch(batch_size).prefetch(auto)\n",
    "  return ds"
   ]
  },
  {
   "cell_type": "markdown",
   "metadata": {
    "id": "qo0n5kLQINkt"
   },
   "source": [
    "## Building the Bert model"
   ]
  },
  {
   "cell_type": "code",
   "execution_count": 21,
   "metadata": {
    "id": "82jiNVw5eD_T"
   },
   "outputs": [],
   "source": [
    "bert_input_features = ['input_word_ids', 'input_type_ids', 'input_mask']\n",
    "text_inputs = {feature: keras.Input(shape=(128,), dtype=tf.int32, name=feature) for feature in bert_input_features}"
   ]
  },
  {
   "cell_type": "code",
   "execution_count": 22,
   "metadata": {
    "id": "QdytIdoJeEBb"
   },
   "outputs": [],
   "source": [
    "bert = hub.KerasLayer(bert_model_path, name='bert')\n",
    "bert.trainable = False\n",
    "embeddings = bert(text_inputs)['pooled_output']\n",
    "projected_embeddings = keras.layers.Dense(units = 256)(embeddings)\n",
    "x = tf.nn.gelu(projected_embeddings)\n",
    "x = keras.layers.Dense(256)(x)\n",
    "x = keras.layers.Dropout(0.1)(x)\n",
    "x = keras.layers.Add()([projected_embeddings, x])\n",
    "projected_embeddings = keras.layers.LayerNormalization()(x)\n",
    "outputs = projected_embeddings\n",
    "text_encoder = keras.Model(text_inputs, outputs, name='text_encoder')\n",
    "text_projections = text_encoder(text_inputs)\n",
    "final_outputs = keras.layers.Dense(1, activation='sigmoid')(text_projections)\n",
    "model = keras.Model([text_inputs], final_outputs)"
   ]
  },
  {
   "cell_type": "code",
   "execution_count": 23,
   "metadata": {
    "colab": {
     "base_uri": "https://localhost:8080/",
     "height": 208
    },
    "id": "-IXnR8mUTYll",
    "outputId": "a4fffe2e-d57a-4449-c763-19e8a8927538"
   },
   "outputs": [
    {
     "data": {
      "image/png": "[encoded data removed]",
      "text/plain": [
       "<IPython.core.display.Image object>"
      ]
     },
     "execution_count": 23,
     "metadata": {},
     "output_type": "execute_result"
    }
   ],
   "source": [
    "keras.utils.plot_model(model, show_shapes=True)"
   ]
  },
  {
   "cell_type": "code",
   "execution_count": 24,
   "metadata": {
    "id": "IKensnHMe34l"
   },
   "outputs": [],
   "source": [
    "model.compile(optimizer='adam', loss='binary_crossentropy', metrics=['accuracy'])"
   ]
  },
  {
   "cell_type": "code",
   "execution_count": null,
   "metadata": {
    "id": "fkrUkqjIXBBt"
   },
   "outputs": [],
   "source": [
    "my_callbacks = [ModelCheckpoint(\"./saved_models/checkpoints/best_model\", monitor='val_accuracy', verbose=0, save_best_only=True)]"
   ]
  },
  {
   "cell_type": "markdown",
   "metadata": {
    "id": "7KW2C3p4gTcS"
   },
   "source": [
    "## Nike"
   ]
  },
  {
   "cell_type": "markdown",
   "metadata": {
    "id": "iruP3GsCgTcS"
   },
   "source": [
    "### Split data into training, testing, validation"
   ]
  },
  {
   "cell_type": "code",
   "execution_count": 25,
   "metadata": {
    "colab": {
     "base_uri": "https://localhost:8080/"
    },
    "id": "kfK6YDWZgTcT",
    "outputId": "2ff9bb6d-dd20-4df3-d72d-de0c2664ba54"
   },
   "outputs": [
    {
     "name": "stdout",
     "output_type": "stream",
     "text": [
      "Total training examples: 2736\n",
      "Total validation examples: 305\n",
      "Total test examples: 338\n"
     ]
    }
   ],
   "source": [
    "train_df, test_df = train_test_split(df_nike, test_size=0.1, random_state=42)\n",
    "train_df, val_df = train_test_split(train_df, test_size=0.1, random_state=42)\n",
    "\n",
    "print(f\"Total training examples: {len(train_df)}\")\n",
    "print(f\"Total validation examples: {len(val_df)}\")\n",
    "print(f\"Total test examples: {len(test_df)}\")"
   ]
  },
  {
   "cell_type": "code",
   "execution_count": 26,
   "metadata": {
    "id": "GMrvOe-XgTcU"
   },
   "outputs": [],
   "source": [
    "train_ds = prepare_dataset(train_df)\n",
    "validation_ds = prepare_dataset(val_df, False)\n",
    "test_ds = prepare_dataset(test_df, False)"
   ]
  },
  {
   "cell_type": "markdown",
   "metadata": {
    "id": "3bznJQcAgTcU"
   },
   "source": [
    "### Training the model"
   ]
  },
  {
   "cell_type": "code",
   "execution_count": null,
   "metadata": {
    "colab": {
     "base_uri": "https://localhost:8080/"
    },
    "id": "72D93cXUgTcU",
    "outputId": "30869bf1-00d6-474a-e80a-05c2abce2c87"
   },
   "outputs": [
    {
     "name": "stdout",
     "output_type": "stream",
     "text": [
      "Epoch 1/100\n",
      "86/86 [==============================] - 30s 322ms/step - loss: 0.6118 - accuracy: 0.6725 - val_loss: 0.5968 - val_accuracy: 0.6918\n",
      "Epoch 2/100\n",
      "86/86 [==============================] - 28s 330ms/step - loss: 0.5960 - accuracy: 0.6879 - val_loss: 0.6492 - val_accuracy: 0.6295\n",
      "Epoch 3/100\n",
      "86/86 [==============================] - 30s 353ms/step - loss: 0.5950 - accuracy: 0.6871 - val_loss: 0.6281 - val_accuracy: 0.6590\n",
      "Epoch 4/100\n",
      "86/86 [==============================] - 30s 346ms/step - loss: 0.5905 - accuracy: 0.6959 - val_loss: 0.6174 - val_accuracy: 0.6721\n",
      "Epoch 5/100\n",
      "86/86 [==============================] - 29s 340ms/step - loss: 0.5868 - accuracy: 0.6999 - val_loss: 0.6156 - val_accuracy: 0.6721\n",
      "Epoch 6/100\n",
      "86/86 [==============================] - 30s 349ms/step - loss: 0.5833 - accuracy: 0.6988 - val_loss: 0.6535 - val_accuracy: 0.6393\n",
      "Epoch 7/100\n",
      "86/86 [==============================] - 30s 352ms/step - loss: 0.5832 - accuracy: 0.7021 - val_loss: 0.6049 - val_accuracy: 0.6754\n",
      "Epoch 8/100\n",
      "86/86 [==============================] - 29s 340ms/step - loss: 0.5780 - accuracy: 0.7058 - val_loss: 0.6372 - val_accuracy: 0.6590\n",
      "Epoch 9/100\n",
      "86/86 [==============================] - 30s 346ms/step - loss: 0.5781 - accuracy: 0.7036 - val_loss: 0.6133 - val_accuracy: 0.6623\n",
      "Epoch 10/100\n",
      "86/86 [==============================] - 30s 346ms/step - loss: 0.5741 - accuracy: 0.7087 - val_loss: 0.6206 - val_accuracy: 0.6721\n",
      "Epoch 11/100\n",
      "86/86 [==============================] - 30s 346ms/step - loss: 0.5721 - accuracy: 0.7113 - val_loss: 0.6110 - val_accuracy: 0.6721\n",
      "Epoch 12/100\n",
      "86/86 [==============================] - 30s 354ms/step - loss: 0.5696 - accuracy: 0.7120 - val_loss: 0.6168 - val_accuracy: 0.6721\n",
      "Epoch 13/100\n",
      "86/86 [==============================] - 29s 342ms/step - loss: 0.5679 - accuracy: 0.7135 - val_loss: 0.6177 - val_accuracy: 0.6656\n",
      "Epoch 14/100\n",
      "86/86 [==============================] - 31s 356ms/step - loss: 0.5651 - accuracy: 0.7171 - val_loss: 0.6155 - val_accuracy: 0.6721\n",
      "Epoch 15/100\n",
      "86/86 [==============================] - 30s 344ms/step - loss: 0.5635 - accuracy: 0.7167 - val_loss: 0.6120 - val_accuracy: 0.6820\n",
      "Epoch 16/100\n",
      "86/86 [==============================] - 30s 350ms/step - loss: 0.5617 - accuracy: 0.7226 - val_loss: 0.6095 - val_accuracy: 0.6820\n",
      "Epoch 17/100\n",
      "86/86 [==============================] - 30s 348ms/step - loss: 0.5596 - accuracy: 0.7215 - val_loss: 0.6137 - val_accuracy: 0.6820\n",
      "Epoch 18/100\n",
      "86/86 [==============================] - 30s 344ms/step - loss: 0.5578 - accuracy: 0.7259 - val_loss: 0.6072 - val_accuracy: 0.6787\n",
      "Epoch 19/100\n",
      "86/86 [==============================] - 30s 355ms/step - loss: 0.5548 - accuracy: 0.7314 - val_loss: 0.6111 - val_accuracy: 0.6787\n",
      "Epoch 20/100\n",
      "86/86 [==============================] - 29s 342ms/step - loss: 0.5542 - accuracy: 0.7295 - val_loss: 0.6056 - val_accuracy: 0.6820\n",
      "Epoch 21/100\n",
      "86/86 [==============================] - 30s 354ms/step - loss: 0.5518 - accuracy: 0.7336 - val_loss: 0.6080 - val_accuracy: 0.6918\n",
      "Epoch 22/100\n",
      "86/86 [==============================] - 30s 346ms/step - loss: 0.5490 - accuracy: 0.7365 - val_loss: 0.6099 - val_accuracy: 0.6820\n",
      "Epoch 23/100\n",
      "86/86 [==============================] - 30s 348ms/step - loss: 0.5482 - accuracy: 0.7350 - val_loss: 0.6167 - val_accuracy: 0.6820\n",
      "Epoch 24/100\n",
      "86/86 [==============================] - 29s 342ms/step - loss: 0.5462 - accuracy: 0.7354 - val_loss: 0.6162 - val_accuracy: 0.6787\n",
      "Epoch 25/100\n",
      "86/86 [==============================] - 30s 345ms/step - loss: 0.5457 - accuracy: 0.7368 - val_loss: 0.6154 - val_accuracy: 0.6820\n",
      "Epoch 26/100\n",
      "86/86 [==============================] - 30s 348ms/step - loss: 0.5442 - accuracy: 0.7350 - val_loss: 0.6090 - val_accuracy: 0.6852\n",
      "Epoch 27/100\n",
      "86/86 [==============================] - 30s 349ms/step - loss: 0.5409 - accuracy: 0.7387 - val_loss: 0.6123 - val_accuracy: 0.6820\n",
      "Epoch 28/100\n",
      "86/86 [==============================] - 30s 345ms/step - loss: 0.5399 - accuracy: 0.7398 - val_loss: 0.6134 - val_accuracy: 0.6852\n",
      "Epoch 29/100\n",
      "86/86 [==============================] - 30s 345ms/step - loss: 0.5374 - accuracy: 0.7442 - val_loss: 0.6114 - val_accuracy: 0.6918\n",
      "Epoch 30/100\n",
      "86/86 [==============================] - 30s 352ms/step - loss: 0.5351 - accuracy: 0.7442 - val_loss: 0.5930 - val_accuracy: 0.6951\n",
      "Epoch 31/100\n",
      "86/86 [==============================] - 30s 345ms/step - loss: 0.5330 - accuracy: 0.7438 - val_loss: 0.6084 - val_accuracy: 0.6918\n",
      "Epoch 32/100\n",
      "86/86 [==============================] - 30s 350ms/step - loss: 0.5317 - accuracy: 0.7409 - val_loss: 0.6092 - val_accuracy: 0.6852\n",
      "Epoch 33/100\n",
      "86/86 [==============================] - 30s 348ms/step - loss: 0.5314 - accuracy: 0.7442 - val_loss: 0.6146 - val_accuracy: 0.6852\n",
      "Epoch 34/100\n",
      "86/86 [==============================] - 30s 346ms/step - loss: 0.5285 - accuracy: 0.7445 - val_loss: 0.6111 - val_accuracy: 0.6820\n",
      "Epoch 35/100\n",
      "86/86 [==============================] - 29s 342ms/step - loss: 0.5252 - accuracy: 0.7493 - val_loss: 0.6119 - val_accuracy: 0.6885\n",
      "Epoch 36/100\n",
      "86/86 [==============================] - 30s 348ms/step - loss: 0.5229 - accuracy: 0.7489 - val_loss: 0.6142 - val_accuracy: 0.6918\n",
      "Epoch 37/100\n",
      "86/86 [==============================] - 30s 350ms/step - loss: 0.5231 - accuracy: 0.7460 - val_loss: 0.6075 - val_accuracy: 0.6918\n",
      "Epoch 38/100\n",
      "86/86 [==============================] - 30s 346ms/step - loss: 0.5201 - accuracy: 0.7522 - val_loss: 0.6045 - val_accuracy: 0.6852\n",
      "Epoch 39/100\n",
      "86/86 [==============================] - 30s 349ms/step - loss: 0.5182 - accuracy: 0.7504 - val_loss: 0.6005 - val_accuracy: 0.7049\n",
      "Epoch 40/100\n",
      "86/86 [==============================] - 30s 351ms/step - loss: 0.5162 - accuracy: 0.7526 - val_loss: 0.6058 - val_accuracy: 0.7016\n",
      "Epoch 41/100\n",
      "86/86 [==============================] - 29s 343ms/step - loss: 0.5139 - accuracy: 0.7562 - val_loss: 0.5956 - val_accuracy: 0.7049\n",
      "Epoch 42/100\n",
      "86/86 [==============================] - 30s 346ms/step - loss: 0.5127 - accuracy: 0.7595 - val_loss: 0.5984 - val_accuracy: 0.7016\n",
      "Epoch 43/100\n",
      "86/86 [==============================] - 30s 353ms/step - loss: 0.5116 - accuracy: 0.7628 - val_loss: 0.6105 - val_accuracy: 0.6885\n",
      "Epoch 44/100\n",
      "86/86 [==============================] - 29s 342ms/step - loss: 0.5107 - accuracy: 0.7602 - val_loss: 0.6137 - val_accuracy: 0.7016\n",
      "Epoch 45/100\n",
      "86/86 [==============================] - 31s 357ms/step - loss: 0.5079 - accuracy: 0.7610 - val_loss: 0.6043 - val_accuracy: 0.7082\n",
      "Epoch 46/100\n",
      "86/86 [==============================] - 29s 340ms/step - loss: 0.5084 - accuracy: 0.7573 - val_loss: 0.6054 - val_accuracy: 0.6984\n",
      "Epoch 47/100\n",
      "86/86 [==============================] - 29s 343ms/step - loss: 0.5079 - accuracy: 0.7650 - val_loss: 0.6190 - val_accuracy: 0.6984\n",
      "Epoch 48/100\n",
      "86/86 [==============================] - 30s 346ms/step - loss: 0.5047 - accuracy: 0.7624 - val_loss: 0.6150 - val_accuracy: 0.7016\n",
      "Epoch 49/100\n",
      "86/86 [==============================] - 30s 346ms/step - loss: 0.5040 - accuracy: 0.7657 - val_loss: 0.6051 - val_accuracy: 0.7082\n",
      "Epoch 50/100\n",
      "86/86 [==============================] - 30s 350ms/step - loss: 0.5014 - accuracy: 0.7679 - val_loss: 0.6090 - val_accuracy: 0.7082\n",
      "Epoch 51/100\n",
      "86/86 [==============================] - 30s 344ms/step - loss: 0.4998 - accuracy: 0.7716 - val_loss: 0.6041 - val_accuracy: 0.7049\n",
      "Epoch 52/100\n",
      "86/86 [==============================] - 30s 344ms/step - loss: 0.5013 - accuracy: 0.7686 - val_loss: 0.6325 - val_accuracy: 0.6820\n",
      "Epoch 53/100\n",
      "86/86 [==============================] - 30s 350ms/step - loss: 0.4967 - accuracy: 0.7708 - val_loss: 0.6210 - val_accuracy: 0.6951\n",
      "Epoch 54/100\n",
      "86/86 [==============================] - 30s 349ms/step - loss: 0.4935 - accuracy: 0.7741 - val_loss: 0.6122 - val_accuracy: 0.7148\n",
      "Epoch 55/100\n",
      "86/86 [==============================] - 29s 343ms/step - loss: 0.4928 - accuracy: 0.7723 - val_loss: 0.6272 - val_accuracy: 0.6918\n",
      "Epoch 56/100\n",
      "86/86 [==============================] - 31s 355ms/step - loss: 0.4925 - accuracy: 0.7716 - val_loss: 0.6245 - val_accuracy: 0.6820\n",
      "Epoch 57/100\n",
      "86/86 [==============================] - 29s 342ms/step - loss: 0.4928 - accuracy: 0.7697 - val_loss: 0.6103 - val_accuracy: 0.7180\n",
      "Epoch 58/100\n",
      "86/86 [==============================] - 30s 353ms/step - loss: 0.4879 - accuracy: 0.7774 - val_loss: 0.5994 - val_accuracy: 0.7261\n",
      "Epoch 59/100\n",
      "86/86 [==============================] - 30s 345ms/step - loss: 0.4843 - accuracy: 0.7760 - val_loss: 0.6041 - val_accuracy: 0.7205\n",
      "Epoch 60/100\n",
      "86/86 [==============================] - 30s 349ms/step - loss: 0.4888 - accuracy: 0.7719 - val_loss: 0.6332 - val_accuracy: 0.6954\n",
      "Epoch 61/100\n",
      "86/86 [==============================] - 29s 342ms/step - loss: 0.4858 - accuracy: 0.7730 - val_loss: 0.6097 - val_accuracy: 0.7180\n",
      "Epoch 62/100\n",
      "86/86 [==============================] - 30s 344ms/step - loss: 0.4847 - accuracy: 0.7767 - val_loss: 0.5913 - val_accuracy: 0.7280\n",
      "Epoch 63/100\n",
      "86/86 [==============================] - 30s 348ms/step - loss: 0.4830 - accuracy: 0.7730 - val_loss: 0.5930 - val_accuracy: 0.7291\n",
      "Epoch 64/100\n",
      "86/86 [==============================] - 30s 348ms/step - loss: 0.4814 - accuracy: 0.7756 - val_loss: 0.6595 - val_accuracy: 0.6845\n",
      "Epoch 65/100\n",
      "86/86 [==============================] - 30s 344ms/step - loss: 0.4779 - accuracy: 0.7767 - val_loss: 0.6348 - val_accuracy: 0.7049\n",
      "Epoch 66/100\n",
      "86/86 [==============================] - 29s 343ms/step - loss: 0.4787 - accuracy: 0.7781 - val_loss: 0.5938 - val_accuracy: 0.7315\n",
      "Epoch 67/100\n",
      "86/86 [==============================] - 30s 345ms/step - loss: 0.4791 - accuracy: 0.7781 - val_loss: 0.5901 - val_accuracy: 0.7282\n",
      "Epoch 68/100\n",
      "86/86 [==============================] - 30s 346ms/step - loss: 0.4789 - accuracy: 0.7749 - val_loss: 0.6190 - val_accuracy: 0.7050\n",
      "Epoch 69/100\n",
      "86/86 [==============================] - 30s 346ms/step - loss: 0.4817 - accuracy: 0.7719 - val_loss: 0.7067 - val_accuracy: 0.6689\n",
      "Epoch 70/100\n",
      "86/86 [==============================] - 30s 345ms/step - loss: 0.4727 - accuracy: 0.7800 - val_loss: 0.5827 - val_accuracy: 0.7309\n",
      "Epoch 71/100\n",
      "86/86 [==============================] - 30s 344ms/step - loss: 0.4703 - accuracy: 0.7851 - val_loss: 0.5811 - val_accuracy: 0.7326\n",
      "Epoch 72/100\n",
      "86/86 [==============================] - 30s 347ms/step - loss: 0.4719 - accuracy: 0.7738 - val_loss: 0.5908 - val_accuracy: 0.7247\n",
      "Epoch 73/100\n",
      "86/86 [==============================] - 30s 351ms/step - loss: 0.4674 - accuracy: 0.7796 - val_loss: 0.5939 - val_accuracy: 0.7283\n",
      "Epoch 74/100\n",
      "86/86 [==============================] - 29s 343ms/step - loss: 0.4620 - accuracy: 0.7913 - val_loss: 0.5892 - val_accuracy: 0.7343\n",
      "Epoch 75/100\n",
      "86/86 [==============================] - 30s 344ms/step - loss: 0.4672 - accuracy: 0.7829 - val_loss: 0.6048 - val_accuracy: 0.7201\n",
      "Epoch 76/100\n",
      "86/86 [==============================] - 30s 347ms/step - loss: 0.4593 - accuracy: 0.7946 - val_loss: 0.5981 - val_accuracy: 0.7375\n",
      "Epoch 77/100\n",
      "86/86 [==============================] - 30s 348ms/step - loss: 0.4593 - accuracy: 0.7928 - val_loss: 0.5850 - val_accuracy: 0.7309\n",
      "Epoch 78/100\n",
      "86/86 [==============================] - 30s 349ms/step - loss: 0.4573 - accuracy: 0.7891 - val_loss: 0.6037 - val_accuracy: 0.7282\n",
      "Epoch 79/100\n",
      "86/86 [==============================] - 30s 348ms/step - loss: 0.4563 - accuracy: 0.7880 - val_loss: 0.5965 - val_accuracy: 0.7377\n",
      "Epoch 80/100\n",
      "86/86 [==============================] - 30s 349ms/step - loss: 0.4543 - accuracy: 0.7931 - val_loss: 0.5970 - val_accuracy: 0.7363\n",
      "Epoch 81/100\n",
      "86/86 [==============================] - 30s 344ms/step - loss: 0.4517 - accuracy: 0.7942 - val_loss: 0.6122 - val_accuracy: 0.7096\n",
      "Epoch 82/100\n",
      "86/86 [==============================] - 30s 353ms/step - loss: 0.4521 - accuracy: 0.7953 - val_loss: 0.6557 - val_accuracy: 0.6885\n",
      "Epoch 83/100\n",
      "86/86 [==============================] - 29s 343ms/step - loss: 0.4436 - accuracy: 0.8034 - val_loss: 0.5781 - val_accuracy: 0.7418\n",
      "Epoch 84/100\n",
      "86/86 [==============================] - 30s 344ms/step - loss: 0.4442 - accuracy: 0.7961 - val_loss: 0.5983 - val_accuracy: 0.7282\n",
      "Epoch 85/100\n",
      "86/86 [==============================] - 30s 354ms/step - loss: 0.4428 - accuracy: 0.8034 - val_loss: 0.5994 - val_accuracy: 0.7282\n",
      "Epoch 86/100\n",
      "86/86 [==============================] - 29s 339ms/step - loss: 0.4362 - accuracy: 0.8059 - val_loss: 0.5897 - val_accuracy: 0.7309\n",
      "Epoch 87/100\n",
      "86/86 [==============================] - 30s 347ms/step - loss: 0.4329 - accuracy: 0.8052 - val_loss: 0.5760 - val_accuracy: 0.7440\n",
      "Epoch 88/100\n",
      "86/86 [==============================] - 30s 352ms/step - loss: 0.4336 - accuracy: 0.8034 - val_loss: 0.5760 - val_accuracy: 0.7436\n",
      "Epoch 89/100\n",
      "86/86 [==============================] - 29s 341ms/step - loss: 0.4273 - accuracy: 0.8070 - val_loss: 0.5714 - val_accuracy: 0.7471\n",
      "Epoch 90/100\n",
      "86/86 [==============================] - 30s 354ms/step - loss: 0.4299 - accuracy: 0.8056 - val_loss: 0.5874 - val_accuracy: 0.7352\n",
      "Epoch 91/100\n",
      "86/86 [==============================] - 29s 342ms/step - loss: 0.4246 - accuracy: 0.8077 - val_loss: 0.5904 - val_accuracy: 0.7282\n",
      "Epoch 92/100\n",
      "86/86 [==============================] - 30s 343ms/step - loss: 0.4210 - accuracy: 0.8092 - val_loss: 0.5736 - val_accuracy: 0.7440\n",
      "Epoch 93/100\n",
      "86/86 [==============================] - 30s 354ms/step - loss: 0.4253 - accuracy: 0.8052 - val_loss: 0.5690 - val_accuracy: 0.7501\n",
      "Epoch 94/100\n",
      "86/86 [==============================] - 29s 340ms/step - loss: 0.4166 - accuracy: 0.8121 - val_loss: 0.5631 - val_accuracy: 0.7534\n",
      "Epoch 95/100\n",
      "86/86 [==============================] - 30s 354ms/step - loss: 0.4236 - accuracy: 0.8103 - val_loss: 0.5856 - val_accuracy: 0.7385\n",
      "Epoch 96/100\n",
      "86/86 [==============================] - 29s 339ms/step - loss: 0.4203 - accuracy: 0.8092 - val_loss: 0.5869 - val_accuracy: 0.7352\n",
      "Epoch 97/100\n",
      "86/86 [==============================] - 30s 345ms/step - loss: 0.4253 - accuracy: 0.8059 - val_loss: 0.5781 - val_accuracy: 0.7471\n",
      "Epoch 98/100\n",
      "86/86 [==============================] - 30s 352ms/step - loss: 0.4239 - accuracy: 0.8045 - val_loss: 0.5677 - val_accuracy: 0.7519\n",
      "Epoch 99/100\n",
      "86/86 [==============================] - 29s 342ms/step - loss: 0.4249 - accuracy: 0.8085 - val_loss: 0.5787 - val_accuracy: 0.7455\n",
      "Epoch 100/100\n",
      "86/86 [==============================] - 29s 343ms/step - loss: 0.4285 - accuracy: 0.8118 - val_loss: 0.5800 - val_accuracy: 0.7385\n"
     ]
    }
   ],
   "source": [
    "history = model.fit(train_ds, validation_data=validation_ds, epochs=100, callbacks=my_callbacks)"
   ]
  },
  {
   "cell_type": "markdown",
   "metadata": {
    "id": "HaHrI9sQgTcU"
   },
   "source": [
    "### Evaluating the model"
   ]
  },
  {
   "cell_type": "code",
   "execution_count": null,
   "metadata": {
    "colab": {
     "base_uri": "https://localhost:8080/"
    },
    "id": "RH049Y-lgTcV",
    "outputId": "c9c6bd4c-a1cd-488a-e4ae-4ef34007200b"
   },
   "outputs": [
    {
     "name": "stdout",
     "output_type": "stream",
     "text": [
      "11/11 [==============================] - 4s 282ms/step - loss: 0.5028 - accuracy: 0.7546\n"
     ]
    },
    {
     "data": {
      "text/plain": [
       "[0.5027983903884888, 0.7545561957359314]"
      ]
     },
     "execution_count": 32,
     "metadata": {},
     "output_type": "execute_result"
    }
   ],
   "source": [
    "model = tf.keras.models.load_model(\"./saved_models/checkpoints/best_model\")\n",
    "model.evaluate(test_ds)"
   ]
  },
  {
   "cell_type": "markdown",
   "metadata": {
    "id": "hp6gF2hGz4iW"
   },
   "source": [
    "## Ed Sheeran"
   ]
  },
  {
   "cell_type": "markdown",
   "metadata": {
    "id": "jRtOBaVkz4iX"
   },
   "source": [
    "### Split data into training, testing, validation"
   ]
  },
  {
   "cell_type": "code",
   "execution_count": null,
   "metadata": {
    "colab": {
     "base_uri": "https://localhost:8080/"
    },
    "id": "wG6aeI41z4iX",
    "outputId": "f757ca5e-b16f-4cbc-9514-56d8feae50bf"
   },
   "outputs": [
    {
     "name": "stdout",
     "output_type": "stream",
     "text": [
      "Total training examples: 2359\n",
      "Total validation examples: 263\n",
      "Total test examples: 292\n"
     ]
    }
   ],
   "source": [
    "train_df, test_df = train_test_split(df_edsheeran, test_size=0.1, random_state=42)\n",
    "train_df, val_df = train_test_split(train_df, test_size=0.1, random_state=42)\n",
    "\n",
    "print(f\"Total training examples: {len(train_df)}\")\n",
    "print(f\"Total validation examples: {len(val_df)}\")\n",
    "print(f\"Total test examples: {len(test_df)}\")"
   ]
  },
  {
   "cell_type": "code",
   "execution_count": null,
   "metadata": {
    "id": "7_1AsOO_z4iX"
   },
   "outputs": [],
   "source": [
    "train_ds = prepare_dataset(train_df)\n",
    "validation_ds = prepare_dataset(val_df, False)\n",
    "test_ds = prepare_dataset(test_df, False)"
   ]
  },
  {
   "cell_type": "markdown",
   "metadata": {
    "id": "Jy3h4NuEz4iX"
   },
   "source": [
    "### Training the model"
   ]
  },
  {
   "cell_type": "code",
   "execution_count": null,
   "metadata": {
    "colab": {
     "base_uri": "https://localhost:8080/"
    },
    "id": "qEiUB__gz4iY",
    "outputId": "676709a4-b014-4182-dce3-799f9c674206"
   },
   "outputs": [
    {
     "name": "stdout",
     "output_type": "stream",
     "text": [
      "Epoch 1/100\n",
      "74/74 [==============================] - 34s 325ms/step - loss: 0.6765 - accuracy: 0.6694 - val_loss: 0.5579 - val_accuracy: 0.7023\n",
      "Epoch 2/100\n",
      "74/74 [==============================] - 23s 311ms/step - loss: 0.4494 - accuracy: 0.7897 - val_loss: 0.5366 - val_accuracy: 0.7479\n",
      "Epoch 3/100\n",
      "74/74 [==============================] - 23s 318ms/step - loss: 0.4047 - accuracy: 0.8109 - val_loss: 0.5125 - val_accuracy: 0.7669\n",
      "Epoch 4/100\n",
      "74/74 [==============================] - 23s 316ms/step - loss: 0.3797 - accuracy: 0.8237 - val_loss: 0.4967 - val_accuracy: 0.7669\n",
      "Epoch 5/100\n",
      "74/74 [==============================] - 24s 321ms/step - loss: 0.3664 - accuracy: 0.8317 - val_loss: 0.4911 - val_accuracy: 0.7745\n",
      "Epoch 6/100\n",
      "74/74 [==============================] - 24s 318ms/step - loss: 0.3538 - accuracy: 0.8364 - val_loss: 0.4882 - val_accuracy: 0.7745\n",
      "Epoch 7/100\n",
      "74/74 [==============================] - 23s 316ms/step - loss: 0.3477 - accuracy: 0.8376 - val_loss: 0.4921 - val_accuracy: 0.7783\n",
      "Epoch 8/100\n",
      "74/74 [==============================] - 23s 315ms/step - loss: 0.3427 - accuracy: 0.8444 - val_loss: 0.4892 - val_accuracy: 0.7859\n",
      "Epoch 9/100\n",
      "74/74 [==============================] - 23s 315ms/step - loss: 0.3347 - accuracy: 0.8521 - val_loss: 0.4891 - val_accuracy: 0.7859\n",
      "Epoch 10/100\n",
      "74/74 [==============================] - 23s 314ms/step - loss: 0.3342 - accuracy: 0.8533 - val_loss: 0.4880 - val_accuracy: 0.7897\n",
      "Epoch 11/100\n",
      "74/74 [==============================] - 24s 320ms/step - loss: 0.3268 - accuracy: 0.8601 - val_loss: 0.4868 - val_accuracy: 0.7897\n",
      "Epoch 12/100\n",
      "74/74 [==============================] - 24s 325ms/step - loss: 0.3237 - accuracy: 0.8576 - val_loss: 0.4868 - val_accuracy: 0.7935\n",
      "Epoch 13/100\n",
      "74/74 [==============================] - 24s 328ms/step - loss: 0.3204 - accuracy: 0.8622 - val_loss: 0.4800 - val_accuracy: 0.7935\n",
      "Epoch 14/100\n",
      "74/74 [==============================] - 24s 321ms/step - loss: 0.3153 - accuracy: 0.8593 - val_loss: 0.4863 - val_accuracy: 0.7897\n",
      "Epoch 15/100\n",
      "74/74 [==============================] - 24s 326ms/step - loss: 0.3137 - accuracy: 0.8627 - val_loss: 0.4783 - val_accuracy: 0.7973\n",
      "Epoch 16/100\n",
      "74/74 [==============================] - 24s 321ms/step - loss: 0.3097 - accuracy: 0.8639 - val_loss: 0.4807 - val_accuracy: 0.7897\n",
      "Epoch 17/100\n",
      "74/74 [==============================] - 24s 318ms/step - loss: 0.3077 - accuracy: 0.8665 - val_loss: 0.4802 - val_accuracy: 0.7935\n",
      "Epoch 18/100\n",
      "74/74 [==============================] - 24s 324ms/step - loss: 0.3073 - accuracy: 0.8639 - val_loss: 0.4791 - val_accuracy: 0.7935\n",
      "Epoch 19/100\n",
      "74/74 [==============================] - 24s 318ms/step - loss: 0.3032 - accuracy: 0.8682 - val_loss: 0.4735 - val_accuracy: 0.7973\n",
      "Epoch 20/100\n",
      "74/74 [==============================] - 23s 316ms/step - loss: 0.3004 - accuracy: 0.8703 - val_loss: 0.4712 - val_accuracy: 0.7935\n",
      "Epoch 21/100\n",
      "74/74 [==============================] - 23s 315ms/step - loss: 0.2980 - accuracy: 0.8716 - val_loss: 0.4717 - val_accuracy: 0.7935\n",
      "Epoch 22/100\n",
      "74/74 [==============================] - 24s 322ms/step - loss: 0.2960 - accuracy: 0.8724 - val_loss: 0.4736 - val_accuracy: 0.7935\n",
      "Epoch 23/100\n",
      "74/74 [==============================] - 24s 317ms/step - loss: 0.2944 - accuracy: 0.8716 - val_loss: 0.4720 - val_accuracy: 0.7897\n",
      "Epoch 24/100\n",
      "74/74 [==============================] - 23s 316ms/step - loss: 0.2933 - accuracy: 0.8728 - val_loss: 0.4724 - val_accuracy: 0.7935\n",
      "Epoch 25/100\n",
      "74/74 [==============================] - 24s 323ms/step - loss: 0.2909 - accuracy: 0.8745 - val_loss: 0.4702 - val_accuracy: 0.7859\n",
      "Epoch 26/100\n",
      "74/74 [==============================] - 24s 327ms/step - loss: 0.2902 - accuracy: 0.8737 - val_loss: 0.4664 - val_accuracy: 0.7935\n",
      "Epoch 27/100\n",
      "74/74 [==============================] - 24s 321ms/step - loss: 0.2876 - accuracy: 0.8758 - val_loss: 0.4673 - val_accuracy: 0.7859\n",
      "Epoch 28/100\n",
      "74/74 [==============================] - 24s 327ms/step - loss: 0.2862 - accuracy: 0.8754 - val_loss: 0.4685 - val_accuracy: 0.7897\n",
      "Epoch 29/100\n",
      "74/74 [==============================] - 24s 321ms/step - loss: 0.2836 - accuracy: 0.8762 - val_loss: 0.4685 - val_accuracy: 0.7935\n",
      "Epoch 30/100\n",
      "74/74 [==============================] - 24s 318ms/step - loss: 0.2837 - accuracy: 0.8775 - val_loss: 0.4662 - val_accuracy: 0.7897\n",
      "Epoch 31/100\n",
      "74/74 [==============================] - 24s 325ms/step - loss: 0.2800 - accuracy: 0.8788 - val_loss: 0.4679 - val_accuracy: 0.7935\n",
      "Epoch 32/100\n",
      "74/74 [==============================] - 24s 320ms/step - loss: 0.2788 - accuracy: 0.8788 - val_loss: 0.4707 - val_accuracy: 0.7973\n",
      "Epoch 33/100\n",
      "74/74 [==============================] - 24s 318ms/step - loss: 0.2792 - accuracy: 0.8805 - val_loss: 0.4686 - val_accuracy: 0.7973\n",
      "Epoch 34/100\n",
      "74/74 [==============================] - 24s 324ms/step - loss: 0.2753 - accuracy: 0.8834 - val_loss: 0.4635 - val_accuracy: 0.7973\n",
      "Epoch 35/100\n",
      "74/74 [==============================] - 24s 318ms/step - loss: 0.2738 - accuracy: 0.8805 - val_loss: 0.4675 - val_accuracy: 0.7935\n",
      "Epoch 36/100\n",
      "74/74 [==============================] - 24s 324ms/step - loss: 0.2723 - accuracy: 0.8838 - val_loss: 0.4665 - val_accuracy: 0.7935\n",
      "Epoch 37/100\n",
      "74/74 [==============================] - 24s 329ms/step - loss: 0.2703 - accuracy: 0.8868 - val_loss: 0.4716 - val_accuracy: 0.7897\n",
      "Epoch 38/100\n",
      "74/74 [==============================] - 25s 332ms/step - loss: 0.2682 - accuracy: 0.8889 - val_loss: 0.4463 - val_accuracy: 0.8011\n",
      "Epoch 39/100\n",
      "74/74 [==============================] - 25s 333ms/step - loss: 0.2657 - accuracy: 0.8877 - val_loss: 0.4691 - val_accuracy: 0.7973\n",
      "Epoch 40/100\n",
      "74/74 [==============================] - 24s 325ms/step - loss: 0.2642 - accuracy: 0.8885 - val_loss: 0.4677 - val_accuracy: 0.8049\n",
      "Epoch 41/100\n",
      "74/74 [==============================] - 24s 322ms/step - loss: 0.2624 - accuracy: 0.8889 - val_loss: 0.4665 - val_accuracy: 0.7973\n",
      "Epoch 42/100\n",
      "74/74 [==============================] - 24s 328ms/step - loss: 0.2612 - accuracy: 0.8872 - val_loss: 0.4659 - val_accuracy: 0.8049\n",
      "Epoch 43/100\n",
      "74/74 [==============================] - 24s 321ms/step - loss: 0.2601 - accuracy: 0.8898 - val_loss: 0.4598 - val_accuracy: 0.8087\n",
      "Epoch 44/100\n",
      "74/74 [==============================] - 24s 318ms/step - loss: 0.2550 - accuracy: 0.8936 - val_loss: 0.4682 - val_accuracy: 0.7935\n",
      "Epoch 45/100\n",
      "74/74 [==============================] - 23s 316ms/step - loss: 0.2547 - accuracy: 0.8915 - val_loss: 0.4585 - val_accuracy: 0.8011\n",
      "Epoch 46/100\n",
      "74/74 [==============================] - 24s 323ms/step - loss: 0.2492 - accuracy: 0.8944 - val_loss: 0.4593 - val_accuracy: 0.8011\n",
      "Epoch 47/100\n",
      "74/74 [==============================] - 24s 318ms/step - loss: 0.2494 - accuracy: 0.8966 - val_loss: 0.4694 - val_accuracy: 0.7973\n",
      "Epoch 48/100\n",
      "74/74 [==============================] - 24s 324ms/step - loss: 0.2503 - accuracy: 0.8940 - val_loss: 0.4573 - val_accuracy: 0.8087\n",
      "Epoch 49/100\n",
      "74/74 [==============================] - 24s 329ms/step - loss: 0.2456 - accuracy: 0.8995 - val_loss: 0.4689 - val_accuracy: 0.7935\n",
      "Epoch 50/100\n",
      "74/74 [==============================] - 24s 321ms/step - loss: 0.2448 - accuracy: 0.8978 - val_loss: 0.4536 - val_accuracy: 0.8087\n",
      "Epoch 51/100\n",
      "74/74 [==============================] - 24s 326ms/step - loss: 0.2414 - accuracy: 0.8944 - val_loss: 0.4444 - val_accuracy: 0.8163\n",
      "Epoch 52/100\n",
      "74/74 [==============================] - 24s 320ms/step - loss: 0.2401 - accuracy: 0.9000 - val_loss: 0.4471 - val_accuracy: 0.8125\n",
      "Epoch 53/100\n",
      "74/74 [==============================] - 24s 327ms/step - loss: 0.2392 - accuracy: 0.8983 - val_loss: 0.4455 - val_accuracy: 0.8187\n",
      "Epoch 54/100\n",
      "74/74 [==============================] - 24s 322ms/step - loss: 0.2386 - accuracy: 0.8974 - val_loss: 0.4582 - val_accuracy: 0.8087\n",
      "Epoch 55/100\n",
      "74/74 [==============================] - 24s 327ms/step - loss: 0.2316 - accuracy: 0.9029 - val_loss: 0.4598 - val_accuracy: 0.8087\n",
      "Epoch 56/100\n",
      "74/74 [==============================] - 24s 321ms/step - loss: 0.2313 - accuracy: 0.9046 - val_loss: 0.4844 - val_accuracy: 0.7897\n",
      "Epoch 57/100\n",
      "74/74 [==============================] - 24s 318ms/step - loss: 0.2364 - accuracy: 0.8966 - val_loss: 0.4582 - val_accuracy: 0.8049\n",
      "Epoch 58/100\n",
      "74/74 [==============================] - 24s 324ms/step - loss: 0.2309 - accuracy: 0.9017 - val_loss: 0.4575 - val_accuracy: 0.8011\n",
      "Epoch 59/100\n",
      "74/74 [==============================] - 24s 328ms/step - loss: 0.2384 - accuracy: 0.8974 - val_loss: 0.4698 - val_accuracy: 0.7973\n",
      "Epoch 60/100\n",
      "74/74 [==============================] - 24s 321ms/step - loss: 0.2303 - accuracy: 0.9012 - val_loss: 0.4545 - val_accuracy: 0.8011\n",
      "Epoch 61/100\n",
      "74/74 [==============================] - 24s 318ms/step - loss: 0.2372 - accuracy: 0.8991 - val_loss: 0.4458 - val_accuracy: 0.8163\n",
      "Epoch 62/100\n",
      "74/74 [==============================] - 23s 317ms/step - loss: 0.2448 - accuracy: 0.8974 - val_loss: 0.4385 - val_accuracy: 0.8209\n",
      "Epoch 63/100\n",
      "74/74 [==============================] - 24s 323ms/step - loss: 0.2392 - accuracy: 0.9025 - val_loss: 0.4362 - val_accuracy: 0.8235\n",
      "Epoch 64/100\n",
      "74/74 [==============================] - 24s 318ms/step - loss: 0.2461 - accuracy: 0.8940 - val_loss: 0.4556 - val_accuracy: 0.8021\n",
      "Epoch 65/100\n",
      "74/74 [==============================] - 24s 324ms/step - loss: 0.2498 - accuracy: 0.8936 - val_loss: 0.4614 - val_accuracy: 0.7935\n",
      "Epoch 66/100\n",
      "74/74 [==============================] - 24s 319ms/step - loss: 0.2400 - accuracy: 0.9000 - val_loss: 0.4786 - val_accuracy: 0.7859\n",
      "Epoch 67/100\n",
      "74/74 [==============================] - 24s 319ms/step - loss: 0.2344 - accuracy: 0.8995 - val_loss: 0.4691 - val_accuracy: 0.7935\n",
      "Epoch 68/100\n",
      "74/74 [==============================] - 24s 323ms/step - loss: 0.2318 - accuracy: 0.9033 - val_loss: 0.4791 - val_accuracy: 0.7821\n",
      "Epoch 69/100\n",
      "74/74 [==============================] - 24s 327ms/step - loss: 0.2281 - accuracy: 0.9046 - val_loss: 0.4881 - val_accuracy: 0.7745\n",
      "Epoch 70/100\n",
      "74/74 [==============================] - 24s 320ms/step - loss: 0.2311 - accuracy: 0.9046 - val_loss: 0.4881 - val_accuracy: 0.7745\n",
      "Epoch 71/100\n",
      "74/74 [==============================] - 23s 317ms/step - loss: 0.2254 - accuracy: 0.9080 - val_loss: 0.4652 - val_accuracy: 0.7973\n",
      "Epoch 72/100\n",
      "74/74 [==============================] - 23s 316ms/step - loss: 0.2247 - accuracy: 0.9059 - val_loss: 0.4840 - val_accuracy: 0.7783\n",
      "Epoch 73/100\n",
      "74/74 [==============================] - 24s 322ms/step - loss: 0.2219 - accuracy: 0.9059 - val_loss: 0.4849 - val_accuracy: 0.7783\n",
      "Epoch 74/100\n",
      "74/74 [==============================] - 24s 326ms/step - loss: 0.2138 - accuracy: 0.9110 - val_loss: 0.4628 - val_accuracy: 0.7973\n",
      "Epoch 75/100\n",
      "74/74 [==============================] - 24s 320ms/step - loss: 0.2100 - accuracy: 0.9131 - val_loss: 0.4640 - val_accuracy: 0.7935\n",
      "Epoch 76/100\n",
      "74/74 [==============================] - 24s 326ms/step - loss: 0.2048 - accuracy: 0.9110 - val_loss: 0.4563 - val_accuracy: 0.8087\n",
      "Epoch 77/100\n",
      "74/74 [==============================] - 24s 320ms/step - loss: 0.2037 - accuracy: 0.9131 - val_loss: 0.4524 - val_accuracy: 0.8011\n",
      "Epoch 78/100\n",
      "74/74 [==============================] - 24s 318ms/step - loss: 0.1986 - accuracy: 0.9156 - val_loss: 0.4587 - val_accuracy: 0.8087\n",
      "Epoch 79/100\n",
      "74/74 [==============================] - 23s 317ms/step - loss: 0.1953 - accuracy: 0.9195 - val_loss: 0.4523 - val_accuracy: 0.8011\n",
      "Epoch 80/100\n",
      "74/74 [==============================] - 24s 323ms/step - loss: 0.1946 - accuracy: 0.9161 - val_loss: 0.4516 - val_accuracy: 0.8087\n",
      "Epoch 81/100\n",
      "74/74 [==============================] - 24s 327ms/step - loss: 0.1910 - accuracy: 0.9195 - val_loss: 0.4647 - val_accuracy: 0.7973\n",
      "Epoch 82/100\n",
      "74/74 [==============================] - 24s 321ms/step - loss: 0.1858 - accuracy: 0.9220 - val_loss: 0.4450 - val_accuracy: 0.8163\n",
      "Epoch 83/100\n",
      "74/74 [==============================] - 24s 327ms/step - loss: 0.1936 - accuracy: 0.9216 - val_loss: 0.4680 - val_accuracy: 0.7935\n",
      "Epoch 84/100\n",
      "74/74 [==============================] - 24s 331ms/step - loss: 0.1817 - accuracy: 0.9245 - val_loss: 0.4408 - val_accuracy: 0.8163\n",
      "Epoch 85/100\n",
      "74/74 [==============================] - 25s 333ms/step - loss: 0.1877 - accuracy: 0.9254 - val_loss: 0.4641 - val_accuracy: 0.7935\n",
      "Epoch 86/100\n",
      "74/74 [==============================] - 25s 336ms/step - loss: 0.1890 - accuracy: 0.9220 - val_loss: 0.4733 - val_accuracy: 0.7821\n",
      "Epoch 87/100\n",
      "74/74 [==============================] - 24s 326ms/step - loss: 0.1866 - accuracy: 0.9284 - val_loss: 0.4716 - val_accuracy: 0.7859\n",
      "Epoch 88/100\n",
      "74/74 [==============================] - 24s 321ms/step - loss: 0.1850 - accuracy: 0.9275 - val_loss: 0.4779 - val_accuracy: 0.7821\n",
      "Epoch 89/100\n",
      "74/74 [==============================] - 24s 318ms/step - loss: 0.1811 - accuracy: 0.9296 - val_loss: 0.4771 - val_accuracy: 0.7859\n",
      "Epoch 90/100\n",
      "74/74 [==============================] - 23s 317ms/step - loss: 0.1798 - accuracy: 0.9271 - val_loss: 0.4788 - val_accuracy: 0.7859\n",
      "Epoch 91/100\n",
      "74/74 [==============================] - 24s 323ms/step - loss: 0.1832 - accuracy: 0.9258 - val_loss: 0.4982 - val_accuracy: 0.7669\n",
      "Epoch 92/100\n",
      "74/74 [==============================] - 24s 318ms/step - loss: 0.1873 - accuracy: 0.9245 - val_loss: 0.4765 - val_accuracy: 0.7707\n",
      "Epoch 93/100\n",
      "74/74 [==============================] - 24s 324ms/step - loss: 0.2044 - accuracy: 0.9139 - val_loss: 0.4770 - val_accuracy: 0.7783\n",
      "Epoch 94/100\n",
      "74/74 [==============================] - 24s 318ms/step - loss: 0.2194 - accuracy: 0.9046 - val_loss: 0.4769 - val_accuracy: 0.7821\n",
      "Epoch 95/100\n",
      "74/74 [==============================] - 24s 325ms/step - loss: 0.1971 - accuracy: 0.9165 - val_loss: 0.4608 - val_accuracy: 0.7973\n",
      "Epoch 96/100\n",
      "74/74 [==============================] - 24s 320ms/step - loss: 0.1924 - accuracy: 0.9190 - val_loss: 0.4679 - val_accuracy: 0.7973\n",
      "Epoch 97/100\n",
      "74/74 [==============================] - 23s 317ms/step - loss: 0.2013 - accuracy: 0.9135 - val_loss: 0.4760 - val_accuracy: 0.7897\n",
      "Epoch 98/100\n",
      "74/74 [==============================] - 24s 324ms/step - loss: 0.1833 - accuracy: 0.9250 - val_loss: 0.4710 - val_accuracy: 0.7859\n",
      "Epoch 99/100\n",
      "74/74 [==============================] - 24s 318ms/step - loss: 0.1802 - accuracy: 0.9233 - val_loss: 0.4670 - val_accuracy: 0.7973\n",
      "Epoch 100/100\n",
      "74/74 [==============================] - 24s 317ms/step - loss: 0.1900 - accuracy: 0.9148 - val_loss: 0.4758 - val_accuracy: 0.7821\n"
     ]
    }
   ],
   "source": [
    "history = model.fit(train_ds, validation_data=validation_ds, epochs=100, callbacks=my_callbacks)"
   ]
  },
  {
   "cell_type": "markdown",
   "metadata": {
    "id": "l02KRESoz4iY"
   },
   "source": [
    "### Evaluating the model"
   ]
  },
  {
   "cell_type": "code",
   "execution_count": null,
   "metadata": {
    "colab": {
     "base_uri": "https://localhost:8080/"
    },
    "id": "cwjb4jzVz4iY",
    "outputId": "4a95822f-6ad3-48ea-a12c-497a47604889"
   },
   "outputs": [
    {
     "name": "stdout",
     "output_type": "stream",
     "text": [
      "10/10 [==============================] - 3s 241ms/step - loss: 0.4497 - accuracy: 0.8262\n"
     ]
    },
    {
     "data": {
      "text/plain": [
       "[0.44965622663497925, 0.8261643958091736]"
      ]
     },
     "execution_count": 48,
     "metadata": {},
     "output_type": "execute_result"
    }
   ],
   "source": [
    "model = tf.keras.models.load_model(\"./saved_models/checkpoints/best_model\")\n",
    "model.evaluate(test_ds)"
   ]
  },
  {
   "cell_type": "markdown",
   "metadata": {
    "id": "TtBcOiOAGSAH"
   },
   "source": [
    "## Gucci"
   ]
  },
  {
   "cell_type": "markdown",
   "metadata": {
    "id": "Rz_YMb2pGSAJ"
   },
   "source": [
    "### Split data into training, testing, validation"
   ]
  },
  {
   "cell_type": "code",
   "execution_count": null,
   "metadata": {
    "colab": {
     "base_uri": "https://localhost:8080/"
    },
    "id": "kHq-l9mEGSAK",
    "outputId": "f85bcc53-60f6-4884-b60b-addb3baa10a8"
   },
   "outputs": [
    {
     "name": "stdout",
     "output_type": "stream",
     "text": [
      "Total training examples: 2821\n",
      "Total validation examples: 314\n",
      "Total test examples: 349\n"
     ]
    }
   ],
   "source": [
    "train_df, test_df = train_test_split(df_gucci, test_size=0.1, random_state=42)\n",
    "train_df, val_df = train_test_split(train_df, test_size=0.1, random_state=42)\n",
    "\n",
    "print(f\"Total training examples: {len(train_df)}\")\n",
    "print(f\"Total validation examples: {len(val_df)}\")\n",
    "print(f\"Total test examples: {len(test_df)}\")"
   ]
  },
  {
   "cell_type": "code",
   "execution_count": null,
   "metadata": {
    "id": "oGQKi-1eGSAL"
   },
   "outputs": [],
   "source": [
    "train_ds = prepare_dataset(train_df)\n",
    "validation_ds = prepare_dataset(val_df, False)\n",
    "test_ds = prepare_dataset(test_df, False)"
   ]
  },
  {
   "cell_type": "markdown",
   "metadata": {
    "id": "CE1BBUDNGSAM"
   },
   "source": [
    "### Training the model"
   ]
  },
  {
   "cell_type": "code",
   "execution_count": null,
   "metadata": {
    "colab": {
     "base_uri": "https://localhost:8080/"
    },
    "id": "-XhK11cuGSAM",
    "outputId": "88043e11-64e9-4e5e-8621-430f0b4f36fd"
   },
   "outputs": [
    {
     "name": "stdout",
     "output_type": "stream",
     "text": [
      "Epoch 1/100\n",
      "89/89 [==============================] - 39s 344ms/step - loss: 0.7352 - accuracy: 0.6597 - val_loss: 0.5860 - val_accuracy: 0.7229\n",
      "Epoch 2/100\n",
      "89/89 [==============================] - 29s 322ms/step - loss: 0.6145 - accuracy: 0.6838 - val_loss: 0.5626 - val_accuracy: 0.7357\n",
      "Epoch 3/100\n",
      "89/89 [==============================] - 29s 326ms/step - loss: 0.6060 - accuracy: 0.6898 - val_loss: 0.5447 - val_accuracy: 0.7452\n",
      "Epoch 4/100\n",
      "89/89 [==============================] - 29s 325ms/step - loss: 0.5963 - accuracy: 0.6948 - val_loss: 0.5353 - val_accuracy: 0.7420\n",
      "Epoch 5/100\n",
      "89/89 [==============================] - 29s 322ms/step - loss: 0.5858 - accuracy: 0.6987 - val_loss: 0.5281 - val_accuracy: 0.7484\n",
      "Epoch 6/100\n",
      "89/89 [==============================] - 29s 328ms/step - loss: 0.5773 - accuracy: 0.7012 - val_loss: 0.5244 - val_accuracy: 0.7325\n",
      "Epoch 7/100\n",
      "89/89 [==============================] - 29s 323ms/step - loss: 0.5724 - accuracy: 0.7058 - val_loss: 0.5159 - val_accuracy: 0.7452\n",
      "Epoch 8/100\n",
      "89/89 [==============================] - 29s 323ms/step - loss: 0.5646 - accuracy: 0.7107 - val_loss: 0.5064 - val_accuracy: 0.7516\n",
      "Epoch 9/100\n",
      "89/89 [==============================] - 29s 329ms/step - loss: 0.5594 - accuracy: 0.7200 - val_loss: 0.5088 - val_accuracy: 0.7580\n",
      "Epoch 10/100\n",
      "89/89 [==============================] - 29s 322ms/step - loss: 0.5510 - accuracy: 0.7253 - val_loss: 0.5189 - val_accuracy: 0.7484\n",
      "Epoch 11/100\n",
      "89/89 [==============================] - 29s 324ms/step - loss: 0.5453 - accuracy: 0.7292 - val_loss: 0.5587 - val_accuracy: 0.7229\n",
      "Epoch 12/100\n",
      "89/89 [==============================] - 29s 325ms/step - loss: 0.5411 - accuracy: 0.7331 - val_loss: 0.5620 - val_accuracy: 0.7293\n",
      "Epoch 13/100\n",
      "89/89 [==============================] - 29s 324ms/step - loss: 0.5386 - accuracy: 0.7338 - val_loss: 0.5512 - val_accuracy: 0.7293\n",
      "Epoch 14/100\n",
      "89/89 [==============================] - 29s 327ms/step - loss: 0.5340 - accuracy: 0.7377 - val_loss: 0.5455 - val_accuracy: 0.7484\n",
      "Epoch 15/100\n",
      "89/89 [==============================] - 29s 322ms/step - loss: 0.5300 - accuracy: 0.7441 - val_loss: 0.5490 - val_accuracy: 0.7548\n",
      "Epoch 16/100\n",
      "89/89 [==============================] - 29s 328ms/step - loss: 0.5242 - accuracy: 0.7476 - val_loss: 0.5327 - val_accuracy: 0.7548\n",
      "Epoch 17/100\n",
      "89/89 [==============================] - 29s 323ms/step - loss: 0.5221 - accuracy: 0.7469 - val_loss: 0.5404 - val_accuracy: 0.7548\n",
      "Epoch 18/100\n",
      "89/89 [==============================] - 29s 327ms/step - loss: 0.5187 - accuracy: 0.7519 - val_loss: 0.5305 - val_accuracy: 0.7548\n",
      "Epoch 19/100\n",
      "89/89 [==============================] - 29s 325ms/step - loss: 0.5167 - accuracy: 0.7536 - val_loss: 0.5343 - val_accuracy: 0.7548\n",
      "Epoch 20/100\n",
      "89/89 [==============================] - 29s 325ms/step - loss: 0.5118 - accuracy: 0.7572 - val_loss: 0.5289 - val_accuracy: 0.7548\n",
      "Epoch 21/100\n",
      "89/89 [==============================] - 29s 324ms/step - loss: 0.5085 - accuracy: 0.7604 - val_loss: 0.5225 - val_accuracy: 0.7643\n",
      "Epoch 22/100\n",
      "89/89 [==============================] - 29s 329ms/step - loss: 0.5059 - accuracy: 0.7621 - val_loss: 0.5148 - val_accuracy: 0.7643\n",
      "Epoch 23/100\n",
      "89/89 [==============================] - 29s 322ms/step - loss: 0.5026 - accuracy: 0.7625 - val_loss: 0.5207 - val_accuracy: 0.7675\n",
      "Epoch 24/100\n",
      "89/89 [==============================] - 29s 328ms/step - loss: 0.4998 - accuracy: 0.7660 - val_loss: 0.5309 - val_accuracy: 0.7420\n",
      "Epoch 25/100\n",
      "89/89 [==============================] - 29s 323ms/step - loss: 0.4954 - accuracy: 0.7714 - val_loss: 0.5087 - val_accuracy: 0.7643\n",
      "Epoch 26/100\n",
      "89/89 [==============================] - 29s 325ms/step - loss: 0.4980 - accuracy: 0.7675 - val_loss: 0.5214 - val_accuracy: 0.7611\n",
      "Epoch 27/100\n",
      "89/89 [==============================] - 29s 328ms/step - loss: 0.4930 - accuracy: 0.7703 - val_loss: 0.5251 - val_accuracy: 0.7516\n",
      "Epoch 28/100\n",
      "89/89 [==============================] - 29s 321ms/step - loss: 0.4881 - accuracy: 0.7767 - val_loss: 0.5187 - val_accuracy: 0.7548\n",
      "Epoch 29/100\n",
      "89/89 [==============================] - 29s 325ms/step - loss: 0.4838 - accuracy: 0.7784 - val_loss: 0.5148 - val_accuracy: 0.7516\n",
      "Epoch 30/100\n",
      "89/89 [==============================] - 29s 325ms/step - loss: 0.4847 - accuracy: 0.7770 - val_loss: 0.5190 - val_accuracy: 0.7516\n",
      "Epoch 31/100\n",
      "89/89 [==============================] - 29s 326ms/step - loss: 0.4810 - accuracy: 0.7774 - val_loss: 0.5211 - val_accuracy: 0.7420\n",
      "Epoch 32/100\n",
      "89/89 [==============================] - 29s 325ms/step - loss: 0.4756 - accuracy: 0.7831 - val_loss: 0.5124 - val_accuracy: 0.7548\n",
      "Epoch 33/100\n",
      "89/89 [==============================] - 29s 323ms/step - loss: 0.4732 - accuracy: 0.7855 - val_loss: 0.5083 - val_accuracy: 0.7516\n",
      "Epoch 34/100\n",
      "89/89 [==============================] - 29s 327ms/step - loss: 0.4733 - accuracy: 0.7848 - val_loss: 0.5136 - val_accuracy: 0.7516\n",
      "Epoch 35/100\n",
      "89/89 [==============================] - 29s 323ms/step - loss: 0.4690 - accuracy: 0.7880 - val_loss: 0.5244 - val_accuracy: 0.7389\n",
      "Epoch 36/100\n",
      "89/89 [==============================] - 29s 323ms/step - loss: 0.4659 - accuracy: 0.7898 - val_loss: 0.5148 - val_accuracy: 0.7357\n",
      "Epoch 37/100\n",
      "89/89 [==============================] - 29s 324ms/step - loss: 0.4671 - accuracy: 0.7873 - val_loss: 0.5330 - val_accuracy: 0.7261\n",
      "Epoch 38/100\n",
      "89/89 [==============================] - 29s 326ms/step - loss: 0.4600 - accuracy: 0.7933 - val_loss: 0.5420 - val_accuracy: 0.7293\n",
      "Epoch 39/100\n",
      "89/89 [==============================] - 29s 328ms/step - loss: 0.4591 - accuracy: 0.7919 - val_loss: 0.5248 - val_accuracy: 0.7325\n",
      "Epoch 40/100\n",
      "89/89 [==============================] - 29s 322ms/step - loss: 0.4598 - accuracy: 0.7909 - val_loss: 0.5243 - val_accuracy: 0.7389\n",
      "Epoch 41/100\n",
      "89/89 [==============================] - 29s 329ms/step - loss: 0.4551 - accuracy: 0.7923 - val_loss: 0.5362 - val_accuracy: 0.7261\n",
      "Epoch 42/100\n",
      "89/89 [==============================] - 29s 323ms/step - loss: 0.4521 - accuracy: 0.7994 - val_loss: 0.5307 - val_accuracy: 0.7325\n",
      "Epoch 43/100\n",
      "89/89 [==============================] - 29s 324ms/step - loss: 0.4536 - accuracy: 0.7923 - val_loss: 0.5313 - val_accuracy: 0.7357\n",
      "Epoch 44/100\n",
      "89/89 [==============================] - 29s 327ms/step - loss: 0.4459 - accuracy: 0.7997 - val_loss: 0.5367 - val_accuracy: 0.7325\n",
      "Epoch 45/100\n",
      "89/89 [==============================] - 29s 323ms/step - loss: 0.4464 - accuracy: 0.7983 - val_loss: 0.5522 - val_accuracy: 0.7197\n",
      "Epoch 46/100\n",
      "89/89 [==============================] - 29s 325ms/step - loss: 0.4420 - accuracy: 0.8004 - val_loss: 0.5309 - val_accuracy: 0.7357\n",
      "Epoch 47/100\n",
      "89/89 [==============================] - 29s 327ms/step - loss: 0.4420 - accuracy: 0.8022 - val_loss: 0.5445 - val_accuracy: 0.7325\n",
      "Epoch 48/100\n",
      "89/89 [==============================] - 29s 323ms/step - loss: 0.4392 - accuracy: 0.8040 - val_loss: 0.5376 - val_accuracy: 0.7325\n",
      "Epoch 49/100\n",
      "89/89 [==============================] - 29s 322ms/step - loss: 0.4350 - accuracy: 0.8061 - val_loss: 0.5582 - val_accuracy: 0.7261\n",
      "Epoch 50/100\n",
      "89/89 [==============================] - 29s 325ms/step - loss: 0.4356 - accuracy: 0.8018 - val_loss: 0.5540 - val_accuracy: 0.7261\n",
      "Epoch 51/100\n",
      "89/89 [==============================] - 29s 323ms/step - loss: 0.4359 - accuracy: 0.8079 - val_loss: 0.5622 - val_accuracy: 0.7166\n",
      "Epoch 52/100\n",
      "89/89 [==============================] - 29s 323ms/step - loss: 0.4339 - accuracy: 0.8082 - val_loss: 0.5673 - val_accuracy: 0.7134\n",
      "Epoch 53/100\n",
      "89/89 [==============================] - 29s 324ms/step - loss: 0.4302 - accuracy: 0.8111 - val_loss: 0.5744 - val_accuracy: 0.7070\n",
      "Epoch 54/100\n",
      "89/89 [==============================] - 29s 325ms/step - loss: 0.4294 - accuracy: 0.8132 - val_loss: 0.5772 - val_accuracy: 0.7070\n",
      "Epoch 55/100\n",
      "89/89 [==============================] - 29s 326ms/step - loss: 0.4262 - accuracy: 0.8143 - val_loss: 0.5855 - val_accuracy: 0.7038\n",
      "Epoch 56/100\n",
      "89/89 [==============================] - 29s 325ms/step - loss: 0.4250 - accuracy: 0.8135 - val_loss: 0.5723 - val_accuracy: 0.7070\n",
      "Epoch 57/100\n",
      "89/89 [==============================] - 29s 326ms/step - loss: 0.4250 - accuracy: 0.8167 - val_loss: 0.5724 - val_accuracy: 0.7102\n",
      "Epoch 58/100\n",
      "89/89 [==============================] - 29s 325ms/step - loss: 0.4253 - accuracy: 0.8135 - val_loss: 0.5861 - val_accuracy: 0.7006\n",
      "Epoch 59/100\n",
      "89/89 [==============================] - 29s 323ms/step - loss: 0.4222 - accuracy: 0.8174 - val_loss: 0.5890 - val_accuracy: 0.7070\n",
      "Epoch 60/100\n",
      "89/89 [==============================] - 29s 329ms/step - loss: 0.4162 - accuracy: 0.8206 - val_loss: 0.5922 - val_accuracy: 0.7006\n",
      "Epoch 61/100\n",
      "89/89 [==============================] - 29s 322ms/step - loss: 0.4157 - accuracy: 0.8178 - val_loss: 0.5839 - val_accuracy: 0.7070\n",
      "Epoch 62/100\n",
      "89/89 [==============================] - 29s 328ms/step - loss: 0.4159 - accuracy: 0.8213 - val_loss: 0.5898 - val_accuracy: 0.7006\n",
      "Epoch 63/100\n",
      "89/89 [==============================] - 29s 324ms/step - loss: 0.4139 - accuracy: 0.8228 - val_loss: 0.5724 - val_accuracy: 0.7166\n",
      "Epoch 64/100\n",
      "89/89 [==============================] - 29s 323ms/step - loss: 0.4078 - accuracy: 0.8242 - val_loss: 0.5938 - val_accuracy: 0.7038\n",
      "Epoch 65/100\n",
      "89/89 [==============================] - 29s 327ms/step - loss: 0.4113 - accuracy: 0.8231 - val_loss: 0.5807 - val_accuracy: 0.7102\n",
      "Epoch 66/100\n",
      "89/89 [==============================] - 29s 324ms/step - loss: 0.4035 - accuracy: 0.8277 - val_loss: 0.5823 - val_accuracy: 0.7070\n",
      "Epoch 67/100\n",
      "89/89 [==============================] - 29s 326ms/step - loss: 0.4077 - accuracy: 0.8277 - val_loss: 0.5843 - val_accuracy: 0.7070\n",
      "Epoch 68/100\n",
      "89/89 [==============================] - 29s 324ms/step - loss: 0.4023 - accuracy: 0.8270 - val_loss: 0.5869 - val_accuracy: 0.7070\n",
      "Epoch 69/100\n",
      "89/89 [==============================] - 29s 326ms/step - loss: 0.4012 - accuracy: 0.8281 - val_loss: 0.5771 - val_accuracy: 0.7197\n",
      "Epoch 70/100\n",
      "89/89 [==============================] - 29s 324ms/step - loss: 0.3951 - accuracy: 0.8274 - val_loss: 0.5767 - val_accuracy: 0.7070\n",
      "Epoch 71/100\n",
      "89/89 [==============================] - 29s 326ms/step - loss: 0.3961 - accuracy: 0.8298 - val_loss: 0.5895 - val_accuracy: 0.7134\n",
      "Epoch 72/100\n",
      "89/89 [==============================] - 29s 325ms/step - loss: 0.3945 - accuracy: 0.8302 - val_loss: 0.5908 - val_accuracy: 0.7166\n",
      "Epoch 73/100\n",
      "89/89 [==============================] - 29s 325ms/step - loss: 0.3932 - accuracy: 0.8316 - val_loss: 0.6154 - val_accuracy: 0.7102\n",
      "Epoch 74/100\n",
      "89/89 [==============================] - 29s 324ms/step - loss: 0.3908 - accuracy: 0.8298 - val_loss: 0.6173 - val_accuracy: 0.7006\n",
      "Epoch 75/100\n",
      "89/89 [==============================] - 29s 328ms/step - loss: 0.3949 - accuracy: 0.8313 - val_loss: 0.5574 - val_accuracy: 0.7420\n",
      "Epoch 76/100\n",
      "89/89 [==============================] - 29s 324ms/step - loss: 0.3891 - accuracy: 0.8341 - val_loss: 0.5773 - val_accuracy: 0.7293\n",
      "Epoch 77/100\n",
      "89/89 [==============================] - 29s 327ms/step - loss: 0.3813 - accuracy: 0.8341 - val_loss: 0.6168 - val_accuracy: 0.7166\n",
      "Epoch 78/100\n",
      "89/89 [==============================] - 29s 325ms/step - loss: 0.3836 - accuracy: 0.8348 - val_loss: 0.5976 - val_accuracy: 0.7261\n",
      "Epoch 79/100\n",
      "89/89 [==============================] - 29s 325ms/step - loss: 0.3789 - accuracy: 0.8366 - val_loss: 0.6327 - val_accuracy: 0.7070\n",
      "Epoch 80/100\n",
      "89/89 [==============================] - 29s 326ms/step - loss: 0.3815 - accuracy: 0.8327 - val_loss: 0.5485 - val_accuracy: 0.7643\n",
      "Epoch 81/100\n",
      "89/89 [==============================] - 29s 325ms/step - loss: 0.3750 - accuracy: 0.8401 - val_loss: 0.5921 - val_accuracy: 0.7325\n",
      "Epoch 82/100\n",
      "89/89 [==============================] - 29s 326ms/step - loss: 0.3759 - accuracy: 0.8384 - val_loss: 0.5735 - val_accuracy: 0.7420\n",
      "Epoch 83/100\n",
      "89/89 [==============================] - 29s 323ms/step - loss: 0.3714 - accuracy: 0.8415 - val_loss: 0.6384 - val_accuracy: 0.7006\n",
      "Epoch 84/100\n",
      "89/89 [==============================] - 29s 326ms/step - loss: 0.3711 - accuracy: 0.8437 - val_loss: 0.6266 - val_accuracy: 0.7038\n",
      "Epoch 85/100\n",
      "89/89 [==============================] - 29s 327ms/step - loss: 0.3686 - accuracy: 0.8430 - val_loss: 0.6494 - val_accuracy: 0.7038\n",
      "Epoch 86/100\n",
      "89/89 [==============================] - 29s 322ms/step - loss: 0.3645 - accuracy: 0.8476 - val_loss: 0.6554 - val_accuracy: 0.6975\n",
      "Epoch 87/100\n",
      "89/89 [==============================] - 29s 325ms/step - loss: 0.3629 - accuracy: 0.8497 - val_loss: 0.6382 - val_accuracy: 0.7070\n",
      "Epoch 88/100\n",
      "89/89 [==============================] - 29s 326ms/step - loss: 0.3591 - accuracy: 0.8532 - val_loss: 0.6304 - val_accuracy: 0.7006\n",
      "Epoch 89/100\n",
      "89/89 [==============================] - 29s 324ms/step - loss: 0.3570 - accuracy: 0.8511 - val_loss: 0.6416 - val_accuracy: 0.7006\n",
      "Epoch 90/100\n",
      "89/89 [==============================] - 29s 324ms/step - loss: 0.3581 - accuracy: 0.8472 - val_loss: 0.6166 - val_accuracy: 0.7229\n",
      "Epoch 91/100\n",
      "89/89 [==============================] - 29s 328ms/step - loss: 0.3548 - accuracy: 0.8511 - val_loss: 0.6212 - val_accuracy: 0.7389\n",
      "Epoch 92/100\n",
      "89/89 [==============================] - 29s 322ms/step - loss: 0.3624 - accuracy: 0.8515 - val_loss: 0.5759 - val_accuracy: 0.7484\n",
      "Epoch 93/100\n",
      "89/89 [==============================] - 29s 324ms/step - loss: 0.3618 - accuracy: 0.8476 - val_loss: 0.6420 - val_accuracy: 0.7134\n",
      "Epoch 94/100\n",
      "89/89 [==============================] - 29s 324ms/step - loss: 0.3936 - accuracy: 0.8309 - val_loss: 0.5965 - val_accuracy: 0.7070\n",
      "Epoch 95/100\n",
      "89/89 [==============================] - 29s 326ms/step - loss: 0.3606 - accuracy: 0.8490 - val_loss: 0.5584 - val_accuracy: 0.7389\n",
      "Epoch 96/100\n",
      "89/89 [==============================] - 29s 325ms/step - loss: 0.3528 - accuracy: 0.8529 - val_loss: 0.5499 - val_accuracy: 0.7484\n",
      "Epoch 97/100\n",
      "89/89 [==============================] - 29s 323ms/step - loss: 0.3456 - accuracy: 0.8532 - val_loss: 0.5774 - val_accuracy: 0.7516\n",
      "Epoch 98/100\n",
      "89/89 [==============================] - 29s 329ms/step - loss: 0.3399 - accuracy: 0.8557 - val_loss: 0.6016 - val_accuracy: 0.7484\n",
      "Epoch 99/100\n",
      "89/89 [==============================] - 29s 323ms/step - loss: 0.3418 - accuracy: 0.8543 - val_loss: 0.5919 - val_accuracy: 0.7452\n",
      "Epoch 100/100\n",
      "89/89 [==============================] - 29s 322ms/step - loss: 0.3382 - accuracy: 0.8554 - val_loss: 0.5744 - val_accuracy: 0.7611\n"
     ]
    }
   ],
   "source": [
    "history = model.fit(train_ds, validation_data=validation_ds, epochs=100, callbacks=my_callbacks)"
   ]
  },
  {
   "cell_type": "markdown",
   "metadata": {
    "id": "T0-JR4_WGSAN"
   },
   "source": [
    "### Evaluating the model"
   ]
  },
  {
   "cell_type": "code",
   "execution_count": null,
   "metadata": {
    "colab": {
     "base_uri": "https://localhost:8080/"
    },
    "id": "gUVyBA6EGSAO",
    "outputId": "455afc5d-e60f-49cb-ca09-f44c42880292"
   },
   "outputs": [
    {
     "name": "stdout",
     "output_type": "stream",
     "text": [
      "11/11 [==============================] - 4s 261ms/step - loss: 0.5297 - accuracy: 0.7490\n"
     ]
    },
    {
     "data": {
      "text/plain": [
       "[0.5297412061691284, 0.7490257883071899]"
      ]
     },
     "execution_count": 60,
     "metadata": {},
     "output_type": "execute_result"
    }
   ],
   "source": [
    "model = tf.keras.models.load_model(\"./saved_models/checkpoints/best_model\")\n",
    "model.evaluate(test_ds)"
   ]
  },
  {
   "cell_type": "markdown",
   "metadata": {
    "id": "hBlH9BNGWmVe"
   },
   "source": [
    "## Cristiano Ronaldo"
   ]
  },
  {
   "cell_type": "markdown",
   "metadata": {
    "id": "FGnClIaZWmVe"
   },
   "source": [
    "### Split data into training, testing, validation"
   ]
  },
  {
   "cell_type": "code",
   "execution_count": null,
   "metadata": {
    "colab": {
     "base_uri": "https://localhost:8080/"
    },
    "id": "2xjIVmyTWmVf",
    "outputId": "78152284-23ea-4833-c5f8-abd6e167364a"
   },
   "outputs": [
    {
     "name": "stdout",
     "output_type": "stream",
     "text": [
      "Total training examples: 3452\n",
      "Total validation examples: 384\n",
      "Total test examples: 427\n"
     ]
    }
   ],
   "source": [
    "train_df, test_df = train_test_split(df_cristianoronaldo, test_size=0.1, random_state=42)\n",
    "train_df, val_df = train_test_split(train_df, test_size=0.1, random_state=42)\n",
    "\n",
    "print(f\"Total training examples: {len(train_df)}\")\n",
    "print(f\"Total validation examples: {len(val_df)}\")\n",
    "print(f\"Total test examples: {len(test_df)}\")"
   ]
  },
  {
   "cell_type": "code",
   "execution_count": null,
   "metadata": {
    "id": "wxrkX4T0WmVf"
   },
   "outputs": [],
   "source": [
    "train_ds = prepare_dataset(train_df)\n",
    "validation_ds = prepare_dataset(val_df, False)\n",
    "test_ds = prepare_dataset(test_df, False)"
   ]
  },
  {
   "cell_type": "markdown",
   "metadata": {
    "id": "K8Qw-hXWWmVf"
   },
   "source": [
    "### Training the model"
   ]
  },
  {
   "cell_type": "code",
   "execution_count": null,
   "metadata": {
    "colab": {
     "base_uri": "https://localhost:8080/"
    },
    "id": "DljV2vBkWmVf",
    "outputId": "c7610ca7-2860-4e8f-8d2a-69ee8c12932d"
   },
   "outputs": [
    {
     "name": "stdout",
     "output_type": "stream",
     "text": [
      "Epoch 1/100\n",
      "108/108 [==============================] - 44s 311ms/step - loss: 0.6744 - accuracy: 0.6996 - val_loss: 0.5049 - val_accuracy: 0.7630\n",
      "Epoch 2/100\n",
      "108/108 [==============================] - 34s 311ms/step - loss: 0.4899 - accuracy: 0.7526 - val_loss: 0.4936 - val_accuracy: 0.7604\n",
      "Epoch 3/100\n",
      "108/108 [==============================] - 34s 316ms/step - loss: 0.4603 - accuracy: 0.7714 - val_loss: 0.4776 - val_accuracy: 0.7552\n",
      "Epoch 4/100\n",
      "108/108 [==============================] - 35s 320ms/step - loss: 0.4451 - accuracy: 0.7845 - val_loss: 0.4698 - val_accuracy: 0.7630\n",
      "Epoch 5/100\n",
      "108/108 [==============================] - 35s 327ms/step - loss: 0.4348 - accuracy: 0.7891 - val_loss: 0.4680 - val_accuracy: 0.7552\n",
      "Epoch 6/100\n",
      "108/108 [==============================] - 36s 332ms/step - loss: 0.4238 - accuracy: 0.7975 - val_loss: 0.4600 - val_accuracy: 0.7630\n",
      "Epoch 7/100\n",
      "108/108 [==============================] - 36s 333ms/step - loss: 0.4155 - accuracy: 0.8039 - val_loss: 0.4606 - val_accuracy: 0.7630\n",
      "Epoch 8/100\n",
      "108/108 [==============================] - 36s 334ms/step - loss: 0.4129 - accuracy: 0.8059 - val_loss: 0.4573 - val_accuracy: 0.7708\n",
      "Epoch 9/100\n",
      "108/108 [==============================] - 36s 338ms/step - loss: 0.4084 - accuracy: 0.8105 - val_loss: 0.4565 - val_accuracy: 0.7656\n",
      "Epoch 10/100\n",
      "108/108 [==============================] - 36s 337ms/step - loss: 0.4024 - accuracy: 0.8132 - val_loss: 0.4489 - val_accuracy: 0.7682\n",
      "Epoch 11/100\n",
      "108/108 [==============================] - 37s 340ms/step - loss: 0.3982 - accuracy: 0.8152 - val_loss: 0.4507 - val_accuracy: 0.7682\n",
      "Epoch 12/100\n",
      "108/108 [==============================] - 36s 332ms/step - loss: 0.3948 - accuracy: 0.8187 - val_loss: 0.4480 - val_accuracy: 0.7812\n",
      "Epoch 13/100\n",
      "108/108 [==============================] - 36s 332ms/step - loss: 0.3903 - accuracy: 0.8230 - val_loss: 0.4451 - val_accuracy: 0.7995\n",
      "Epoch 14/100\n",
      "108/108 [==============================] - 36s 335ms/step - loss: 0.3862 - accuracy: 0.8239 - val_loss: 0.4438 - val_accuracy: 0.7969\n",
      "Epoch 15/100\n",
      "108/108 [==============================] - 36s 336ms/step - loss: 0.3841 - accuracy: 0.8262 - val_loss: 0.4417 - val_accuracy: 0.7917\n",
      "Epoch 16/100\n",
      "108/108 [==============================] - 36s 338ms/step - loss: 0.3805 - accuracy: 0.8271 - val_loss: 0.4429 - val_accuracy: 0.7917\n",
      "Epoch 17/100\n",
      "108/108 [==============================] - 37s 341ms/step - loss: 0.3778 - accuracy: 0.8276 - val_loss: 0.4429 - val_accuracy: 0.7917\n",
      "Epoch 18/100\n",
      "108/108 [==============================] - 38s 349ms/step - loss: 0.3759 - accuracy: 0.8282 - val_loss: 0.4401 - val_accuracy: 0.7891\n",
      "Epoch 19/100\n",
      "108/108 [==============================] - 37s 340ms/step - loss: 0.3743 - accuracy: 0.8308 - val_loss: 0.4406 - val_accuracy: 0.7891\n",
      "Epoch 20/100\n",
      "108/108 [==============================] - 37s 338ms/step - loss: 0.3718 - accuracy: 0.8314 - val_loss: 0.4398 - val_accuracy: 0.7839\n",
      "Epoch 21/100\n",
      "108/108 [==============================] - 36s 335ms/step - loss: 0.3692 - accuracy: 0.8331 - val_loss: 0.4368 - val_accuracy: 0.7865\n",
      "Epoch 22/100\n",
      "108/108 [==============================] - 36s 333ms/step - loss: 0.3672 - accuracy: 0.8357 - val_loss: 0.4369 - val_accuracy: 0.7943\n",
      "Epoch 23/100\n",
      "108/108 [==============================] - 36s 332ms/step - loss: 0.3629 - accuracy: 0.8381 - val_loss: 0.4404 - val_accuracy: 0.7917\n",
      "Epoch 24/100\n",
      "108/108 [==============================] - 36s 335ms/step - loss: 0.3623 - accuracy: 0.8384 - val_loss: 0.4405 - val_accuracy: 0.7917\n",
      "Epoch 25/100\n",
      "108/108 [==============================] - 36s 337ms/step - loss: 0.3599 - accuracy: 0.8395 - val_loss: 0.4428 - val_accuracy: 0.7917\n",
      "Epoch 26/100\n",
      "108/108 [==============================] - 36s 334ms/step - loss: 0.3584 - accuracy: 0.8381 - val_loss: 0.4411 - val_accuracy: 0.7891\n",
      "Epoch 27/100\n",
      "108/108 [==============================] - 36s 336ms/step - loss: 0.3557 - accuracy: 0.8378 - val_loss: 0.4411 - val_accuracy: 0.7891\n",
      "Epoch 28/100\n",
      "108/108 [==============================] - 36s 334ms/step - loss: 0.3515 - accuracy: 0.8418 - val_loss: 0.4426 - val_accuracy: 0.7891\n",
      "Epoch 29/100\n",
      "108/108 [==============================] - 36s 332ms/step - loss: 0.3499 - accuracy: 0.8415 - val_loss: 0.4421 - val_accuracy: 0.7891\n",
      "Epoch 30/100\n",
      "108/108 [==============================] - 36s 331ms/step - loss: 0.3494 - accuracy: 0.8413 - val_loss: 0.4428 - val_accuracy: 0.7865\n",
      "Epoch 31/100\n",
      "108/108 [==============================] - 36s 335ms/step - loss: 0.3485 - accuracy: 0.8444 - val_loss: 0.4470 - val_accuracy: 0.7812\n",
      "Epoch 32/100\n",
      "108/108 [==============================] - 36s 332ms/step - loss: 0.3470 - accuracy: 0.8413 - val_loss: 0.4436 - val_accuracy: 0.7812\n",
      "Epoch 33/100\n",
      "108/108 [==============================] - 36s 331ms/step - loss: 0.3436 - accuracy: 0.8444 - val_loss: 0.4483 - val_accuracy: 0.7786\n",
      "Epoch 34/100\n",
      "108/108 [==============================] - 36s 330ms/step - loss: 0.3409 - accuracy: 0.8459 - val_loss: 0.4520 - val_accuracy: 0.7734\n",
      "Epoch 35/100\n",
      "108/108 [==============================] - 36s 330ms/step - loss: 0.3387 - accuracy: 0.8456 - val_loss: 0.4555 - val_accuracy: 0.7734\n",
      "Epoch 36/100\n",
      "108/108 [==============================] - 36s 329ms/step - loss: 0.3377 - accuracy: 0.8456 - val_loss: 0.4528 - val_accuracy: 0.7839\n",
      "Epoch 37/100\n",
      "108/108 [==============================] - 36s 333ms/step - loss: 0.3356 - accuracy: 0.8479 - val_loss: 0.4583 - val_accuracy: 0.7786\n",
      "Epoch 38/100\n",
      "108/108 [==============================] - 36s 331ms/step - loss: 0.3327 - accuracy: 0.8468 - val_loss: 0.4540 - val_accuracy: 0.7812\n",
      "Epoch 39/100\n",
      "108/108 [==============================] - 36s 334ms/step - loss: 0.3331 - accuracy: 0.8468 - val_loss: 0.4489 - val_accuracy: 0.7839\n",
      "Epoch 40/100\n",
      "108/108 [==============================] - 36s 336ms/step - loss: 0.3320 - accuracy: 0.8459 - val_loss: 0.4474 - val_accuracy: 0.7839\n",
      "Epoch 41/100\n",
      "108/108 [==============================] - 36s 332ms/step - loss: 0.3315 - accuracy: 0.8470 - val_loss: 0.4456 - val_accuracy: 0.7891\n",
      "Epoch 42/100\n",
      "108/108 [==============================] - 36s 331ms/step - loss: 0.3302 - accuracy: 0.8476 - val_loss: 0.4512 - val_accuracy: 0.7865\n",
      "Epoch 43/100\n",
      "108/108 [==============================] - 36s 330ms/step - loss: 0.3295 - accuracy: 0.8470 - val_loss: 0.4493 - val_accuracy: 0.7865\n",
      "Epoch 44/100\n",
      "108/108 [==============================] - 36s 333ms/step - loss: 0.3312 - accuracy: 0.8453 - val_loss: 0.4476 - val_accuracy: 0.7917\n",
      "Epoch 45/100\n",
      "108/108 [==============================] - 36s 331ms/step - loss: 0.3314 - accuracy: 0.8485 - val_loss: 0.4469 - val_accuracy: 0.7969\n",
      "Epoch 46/100\n",
      "108/108 [==============================] - 36s 334ms/step - loss: 0.3316 - accuracy: 0.8491 - val_loss: 0.4437 - val_accuracy: 0.7917\n",
      "Epoch 47/100\n",
      "108/108 [==============================] - 36s 335ms/step - loss: 0.3308 - accuracy: 0.8450 - val_loss: 0.4521 - val_accuracy: 0.7891\n",
      "Epoch 48/100\n",
      "108/108 [==============================] - 36s 332ms/step - loss: 0.3305 - accuracy: 0.8468 - val_loss: 0.4483 - val_accuracy: 0.7865\n",
      "Epoch 49/100\n",
      "108/108 [==============================] - 36s 330ms/step - loss: 0.3267 - accuracy: 0.8497 - val_loss: 0.4571 - val_accuracy: 0.7891\n",
      "Epoch 50/100\n",
      "108/108 [==============================] - 36s 330ms/step - loss: 0.3251 - accuracy: 0.8494 - val_loss: 0.4569 - val_accuracy: 0.7839\n",
      "Epoch 51/100\n",
      "108/108 [==============================] - 36s 330ms/step - loss: 0.3212 - accuracy: 0.8505 - val_loss: 0.4611 - val_accuracy: 0.8151\n",
      "Epoch 52/100\n",
      "108/108 [==============================] - 36s 333ms/step - loss: 0.3179 - accuracy: 0.8572 - val_loss: 0.4611 - val_accuracy: 0.7865\n",
      "Epoch 53/100\n",
      "108/108 [==============================] - 36s 332ms/step - loss: 0.3169 - accuracy: 0.8543 - val_loss: 0.4610 - val_accuracy: 0.8203\n",
      "Epoch 54/100\n",
      "108/108 [==============================] - 36s 335ms/step - loss: 0.3122 - accuracy: 0.8569 - val_loss: 0.4782 - val_accuracy: 0.7865\n",
      "Epoch 55/100\n",
      "108/108 [==============================] - 36s 333ms/step - loss: 0.3098 - accuracy: 0.8595 - val_loss: 0.4844 - val_accuracy: 0.7891\n",
      "Epoch 56/100\n",
      "108/108 [==============================] - 36s 336ms/step - loss: 0.3104 - accuracy: 0.8598 - val_loss: 0.4752 - val_accuracy: 0.7917\n",
      "Epoch 57/100\n",
      "108/108 [==============================] - 36s 338ms/step - loss: 0.3034 - accuracy: 0.8607 - val_loss: 0.4821 - val_accuracy: 0.7917\n",
      "Epoch 58/100\n",
      "108/108 [==============================] - 36s 334ms/step - loss: 0.3029 - accuracy: 0.8612 - val_loss: 0.4882 - val_accuracy: 0.7917\n",
      "Epoch 59/100\n",
      "108/108 [==============================] - 36s 332ms/step - loss: 0.2973 - accuracy: 0.8633 - val_loss: 0.4982 - val_accuracy: 0.7917\n",
      "Epoch 60/100\n",
      "108/108 [==============================] - 36s 331ms/step - loss: 0.2961 - accuracy: 0.8653 - val_loss: 0.4949 - val_accuracy: 0.7969\n",
      "Epoch 61/100\n",
      "108/108 [==============================] - 36s 333ms/step - loss: 0.2931 - accuracy: 0.8656 - val_loss: 0.5052 - val_accuracy: 0.7839\n",
      "Epoch 62/100\n",
      "108/108 [==============================] - 36s 331ms/step - loss: 0.2915 - accuracy: 0.8641 - val_loss: 0.5106 - val_accuracy: 0.7865\n",
      "Epoch 63/100\n",
      "108/108 [==============================] - 36s 330ms/step - loss: 0.2887 - accuracy: 0.8685 - val_loss: 0.5196 - val_accuracy: 0.7839\n",
      "Epoch 64/100\n",
      "108/108 [==============================] - 36s 335ms/step - loss: 0.2853 - accuracy: 0.8708 - val_loss: 0.5147 - val_accuracy: 0.7917\n",
      "Epoch 65/100\n",
      "108/108 [==============================] - 37s 339ms/step - loss: 0.2846 - accuracy: 0.8708 - val_loss: 0.5216 - val_accuracy: 0.7943\n",
      "Epoch 66/100\n",
      "108/108 [==============================] - 36s 337ms/step - loss: 0.2831 - accuracy: 0.8711 - val_loss: 0.5421 - val_accuracy: 0.7839\n",
      "Epoch 67/100\n",
      "108/108 [==============================] - 36s 337ms/step - loss: 0.2789 - accuracy: 0.8754 - val_loss: 0.5455 - val_accuracy: 0.7969\n",
      "Epoch 68/100\n",
      "108/108 [==============================] - 36s 335ms/step - loss: 0.2757 - accuracy: 0.8749 - val_loss: 0.5564 - val_accuracy: 0.7891\n",
      "Epoch 69/100\n",
      "108/108 [==============================] - 36s 333ms/step - loss: 0.2727 - accuracy: 0.8766 - val_loss: 0.5752 - val_accuracy: 0.7917\n",
      "Epoch 70/100\n",
      "108/108 [==============================] - 36s 331ms/step - loss: 0.2707 - accuracy: 0.8769 - val_loss: 0.5706 - val_accuracy: 0.7891\n",
      "Epoch 71/100\n",
      "108/108 [==============================] - 36s 334ms/step - loss: 0.2708 - accuracy: 0.8769 - val_loss: 0.5858 - val_accuracy: 0.7891\n",
      "Epoch 72/100\n",
      "108/108 [==============================] - 36s 335ms/step - loss: 0.2670 - accuracy: 0.8775 - val_loss: 0.5809 - val_accuracy: 0.7891\n",
      "Epoch 73/100\n",
      "108/108 [==============================] - 36s 336ms/step - loss: 0.2647 - accuracy: 0.8798 - val_loss: 0.6161 - val_accuracy: 0.7839\n",
      "Epoch 74/100\n",
      "108/108 [==============================] - 36s 333ms/step - loss: 0.2629 - accuracy: 0.8792 - val_loss: 0.6276 - val_accuracy: 0.7839\n",
      "Epoch 75/100\n",
      "108/108 [==============================] - 36s 335ms/step - loss: 0.2642 - accuracy: 0.8798 - val_loss: 0.6316 - val_accuracy: 0.7839\n",
      "Epoch 76/100\n",
      "108/108 [==============================] - 36s 336ms/step - loss: 0.2633 - accuracy: 0.8809 - val_loss: 0.6411 - val_accuracy: 0.7917\n",
      "Epoch 77/100\n",
      "108/108 [==============================] - 36s 333ms/step - loss: 0.2603 - accuracy: 0.8838 - val_loss: 0.6221 - val_accuracy: 0.7839\n",
      "Epoch 78/100\n",
      "108/108 [==============================] - 36s 335ms/step - loss: 0.2601 - accuracy: 0.8876 - val_loss: 0.6602 - val_accuracy: 0.7839\n",
      "Epoch 79/100\n",
      "108/108 [==============================] - 36s 333ms/step - loss: 0.2592 - accuracy: 0.8847 - val_loss: 0.6452 - val_accuracy: 0.7786\n",
      "Epoch 80/100\n",
      "108/108 [==============================] - 36s 332ms/step - loss: 0.2646 - accuracy: 0.8786 - val_loss: 0.6067 - val_accuracy: 0.7969\n",
      "Epoch 81/100\n",
      "108/108 [==============================] - 36s 334ms/step - loss: 0.2745 - accuracy: 0.8754 - val_loss: 0.5485 - val_accuracy: 0.7891\n",
      "Epoch 82/100\n",
      "108/108 [==============================] - 36s 336ms/step - loss: 0.2738 - accuracy: 0.8711 - val_loss: 0.5732 - val_accuracy: 0.7865\n",
      "Epoch 83/100\n",
      "108/108 [==============================] - 36s 333ms/step - loss: 0.2696 - accuracy: 0.8786 - val_loss: 0.5686 - val_accuracy: 0.7917\n",
      "Epoch 84/100\n",
      "108/108 [==============================] - 36s 336ms/step - loss: 0.2785 - accuracy: 0.8720 - val_loss: 0.5702 - val_accuracy: 0.8047\n",
      "Epoch 85/100\n",
      "108/108 [==============================] - 36s 333ms/step - loss: 0.2703 - accuracy: 0.8778 - val_loss: 0.5586 - val_accuracy: 0.8021\n",
      "Epoch 86/100\n",
      "108/108 [==============================] - 36s 335ms/step - loss: 0.2691 - accuracy: 0.8737 - val_loss: 0.5598 - val_accuracy: 0.7917\n",
      "Epoch 87/100\n",
      "108/108 [==============================] - 36s 337ms/step - loss: 0.2647 - accuracy: 0.8804 - val_loss: 0.5913 - val_accuracy: 0.7865\n",
      "Epoch 88/100\n",
      "108/108 [==============================] - 36s 333ms/step - loss: 0.2630 - accuracy: 0.8801 - val_loss: 0.6009 - val_accuracy: 0.7865\n",
      "Epoch 89/100\n",
      "108/108 [==============================] - 36s 336ms/step - loss: 0.2635 - accuracy: 0.8847 - val_loss: 0.5998 - val_accuracy: 0.7786\n",
      "Epoch 90/100\n",
      "108/108 [==============================] - 36s 337ms/step - loss: 0.2612 - accuracy: 0.8821 - val_loss: 0.6089 - val_accuracy: 0.7839\n",
      "Epoch 91/100\n",
      "108/108 [==============================] - 36s 337ms/step - loss: 0.2578 - accuracy: 0.8888 - val_loss: 0.6296 - val_accuracy: 0.7891\n",
      "Epoch 92/100\n",
      "108/108 [==============================] - 36s 338ms/step - loss: 0.2549 - accuracy: 0.8896 - val_loss: 0.6315 - val_accuracy: 0.7865\n",
      "Epoch 93/100\n",
      "108/108 [==============================] - 36s 334ms/step - loss: 0.2569 - accuracy: 0.8850 - val_loss: 0.6246 - val_accuracy: 0.7969\n",
      "Epoch 94/100\n",
      "108/108 [==============================] - 36s 332ms/step - loss: 0.2540 - accuracy: 0.8879 - val_loss: 0.6328 - val_accuracy: 0.7917\n",
      "Epoch 95/100\n",
      "108/108 [==============================] - 36s 331ms/step - loss: 0.2550 - accuracy: 0.8876 - val_loss: 0.6027 - val_accuracy: 0.7865\n",
      "Epoch 96/100\n",
      "108/108 [==============================] - 36s 334ms/step - loss: 0.2618 - accuracy: 0.8864 - val_loss: 0.6111 - val_accuracy: 0.7917\n",
      "Epoch 97/100\n",
      "108/108 [==============================] - 36s 332ms/step - loss: 0.2644 - accuracy: 0.8856 - val_loss: 0.5844 - val_accuracy: 0.7891\n",
      "Epoch 98/100\n",
      "108/108 [==============================] - 36s 334ms/step - loss: 0.2572 - accuracy: 0.8873 - val_loss: 0.6014 - val_accuracy: 0.7891\n",
      "Epoch 99/100\n",
      "108/108 [==============================] - 36s 336ms/step - loss: 0.2561 - accuracy: 0.8893 - val_loss: 0.5912 - val_accuracy: 0.7969\n",
      "Epoch 100/100\n",
      "108/108 [==============================] - 36s 337ms/step - loss: 0.2587 - accuracy: 0.8864 - val_loss: 0.5820 - val_accuracy: 0.7891\n"
     ]
    }
   ],
   "source": [
    "history = model.fit(train_ds, validation_data=validation_ds, epochs=100, callbacks=my_callbacks)"
   ]
  },
  {
   "cell_type": "markdown",
   "metadata": {
    "id": "4GWCUcvXWmVf"
   },
   "source": [
    "### Evaluating the model"
   ]
  },
  {
   "cell_type": "code",
   "execution_count": null,
   "metadata": {
    "colab": {
     "base_uri": "https://localhost:8080/"
    },
    "id": "zSZufp3EWmVf",
    "outputId": "1e8d7c97-354e-4869-e636-a164e32da20e"
   },
   "outputs": [
    {
     "name": "stdout",
     "output_type": "stream",
     "text": [
      "14/14 [==============================] - 4s 252ms/step - loss: 0.4416 - accuracy: 0.8244\n"
     ]
    },
    {
     "data": {
      "text/plain": [
       "[0.4415518641471863, 0.824355959892273]"
      ]
     },
     "execution_count": 74,
     "metadata": {},
     "output_type": "execute_result"
    }
   ],
   "source": [
    "model = tf.keras.models.load_model(\"./saved_models/checkpoints/best_model\")\n",
    "model.evaluate(test_ds)"
   ]
  },
  {
   "cell_type": "markdown",
   "metadata": {
    "id": "5ObhSzKSgUd1"
   },
   "source": [
    "# Model Training (with OCR)"
   ]
  },
  {
   "cell_type": "markdown",
   "metadata": {
    "id": "3YkseuQwGBHB"
   },
   "source": [
    "## Load the Bert model"
   ]
  },
  {
   "cell_type": "code",
   "execution_count": null,
   "metadata": {
    "cellView": "form",
    "colab": {
     "base_uri": "https://localhost:8080/"
    },
    "id": "FkiU4jQMDJik",
    "outputId": "3c154a32-c36a-4ca2-b593-0267b9d56513"
   },
   "outputs": [
    {
     "name": "stdout",
     "output_type": "stream",
     "text": [
      "BERT model selected           : https://tfhub.dev/tensorflow/bert_en_uncased_L-12_H-768_A-12/3\n",
      "Preprocessing model auto-selected: https://tfhub.dev/tensorflow/bert_en_uncased_preprocess/3\n"
     ]
    }
   ],
   "source": [
    "#@title Choose a BERT model to fine-tune\n",
    "\n",
    "bert_model_name = 'bert_en_uncased_L-12_H-768_A-12'  #@param [\"bert_en_uncased_L-12_H-768_A-12\", \"bert_en_uncased_L-24_H-1024_A-16\", \"bert_en_wwm_uncased_L-24_H-1024_A-16\", \"bert_en_cased_L-12_H-768_A-12\", \"bert_en_cased_L-24_H-1024_A-16\", \"bert_en_wwm_cased_L-24_H-1024_A-16\", \"bert_multi_cased_L-12_H-768_A-12\", \"small_bert/bert_en_uncased_L-2_H-128_A-2\", \"small_bert/bert_en_uncased_L-2_H-256_A-4\", \"small_bert/bert_en_uncased_L-2_H-512_A-8\", \"small_bert/bert_en_uncased_L-2_H-768_A-12\", \"small_bert/bert_en_uncased_L-4_H-128_A-2\", \"small_bert/bert_en_uncased_L-4_H-256_A-4\", \"small_bert/bert_en_uncased_L-4_H-512_A-8\", \"small_bert/bert_en_uncased_L-4_H-768_A-12\", \"small_bert/bert_en_uncased_L-6_H-128_A-2\", \"small_bert/bert_en_uncased_L-6_H-256_A-4\", \"small_bert/bert_en_uncased_L-6_H-512_A-8\", \"small_bert/bert_en_uncased_L-6_H-768_A-12\", \"small_bert/bert_en_uncased_L-8_H-128_A-2\", \"small_bert/bert_en_uncased_L-8_H-256_A-4\", \"small_bert/bert_en_uncased_L-8_H-512_A-8\", \"small_bert/bert_en_uncased_L-8_H-768_A-12\", \"small_bert/bert_en_uncased_L-10_H-128_A-2\", \"small_bert/bert_en_uncased_L-10_H-256_A-4\", \"small_bert/bert_en_uncased_L-10_H-512_A-8\", \"small_bert/bert_en_uncased_L-10_H-768_A-12\", \"small_bert/bert_en_uncased_L-12_H-128_A-2\", \"small_bert/bert_en_uncased_L-12_H-256_A-4\", \"small_bert/bert_en_uncased_L-12_H-512_A-8\", \"small_bert/bert_en_uncased_L-12_H-768_A-12\", \"albert_en_base\", \"albert_en_large\", \"albert_en_xlarge\", \"albert_en_xxlarge\", \"electra_small\", \"electra_base\", \"experts_pubmed\", \"experts_wiki_books\", \"talking-heads_base\", \"talking-heads_large\"]\n",
    "\n",
    "map_name_to_handle = {\n",
    "    'bert_en_uncased_L-12_H-768_A-12':\n",
    "        'https://tfhub.dev/tensorflow/bert_en_uncased_L-12_H-768_A-12/3',\n",
    "    'bert_en_uncased_L-24_H-1024_A-16':\n",
    "        'https://tfhub.dev/tensorflow/bert_en_uncased_L-24_H-1024_A-16/3',\n",
    "    'bert_en_wwm_uncased_L-24_H-1024_A-16':\n",
    "        'https://tfhub.dev/tensorflow/bert_en_wwm_uncased_L-24_H-1024_A-16/3',\n",
    "    'bert_en_cased_L-12_H-768_A-12':\n",
    "        'https://tfhub.dev/tensorflow/bert_en_cased_L-12_H-768_A-12/3',\n",
    "    'bert_en_cased_L-24_H-1024_A-16':\n",
    "        'https://tfhub.dev/tensorflow/bert_en_cased_L-24_H-1024_A-16/3',\n",
    "    'bert_en_wwm_cased_L-24_H-1024_A-16':\n",
    "        'https://tfhub.dev/tensorflow/bert_en_wwm_cased_L-24_H-1024_A-16/3',\n",
    "    'bert_multi_cased_L-12_H-768_A-12':\n",
    "        'https://tfhub.dev/tensorflow/bert_multi_cased_L-12_H-768_A-12/3',\n",
    "    'small_bert/bert_en_uncased_L-2_H-128_A-2':\n",
    "        'https://tfhub.dev/tensorflow/small_bert/bert_en_uncased_L-2_H-128_A-2/1',\n",
    "    'small_bert/bert_en_uncased_L-2_H-256_A-4':\n",
    "        'https://tfhub.dev/tensorflow/small_bert/bert_en_uncased_L-2_H-256_A-4/1',\n",
    "    'small_bert/bert_en_uncased_L-2_H-512_A-8':\n",
    "        'https://tfhub.dev/tensorflow/small_bert/bert_en_uncased_L-2_H-512_A-8/1',\n",
    "    'small_bert/bert_en_uncased_L-2_H-768_A-12':\n",
    "        'https://tfhub.dev/tensorflow/small_bert/bert_en_uncased_L-2_H-768_A-12/1',\n",
    "    'small_bert/bert_en_uncased_L-4_H-128_A-2':\n",
    "        'https://tfhub.dev/tensorflow/small_bert/bert_en_uncased_L-4_H-128_A-2/1',\n",
    "    'small_bert/bert_en_uncased_L-4_H-256_A-4':\n",
    "        'https://tfhub.dev/tensorflow/small_bert/bert_en_uncased_L-4_H-256_A-4/1',\n",
    "    'small_bert/bert_en_uncased_L-4_H-512_A-8':\n",
    "        'https://tfhub.dev/tensorflow/small_bert/bert_en_uncased_L-4_H-512_A-8/1',\n",
    "    'small_bert/bert_en_uncased_L-4_H-768_A-12':\n",
    "        'https://tfhub.dev/tensorflow/small_bert/bert_en_uncased_L-4_H-768_A-12/1',\n",
    "    'small_bert/bert_en_uncased_L-6_H-128_A-2':\n",
    "        'https://tfhub.dev/tensorflow/small_bert/bert_en_uncased_L-6_H-128_A-2/1',\n",
    "    'small_bert/bert_en_uncased_L-6_H-256_A-4':\n",
    "        'https://tfhub.dev/tensorflow/small_bert/bert_en_uncased_L-6_H-256_A-4/1',\n",
    "    'small_bert/bert_en_uncased_L-6_H-512_A-8':\n",
    "        'https://tfhub.dev/tensorflow/small_bert/bert_en_uncased_L-6_H-512_A-8/1',\n",
    "    'small_bert/bert_en_uncased_L-6_H-768_A-12':\n",
    "        'https://tfhub.dev/tensorflow/small_bert/bert_en_uncased_L-6_H-768_A-12/1',\n",
    "    'small_bert/bert_en_uncased_L-8_H-128_A-2':\n",
    "        'https://tfhub.dev/tensorflow/small_bert/bert_en_uncased_L-8_H-128_A-2/1',\n",
    "    'small_bert/bert_en_uncased_L-8_H-256_A-4':\n",
    "        'https://tfhub.dev/tensorflow/small_bert/bert_en_uncased_L-8_H-256_A-4/1',\n",
    "    'small_bert/bert_en_uncased_L-8_H-512_A-8':\n",
    "        'https://tfhub.dev/tensorflow/small_bert/bert_en_uncased_L-8_H-512_A-8/1',\n",
    "    'small_bert/bert_en_uncased_L-8_H-768_A-12':\n",
    "        'https://tfhub.dev/tensorflow/small_bert/bert_en_uncased_L-8_H-768_A-12/1',\n",
    "    'small_bert/bert_en_uncased_L-10_H-128_A-2':\n",
    "        'https://tfhub.dev/tensorflow/small_bert/bert_en_uncased_L-10_H-128_A-2/1',\n",
    "    'small_bert/bert_en_uncased_L-10_H-256_A-4':\n",
    "        'https://tfhub.dev/tensorflow/small_bert/bert_en_uncased_L-10_H-256_A-4/1',\n",
    "    'small_bert/bert_en_uncased_L-10_H-512_A-8':\n",
    "        'https://tfhub.dev/tensorflow/small_bert/bert_en_uncased_L-10_H-512_A-8/1',\n",
    "    'small_bert/bert_en_uncased_L-10_H-768_A-12':\n",
    "        'https://tfhub.dev/tensorflow/small_bert/bert_en_uncased_L-10_H-768_A-12/1',\n",
    "    'small_bert/bert_en_uncased_L-12_H-128_A-2':\n",
    "        'https://tfhub.dev/tensorflow/small_bert/bert_en_uncased_L-12_H-128_A-2/1',\n",
    "    'small_bert/bert_en_uncased_L-12_H-256_A-4':\n",
    "        'https://tfhub.dev/tensorflow/small_bert/bert_en_uncased_L-12_H-256_A-4/1',\n",
    "    'small_bert/bert_en_uncased_L-12_H-512_A-8':\n",
    "        'https://tfhub.dev/tensorflow/small_bert/bert_en_uncased_L-12_H-512_A-8/1',\n",
    "    'small_bert/bert_en_uncased_L-12_H-768_A-12':\n",
    "        'https://tfhub.dev/tensorflow/small_bert/bert_en_uncased_L-12_H-768_A-12/1',\n",
    "    'albert_en_base':\n",
    "        'https://tfhub.dev/tensorflow/albert_en_base/2',\n",
    "    'albert_en_large':\n",
    "        'https://tfhub.dev/tensorflow/albert_en_large/2',\n",
    "    'albert_en_xlarge':\n",
    "        'https://tfhub.dev/tensorflow/albert_en_xlarge/2',\n",
    "    'albert_en_xxlarge':\n",
    "        'https://tfhub.dev/tensorflow/albert_en_xxlarge/2',\n",
    "    'electra_small':\n",
    "        'https://tfhub.dev/google/electra_small/2',\n",
    "    'electra_base':\n",
    "        'https://tfhub.dev/google/electra_base/2',\n",
    "    'experts_pubmed':\n",
    "        'https://tfhub.dev/google/experts/bert/pubmed/2',\n",
    "    'experts_wiki_books':\n",
    "        'https://tfhub.dev/google/experts/bert/wiki_books/2',\n",
    "    'talking-heads_base':\n",
    "        'https://tfhub.dev/tensorflow/talkheads_ggelu_bert_en_base/1',\n",
    "    'talking-heads_large':\n",
    "        'https://tfhub.dev/tensorflow/talkheads_ggelu_bert_en_large/1',\n",
    "}\n",
    "\n",
    "map_model_to_preprocess = {\n",
    "    'bert_en_uncased_L-24_H-1024_A-16':\n",
    "        'https://tfhub.dev/tensorflow/bert_en_uncased_preprocess/3',\n",
    "    'bert_en_uncased_L-12_H-768_A-12':\n",
    "        'https://tfhub.dev/tensorflow/bert_en_uncased_preprocess/3',\n",
    "    'bert_en_wwm_cased_L-24_H-1024_A-16':\n",
    "        'https://tfhub.dev/tensorflow/bert_en_cased_preprocess/3',\n",
    "    'bert_en_cased_L-24_H-1024_A-16':\n",
    "        'https://tfhub.dev/tensorflow/bert_en_cased_preprocess/3',\n",
    "    'bert_en_cased_L-12_H-768_A-12':\n",
    "        'https://tfhub.dev/tensorflow/bert_en_cased_preprocess/3',\n",
    "    'bert_en_wwm_uncased_L-24_H-1024_A-16':\n",
    "        'https://tfhub.dev/tensorflow/bert_en_uncased_preprocess/3',\n",
    "    'small_bert/bert_en_uncased_L-2_H-128_A-2':\n",
    "        'https://tfhub.dev/tensorflow/bert_en_uncased_preprocess/3',\n",
    "    'small_bert/bert_en_uncased_L-2_H-256_A-4':\n",
    "        'https://tfhub.dev/tensorflow/bert_en_uncased_preprocess/3',\n",
    "    'small_bert/bert_en_uncased_L-2_H-512_A-8':\n",
    "        'https://tfhub.dev/tensorflow/bert_en_uncased_preprocess/3',\n",
    "    'small_bert/bert_en_uncased_L-2_H-768_A-12':\n",
    "        'https://tfhub.dev/tensorflow/bert_en_uncased_preprocess/3',\n",
    "    'small_bert/bert_en_uncased_L-4_H-128_A-2':\n",
    "        'https://tfhub.dev/tensorflow/bert_en_uncased_preprocess/3',\n",
    "    'small_bert/bert_en_uncased_L-4_H-256_A-4':\n",
    "        'https://tfhub.dev/tensorflow/bert_en_uncased_preprocess/3',\n",
    "    'small_bert/bert_en_uncased_L-4_H-512_A-8':\n",
    "        'https://tfhub.dev/tensorflow/bert_en_uncased_preprocess/3',\n",
    "    'small_bert/bert_en_uncased_L-4_H-768_A-12':\n",
    "        'https://tfhub.dev/tensorflow/bert_en_uncased_preprocess/3',\n",
    "    'small_bert/bert_en_uncased_L-6_H-128_A-2':\n",
    "        'https://tfhub.dev/tensorflow/bert_en_uncased_preprocess/3',\n",
    "    'small_bert/bert_en_uncased_L-6_H-256_A-4':\n",
    "        'https://tfhub.dev/tensorflow/bert_en_uncased_preprocess/3',\n",
    "    'small_bert/bert_en_uncased_L-6_H-512_A-8':\n",
    "        'https://tfhub.dev/tensorflow/bert_en_uncased_preprocess/3',\n",
    "    'small_bert/bert_en_uncased_L-6_H-768_A-12':\n",
    "        'https://tfhub.dev/tensorflow/bert_en_uncased_preprocess/3',\n",
    "    'small_bert/bert_en_uncased_L-8_H-128_A-2':\n",
    "        'https://tfhub.dev/tensorflow/bert_en_uncased_preprocess/3',\n",
    "    'small_bert/bert_en_uncased_L-8_H-256_A-4':\n",
    "        'https://tfhub.dev/tensorflow/bert_en_uncased_preprocess/3',\n",
    "    'small_bert/bert_en_uncased_L-8_H-512_A-8':\n",
    "        'https://tfhub.dev/tensorflow/bert_en_uncased_preprocess/3',\n",
    "    'small_bert/bert_en_uncased_L-8_H-768_A-12':\n",
    "        'https://tfhub.dev/tensorflow/bert_en_uncased_preprocess/3',\n",
    "    'small_bert/bert_en_uncased_L-10_H-128_A-2':\n",
    "        'https://tfhub.dev/tensorflow/bert_en_uncased_preprocess/3',\n",
    "    'small_bert/bert_en_uncased_L-10_H-256_A-4':\n",
    "        'https://tfhub.dev/tensorflow/bert_en_uncased_preprocess/3',\n",
    "    'small_bert/bert_en_uncased_L-10_H-512_A-8':\n",
    "        'https://tfhub.dev/tensorflow/bert_en_uncased_preprocess/3',\n",
    "    'small_bert/bert_en_uncased_L-10_H-768_A-12':\n",
    "        'https://tfhub.dev/tensorflow/bert_en_uncased_preprocess/3',\n",
    "    'small_bert/bert_en_uncased_L-12_H-128_A-2':\n",
    "        'https://tfhub.dev/tensorflow/bert_en_uncased_preprocess/3',\n",
    "    'small_bert/bert_en_uncased_L-12_H-256_A-4':\n",
    "        'https://tfhub.dev/tensorflow/bert_en_uncased_preprocess/3',\n",
    "    'small_bert/bert_en_uncased_L-12_H-512_A-8':\n",
    "        'https://tfhub.dev/tensorflow/bert_en_uncased_preprocess/3',\n",
    "    'small_bert/bert_en_uncased_L-12_H-768_A-12':\n",
    "        'https://tfhub.dev/tensorflow/bert_en_uncased_preprocess/3',\n",
    "    'bert_multi_cased_L-12_H-768_A-12':\n",
    "        'https://tfhub.dev/tensorflow/bert_multi_cased_preprocess/3',\n",
    "    'albert_en_base':\n",
    "        'https://tfhub.dev/tensorflow/albert_en_preprocess/3',\n",
    "    'albert_en_large':\n",
    "        'https://tfhub.dev/tensorflow/albert_en_preprocess/3',\n",
    "    'albert_en_xlarge':\n",
    "        'https://tfhub.dev/tensorflow/albert_en_preprocess/3',\n",
    "    'albert_en_xxlarge':\n",
    "        'https://tfhub.dev/tensorflow/albert_en_preprocess/3',\n",
    "    'electra_small':\n",
    "        'https://tfhub.dev/tensorflow/bert_en_uncased_preprocess/3',\n",
    "    'electra_base':\n",
    "        'https://tfhub.dev/tensorflow/bert_en_uncased_preprocess/3',\n",
    "    'experts_pubmed':\n",
    "        'https://tfhub.dev/tensorflow/bert_en_uncased_preprocess/3',\n",
    "    'experts_wiki_books':\n",
    "        'https://tfhub.dev/tensorflow/bert_en_uncased_preprocess/3',\n",
    "    'talking-heads_base':\n",
    "        'https://tfhub.dev/tensorflow/bert_en_uncased_preprocess/3',\n",
    "    'talking-heads_large':\n",
    "        'https://tfhub.dev/tensorflow/bert_en_uncased_preprocess/3',\n",
    "}\n",
    "\n",
    "bert_model_path = map_name_to_handle[bert_model_name]\n",
    "bert_preprocess_path = map_model_to_preprocess[bert_model_name]\n",
    "\n",
    "print('BERT model selected           :', bert_model_path)\n",
    "print('Preprocessing model auto-selected:', bert_preprocess_path)"
   ]
  },
  {
   "cell_type": "markdown",
   "metadata": {
    "id": "kJZUVzbWKwZR"
   },
   "source": [
    "## Bert preprocess model"
   ]
  },
  {
   "cell_type": "code",
   "execution_count": null,
   "metadata": {
    "id": "TvOvNqThGIdt"
   },
   "outputs": [],
   "source": [
    "input_segments = [tf.keras.layers.Input(shape=(), dtype=tf.string, name=ft) for ft in ['caption', 'OCR']]\n",
    "bert_preprocess = hub.load(bert_preprocess_path)\n",
    "tokenizer = hub.KerasLayer(bert_preprocess.tokenize, name='tokenizer')\n",
    "segments = [tokenizer(s) for s in input_segments]\n",
    "truncated_segments = segments\n",
    "packer = hub.KerasLayer(bert_preprocess.bert_pack_inputs, arguments=dict(seq_length=128), name='packer')\n",
    "model_inputs = packer(truncated_segments)\n",
    "bert_preprocess_model = keras.Model(input_segments, model_inputs)"
   ]
  },
  {
   "cell_type": "code",
   "execution_count": null,
   "metadata": {
    "colab": {
     "base_uri": "https://localhost:8080/",
     "height": 308
    },
    "id": "0w3JFCIMI5UT",
    "outputId": "c42e3bd8-42a6-400b-ffde-b8421bde71df"
   },
   "outputs": [
    {
     "data": {
      "image/png": "[encoded data removed]",
      "text/plain": [
       "<IPython.core.display.Image object>"
      ]
     },
     "execution_count": 48,
     "metadata": {},
     "output_type": "execute_result"
    }
   ],
   "source": [
    "keras.utils.plot_model(bert_preprocess_model, show_shapes=True, show_dtype=True)"
   ]
  },
  {
   "cell_type": "markdown",
   "metadata": {
    "id": "jO8o7Pk3UEi-"
   },
   "source": [
    "### Preprocess a sample data"
   ]
  },
  {
   "cell_type": "code",
   "execution_count": null,
   "metadata": {
    "colab": {
     "base_uri": "https://localhost:8080/"
    },
    "id": "s83Hqh51F04a",
    "outputId": "9e99cd94-9892-4172-aa1f-538c4c8d69e8"
   },
   "outputs": [
    {
     "name": "stdout",
     "output_type": "stream",
     "text": [
      "Caption: still fanci big stadium concert summer smile face heartey problem tell date miss rais hand swipe highlight sign horn concert tip backhand index point right link bio camera pixabay camera eliot lee hazel camera gun n rosestour promo camera j bouquet eventsat event wien vienna igersvienna viennac concert concert tip imaginedragon gunsnros rollingston pictur book edsheeran ernsthappelstadion summer stadiumconcert\n",
      "OCR: 13 jul 2022 gun n rose ernst happel stadion event dies stadionkonzert erwarten un sommer noch event 23 jun 2022 imagin dragon event 15 jul 2022 stone wienkonzert mit bilderbuch al cial guest ernst happel stadion event roll spe weiter highlight findest du link der biol event\n",
      "Keys           :  ['input_type_ids', 'input_word_ids', 'input_mask']\n",
      "Shape Word Ids :  (1, 128)\n",
      "Word Ids       :  tf.Tensor(\n",
      "[ 101 2145 5470 6895 2502 3346 4164 2621 2868 2227 2540 3240 3291 2425\n",
      " 3058 3335], shape=(16,), dtype=int32)\n",
      "Shape Mask     :  (1, 128)\n",
      "Input Mask     :  tf.Tensor([1 1 1 1 1 1 1 1 1 1 1 1 1 1 1 1], shape=(16,), dtype=int32)\n",
      "Shape Type Ids :  (1, 128)\n",
      "Type Ids       :  tf.Tensor([0 0 0 0 0 0 0 0 0 0 0 0 0 0 0 0], shape=(16,), dtype=int32)\n"
     ]
    }
   ],
   "source": [
    "test_df = df[df['ocr_text'] != '']\n",
    "row = test_df.iloc[8097]\n",
    "sample_text_1, sample_text_2 = row['caption'], row['ocr_text']\n",
    "print(f\"Caption: {sample_text_1}\")\n",
    "print(f\"OCR: {sample_text_2}\")\n",
    "\n",
    "test_text = [np.array([sample_text_1]), np.array([sample_text_2])]\n",
    "text_preprocessed = bert_preprocess_model(test_text)\n",
    "\n",
    "print(\"Keys           : \", list(text_preprocessed.keys()))\n",
    "print(\"Shape Word Ids : \", text_preprocessed[\"input_word_ids\"].shape)\n",
    "print(\"Word Ids       : \", text_preprocessed[\"input_word_ids\"][0, :16])\n",
    "print(\"Shape Mask     : \", text_preprocessed[\"input_mask\"].shape)\n",
    "print(\"Input Mask     : \", text_preprocessed[\"input_mask\"][0, :16])\n",
    "print(\"Shape Type Ids : \", text_preprocessed[\"input_type_ids\"].shape)\n",
    "print(\"Type Ids       : \", text_preprocessed[\"input_type_ids\"][0, :16])"
   ]
  },
  {
   "cell_type": "code",
   "execution_count": null,
   "metadata": {
    "id": "TFo0urEXLeU1"
   },
   "outputs": [],
   "source": [
    "def preprocess_text(sample):\n",
    "  text_1 = sample['caption']\n",
    "  text_2 = sample['ocr_text']\n",
    "  text_1 = tf.convert_to_tensor([text_1])\n",
    "  text_2 = tf.convert_to_tensor([text_2])\n",
    "  output = bert_preprocess_model([text_1, text_2])\n",
    "  text = {feature: tf.squeeze(output[feature]) for feature in bert_input_features}\n",
    "  return {'text': text}"
   ]
  },
  {
   "cell_type": "code",
   "execution_count": null,
   "metadata": {
    "id": "Sy0_5bFHYCYi"
   },
   "outputs": [],
   "source": [
    "auto = tf.data.AUTOTUNE\n",
    "batch_size = 32\n",
    "\n",
    "def prepare_dataset(dataframe, training=True):\n",
    "  columns = ['caption', 'ocr_text', 'class']\n",
    "  dataframe = dataframe[columns].copy()\n",
    "  labels = dataframe.pop('class')\n",
    "  ds = tf.data.Dataset.from_tensor_slices((dict(dataframe), labels))\n",
    "  ds = ds.shuffle(buffer_size=len(dataframe))\n",
    "\n",
    "  if training:\n",
    "      ds = ds.shuffle(len(dataframe))\n",
    "  ds = ds.map(lambda x, y: (preprocess_text(x), y)).cache()\n",
    "  ds = ds.batch(batch_size).prefetch(auto)\n",
    "  return ds"
   ]
  },
  {
   "cell_type": "markdown",
   "metadata": {
    "id": "IkPz0cnZULnb"
   },
   "source": [
    "## Building the Bert model"
   ]
  },
  {
   "cell_type": "code",
   "execution_count": null,
   "metadata": {
    "id": "hRoyCIfhS7LW"
   },
   "outputs": [],
   "source": [
    "bert_input_features = ['input_word_ids', 'input_type_ids', 'input_mask']\n",
    "text_inputs = {feature: keras.Input(shape=(128,), dtype=tf.int32, name=feature) for feature in bert_input_features}"
   ]
  },
  {
   "cell_type": "code",
   "execution_count": null,
   "metadata": {
    "colab": {
     "base_uri": "https://localhost:8080/",
     "height": 208
    },
    "id": "AQoZk7CNslFH",
    "outputId": "75206b60-a27b-4665-e232-4063e01f9ff7"
   },
   "outputs": [
    {
     "data": {
      "image/png": "[encoded data removed]",
      "text/plain": [
       "<IPython.core.display.Image object>"
      ]
     },
     "execution_count": 53,
     "metadata": {},
     "output_type": "execute_result"
    }
   ],
   "source": [
    "bert = hub.KerasLayer(bert_model_path, name='bert')\n",
    "bert.trainable = False\n",
    "embeddings = bert(text_inputs)['pooled_output']\n",
    "projected_embeddings = keras.layers.Dense(units = 256)(embeddings)\n",
    "x = tf.nn.gelu(projected_embeddings)\n",
    "x = keras.layers.Dense(256)(x)\n",
    "x = keras.layers.Dropout(0.1)(x)\n",
    "x = keras.layers.Add()([projected_embeddings, x])\n",
    "projected_embeddings = keras.layers.LayerNormalization()(x)\n",
    "outputs = projected_embeddings\n",
    "text_encoder = keras.Model(text_inputs, outputs, name='text_encoder')\n",
    "text_projections = text_encoder(text_inputs)\n",
    "final_outputs = keras.layers.Dense(1, activation='sigmoid')(text_projections)\n",
    "model = keras.Model([text_inputs], final_outputs)\n",
    "\n",
    "keras.utils.plot_model(model, show_shapes=True)"
   ]
  },
  {
   "cell_type": "code",
   "execution_count": null,
   "metadata": {
    "id": "lHLzSTBmJyj1"
   },
   "outputs": [],
   "source": [
    "model.compile(optimizer='adam', loss='binary_crossentropy', metrics=['accuracy'])"
   ]
  },
  {
   "cell_type": "code",
   "execution_count": null,
   "metadata": {
    "id": "4AGX-PanXR4q"
   },
   "outputs": [],
   "source": [
    "my_callbacks = [ModelCheckpoint(\"./saved_models/checkpoints/best_model\", monitor='val_accuracy', verbose=0, save_best_only=True)]"
   ]
  },
  {
   "cell_type": "markdown",
   "metadata": {
    "id": "rCqOWwARUGWO"
   },
   "source": [
    "## Nike"
   ]
  },
  {
   "cell_type": "markdown",
   "metadata": {
    "id": "0c2JJ8V3EgYn"
   },
   "source": [
    "### Split data into training, testing, validation"
   ]
  },
  {
   "cell_type": "code",
   "execution_count": null,
   "metadata": {
    "colab": {
     "base_uri": "https://localhost:8080/"
    },
    "id": "nitf9K3N8jfE",
    "outputId": "f08cc565-4d6f-4306-cf39-02297083271e"
   },
   "outputs": [
    {
     "name": "stdout",
     "output_type": "stream",
     "text": [
      "Total training examples: 2736\n",
      "Total validation examples: 305\n",
      "Total test examples: 338\n"
     ]
    }
   ],
   "source": [
    "train_df, test_df = train_test_split(df_nike, test_size=0.1, random_state=42)\n",
    "train_df, val_df = train_test_split(train_df, test_size=0.1, random_state=42)\n",
    "\n",
    "print(f\"Total training examples: {len(train_df)}\")\n",
    "print(f\"Total validation examples: {len(val_df)}\")\n",
    "print(f\"Total test examples: {len(test_df)}\")"
   ]
  },
  {
   "cell_type": "code",
   "execution_count": null,
   "metadata": {
    "id": "9Dl4tFzvF07E"
   },
   "outputs": [],
   "source": [
    "train_ds = prepare_dataset(train_df)\n",
    "validation_ds = prepare_dataset(val_df, False)\n",
    "test_ds = prepare_dataset(test_df, False)"
   ]
  },
  {
   "cell_type": "markdown",
   "metadata": {
    "id": "PRYuyzV9UZV5"
   },
   "source": [
    "### Training the model"
   ]
  },
  {
   "cell_type": "code",
   "execution_count": null,
   "metadata": {
    "colab": {
     "base_uri": "https://localhost:8080/"
    },
    "id": "nSgdkgiUVvxy",
    "outputId": "ead22e61-8147-4e6f-a298-12c8c1afad18"
   },
   "outputs": [
    {
     "name": "stdout",
     "output_type": "stream",
     "text": [
      "Epoch 1/100\n",
      "86/86 [==============================] - 37s 328ms/step - loss: 0.8258 - accuracy: 0.5256 - val_loss: 0.6970 - val_accuracy: 0.5148\n",
      "Epoch 2/100\n",
      "86/86 [==============================] - 28s 324ms/step - loss: 0.7108 - accuracy: 0.5234 - val_loss: 0.6928 - val_accuracy: 0.5377\n",
      "Epoch 3/100\n",
      "86/86 [==============================] - 29s 335ms/step - loss: 0.7011 - accuracy: 0.5395 - val_loss: 0.6930 - val_accuracy: 0.5213\n",
      "Epoch 4/100\n",
      "86/86 [==============================] - 30s 348ms/step - loss: 0.6989 - accuracy: 0.5424 - val_loss: 0.6913 - val_accuracy: 0.5279\n",
      "Epoch 5/100\n",
      "86/86 [==============================] - 30s 345ms/step - loss: 0.6968 - accuracy: 0.5450 - val_loss: 0.6847 - val_accuracy: 0.5705\n",
      "Epoch 6/100\n",
      "86/86 [==============================] - 30s 347ms/step - loss: 0.6918 - accuracy: 0.5442 - val_loss: 0.6819 - val_accuracy: 0.5902\n",
      "Epoch 7/100\n",
      "86/86 [==============================] - 30s 353ms/step - loss: 0.6893 - accuracy: 0.5490 - val_loss: 0.6795 - val_accuracy: 0.5934\n",
      "Epoch 8/100\n",
      "86/86 [==============================] - 29s 341ms/step - loss: 0.6854 - accuracy: 0.5603 - val_loss: 0.6780 - val_accuracy: 0.5934\n",
      "Epoch 9/100\n",
      "86/86 [==============================] - 31s 357ms/step - loss: 0.6822 - accuracy: 0.5629 - val_loss: 0.6792 - val_accuracy: 0.5705\n",
      "Epoch 10/100\n",
      "86/86 [==============================] - 29s 338ms/step - loss: 0.6787 - accuracy: 0.5709 - val_loss: 0.6763 - val_accuracy: 0.5967\n",
      "Epoch 11/100\n",
      "86/86 [==============================] - 29s 343ms/step - loss: 0.6785 - accuracy: 0.5698 - val_loss: 0.6764 - val_accuracy: 0.5770\n",
      "Epoch 12/100\n",
      "86/86 [==============================] - 30s 351ms/step - loss: 0.6734 - accuracy: 0.5793 - val_loss: 0.6741 - val_accuracy: 0.5934\n",
      "Epoch 13/100\n",
      "86/86 [==============================] - 30s 344ms/step - loss: 0.6702 - accuracy: 0.5779 - val_loss: 0.6725 - val_accuracy: 0.5934\n",
      "Epoch 14/100\n",
      "86/86 [==============================] - 30s 345ms/step - loss: 0.6676 - accuracy: 0.5811 - val_loss: 0.6712 - val_accuracy: 0.5934\n",
      "Epoch 15/100\n",
      "86/86 [==============================] - 29s 342ms/step - loss: 0.6649 - accuracy: 0.5885 - val_loss: 0.6666 - val_accuracy: 0.6000\n",
      "Epoch 16/100\n",
      "86/86 [==============================] - 30s 349ms/step - loss: 0.6612 - accuracy: 0.5917 - val_loss: 0.6633 - val_accuracy: 0.6033\n",
      "Epoch 17/100\n",
      "86/86 [==============================] - 30s 349ms/step - loss: 0.6576 - accuracy: 0.5958 - val_loss: 0.6600 - val_accuracy: 0.6164\n",
      "Epoch 18/100\n",
      "86/86 [==============================] - 29s 342ms/step - loss: 0.6535 - accuracy: 0.6071 - val_loss: 0.6537 - val_accuracy: 0.6393\n",
      "Epoch 19/100\n",
      "86/86 [==============================] - 30s 349ms/step - loss: 0.6505 - accuracy: 0.6133 - val_loss: 0.6499 - val_accuracy: 0.6623\n",
      "Epoch 20/100\n",
      "86/86 [==============================] - 29s 341ms/step - loss: 0.6470 - accuracy: 0.6148 - val_loss: 0.6481 - val_accuracy: 0.6623\n",
      "Epoch 21/100\n",
      "86/86 [==============================] - 30s 347ms/step - loss: 0.6438 - accuracy: 0.6173 - val_loss: 0.6442 - val_accuracy: 0.6590\n",
      "Epoch 22/100\n",
      "86/86 [==============================] - 30s 351ms/step - loss: 0.6403 - accuracy: 0.6202 - val_loss: 0.6433 - val_accuracy: 0.6623\n",
      "Epoch 23/100\n",
      "86/86 [==============================] - 29s 338ms/step - loss: 0.6382 - accuracy: 0.6250 - val_loss: 0.6382 - val_accuracy: 0.6689\n",
      "Epoch 24/100\n",
      "86/86 [==============================] - 30s 345ms/step - loss: 0.6335 - accuracy: 0.6352 - val_loss: 0.6391 - val_accuracy: 0.6721\n",
      "Epoch 25/100\n",
      "86/86 [==============================] - 30s 344ms/step - loss: 0.6317 - accuracy: 0.6393 - val_loss: 0.6360 - val_accuracy: 0.6721\n",
      "Epoch 26/100\n",
      "86/86 [==============================] - 30s 347ms/step - loss: 0.6280 - accuracy: 0.6411 - val_loss: 0.6339 - val_accuracy: 0.6787\n",
      "Epoch 27/100\n",
      "86/86 [==============================] - 30s 350ms/step - loss: 0.6246 - accuracy: 0.6436 - val_loss: 0.6330 - val_accuracy: 0.6787\n",
      "Epoch 28/100\n",
      "86/86 [==============================] - 29s 338ms/step - loss: 0.6224 - accuracy: 0.6469 - val_loss: 0.6319 - val_accuracy: 0.6787\n",
      "Epoch 29/100\n",
      "86/86 [==============================] - 30s 352ms/step - loss: 0.6205 - accuracy: 0.6440 - val_loss: 0.6299 - val_accuracy: 0.6820\n",
      "Epoch 30/100\n",
      "86/86 [==============================] - 30s 347ms/step - loss: 0.6185 - accuracy: 0.6506 - val_loss: 0.6316 - val_accuracy: 0.6689\n",
      "Epoch 31/100\n",
      "86/86 [==============================] - 29s 342ms/step - loss: 0.6168 - accuracy: 0.6517 - val_loss: 0.6302 - val_accuracy: 0.6787\n",
      "Epoch 32/100\n",
      "86/86 [==============================] - 31s 357ms/step - loss: 0.6141 - accuracy: 0.6557 - val_loss: 0.6285 - val_accuracy: 0.6754\n",
      "Epoch 33/100\n",
      "86/86 [==============================] - 29s 340ms/step - loss: 0.6109 - accuracy: 0.6612 - val_loss: 0.6266 - val_accuracy: 0.6689\n",
      "Epoch 34/100\n",
      "86/86 [==============================] - 30s 353ms/step - loss: 0.6088 - accuracy: 0.6634 - val_loss: 0.6253 - val_accuracy: 0.6787\n",
      "Epoch 35/100\n",
      "86/86 [==============================] - 29s 339ms/step - loss: 0.6066 - accuracy: 0.6648 - val_loss: 0.6245 - val_accuracy: 0.6820\n",
      "Epoch 36/100\n",
      "86/86 [==============================] - 30s 350ms/step - loss: 0.6041 - accuracy: 0.6703 - val_loss: 0.6250 - val_accuracy: 0.6852\n",
      "Epoch 37/100\n",
      "86/86 [==============================] - 30s 350ms/step - loss: 0.6024 - accuracy: 0.6696 - val_loss: 0.6262 - val_accuracy: 0.6885\n",
      "Epoch 38/100\n",
      "86/86 [==============================] - 29s 341ms/step - loss: 0.5994 - accuracy: 0.6751 - val_loss: 0.6271 - val_accuracy: 0.6918\n",
      "Epoch 39/100\n",
      "86/86 [==============================] - 30s 350ms/step - loss: 0.5975 - accuracy: 0.6751 - val_loss: 0.6251 - val_accuracy: 0.6820\n",
      "Epoch 40/100\n",
      "86/86 [==============================] - 29s 342ms/step - loss: 0.5956 - accuracy: 0.6780 - val_loss: 0.6259 - val_accuracy: 0.6918\n",
      "Epoch 41/100\n",
      "86/86 [==============================] - 29s 341ms/step - loss: 0.5939 - accuracy: 0.6765 - val_loss: 0.6273 - val_accuracy: 0.6984\n",
      "Epoch 42/100\n",
      "86/86 [==============================] - 30s 346ms/step - loss: 0.5922 - accuracy: 0.6773 - val_loss: 0.6282 - val_accuracy: 0.6918\n",
      "Epoch 43/100\n",
      "86/86 [==============================] - 29s 343ms/step - loss: 0.5891 - accuracy: 0.6842 - val_loss: 0.6266 - val_accuracy: 0.6984\n",
      "Epoch 44/100\n",
      "86/86 [==============================] - 30s 348ms/step - loss: 0.5872 - accuracy: 0.6820 - val_loss: 0.6273 - val_accuracy: 0.6951\n",
      "Epoch 45/100\n",
      "86/86 [==============================] - 30s 349ms/step - loss: 0.5886 - accuracy: 0.6838 - val_loss: 0.6118 - val_accuracy: 0.7052\n",
      "Epoch 46/100\n",
      "86/86 [==============================] - 29s 338ms/step - loss: 0.5844 - accuracy: 0.6831 - val_loss: 0.6121 - val_accuracy: 0.7085\n",
      "Epoch 47/100\n",
      "86/86 [==============================] - 30s 353ms/step - loss: 0.5841 - accuracy: 0.6860 - val_loss: 0.6155 - val_accuracy: 0.7020\n",
      "Epoch 48/100\n",
      "86/86 [==============================] - 29s 343ms/step - loss: 0.5819 - accuracy: 0.6879 - val_loss: 0.6123 - val_accuracy: 0.7052\n",
      "Epoch 49/100\n",
      "86/86 [==============================] - 30s 349ms/step - loss: 0.5804 - accuracy: 0.6901 - val_loss: 0.6047 - val_accuracy: 0.7105\n",
      "Epoch 50/100\n",
      "86/86 [==============================] - 30s 345ms/step - loss: 0.5774 - accuracy: 0.6930 - val_loss: 0.6014 - val_accuracy: 0.7118\n",
      "Epoch 51/100\n",
      "86/86 [==============================] - 30s 348ms/step - loss: 0.5765 - accuracy: 0.6904 - val_loss: 0.6066 - val_accuracy: 0.7018\n",
      "Epoch 52/100\n",
      "86/86 [==============================] - 30s 345ms/step - loss: 0.5757 - accuracy: 0.6919 - val_loss: 0.5804 - val_accuracy: 0.7252\n",
      "Epoch 53/100\n",
      "86/86 [==============================] - 29s 340ms/step - loss: 0.5732 - accuracy: 0.6970 - val_loss: 0.5844 - val_accuracy: 0.7220\n",
      "Epoch 54/100\n",
      "86/86 [==============================] - 30s 345ms/step - loss: 0.5736 - accuracy: 0.6988 - val_loss: 0.5965 - val_accuracy: 0.7185\n",
      "Epoch 55/100\n",
      "86/86 [==============================] - 30s 348ms/step - loss: 0.5692 - accuracy: 0.7010 - val_loss: 0.5843 - val_accuracy: 0.7218\n",
      "Epoch 56/100\n",
      "86/86 [==============================] - 30s 346ms/step - loss: 0.5679 - accuracy: 0.7061 - val_loss: 0.5802 - val_accuracy: 0.7218\n",
      "Epoch 57/100\n",
      "86/86 [==============================] - 30s 347ms/step - loss: 0.5632 - accuracy: 0.7054 - val_loss: 0.5788 - val_accuracy: 0.7311\n",
      "Epoch 58/100\n",
      "86/86 [==============================] - 30s 346ms/step - loss: 0.5626 - accuracy: 0.7065 - val_loss: 0.5708 - val_accuracy: 0.7352\n",
      "Epoch 59/100\n",
      "86/86 [==============================] - 30s 347ms/step - loss: 0.5626 - accuracy: 0.7043 - val_loss: 0.5733 - val_accuracy: 0.7321\n",
      "Epoch 60/100\n",
      "86/86 [==============================] - 30s 345ms/step - loss: 0.5603 - accuracy: 0.7058 - val_loss: 0.5809 - val_accuracy: 0.7252\n",
      "Epoch 61/100\n",
      "86/86 [==============================] - 29s 340ms/step - loss: 0.5582 - accuracy: 0.7050 - val_loss: 0.5761 - val_accuracy: 0.7385\n",
      "Epoch 62/100\n",
      "86/86 [==============================] - 30s 345ms/step - loss: 0.5570 - accuracy: 0.7083 - val_loss: 0.5702 - val_accuracy: 0.7385\n",
      "Epoch 63/100\n",
      "86/86 [==============================] - 30s 344ms/step - loss: 0.5634 - accuracy: 0.7039 - val_loss: 0.5668 - val_accuracy: 0.7420\n",
      "Epoch 64/100\n",
      "86/86 [==============================] - 29s 341ms/step - loss: 0.5554 - accuracy: 0.7138 - val_loss: 0.5710 - val_accuracy: 0.7378\n",
      "Epoch 65/100\n",
      "86/86 [==============================] - 29s 343ms/step - loss: 0.5540 - accuracy: 0.7182 - val_loss: 0.5762 - val_accuracy: 0.7389\n",
      "Epoch 66/100\n",
      "86/86 [==============================] - 30s 345ms/step - loss: 0.5511 - accuracy: 0.7193 - val_loss: 0.5677 - val_accuracy: 0.7417\n",
      "Epoch 67/100\n",
      "86/86 [==============================] - 30s 344ms/step - loss: 0.5535 - accuracy: 0.7131 - val_loss: 0.5708 - val_accuracy: 0.7344\n",
      "Epoch 68/100\n",
      "86/86 [==============================] - 30s 345ms/step - loss: 0.5519 - accuracy: 0.7182 - val_loss: 0.5810 - val_accuracy: 0.7285\n",
      "Epoch 69/100\n",
      "86/86 [==============================] - 30s 349ms/step - loss: 0.5472 - accuracy: 0.7208 - val_loss: 0.5853 - val_accuracy: 0.7221\n",
      "Epoch 70/100\n",
      "86/86 [==============================] - 30s 345ms/step - loss: 0.5419 - accuracy: 0.7292 - val_loss: 0.5839 - val_accuracy: 0.7254\n",
      "Epoch 71/100\n",
      "86/86 [==============================] - 30s 348ms/step - loss: 0.5394 - accuracy: 0.7259 - val_loss: 0.5727 - val_accuracy: 0.7354\n",
      "Epoch 72/100\n",
      "86/86 [==============================] - 30s 344ms/step - loss: 0.5376 - accuracy: 0.7259 - val_loss: 0.5744 - val_accuracy: 0.7354\n",
      "Epoch 73/100\n",
      "86/86 [==============================] - 29s 339ms/step - loss: 0.5351 - accuracy: 0.7281 - val_loss: 0.5749 - val_accuracy: 0.7321\n",
      "Epoch 74/100\n",
      "86/86 [==============================] - 30s 351ms/step - loss: 0.5348 - accuracy: 0.7284 - val_loss: 0.5725 - val_accuracy: 0.7323\n",
      "Epoch 75/100\n",
      "86/86 [==============================] - 30s 347ms/step - loss: 0.5313 - accuracy: 0.7284 - val_loss: 0.5971 - val_accuracy: 0.7157\n",
      "Epoch 76/100\n",
      "86/86 [==============================] - 29s 338ms/step - loss: 0.5289 - accuracy: 0.7346 - val_loss: 0.5998 - val_accuracy: 0.7157\n",
      "Epoch 77/100\n",
      "86/86 [==============================] - 30s 347ms/step - loss: 0.5330 - accuracy: 0.7343 - val_loss: 0.5863 - val_accuracy: 0.7285\n",
      "Epoch 78/100\n",
      "86/86 [==============================] - 30s 344ms/step - loss: 0.5288 - accuracy: 0.7394 - val_loss: 0.5773 - val_accuracy: 0.7320\n",
      "Epoch 79/100\n",
      "86/86 [==============================] - 29s 341ms/step - loss: 0.5239 - accuracy: 0.7405 - val_loss: 0.5891 - val_accuracy: 0.7252\n",
      "Epoch 80/100\n",
      "86/86 [==============================] - 29s 342ms/step - loss: 0.5244 - accuracy: 0.7387 - val_loss: 0.5839 - val_accuracy: 0.7252\n",
      "Epoch 81/100\n",
      "86/86 [==============================] - 30s 349ms/step - loss: 0.5222 - accuracy: 0.7409 - val_loss: 0.5871 - val_accuracy: 0.7221\n",
      "Epoch 82/100\n",
      "86/86 [==============================] - 30s 348ms/step - loss: 0.5189 - accuracy: 0.7460 - val_loss: 0.5844 - val_accuracy: 0.7252\n",
      "Epoch 83/100\n",
      "86/86 [==============================] - 30s 343ms/step - loss: 0.5151 - accuracy: 0.7482 - val_loss: 0.5895 - val_accuracy: 0.7252\n",
      "Epoch 84/100\n",
      "86/86 [==============================] - 31s 355ms/step - loss: 0.5146 - accuracy: 0.7434 - val_loss: 0.5725 - val_accuracy: 0.7320\n",
      "Epoch 85/100\n",
      "86/86 [==============================] - 29s 338ms/step - loss: 0.5113 - accuracy: 0.7445 - val_loss: 0.5832 - val_accuracy: 0.7285\n",
      "Epoch 86/100\n",
      "86/86 [==============================] - 30s 350ms/step - loss: 0.5137 - accuracy: 0.7445 - val_loss: 0.5841 - val_accuracy: 0.7285\n",
      "Epoch 87/100\n",
      "86/86 [==============================] - 30s 343ms/step - loss: 0.5100 - accuracy: 0.7515 - val_loss: 0.5794 - val_accuracy: 0.7320\n",
      "Epoch 88/100\n",
      "86/86 [==============================] - 30s 344ms/step - loss: 0.5083 - accuracy: 0.7482 - val_loss: 0.5828 - val_accuracy: 0.7285\n",
      "Epoch 89/100\n",
      "86/86 [==============================] - 29s 343ms/step - loss: 0.5045 - accuracy: 0.7493 - val_loss: 0.5987 - val_accuracy: 0.7149\n",
      "Epoch 90/100\n",
      "86/86 [==============================] - 30s 348ms/step - loss: 0.5054 - accuracy: 0.7493 - val_loss: 0.5859 - val_accuracy: 0.7285\n",
      "Epoch 91/100\n",
      "86/86 [==============================] - 30s 344ms/step - loss: 0.5039 - accuracy: 0.7573 - val_loss: 0.5755 - val_accuracy: 0.7382\n",
      "Epoch 92/100\n",
      "86/86 [==============================] - 30s 345ms/step - loss: 0.5086 - accuracy: 0.7482 - val_loss: 0.5735 - val_accuracy: 0.7318\n",
      "Epoch 93/100\n",
      "86/86 [==============================] - 29s 341ms/step - loss: 0.5111 - accuracy: 0.7478 - val_loss: 0.5840 - val_accuracy: 0.7284\n",
      "Epoch 94/100\n",
      "86/86 [==============================] - 30s 348ms/step - loss: 0.5043 - accuracy: 0.7500 - val_loss: 0.5718 - val_accuracy: 0.7318\n",
      "Epoch 95/100\n",
      "86/86 [==============================] - 30s 348ms/step - loss: 0.5016 - accuracy: 0.7555 - val_loss: 0.5844 - val_accuracy: 0.7289\n",
      "Epoch 96/100\n",
      "86/86 [==============================] - 29s 342ms/step - loss: 0.5041 - accuracy: 0.7507 - val_loss: 0.5838 - val_accuracy: 0.7249\n",
      "Epoch 97/100\n",
      "86/86 [==============================] - 30s 355ms/step - loss: 0.4978 - accuracy: 0.7573 - val_loss: 0.5708 - val_accuracy: 0.7318\n",
      "Epoch 98/100\n",
      "86/86 [==============================] - 29s 341ms/step - loss: 0.4930 - accuracy: 0.7573 - val_loss: 0.5846 - val_accuracy: 0.7251\n",
      "Epoch 99/100\n",
      "86/86 [==============================] - 30s 352ms/step - loss: 0.4941 - accuracy: 0.7580 - val_loss: 0.5959 - val_accuracy: 0.7149\n",
      "Epoch 100/100\n",
      "86/86 [==============================] - 30s 343ms/step - loss: 0.4927 - accuracy: 0.7537 - val_loss: 0.5901 - val_accuracy: 0.7185\n"
     ]
    }
   ],
   "source": [
    "history = model.fit(train_ds, validation_data=validation_ds, epochs=100, callbacks=my_callbacks)"
   ]
  },
  {
   "cell_type": "markdown",
   "metadata": {
    "id": "UAioTFnwUewA"
   },
   "source": [
    "### Evaluating the model"
   ]
  },
  {
   "cell_type": "code",
   "execution_count": null,
   "metadata": {
    "colab": {
     "base_uri": "https://localhost:8080/"
    },
    "id": "ZshO-5drZ8JQ",
    "outputId": "040c89b6-33e1-42e9-d7c2-c370a04f78bc"
   },
   "outputs": [
    {
     "name": "stdout",
     "output_type": "stream",
     "text": [
      "22/22 [==============================] - 7s 311ms/step - loss: 0.4924 - accuracy: 0.7789\n"
     ]
    },
    {
     "data": {
      "text/plain": [
       "[0.4923655915260315, 0.7788809323310852]"
      ]
     },
     "execution_count": 40,
     "metadata": {},
     "output_type": "execute_result"
    }
   ],
   "source": [
    "# fix\n",
    "\n",
    "\n",
    "model = tf.keras.models.load_model(\"./saved_models/checkpoints/best_model\")\n",
    "model.evaluate(test_ds)"
   ]
  },
  {
   "cell_type": "markdown",
   "metadata": {
    "id": "eYsgDVNeVhYH"
   },
   "source": [
    "## Ed Sheeran"
   ]
  },
  {
   "cell_type": "markdown",
   "metadata": {
    "id": "iZC4DTdcVhYb"
   },
   "source": [
    "### Split data into training, testing, validation"
   ]
  },
  {
   "cell_type": "code",
   "execution_count": null,
   "metadata": {
    "colab": {
     "base_uri": "https://localhost:8080/"
    },
    "id": "LudwPOMVVhYb",
    "outputId": "8d3521a8-a9cd-4509-ae41-82f400954174"
   },
   "outputs": [
    {
     "name": "stdout",
     "output_type": "stream",
     "text": [
      "Total training examples: 2359\n",
      "Total validation examples: 263\n",
      "Total test examples: 292\n"
     ]
    }
   ],
   "source": [
    "train_df, test_df = train_test_split(df_edsheeran, test_size=0.1, random_state=42)\n",
    "train_df, val_df = train_test_split(train_df, test_size=0.1, random_state=42)\n",
    "\n",
    "print(f\"Total training examples: {len(train_df)}\")\n",
    "print(f\"Total validation examples: {len(val_df)}\")\n",
    "print(f\"Total test examples: {len(test_df)}\")"
   ]
  },
  {
   "cell_type": "code",
   "execution_count": null,
   "metadata": {
    "id": "WyGcpes9VhYc"
   },
   "outputs": [],
   "source": [
    "train_ds = prepare_dataset(train_df)\n",
    "validation_ds = prepare_dataset(val_df, False)\n",
    "test_ds = prepare_dataset(test_df, False)"
   ]
  },
  {
   "cell_type": "markdown",
   "metadata": {
    "id": "c46Yh31UVhYc"
   },
   "source": [
    "### Training the model"
   ]
  },
  {
   "cell_type": "code",
   "execution_count": null,
   "metadata": {
    "colab": {
     "base_uri": "https://localhost:8080/"
    },
    "id": "3708li7wVhYc",
    "outputId": "3b8d49dd-a4b0-4768-af83-aee20d38e95f"
   },
   "outputs": [
    {
     "name": "stdout",
     "output_type": "stream",
     "text": [
      "Epoch 1/100\n",
      "74/74 [==============================] - 38s 323ms/step - loss: 0.7656 - accuracy: 0.6036 - val_loss: 0.6365 - val_accuracy: 0.6392\n",
      "Epoch 2/100\n",
      "74/74 [==============================] - 23s 316ms/step - loss: 0.5756 - accuracy: 0.6994 - val_loss: 0.5069 - val_accuracy: 0.7419\n",
      "Epoch 3/100\n",
      "74/74 [==============================] - 24s 328ms/step - loss: 0.4936 - accuracy: 0.7554 - val_loss: 0.5010 - val_accuracy: 0.7381\n",
      "Epoch 4/100\n",
      "74/74 [==============================] - 24s 327ms/step - loss: 0.4758 - accuracy: 0.7588 - val_loss: 0.4819 - val_accuracy: 0.7609\n",
      "Epoch 5/100\n",
      "74/74 [==============================] - 24s 324ms/step - loss: 0.4546 - accuracy: 0.7643 - val_loss: 0.4674 - val_accuracy: 0.7837\n",
      "Epoch 6/100\n",
      "74/74 [==============================] - 24s 325ms/step - loss: 0.4512 - accuracy: 0.7656 - val_loss: 0.4437 - val_accuracy: 0.7685\n",
      "Epoch 7/100\n",
      "74/74 [==============================] - 24s 328ms/step - loss: 0.4345 - accuracy: 0.7830 - val_loss: 0.4464 - val_accuracy: 0.7647\n",
      "Epoch 8/100\n",
      "74/74 [==============================] - 24s 326ms/step - loss: 0.4232 - accuracy: 0.7825 - val_loss: 0.4439 - val_accuracy: 0.7761\n",
      "Epoch 9/100\n",
      "74/74 [==============================] - 24s 328ms/step - loss: 0.4176 - accuracy: 0.7919 - val_loss: 0.4396 - val_accuracy: 0.7761\n",
      "Epoch 10/100\n",
      "74/74 [==============================] - 24s 326ms/step - loss: 0.4130 - accuracy: 0.7914 - val_loss: 0.4355 - val_accuracy: 0.7761\n",
      "Epoch 11/100\n",
      "74/74 [==============================] - 24s 329ms/step - loss: 0.4082 - accuracy: 0.7982 - val_loss: 0.4336 - val_accuracy: 0.7799\n",
      "Epoch 12/100\n",
      "74/74 [==============================] - 24s 323ms/step - loss: 0.4062 - accuracy: 0.7986 - val_loss: 0.4359 - val_accuracy: 0.7875\n",
      "Epoch 13/100\n",
      "74/74 [==============================] - 24s 325ms/step - loss: 0.4064 - accuracy: 0.7931 - val_loss: 0.4418 - val_accuracy: 0.7875\n",
      "Epoch 14/100\n",
      "74/74 [==============================] - 24s 328ms/step - loss: 0.4064 - accuracy: 0.7944 - val_loss: 0.4387 - val_accuracy: 0.7875\n",
      "Epoch 15/100\n",
      "74/74 [==============================] - 24s 325ms/step - loss: 0.4028 - accuracy: 0.7969 - val_loss: 0.4368 - val_accuracy: 0.7875\n",
      "Epoch 16/100\n",
      "74/74 [==============================] - 24s 328ms/step - loss: 0.4022 - accuracy: 0.7940 - val_loss: 0.4339 - val_accuracy: 0.7875\n",
      "Epoch 17/100\n",
      "74/74 [==============================] - 24s 328ms/step - loss: 0.3992 - accuracy: 0.7995 - val_loss: 0.4329 - val_accuracy: 0.7875\n",
      "Epoch 18/100\n",
      "74/74 [==============================] - 24s 323ms/step - loss: 0.3983 - accuracy: 0.8003 - val_loss: 0.4318 - val_accuracy: 0.7913\n",
      "Epoch 19/100\n",
      "74/74 [==============================] - 24s 330ms/step - loss: 0.3963 - accuracy: 0.8003 - val_loss: 0.4306 - val_accuracy: 0.7913\n",
      "Epoch 20/100\n",
      "74/74 [==============================] - 24s 324ms/step - loss: 0.3948 - accuracy: 0.8008 - val_loss: 0.4311 - val_accuracy: 0.7951\n",
      "Epoch 21/100\n",
      "74/74 [==============================] - 24s 329ms/step - loss: 0.3902 - accuracy: 0.8050 - val_loss: 0.4307 - val_accuracy: 0.7913\n",
      "Epoch 22/100\n",
      "74/74 [==============================] - 24s 329ms/step - loss: 0.3922 - accuracy: 0.8067 - val_loss: 0.4323 - val_accuracy: 0.7951\n",
      "Epoch 23/100\n",
      "74/74 [==============================] - 24s 322ms/step - loss: 0.3874 - accuracy: 0.8071 - val_loss: 0.4320 - val_accuracy: 0.7951\n",
      "Epoch 24/100\n",
      "74/74 [==============================] - 25s 334ms/step - loss: 0.3863 - accuracy: 0.8080 - val_loss: 0.4305 - val_accuracy: 0.7951\n",
      "Epoch 25/100\n",
      "74/74 [==============================] - 24s 325ms/step - loss: 0.3826 - accuracy: 0.8080 - val_loss: 0.4355 - val_accuracy: 0.7927\n",
      "Epoch 26/100\n",
      "74/74 [==============================] - 24s 323ms/step - loss: 0.3834 - accuracy: 0.8131 - val_loss: 0.4352 - val_accuracy: 0.7989\n",
      "Epoch 27/100\n",
      "74/74 [==============================] - 24s 330ms/step - loss: 0.3801 - accuracy: 0.8148 - val_loss: 0.4380 - val_accuracy: 0.7951\n",
      "Epoch 28/100\n",
      "74/74 [==============================] - 24s 326ms/step - loss: 0.3785 - accuracy: 0.8173 - val_loss: 0.4396 - val_accuracy: 0.8179\n",
      "Epoch 29/100\n",
      "74/74 [==============================] - 24s 331ms/step - loss: 0.3761 - accuracy: 0.8169 - val_loss: 0.4410 - val_accuracy: 0.8103\n",
      "Epoch 30/100\n",
      "74/74 [==============================] - 24s 323ms/step - loss: 0.3733 - accuracy: 0.8190 - val_loss: 0.4447 - val_accuracy: 0.8103\n",
      "Epoch 31/100\n",
      "74/74 [==============================] - 24s 330ms/step - loss: 0.3719 - accuracy: 0.8198 - val_loss: 0.4495 - val_accuracy: 0.8065\n",
      "Epoch 32/100\n",
      "74/74 [==============================] - 24s 327ms/step - loss: 0.3700 - accuracy: 0.8211 - val_loss: 0.4533 - val_accuracy: 0.8065\n",
      "Epoch 33/100\n",
      "74/74 [==============================] - 24s 324ms/step - loss: 0.3690 - accuracy: 0.8228 - val_loss: 0.4558 - val_accuracy: 0.8065\n",
      "Epoch 34/100\n",
      "74/74 [==============================] - 24s 326ms/step - loss: 0.3657 - accuracy: 0.8275 - val_loss: 0.4570 - val_accuracy: 0.8065\n",
      "Epoch 35/100\n",
      "74/74 [==============================] - 24s 327ms/step - loss: 0.3641 - accuracy: 0.8258 - val_loss: 0.4508 - val_accuracy: 0.8065\n",
      "Epoch 36/100\n",
      "74/74 [==============================] - 24s 326ms/step - loss: 0.3618 - accuracy: 0.8304 - val_loss: 0.4522 - val_accuracy: 0.8065\n",
      "Epoch 37/100\n",
      "74/74 [==============================] - 24s 327ms/step - loss: 0.3605 - accuracy: 0.8296 - val_loss: 0.4557 - val_accuracy: 0.8065\n",
      "Epoch 38/100\n",
      "74/74 [==============================] - 24s 326ms/step - loss: 0.3579 - accuracy: 0.8292 - val_loss: 0.4693 - val_accuracy: 0.7913\n",
      "Epoch 39/100\n",
      "74/74 [==============================] - 24s 327ms/step - loss: 0.3582 - accuracy: 0.8300 - val_loss: 0.4690 - val_accuracy: 0.8103\n",
      "Epoch 40/100\n",
      "74/74 [==============================] - 24s 327ms/step - loss: 0.3550 - accuracy: 0.8309 - val_loss: 0.4758 - val_accuracy: 0.7989\n",
      "Epoch 41/100\n",
      "74/74 [==============================] - 24s 327ms/step - loss: 0.3529 - accuracy: 0.8347 - val_loss: 0.4772 - val_accuracy: 0.7951\n",
      "Epoch 42/100\n",
      "74/74 [==============================] - 25s 332ms/step - loss: 0.3515 - accuracy: 0.8317 - val_loss: 0.4833 - val_accuracy: 0.7913\n",
      "Epoch 43/100\n",
      "74/74 [==============================] - 24s 324ms/step - loss: 0.3499 - accuracy: 0.8347 - val_loss: 0.4806 - val_accuracy: 0.7951\n",
      "Epoch 44/100\n",
      "74/74 [==============================] - 24s 324ms/step - loss: 0.3485 - accuracy: 0.8372 - val_loss: 0.4875 - val_accuracy: 0.7913\n",
      "Epoch 45/100\n",
      "74/74 [==============================] - 24s 327ms/step - loss: 0.3450 - accuracy: 0.8385 - val_loss: 0.4833 - val_accuracy: 0.8027\n",
      "Epoch 46/100\n",
      "74/74 [==============================] - 24s 327ms/step - loss: 0.3440 - accuracy: 0.8406 - val_loss: 0.4923 - val_accuracy: 0.7913\n",
      "Epoch 47/100\n",
      "74/74 [==============================] - 24s 330ms/step - loss: 0.3429 - accuracy: 0.8415 - val_loss: 0.4937 - val_accuracy: 0.8141\n",
      "Epoch 48/100\n",
      "74/74 [==============================] - 24s 319ms/step - loss: 0.3399 - accuracy: 0.8406 - val_loss: 0.5090 - val_accuracy: 0.8141\n",
      "Epoch 49/100\n",
      "74/74 [==============================] - 24s 319ms/step - loss: 0.3393 - accuracy: 0.8432 - val_loss: 0.4966 - val_accuracy: 0.8103\n",
      "Epoch 50/100\n",
      "74/74 [==============================] - 24s 319ms/step - loss: 0.3367 - accuracy: 0.8440 - val_loss: 0.5037 - val_accuracy: 0.8179\n",
      "Epoch 51/100\n",
      "74/74 [==============================] - 24s 318ms/step - loss: 0.3331 - accuracy: 0.8419 - val_loss: 0.5016 - val_accuracy: 0.8217\n",
      "Epoch 52/100\n",
      "74/74 [==============================] - 23s 316ms/step - loss: 0.3333 - accuracy: 0.8482 - val_loss: 0.4899 - val_accuracy: 0.8293\n",
      "Epoch 53/100\n",
      "74/74 [==============================] - 23s 317ms/step - loss: 0.3299 - accuracy: 0.8487 - val_loss: 0.5029 - val_accuracy: 0.8293\n",
      "Epoch 54/100\n",
      "74/74 [==============================] - 24s 319ms/step - loss: 0.3276 - accuracy: 0.8474 - val_loss: 0.4892 - val_accuracy: 0.8293\n",
      "Epoch 55/100\n",
      "74/74 [==============================] - 24s 320ms/step - loss: 0.3276 - accuracy: 0.8427 - val_loss: 0.5123 - val_accuracy: 0.8255\n",
      "Epoch 56/100\n",
      "74/74 [==============================] - 24s 320ms/step - loss: 0.3279 - accuracy: 0.8482 - val_loss: 0.4849 - val_accuracy: 0.8445\n",
      "Epoch 57/100\n",
      "74/74 [==============================] - 24s 318ms/step - loss: 0.3260 - accuracy: 0.8453 - val_loss: 0.5134 - val_accuracy: 0.8369\n",
      "Epoch 58/100\n",
      "74/74 [==============================] - 24s 319ms/step - loss: 0.3242 - accuracy: 0.8487 - val_loss: 0.4902 - val_accuracy: 0.8407\n",
      "Epoch 59/100\n",
      "74/74 [==============================] - 23s 317ms/step - loss: 0.3203 - accuracy: 0.8521 - val_loss: 0.5136 - val_accuracy: 0.8369\n",
      "Epoch 60/100\n",
      "74/74 [==============================] - 23s 316ms/step - loss: 0.3205 - accuracy: 0.8482 - val_loss: 0.4939 - val_accuracy: 0.8369\n",
      "Epoch 61/100\n",
      "74/74 [==============================] - 24s 319ms/step - loss: 0.3200 - accuracy: 0.8525 - val_loss: 0.5134 - val_accuracy: 0.8331\n",
      "Epoch 62/100\n",
      "74/74 [==============================] - 24s 324ms/step - loss: 0.3211 - accuracy: 0.8499 - val_loss: 0.4912 - val_accuracy: 0.8407\n",
      "Epoch 63/100\n",
      "74/74 [==============================] - 24s 321ms/step - loss: 0.3160 - accuracy: 0.8563 - val_loss: 0.5224 - val_accuracy: 0.8369\n",
      "Epoch 64/100\n",
      "74/74 [==============================] - 24s 322ms/step - loss: 0.3179 - accuracy: 0.8538 - val_loss: 0.4887 - val_accuracy: 0.8369\n",
      "Epoch 65/100\n",
      "74/74 [==============================] - 24s 318ms/step - loss: 0.3142 - accuracy: 0.8538 - val_loss: 0.5268 - val_accuracy: 0.8331\n",
      "Epoch 66/100\n",
      "74/74 [==============================] - 24s 319ms/step - loss: 0.3143 - accuracy: 0.8601 - val_loss: 0.5007 - val_accuracy: 0.8407\n",
      "Epoch 67/100\n",
      "74/74 [==============================] - 24s 318ms/step - loss: 0.3089 - accuracy: 0.8571 - val_loss: 0.5265 - val_accuracy: 0.8369\n",
      "Epoch 68/100\n",
      "74/74 [==============================] - 23s 317ms/step - loss: 0.3113 - accuracy: 0.8580 - val_loss: 0.4986 - val_accuracy: 0.8407\n",
      "Epoch 69/100\n",
      "74/74 [==============================] - 23s 317ms/step - loss: 0.3086 - accuracy: 0.8588 - val_loss: 0.5427 - val_accuracy: 0.8217\n",
      "Epoch 70/100\n",
      "74/74 [==============================] - 24s 318ms/step - loss: 0.3105 - accuracy: 0.8571 - val_loss: 0.5074 - val_accuracy: 0.8369\n",
      "Epoch 71/100\n",
      "74/74 [==============================] - 24s 319ms/step - loss: 0.3031 - accuracy: 0.8627 - val_loss: 0.5155 - val_accuracy: 0.8559\n",
      "Epoch 72/100\n",
      "74/74 [==============================] - 24s 320ms/step - loss: 0.3063 - accuracy: 0.8597 - val_loss: 0.5066 - val_accuracy: 0.8445\n",
      "Epoch 73/100\n",
      "74/74 [==============================] - 24s 317ms/step - loss: 0.2992 - accuracy: 0.8627 - val_loss: 0.5069 - val_accuracy: 0.8483\n",
      "Epoch 74/100\n",
      "74/74 [==============================] - 24s 320ms/step - loss: 0.2967 - accuracy: 0.8597 - val_loss: 0.5303 - val_accuracy: 0.8483\n",
      "Epoch 75/100\n",
      "74/74 [==============================] - 24s 319ms/step - loss: 0.2990 - accuracy: 0.8584 - val_loss: 0.4991 - val_accuracy: 0.8521\n",
      "Epoch 76/100\n",
      "74/74 [==============================] - 24s 331ms/step - loss: 0.2956 - accuracy: 0.8580 - val_loss: 0.5122 - val_accuracy: 0.8407\n",
      "Epoch 77/100\n",
      "74/74 [==============================] - 24s 328ms/step - loss: 0.2937 - accuracy: 0.8593 - val_loss: 0.5110 - val_accuracy: 0.8521\n",
      "Epoch 78/100\n",
      "74/74 [==============================] - 24s 324ms/step - loss: 0.2911 - accuracy: 0.8597 - val_loss: 0.5039 - val_accuracy: 0.8255\n",
      "Epoch 79/100\n",
      "74/74 [==============================] - 24s 328ms/step - loss: 0.2904 - accuracy: 0.8627 - val_loss: 0.5076 - val_accuracy: 0.8407\n",
      "Epoch 80/100\n",
      "74/74 [==============================] - 24s 328ms/step - loss: 0.2873 - accuracy: 0.8656 - val_loss: 0.5161 - val_accuracy: 0.8407\n",
      "Epoch 81/100\n",
      "74/74 [==============================] - 25s 332ms/step - loss: 0.2844 - accuracy: 0.8673 - val_loss: 0.5343 - val_accuracy: 0.8483\n",
      "Epoch 82/100\n",
      "74/74 [==============================] - 24s 325ms/step - loss: 0.2858 - accuracy: 0.8614 - val_loss: 0.5233 - val_accuracy: 0.8483\n",
      "Epoch 83/100\n",
      "74/74 [==============================] - 24s 325ms/step - loss: 0.2832 - accuracy: 0.8622 - val_loss: 0.5409 - val_accuracy: 0.8179\n",
      "Epoch 84/100\n",
      "74/74 [==============================] - 25s 332ms/step - loss: 0.2818 - accuracy: 0.8707 - val_loss: 0.5341 - val_accuracy: 0.8521\n",
      "Epoch 85/100\n",
      "74/74 [==============================] - 24s 326ms/step - loss: 0.2816 - accuracy: 0.8652 - val_loss: 0.5198 - val_accuracy: 0.8407\n",
      "Epoch 86/100\n",
      "74/74 [==============================] - 24s 332ms/step - loss: 0.2794 - accuracy: 0.8665 - val_loss: 0.5161 - val_accuracy: 0.8255\n",
      "Epoch 87/100\n",
      "74/74 [==============================] - 24s 325ms/step - loss: 0.2757 - accuracy: 0.8669 - val_loss: 0.5216 - val_accuracy: 0.8597\n",
      "Epoch 88/100\n",
      "74/74 [==============================] - 24s 325ms/step - loss: 0.2718 - accuracy: 0.8707 - val_loss: 0.5492 - val_accuracy: 0.8483\n",
      "Epoch 89/100\n",
      "74/74 [==============================] - 24s 327ms/step - loss: 0.2748 - accuracy: 0.8669 - val_loss: 0.5692 - val_accuracy: 0.8407\n",
      "Epoch 90/100\n",
      "74/74 [==============================] - 24s 326ms/step - loss: 0.3063 - accuracy: 0.8538 - val_loss: 0.5335 - val_accuracy: 0.8407\n",
      "Epoch 91/100\n",
      "74/74 [==============================] - 24s 326ms/step - loss: 0.2860 - accuracy: 0.8660 - val_loss: 0.4754 - val_accuracy: 0.8407\n",
      "Epoch 92/100\n",
      "74/74 [==============================] - 24s 330ms/step - loss: 0.2750 - accuracy: 0.8699 - val_loss: 0.5039 - val_accuracy: 0.8255\n",
      "Epoch 93/100\n",
      "74/74 [==============================] - 24s 327ms/step - loss: 0.2681 - accuracy: 0.8766 - val_loss: 0.5564 - val_accuracy: 0.8483\n",
      "Epoch 94/100\n",
      "74/74 [==============================] - 24s 328ms/step - loss: 0.2681 - accuracy: 0.8741 - val_loss: 0.5129 - val_accuracy: 0.8483\n",
      "Epoch 95/100\n",
      "74/74 [==============================] - 24s 331ms/step - loss: 0.2650 - accuracy: 0.8758 - val_loss: 0.4971 - val_accuracy: 0.8407\n",
      "Epoch 96/100\n",
      "74/74 [==============================] - 24s 325ms/step - loss: 0.2744 - accuracy: 0.8627 - val_loss: 0.5016 - val_accuracy: 0.8521\n",
      "Epoch 97/100\n",
      "74/74 [==============================] - 24s 325ms/step - loss: 0.2656 - accuracy: 0.8800 - val_loss: 0.5272 - val_accuracy: 0.8407\n",
      "Epoch 98/100\n",
      "74/74 [==============================] - 25s 333ms/step - loss: 0.2685 - accuracy: 0.8707 - val_loss: 0.5069 - val_accuracy: 0.8521\n",
      "Epoch 99/100\n",
      "74/74 [==============================] - 24s 324ms/step - loss: 0.2706 - accuracy: 0.8728 - val_loss: 0.5027 - val_accuracy: 0.8445\n",
      "Epoch 100/100\n",
      "74/74 [==============================] - 25s 332ms/step - loss: 0.2601 - accuracy: 0.8817 - val_loss: 0.5114 - val_accuracy: 0.8521\n"
     ]
    }
   ],
   "source": [
    "history = model.fit(train_ds, validation_data=validation_ds, epochs=100, callbacks=my_callbacks)"
   ]
  },
  {
   "cell_type": "markdown",
   "metadata": {
    "id": "pNtjUJk_VhYd"
   },
   "source": [
    "### Evaluating the model"
   ]
  },
  {
   "cell_type": "code",
   "execution_count": null,
   "metadata": {
    "colab": {
     "base_uri": "https://localhost:8080/"
    },
    "id": "ne_J79MNVhYf",
    "outputId": "43bb6633-8c01-4254-a708-18c011529e76"
   },
   "outputs": [
    {
     "name": "stdout",
     "output_type": "stream",
     "text": [
      "10/10 [==============================] - 3s 262ms/step - loss: 0.3572 - accuracy: 0.8364\n"
     ]
    },
    {
     "data": {
      "text/plain": [
       "[0.3571843886375427, 0.8364383292198181]"
      ]
     },
     "execution_count": 30,
     "metadata": {},
     "output_type": "execute_result"
    }
   ],
   "source": [
    "model = tf.keras.models.load_model(\"./saved_models/checkpoints/best_model\")\n",
    "model.evaluate(test_ds)"
   ]
  },
  {
   "cell_type": "markdown",
   "metadata": {
    "id": "oJEjNdxDV5MS"
   },
   "source": [
    "## Gucci"
   ]
  },
  {
   "cell_type": "markdown",
   "metadata": {
    "id": "NtLpyPREV5MU"
   },
   "source": [
    "### Split data into training, testing, validation"
   ]
  },
  {
   "cell_type": "code",
   "execution_count": null,
   "metadata": {
    "colab": {
     "base_uri": "https://localhost:8080/"
    },
    "id": "5_0dKmCcV5MU",
    "outputId": "db4c21ea-2ddc-41b1-c754-7309d05a73ff"
   },
   "outputs": [
    {
     "name": "stdout",
     "output_type": "stream",
     "text": [
      "Total training examples: 2821\n",
      "Total validation examples: 314\n",
      "Total test examples: 349\n"
     ]
    }
   ],
   "source": [
    "train_df, test_df = train_test_split(df_gucci, test_size=0.1, random_state=42)\n",
    "train_df, val_df = train_test_split(train_df, test_size=0.1, random_state=42)\n",
    "\n",
    "print(f\"Total training examples: {len(train_df)}\")\n",
    "print(f\"Total validation examples: {len(val_df)}\")\n",
    "print(f\"Total test examples: {len(test_df)}\")"
   ]
  },
  {
   "cell_type": "code",
   "execution_count": null,
   "metadata": {
    "id": "e6b6K-ETV5MW"
   },
   "outputs": [],
   "source": [
    "train_ds = prepare_dataset(train_df)\n",
    "validation_ds = prepare_dataset(val_df, False)\n",
    "test_ds = prepare_dataset(test_df, False)"
   ]
  },
  {
   "cell_type": "markdown",
   "metadata": {
    "id": "U8G4mjZaV5MX"
   },
   "source": [
    "### Training the model"
   ]
  },
  {
   "cell_type": "code",
   "execution_count": null,
   "metadata": {
    "colab": {
     "base_uri": "https://localhost:8080/"
    },
    "id": "WV65pabZV5MX",
    "outputId": "d0f5c7ed-d679-4b57-8fc5-ec2548d1949d"
   },
   "outputs": [
    {
     "name": "stdout",
     "output_type": "stream",
     "text": [
      "Epoch 1/100\n",
      "89/89 [==============================] - 37s 322ms/step - loss: 0.7434 - accuracy: 0.6547 - val_loss: 0.5795 - val_accuracy: 0.7325\n",
      "Epoch 2/100\n",
      "89/89 [==============================] - 27s 302ms/step - loss: 0.6132 - accuracy: 0.6827 - val_loss: 0.5972 - val_accuracy: 0.7389\n",
      "Epoch 3/100\n",
      "89/89 [==============================] - 27s 309ms/step - loss: 0.5930 - accuracy: 0.6877 - val_loss: 0.6243 - val_accuracy: 0.7038\n",
      "Epoch 4/100\n",
      "89/89 [==============================] - 28s 309ms/step - loss: 0.5817 - accuracy: 0.6920 - val_loss: 0.6027 - val_accuracy: 0.7038\n",
      "Epoch 5/100\n",
      "89/89 [==============================] - 28s 316ms/step - loss: 0.5709 - accuracy: 0.6990 - val_loss: 0.5792 - val_accuracy: 0.7070\n",
      "Epoch 6/100\n",
      "89/89 [==============================] - 29s 322ms/step - loss: 0.5636 - accuracy: 0.7005 - val_loss: 0.5604 - val_accuracy: 0.7357\n",
      "Epoch 7/100\n",
      "89/89 [==============================] - 28s 319ms/step - loss: 0.5553 - accuracy: 0.7132 - val_loss: 0.5666 - val_accuracy: 0.7293\n",
      "Epoch 8/100\n",
      "89/89 [==============================] - 29s 325ms/step - loss: 0.5464 - accuracy: 0.7150 - val_loss: 0.5464 - val_accuracy: 0.7484\n",
      "Epoch 9/100\n",
      "89/89 [==============================] - 29s 321ms/step - loss: 0.5375 - accuracy: 0.7210 - val_loss: 0.5291 - val_accuracy: 0.7739\n",
      "Epoch 10/100\n",
      "89/89 [==============================] - 28s 320ms/step - loss: 0.5317 - accuracy: 0.7309 - val_loss: 0.5250 - val_accuracy: 0.7675\n",
      "Epoch 11/100\n",
      "89/89 [==============================] - 28s 319ms/step - loss: 0.5267 - accuracy: 0.7356 - val_loss: 0.5217 - val_accuracy: 0.7771\n",
      "Epoch 12/100\n",
      "89/89 [==============================] - 29s 325ms/step - loss: 0.5210 - accuracy: 0.7441 - val_loss: 0.5234 - val_accuracy: 0.7707\n",
      "Epoch 13/100\n",
      "89/89 [==============================] - 29s 321ms/step - loss: 0.5158 - accuracy: 0.7473 - val_loss: 0.5111 - val_accuracy: 0.7834\n",
      "Epoch 14/100\n",
      "89/89 [==============================] - 29s 326ms/step - loss: 0.5122 - accuracy: 0.7504 - val_loss: 0.5127 - val_accuracy: 0.7739\n",
      "Epoch 15/100\n",
      "89/89 [==============================] - 29s 322ms/step - loss: 0.5075 - accuracy: 0.7512 - val_loss: 0.5102 - val_accuracy: 0.7675\n",
      "Epoch 16/100\n",
      "89/89 [==============================] - 29s 321ms/step - loss: 0.5029 - accuracy: 0.7565 - val_loss: 0.5123 - val_accuracy: 0.7643\n",
      "Epoch 17/100\n",
      "89/89 [==============================] - 28s 320ms/step - loss: 0.4998 - accuracy: 0.7590 - val_loss: 0.5000 - val_accuracy: 0.7946\n",
      "Epoch 18/100\n",
      "89/89 [==============================] - 29s 325ms/step - loss: 0.4960 - accuracy: 0.7639 - val_loss: 0.5045 - val_accuracy: 0.7707\n",
      "Epoch 19/100\n",
      "89/89 [==============================] - 29s 322ms/step - loss: 0.4953 - accuracy: 0.7607 - val_loss: 0.4986 - val_accuracy: 0.7739\n",
      "Epoch 20/100\n",
      "89/89 [==============================] - 29s 328ms/step - loss: 0.4901 - accuracy: 0.7685 - val_loss: 0.4896 - val_accuracy: 0.7771\n",
      "Epoch 21/100\n",
      "89/89 [==============================] - 29s 323ms/step - loss: 0.4864 - accuracy: 0.7678 - val_loss: 0.5008 - val_accuracy: 0.7804\n",
      "Epoch 22/100\n",
      "89/89 [==============================] - 29s 321ms/step - loss: 0.4851 - accuracy: 0.7703 - val_loss: 0.4962 - val_accuracy: 0.7771\n",
      "Epoch 23/100\n",
      "89/89 [==============================] - 29s 327ms/step - loss: 0.4808 - accuracy: 0.7753 - val_loss: 0.4992 - val_accuracy: 0.7739\n",
      "Epoch 24/100\n",
      "89/89 [==============================] - 29s 331ms/step - loss: 0.4786 - accuracy: 0.7774 - val_loss: 0.4976 - val_accuracy: 0.7771\n",
      "Epoch 25/100\n",
      "89/89 [==============================] - 30s 333ms/step - loss: 0.4753 - accuracy: 0.7831 - val_loss: 0.4927 - val_accuracy: 0.7930\n",
      "Epoch 26/100\n",
      "89/89 [==============================] - 29s 328ms/step - loss: 0.4724 - accuracy: 0.7820 - val_loss: 0.4840 - val_accuracy: 0.8034\n",
      "Epoch 27/100\n",
      "89/89 [==============================] - 30s 333ms/step - loss: 0.4715 - accuracy: 0.7827 - val_loss: 0.4709 - val_accuracy: 0.8163\n",
      "Epoch 28/100\n",
      "89/89 [==============================] - 29s 327ms/step - loss: 0.4678 - accuracy: 0.7877 - val_loss: 0.4885 - val_accuracy: 0.8052\n",
      "Epoch 29/100\n",
      "89/89 [==============================] - 30s 332ms/step - loss: 0.4667 - accuracy: 0.7877 - val_loss: 0.5097 - val_accuracy: 0.7834\n",
      "Epoch 30/100\n",
      "89/89 [==============================] - 30s 333ms/step - loss: 0.4642 - accuracy: 0.7919 - val_loss: 0.4901 - val_accuracy: 0.7950\n",
      "Epoch 31/100\n",
      "89/89 [==============================] - 29s 327ms/step - loss: 0.4605 - accuracy: 0.7937 - val_loss: 0.4856 - val_accuracy: 0.8034\n",
      "Epoch 32/100\n",
      "89/89 [==============================] - 29s 324ms/step - loss: 0.4589 - accuracy: 0.7944 - val_loss: 0.5036 - val_accuracy: 0.7803\n",
      "Epoch 33/100\n",
      "89/89 [==============================] - 28s 320ms/step - loss: 0.4545 - accuracy: 0.8001 - val_loss: 0.5049 - val_accuracy: 0.7866\n",
      "Epoch 34/100\n",
      "89/89 [==============================] - 29s 325ms/step - loss: 0.4521 - accuracy: 0.7965 - val_loss: 0.5170 - val_accuracy: 0.7771\n",
      "Epoch 35/100\n",
      "89/89 [==============================] - 29s 329ms/step - loss: 0.4494 - accuracy: 0.8004 - val_loss: 0.5061 - val_accuracy: 0.7866\n",
      "Epoch 36/100\n",
      "89/89 [==============================] - 29s 323ms/step - loss: 0.4458 - accuracy: 0.8004 - val_loss: 0.5002 - val_accuracy: 0.7866\n",
      "Epoch 37/100\n",
      "89/89 [==============================] - 29s 328ms/step - loss: 0.4444 - accuracy: 0.8043 - val_loss: 0.5070 - val_accuracy: 0.7866\n",
      "Epoch 38/100\n",
      "89/89 [==============================] - 29s 323ms/step - loss: 0.4400 - accuracy: 0.8072 - val_loss: 0.5020 - val_accuracy: 0.7803\n",
      "Epoch 39/100\n",
      "89/89 [==============================] - 29s 328ms/step - loss: 0.4388 - accuracy: 0.8089 - val_loss: 0.5075 - val_accuracy: 0.7866\n",
      "Epoch 40/100\n",
      "89/89 [==============================] - 29s 323ms/step - loss: 0.4374 - accuracy: 0.8107 - val_loss: 0.5090 - val_accuracy: 0.7803\n",
      "Epoch 41/100\n",
      "89/89 [==============================] - 29s 328ms/step - loss: 0.4343 - accuracy: 0.8104 - val_loss: 0.5043 - val_accuracy: 0.7803\n",
      "Epoch 42/100\n",
      "89/89 [==============================] - 29s 323ms/step - loss: 0.4335 - accuracy: 0.8125 - val_loss: 0.5000 - val_accuracy: 0.7866\n",
      "Epoch 43/100\n",
      "89/89 [==============================] - 29s 327ms/step - loss: 0.4321 - accuracy: 0.8139 - val_loss: 0.5009 - val_accuracy: 0.7803\n",
      "Epoch 44/100\n",
      "89/89 [==============================] - 29s 323ms/step - loss: 0.4292 - accuracy: 0.8157 - val_loss: 0.5064 - val_accuracy: 0.7866\n",
      "Epoch 45/100\n",
      "89/89 [==============================] - 29s 327ms/step - loss: 0.4286 - accuracy: 0.8150 - val_loss: 0.5062 - val_accuracy: 0.7834\n",
      "Epoch 46/100\n",
      "89/89 [==============================] - 29s 330ms/step - loss: 0.4232 - accuracy: 0.8181 - val_loss: 0.5057 - val_accuracy: 0.7803\n",
      "Epoch 47/100\n",
      "89/89 [==============================] - 30s 332ms/step - loss: 0.4256 - accuracy: 0.8132 - val_loss: 0.5127 - val_accuracy: 0.7739\n",
      "Epoch 48/100\n",
      "89/89 [==============================] - 29s 325ms/step - loss: 0.4213 - accuracy: 0.8196 - val_loss: 0.5117 - val_accuracy: 0.7771\n",
      "Epoch 49/100\n",
      "89/89 [==============================] - 29s 329ms/step - loss: 0.4201 - accuracy: 0.8206 - val_loss: 0.5020 - val_accuracy: 0.7866\n",
      "Epoch 50/100\n",
      "89/89 [==============================] - 29s 324ms/step - loss: 0.4190 - accuracy: 0.8196 - val_loss: 0.5121 - val_accuracy: 0.7739\n",
      "Epoch 51/100\n",
      "89/89 [==============================] - 29s 328ms/step - loss: 0.4158 - accuracy: 0.8220 - val_loss: 0.5016 - val_accuracy: 0.7834\n",
      "Epoch 52/100\n",
      "89/89 [==============================] - 29s 331ms/step - loss: 0.4158 - accuracy: 0.8210 - val_loss: 0.5060 - val_accuracy: 0.7803\n",
      "Epoch 53/100\n",
      "89/89 [==============================] - 29s 324ms/step - loss: 0.4139 - accuracy: 0.8199 - val_loss: 0.5150 - val_accuracy: 0.7707\n",
      "Epoch 54/100\n",
      "89/89 [==============================] - 29s 328ms/step - loss: 0.4106 - accuracy: 0.8252 - val_loss: 0.5018 - val_accuracy: 0.7803\n",
      "Epoch 55/100\n",
      "89/89 [==============================] - 29s 330ms/step - loss: 0.4129 - accuracy: 0.8213 - val_loss: 0.5272 - val_accuracy: 0.7675\n",
      "Epoch 56/100\n",
      "89/89 [==============================] - 29s 326ms/step - loss: 0.4104 - accuracy: 0.8245 - val_loss: 0.5138 - val_accuracy: 0.7771\n",
      "Epoch 57/100\n",
      "89/89 [==============================] - 29s 322ms/step - loss: 0.4087 - accuracy: 0.8263 - val_loss: 0.5121 - val_accuracy: 0.7707\n",
      "Epoch 58/100\n",
      "89/89 [==============================] - 29s 320ms/step - loss: 0.4059 - accuracy: 0.8281 - val_loss: 0.5285 - val_accuracy: 0.7484\n",
      "Epoch 59/100\n",
      "89/89 [==============================] - 28s 320ms/step - loss: 0.4105 - accuracy: 0.8238 - val_loss: 0.5090 - val_accuracy: 0.7675\n",
      "Epoch 60/100\n",
      "89/89 [==============================] - 28s 318ms/step - loss: 0.4089 - accuracy: 0.8274 - val_loss: 0.5143 - val_accuracy: 0.7771\n",
      "Epoch 61/100\n",
      "89/89 [==============================] - 28s 318ms/step - loss: 0.4042 - accuracy: 0.8291 - val_loss: 0.5175 - val_accuracy: 0.7643\n",
      "Epoch 62/100\n",
      "89/89 [==============================] - 29s 324ms/step - loss: 0.4069 - accuracy: 0.8263 - val_loss: 0.5065 - val_accuracy: 0.7675\n",
      "Epoch 63/100\n",
      "89/89 [==============================] - 29s 328ms/step - loss: 0.4055 - accuracy: 0.8238 - val_loss: 0.5244 - val_accuracy: 0.7611\n",
      "Epoch 64/100\n",
      "89/89 [==============================] - 29s 323ms/step - loss: 0.4094 - accuracy: 0.8220 - val_loss: 0.5056 - val_accuracy: 0.7675\n",
      "Epoch 65/100\n",
      "89/89 [==============================] - 29s 321ms/step - loss: 0.4097 - accuracy: 0.8220 - val_loss: 0.5092 - val_accuracy: 0.7803\n",
      "Epoch 66/100\n",
      "89/89 [==============================] - 29s 320ms/step - loss: 0.4103 - accuracy: 0.8139 - val_loss: 0.5108 - val_accuracy: 0.7766\n",
      "Epoch 67/100\n",
      "89/89 [==============================] - 28s 319ms/step - loss: 0.4099 - accuracy: 0.8192 - val_loss: 0.5094 - val_accuracy: 0.7802\n",
      "Epoch 68/100\n",
      "89/89 [==============================] - 29s 325ms/step - loss: 0.4067 - accuracy: 0.8235 - val_loss: 0.5190 - val_accuracy: 0.7957\n",
      "Epoch 69/100\n",
      "89/89 [==============================] - 29s 329ms/step - loss: 0.4046 - accuracy: 0.8252 - val_loss: 0.4829 - val_accuracy: 0.8070\n",
      "Epoch 70/100\n",
      "89/89 [==============================] - 29s 324ms/step - loss: 0.3994 - accuracy: 0.8267 - val_loss: 0.5115 - val_accuracy: 0.7904\n",
      "Epoch 71/100\n",
      "89/89 [==============================] - 29s 322ms/step - loss: 0.3995 - accuracy: 0.8298 - val_loss: 0.5441 - val_accuracy: 0.7524\n",
      "Epoch 72/100\n",
      "89/89 [==============================] - 29s 328ms/step - loss: 0.4015 - accuracy: 0.8323 - val_loss: 0.5656 - val_accuracy: 0.7420\n",
      "Epoch 73/100\n",
      "89/89 [==============================] - 29s 324ms/step - loss: 0.3964 - accuracy: 0.8323 - val_loss: 0.5489 - val_accuracy: 0.7615\n",
      "Epoch 74/100\n",
      "89/89 [==============================] - 29s 322ms/step - loss: 0.3958 - accuracy: 0.8323 - val_loss: 0.5056 - val_accuracy: 0.7856\n",
      "Epoch 75/100\n",
      "89/89 [==============================] - 29s 321ms/step - loss: 0.3940 - accuracy: 0.8348 - val_loss: 0.5261 - val_accuracy: 0.7752\n",
      "Epoch 76/100\n",
      "89/89 [==============================] - 29s 320ms/step - loss: 0.3889 - accuracy: 0.8352 - val_loss: 0.5366 - val_accuracy: 0.7615\n",
      "Epoch 77/100\n",
      "89/89 [==============================] - 28s 319ms/step - loss: 0.3882 - accuracy: 0.8373 - val_loss: 0.5030 - val_accuracy: 0.7836\n",
      "Epoch 78/100\n",
      "89/89 [==============================] - 29s 326ms/step - loss: 0.3886 - accuracy: 0.8345 - val_loss: 0.5180 - val_accuracy: 0.7961\n",
      "Epoch 79/100\n",
      "89/89 [==============================] - 29s 330ms/step - loss: 0.3879 - accuracy: 0.8369 - val_loss: 0.4891 - val_accuracy: 0.8029\n",
      "Epoch 80/100\n",
      "89/89 [==============================] - 30s 333ms/step - loss: 0.3862 - accuracy: 0.8391 - val_loss: 0.5140 - val_accuracy: 0.7724\n",
      "Epoch 81/100\n",
      "89/89 [==============================] - 29s 328ms/step - loss: 0.3853 - accuracy: 0.8373 - val_loss: 0.5033 - val_accuracy: 0.7865\n",
      "Epoch 82/100\n",
      "89/89 [==============================] - 30s 332ms/step - loss: 0.3815 - accuracy: 0.8412 - val_loss: 0.5130 - val_accuracy: 0.7765\n",
      "Epoch 83/100\n",
      "89/89 [==============================] - 29s 327ms/step - loss: 0.3824 - accuracy: 0.8412 - val_loss: 0.5044 - val_accuracy: 0.7881\n",
      "Epoch 84/100\n",
      "89/89 [==============================] - 29s 332ms/step - loss: 0.3831 - accuracy: 0.8384 - val_loss: 0.5398 - val_accuracy: 0.7630\n",
      "Epoch 85/100\n",
      "89/89 [==============================] - 29s 326ms/step - loss: 0.3826 - accuracy: 0.8359 - val_loss: 0.5133 - val_accuracy: 0.7905\n",
      "Epoch 86/100\n",
      "89/89 [==============================] - 29s 324ms/step - loss: 0.3831 - accuracy: 0.8316 - val_loss: 0.4795 - val_accuracy: 0.8164\n",
      "Epoch 87/100\n",
      "89/89 [==============================] - 29s 329ms/step - loss: 0.3825 - accuracy: 0.8352 - val_loss: 0.4875 - val_accuracy: 0.8047\n",
      "Epoch 88/100\n",
      "89/89 [==============================] - 30s 333ms/step - loss: 0.3856 - accuracy: 0.8362 - val_loss: 0.4961 - val_accuracy: 0.7962\n",
      "Epoch 89/100\n",
      "89/89 [==============================] - 29s 329ms/step - loss: 0.3899 - accuracy: 0.8341 - val_loss: 0.5019 - val_accuracy: 0.8047\n",
      "Epoch 90/100\n",
      "89/89 [==============================] - 29s 331ms/step - loss: 0.3894 - accuracy: 0.8348 - val_loss: 0.5039 - val_accuracy: 0.7844\n",
      "Epoch 91/100\n",
      "89/89 [==============================] - 29s 329ms/step - loss: 0.3917 - accuracy: 0.8334 - val_loss: 0.5249 - val_accuracy: 0.7681\n",
      "Epoch 92/100\n",
      "89/89 [==============================] - 30s 334ms/step - loss: 0.3918 - accuracy: 0.8348 - val_loss: 0.5353 - val_accuracy: 0.7710\n",
      "Epoch 93/100\n",
      "89/89 [==============================] - 29s 328ms/step - loss: 0.3939 - accuracy: 0.8366 - val_loss: 0.5055 - val_accuracy: 0.7814\n",
      "Epoch 94/100\n",
      "89/89 [==============================] - 30s 333ms/step - loss: 0.3886 - accuracy: 0.8384 - val_loss: 0.5048 - val_accuracy: 0.7818\n",
      "Epoch 95/100\n",
      "89/89 [==============================] - 29s 327ms/step - loss: 0.3946 - accuracy: 0.8320 - val_loss: 0.5077 - val_accuracy: 0.7882\n",
      "Epoch 96/100\n",
      "89/89 [==============================] - 29s 324ms/step - loss: 0.3926 - accuracy: 0.8302 - val_loss: 0.5073 - val_accuracy: 0.7801\n",
      "Epoch 97/100\n",
      "89/89 [==============================] - 29s 322ms/step - loss: 0.3877 - accuracy: 0.8313 - val_loss: 0.5199 - val_accuracy: 0.7790\n",
      "Epoch 98/100\n",
      "89/89 [==============================] - 29s 322ms/step - loss: 0.3801 - accuracy: 0.8384 - val_loss: 0.5078 - val_accuracy: 0.7838\n",
      "Epoch 99/100\n",
      "89/89 [==============================] - 29s 321ms/step - loss: 0.3827 - accuracy: 0.8352 - val_loss: 0.5194 - val_accuracy: 0.7928\n",
      "Epoch 100/100\n",
      "89/89 [==============================] - 29s 320ms/step - loss: 0.3738 - accuracy: 0.8419 - val_loss: 0.5145 - val_accuracy: 0.7955\n"
     ]
    }
   ],
   "source": [
    "history = model.fit(train_ds, validation_data=validation_ds, epochs=100)"
   ]
  },
  {
   "cell_type": "markdown",
   "metadata": {
    "id": "Vt9M2wleV5MY"
   },
   "source": [
    "### Evaluating the model"
   ]
  },
  {
   "cell_type": "code",
   "execution_count": null,
   "metadata": {
    "colab": {
     "base_uri": "https://localhost:8080/"
    },
    "id": "7LjO_YHTV5MY",
    "outputId": "d888d8f0-4778-4138-d37e-cd8cacfe1cb3"
   },
   "outputs": [
    {
     "name": "stdout",
     "output_type": "stream",
     "text": [
      "11/11 [==============================] - 4s 287ms/step - loss: 0.4202 - accuracy: 0.8235\n"
     ]
    },
    {
     "data": {
      "text/plain": [
       "[0.420244128704071, 0.8235243821144104]"
      ]
     },
     "execution_count": 44,
     "metadata": {},
     "output_type": "execute_result"
    }
   ],
   "source": [
    "model = tf.keras.models.load_model(\"./saved_models/checkpoints/best_model\")\n",
    "model.evaluate(test_ds)"
   ]
  },
  {
   "cell_type": "markdown",
   "metadata": {
    "id": "ST-hj1HWWA7d"
   },
   "source": [
    "## Cristiano Ronaldo"
   ]
  },
  {
   "cell_type": "markdown",
   "metadata": {
    "id": "EAg-6zUdWA7f"
   },
   "source": [
    "### Split data into training, testing, validation"
   ]
  },
  {
   "cell_type": "code",
   "execution_count": null,
   "metadata": {
    "colab": {
     "base_uri": "https://localhost:8080/"
    },
    "id": "JM0EscmUWA7g",
    "outputId": "c4e6122d-5e18-42f3-b2bf-ec724dcd686e"
   },
   "outputs": [
    {
     "name": "stdout",
     "output_type": "stream",
     "text": [
      "Total training examples: 3452\n",
      "Total validation examples: 384\n",
      "Total test examples: 427\n"
     ]
    }
   ],
   "source": [
    "train_df, test_df = train_test_split(df_cristianoronaldo, test_size=0.1, random_state=42)\n",
    "train_df, val_df = train_test_split(train_df, test_size=0.1, random_state=42)\n",
    "\n",
    "print(f\"Total training examples: {len(train_df)}\")\n",
    "print(f\"Total validation examples: {len(val_df)}\")\n",
    "print(f\"Total test examples: {len(test_df)}\")"
   ]
  },
  {
   "cell_type": "code",
   "execution_count": null,
   "metadata": {
    "id": "m94RIKfIWA7h"
   },
   "outputs": [],
   "source": [
    "train_ds = prepare_dataset(train_df)\n",
    "validation_ds = prepare_dataset(val_df, False)\n",
    "test_ds = prepare_dataset(test_df, False)"
   ]
  },
  {
   "cell_type": "markdown",
   "metadata": {
    "id": "HFc_cMj4WA7i"
   },
   "source": [
    "### Training the model"
   ]
  },
  {
   "cell_type": "code",
   "execution_count": null,
   "metadata": {
    "colab": {
     "base_uri": "https://localhost:8080/"
    },
    "id": "QY5WasxDWA7j",
    "outputId": "141cc5f7-fef7-41fa-a03d-c2e74f84de52"
   },
   "outputs": [
    {
     "name": "stdout",
     "output_type": "stream",
     "text": [
      "Epoch 1/100\n",
      "108/108 [==============================] - 47s 341ms/step - loss: 0.5941 - accuracy: 0.7378 - val_loss: 0.5102 - val_accuracy: 0.7786\n",
      "Epoch 2/100\n",
      "108/108 [==============================] - 35s 324ms/step - loss: 0.4616 - accuracy: 0.7894 - val_loss: 0.4493 - val_accuracy: 0.8099\n",
      "Epoch 3/100\n",
      "108/108 [==============================] - 35s 324ms/step - loss: 0.4378 - accuracy: 0.7987 - val_loss: 0.4331 - val_accuracy: 0.8203\n",
      "Epoch 4/100\n",
      "108/108 [==============================] - 35s 326ms/step - loss: 0.4243 - accuracy: 0.8033 - val_loss: 0.4223 - val_accuracy: 0.8307\n",
      "Epoch 5/100\n",
      "108/108 [==============================] - 35s 326ms/step - loss: 0.4107 - accuracy: 0.8091 - val_loss: 0.4199 - val_accuracy: 0.8281\n",
      "Epoch 6/100\n",
      "108/108 [==============================] - 35s 324ms/step - loss: 0.4030 - accuracy: 0.8126 - val_loss: 0.4185 - val_accuracy: 0.8229\n",
      "Epoch 7/100\n",
      "108/108 [==============================] - 35s 326ms/step - loss: 0.3955 - accuracy: 0.8169 - val_loss: 0.4194 - val_accuracy: 0.8281\n",
      "Epoch 8/100\n",
      "108/108 [==============================] - 35s 325ms/step - loss: 0.3902 - accuracy: 0.8201 - val_loss: 0.4172 - val_accuracy: 0.8229\n",
      "Epoch 9/100\n",
      "108/108 [==============================] - 35s 326ms/step - loss: 0.3843 - accuracy: 0.8256 - val_loss: 0.4158 - val_accuracy: 0.8255\n",
      "Epoch 10/100\n",
      "108/108 [==============================] - 35s 325ms/step - loss: 0.3801 - accuracy: 0.8273 - val_loss: 0.4123 - val_accuracy: 0.8229\n",
      "Epoch 11/100\n",
      "108/108 [==============================] - 35s 326ms/step - loss: 0.3745 - accuracy: 0.8308 - val_loss: 0.4141 - val_accuracy: 0.8229\n",
      "Epoch 12/100\n",
      "108/108 [==============================] - 35s 326ms/step - loss: 0.3728 - accuracy: 0.8311 - val_loss: 0.4161 - val_accuracy: 0.8255\n",
      "Epoch 13/100\n",
      "108/108 [==============================] - 35s 325ms/step - loss: 0.3685 - accuracy: 0.8340 - val_loss: 0.4111 - val_accuracy: 0.8229\n",
      "Epoch 14/100\n",
      "108/108 [==============================] - 35s 326ms/step - loss: 0.3642 - accuracy: 0.8389 - val_loss: 0.4132 - val_accuracy: 0.8229\n",
      "Epoch 15/100\n",
      "108/108 [==============================] - 35s 325ms/step - loss: 0.3605 - accuracy: 0.8395 - val_loss: 0.4174 - val_accuracy: 0.8229\n",
      "Epoch 16/100\n",
      "108/108 [==============================] - 35s 325ms/step - loss: 0.3565 - accuracy: 0.8427 - val_loss: 0.4197 - val_accuracy: 0.8255\n",
      "Epoch 17/100\n",
      "108/108 [==============================] - 35s 327ms/step - loss: 0.3545 - accuracy: 0.8418 - val_loss: 0.4107 - val_accuracy: 0.8229\n",
      "Epoch 18/100\n",
      "108/108 [==============================] - 35s 325ms/step - loss: 0.3508 - accuracy: 0.8453 - val_loss: 0.4255 - val_accuracy: 0.8229\n",
      "Epoch 19/100\n",
      "108/108 [==============================] - 35s 326ms/step - loss: 0.3504 - accuracy: 0.8473 - val_loss: 0.4231 - val_accuracy: 0.8307\n",
      "Epoch 20/100\n",
      "108/108 [==============================] - 35s 326ms/step - loss: 0.3458 - accuracy: 0.8502 - val_loss: 0.4261 - val_accuracy: 0.8255\n",
      "Epoch 21/100\n",
      "108/108 [==============================] - 35s 325ms/step - loss: 0.3426 - accuracy: 0.8497 - val_loss: 0.4288 - val_accuracy: 0.8333\n",
      "Epoch 22/100\n",
      "108/108 [==============================] - 35s 325ms/step - loss: 0.3383 - accuracy: 0.8546 - val_loss: 0.4271 - val_accuracy: 0.8333\n",
      "Epoch 23/100\n",
      "108/108 [==============================] - 35s 327ms/step - loss: 0.3380 - accuracy: 0.8502 - val_loss: 0.4306 - val_accuracy: 0.8307\n",
      "Epoch 24/100\n",
      "108/108 [==============================] - 35s 325ms/step - loss: 0.3348 - accuracy: 0.8583 - val_loss: 0.4310 - val_accuracy: 0.8307\n",
      "Epoch 25/100\n",
      "108/108 [==============================] - 35s 325ms/step - loss: 0.3309 - accuracy: 0.8589 - val_loss: 0.4406 - val_accuracy: 0.8281\n",
      "Epoch 26/100\n",
      "108/108 [==============================] - 35s 325ms/step - loss: 0.3297 - accuracy: 0.8575 - val_loss: 0.4341 - val_accuracy: 0.8307\n",
      "Epoch 27/100\n",
      "108/108 [==============================] - 35s 325ms/step - loss: 0.3271 - accuracy: 0.8595 - val_loss: 0.4401 - val_accuracy: 0.8281\n",
      "Epoch 28/100\n",
      "108/108 [==============================] - 35s 327ms/step - loss: 0.3251 - accuracy: 0.8578 - val_loss: 0.4385 - val_accuracy: 0.8333\n",
      "Epoch 29/100\n",
      "108/108 [==============================] - 35s 326ms/step - loss: 0.3219 - accuracy: 0.8636 - val_loss: 0.4361 - val_accuracy: 0.8359\n",
      "Epoch 30/100\n",
      "108/108 [==============================] - 35s 325ms/step - loss: 0.3194 - accuracy: 0.8630 - val_loss: 0.4387 - val_accuracy: 0.8307\n",
      "Epoch 31/100\n",
      "108/108 [==============================] - 35s 326ms/step - loss: 0.3197 - accuracy: 0.8612 - val_loss: 0.4402 - val_accuracy: 0.8411\n",
      "Epoch 32/100\n",
      "108/108 [==============================] - 35s 325ms/step - loss: 0.3179 - accuracy: 0.8630 - val_loss: 0.4404 - val_accuracy: 0.8385\n",
      "Epoch 33/100\n",
      "108/108 [==============================] - 35s 326ms/step - loss: 0.3159 - accuracy: 0.8630 - val_loss: 0.4410 - val_accuracy: 0.8411\n",
      "Epoch 34/100\n",
      "108/108 [==============================] - 35s 324ms/step - loss: 0.3145 - accuracy: 0.8644 - val_loss: 0.4425 - val_accuracy: 0.8359\n",
      "Epoch 35/100\n",
      "108/108 [==============================] - 35s 325ms/step - loss: 0.3126 - accuracy: 0.8653 - val_loss: 0.4370 - val_accuracy: 0.8438\n",
      "Epoch 36/100\n",
      "108/108 [==============================] - 35s 325ms/step - loss: 0.3101 - accuracy: 0.8653 - val_loss: 0.4416 - val_accuracy: 0.8385\n",
      "Epoch 37/100\n",
      "108/108 [==============================] - 35s 326ms/step - loss: 0.3090 - accuracy: 0.8685 - val_loss: 0.4409 - val_accuracy: 0.8438\n",
      "Epoch 38/100\n",
      "108/108 [==============================] - 35s 325ms/step - loss: 0.3057 - accuracy: 0.8694 - val_loss: 0.4461 - val_accuracy: 0.8464\n",
      "Epoch 39/100\n",
      "108/108 [==============================] - 35s 325ms/step - loss: 0.3040 - accuracy: 0.8711 - val_loss: 0.4528 - val_accuracy: 0.8359\n",
      "Epoch 40/100\n",
      "108/108 [==============================] - 35s 326ms/step - loss: 0.3037 - accuracy: 0.8679 - val_loss: 0.4463 - val_accuracy: 0.8411\n",
      "Epoch 41/100\n",
      "108/108 [==============================] - 35s 325ms/step - loss: 0.3006 - accuracy: 0.8717 - val_loss: 0.4492 - val_accuracy: 0.8411\n",
      "Epoch 42/100\n",
      "108/108 [==============================] - 35s 326ms/step - loss: 0.2987 - accuracy: 0.8714 - val_loss: 0.4462 - val_accuracy: 0.8359\n",
      "Epoch 43/100\n",
      "108/108 [==============================] - 35s 326ms/step - loss: 0.2989 - accuracy: 0.8737 - val_loss: 0.4443 - val_accuracy: 0.8359\n",
      "Epoch 44/100\n",
      "108/108 [==============================] - 35s 325ms/step - loss: 0.2969 - accuracy: 0.8720 - val_loss: 0.4515 - val_accuracy: 0.8411\n",
      "Epoch 45/100\n",
      "108/108 [==============================] - 35s 326ms/step - loss: 0.2930 - accuracy: 0.8740 - val_loss: 0.4617 - val_accuracy: 0.8333\n",
      "Epoch 46/100\n",
      "108/108 [==============================] - 35s 326ms/step - loss: 0.2924 - accuracy: 0.8734 - val_loss: 0.4611 - val_accuracy: 0.8281\n",
      "Epoch 47/100\n",
      "108/108 [==============================] - 35s 326ms/step - loss: 0.2918 - accuracy: 0.8746 - val_loss: 0.4542 - val_accuracy: 0.8385\n",
      "Epoch 48/100\n",
      "108/108 [==============================] - 35s 327ms/step - loss: 0.2891 - accuracy: 0.8766 - val_loss: 0.4582 - val_accuracy: 0.8359\n",
      "Epoch 49/100\n",
      "108/108 [==============================] - 35s 325ms/step - loss: 0.2888 - accuracy: 0.8780 - val_loss: 0.4630 - val_accuracy: 0.8307\n",
      "Epoch 50/100\n",
      "108/108 [==============================] - 35s 324ms/step - loss: 0.2868 - accuracy: 0.8801 - val_loss: 0.4638 - val_accuracy: 0.8307\n",
      "Epoch 51/100\n",
      "108/108 [==============================] - 35s 325ms/step - loss: 0.2849 - accuracy: 0.8801 - val_loss: 0.4568 - val_accuracy: 0.8385\n",
      "Epoch 52/100\n",
      "108/108 [==============================] - 35s 324ms/step - loss: 0.2832 - accuracy: 0.8830 - val_loss: 0.4677 - val_accuracy: 0.8307\n",
      "Epoch 53/100\n",
      "108/108 [==============================] - 35s 324ms/step - loss: 0.2820 - accuracy: 0.8827 - val_loss: 0.4649 - val_accuracy: 0.8333\n",
      "Epoch 54/100\n",
      "108/108 [==============================] - 35s 325ms/step - loss: 0.2795 - accuracy: 0.8821 - val_loss: 0.4902 - val_accuracy: 0.8151\n",
      "Epoch 55/100\n",
      "108/108 [==============================] - 35s 324ms/step - loss: 0.2824 - accuracy: 0.8824 - val_loss: 0.4624 - val_accuracy: 0.8281\n",
      "Epoch 56/100\n",
      "108/108 [==============================] - 35s 324ms/step - loss: 0.2774 - accuracy: 0.8847 - val_loss: 0.4615 - val_accuracy: 0.8359\n",
      "Epoch 57/100\n",
      "108/108 [==============================] - 35s 325ms/step - loss: 0.2769 - accuracy: 0.8844 - val_loss: 0.4646 - val_accuracy: 0.8333\n",
      "Epoch 58/100\n",
      "108/108 [==============================] - 35s 324ms/step - loss: 0.2750 - accuracy: 0.8812 - val_loss: 0.4759 - val_accuracy: 0.8438\n",
      "Epoch 59/100\n",
      "108/108 [==============================] - 35s 325ms/step - loss: 0.2741 - accuracy: 0.8847 - val_loss: 0.4770 - val_accuracy: 0.8385\n",
      "Epoch 60/100\n",
      "108/108 [==============================] - 35s 324ms/step - loss: 0.2739 - accuracy: 0.8830 - val_loss: 0.4831 - val_accuracy: 0.8385\n",
      "Epoch 61/100\n",
      "108/108 [==============================] - 35s 326ms/step - loss: 0.2673 - accuracy: 0.8873 - val_loss: 0.4919 - val_accuracy: 0.8438\n",
      "Epoch 62/100\n",
      "108/108 [==============================] - 35s 325ms/step - loss: 0.2683 - accuracy: 0.8853 - val_loss: 0.5062 - val_accuracy: 0.8411\n",
      "Epoch 63/100\n",
      "108/108 [==============================] - 35s 325ms/step - loss: 0.2678 - accuracy: 0.8896 - val_loss: 0.5085 - val_accuracy: 0.8411\n",
      "Epoch 64/100\n",
      "108/108 [==============================] - 35s 326ms/step - loss: 0.2671 - accuracy: 0.8856 - val_loss: 0.5178 - val_accuracy: 0.8307\n",
      "Epoch 65/100\n",
      "108/108 [==============================] - 35s 326ms/step - loss: 0.2664 - accuracy: 0.8862 - val_loss: 0.5008 - val_accuracy: 0.8411\n",
      "Epoch 66/100\n",
      "108/108 [==============================] - 35s 325ms/step - loss: 0.2641 - accuracy: 0.8876 - val_loss: 0.5177 - val_accuracy: 0.8464\n",
      "Epoch 67/100\n",
      "108/108 [==============================] - 35s 326ms/step - loss: 0.2612 - accuracy: 0.8908 - val_loss: 0.5161 - val_accuracy: 0.8411\n",
      "Epoch 68/100\n",
      "108/108 [==============================] - 35s 327ms/step - loss: 0.2592 - accuracy: 0.8873 - val_loss: 0.5307 - val_accuracy: 0.8385\n",
      "Epoch 69/100\n",
      "108/108 [==============================] - 35s 325ms/step - loss: 0.2598 - accuracy: 0.8890 - val_loss: 0.5400 - val_accuracy: 0.8411\n",
      "Epoch 70/100\n",
      "108/108 [==============================] - 35s 325ms/step - loss: 0.2607 - accuracy: 0.8893 - val_loss: 0.5238 - val_accuracy: 0.8411\n",
      "Epoch 71/100\n",
      "108/108 [==============================] - 35s 326ms/step - loss: 0.2609 - accuracy: 0.8905 - val_loss: 0.5262 - val_accuracy: 0.8438\n",
      "Epoch 72/100\n",
      "108/108 [==============================] - 35s 325ms/step - loss: 0.2589 - accuracy: 0.8882 - val_loss: 0.5358 - val_accuracy: 0.8333\n",
      "Epoch 73/100\n",
      "108/108 [==============================] - 35s 325ms/step - loss: 0.2583 - accuracy: 0.8911 - val_loss: 0.5227 - val_accuracy: 0.8385\n",
      "Epoch 74/100\n",
      "108/108 [==============================] - 35s 326ms/step - loss: 0.2567 - accuracy: 0.8899 - val_loss: 0.5540 - val_accuracy: 0.8385\n",
      "Epoch 75/100\n",
      "108/108 [==============================] - 35s 326ms/step - loss: 0.2566 - accuracy: 0.8925 - val_loss: 0.5111 - val_accuracy: 0.8385\n",
      "Epoch 76/100\n",
      "108/108 [==============================] - 35s 325ms/step - loss: 0.2547 - accuracy: 0.8890 - val_loss: 0.5518 - val_accuracy: 0.8333\n",
      "Epoch 77/100\n",
      "108/108 [==============================] - 35s 326ms/step - loss: 0.2541 - accuracy: 0.8925 - val_loss: 0.5303 - val_accuracy: 0.8411\n",
      "Epoch 78/100\n",
      "108/108 [==============================] - 35s 326ms/step - loss: 0.2521 - accuracy: 0.8905 - val_loss: 0.5676 - val_accuracy: 0.8307\n",
      "Epoch 79/100\n",
      "108/108 [==============================] - 35s 325ms/step - loss: 0.2485 - accuracy: 0.8975 - val_loss: 0.5356 - val_accuracy: 0.8385\n",
      "Epoch 80/100\n",
      "108/108 [==============================] - 35s 327ms/step - loss: 0.2499 - accuracy: 0.8911 - val_loss: 0.5535 - val_accuracy: 0.8281\n",
      "Epoch 81/100\n",
      "108/108 [==============================] - 35s 325ms/step - loss: 0.2468 - accuracy: 0.8943 - val_loss: 0.5524 - val_accuracy: 0.8281\n",
      "Epoch 82/100\n",
      "108/108 [==============================] - 35s 326ms/step - loss: 0.2487 - accuracy: 0.8937 - val_loss: 0.5116 - val_accuracy: 0.8359\n",
      "Epoch 83/100\n",
      "108/108 [==============================] - 35s 326ms/step - loss: 0.2442 - accuracy: 0.8951 - val_loss: 0.5429 - val_accuracy: 0.8333\n",
      "Epoch 84/100\n",
      "108/108 [==============================] - 35s 325ms/step - loss: 0.2443 - accuracy: 0.8937 - val_loss: 0.5940 - val_accuracy: 0.8229\n",
      "Epoch 85/100\n",
      "108/108 [==============================] - 35s 326ms/step - loss: 0.2437 - accuracy: 0.8951 - val_loss: 0.5735 - val_accuracy: 0.8333\n",
      "Epoch 86/100\n",
      "108/108 [==============================] - 35s 325ms/step - loss: 0.2386 - accuracy: 0.8983 - val_loss: 0.5427 - val_accuracy: 0.8385\n",
      "Epoch 87/100\n",
      "108/108 [==============================] - 35s 325ms/step - loss: 0.2401 - accuracy: 0.8989 - val_loss: 0.5439 - val_accuracy: 0.8359\n",
      "Epoch 88/100\n",
      "108/108 [==============================] - 35s 325ms/step - loss: 0.2437 - accuracy: 0.8919 - val_loss: 0.5680 - val_accuracy: 0.8151\n",
      "Epoch 89/100\n",
      "108/108 [==============================] - 35s 326ms/step - loss: 0.2377 - accuracy: 0.8986 - val_loss: 0.5868 - val_accuracy: 0.8125\n",
      "Epoch 90/100\n",
      "108/108 [==============================] - 35s 326ms/step - loss: 0.2376 - accuracy: 0.8995 - val_loss: 0.6065 - val_accuracy: 0.8151\n",
      "Epoch 91/100\n",
      "108/108 [==============================] - 35s 325ms/step - loss: 0.2377 - accuracy: 0.8972 - val_loss: 0.6246 - val_accuracy: 0.8125\n",
      "Epoch 92/100\n",
      "108/108 [==============================] - 35s 325ms/step - loss: 0.2317 - accuracy: 0.9006 - val_loss: 0.6566 - val_accuracy: 0.8073\n",
      "Epoch 93/100\n",
      "108/108 [==============================] - 35s 325ms/step - loss: 0.2331 - accuracy: 0.8989 - val_loss: 0.6255 - val_accuracy: 0.8177\n",
      "Epoch 94/100\n",
      "108/108 [==============================] - 35s 326ms/step - loss: 0.2333 - accuracy: 0.9024 - val_loss: 0.5617 - val_accuracy: 0.8281\n",
      "Epoch 95/100\n",
      "108/108 [==============================] - 35s 326ms/step - loss: 0.2288 - accuracy: 0.9001 - val_loss: 0.6449 - val_accuracy: 0.8073\n",
      "Epoch 96/100\n",
      "108/108 [==============================] - 35s 327ms/step - loss: 0.2268 - accuracy: 0.9030 - val_loss: 0.6580 - val_accuracy: 0.8047\n",
      "Epoch 97/100\n",
      "108/108 [==============================] - 35s 326ms/step - loss: 0.2275 - accuracy: 0.9030 - val_loss: 0.6664 - val_accuracy: 0.8047\n",
      "Epoch 98/100\n",
      "108/108 [==============================] - 35s 325ms/step - loss: 0.2249 - accuracy: 0.9032 - val_loss: 0.6821 - val_accuracy: 0.7995\n",
      "Epoch 99/100\n",
      "108/108 [==============================] - 35s 327ms/step - loss: 0.2222 - accuracy: 0.9047 - val_loss: 0.6736 - val_accuracy: 0.8021\n",
      "Epoch 100/100\n",
      "108/108 [==============================] - 35s 325ms/step - loss: 0.2199 - accuracy: 0.9059 - val_loss: 0.6343 - val_accuracy: 0.8203\n"
     ]
    }
   ],
   "source": [
    "history = model.fit(train_ds, validation_data=validation_ds, epochs=100, callbacks=my_callbacks)"
   ]
  },
  {
   "cell_type": "markdown",
   "metadata": {
    "id": "ZfvsMDmBWA7k"
   },
   "source": [
    "### Evaluating the model"
   ]
  },
  {
   "cell_type": "code",
   "execution_count": null,
   "metadata": {
    "colab": {
     "base_uri": "https://localhost:8080/"
    },
    "id": "YJspogQdWA7k",
    "outputId": "42d99f30-15de-4aad-f04f-f4007019ec9a"
   },
   "outputs": [
    {
     "name": "stdout",
     "output_type": "stream",
     "text": [
      "14/14 [==============================] - 5s 275ms/step - loss: 0.3877 - accuracy: 0.8306\n"
     ]
    },
    {
     "data": {
      "text/plain": [
       "[0.3877019609928131, 0.8305620670318604]"
      ]
     },
     "execution_count": 58,
     "metadata": {},
     "output_type": "execute_result"
    }
   ],
   "source": [
    "model = tf.keras.models.load_model(\"./saved_models/checkpoints/best_model\")\n",
    "model.evaluate(test_ds)"
   ]
  }
 ],
 "metadata": {
  "colab": {
   "collapsed_sections": [
    "iruP3GsCgTcS",
    "3bznJQcAgTcU",
    "jRtOBaVkz4iX",
    "Jy3h4NuEz4iX",
    "Rz_YMb2pGSAJ",
    "CE1BBUDNGSAM",
    "FGnClIaZWmVe",
    "K8Qw-hXWWmVf",
    "3YkseuQwGBHB",
    "kJZUVzbWKwZR",
    "0c2JJ8V3EgYn",
    "PRYuyzV9UZV5",
    "iZC4DTdcVhYb",
    "c46Yh31UVhYc",
    "NtLpyPREV5MU",
    "EAg-6zUdWA7f"
   ],
   "name": "text classification - bert.ipynb",
   "provenance": [],
   "toc_visible": true
  },
  "gpuClass": "standard",
  "kernelspec": {
   "display_name": "Python 3",
   "language": "python",
   "name": "python3"
  },
  "language_info": {
   "codemirror_mode": {
    "name": "ipython",
    "version": 3
   },
   "file_extension": ".py",
   "mimetype": "text/x-python",
   "name": "python",
   "nbconvert_exporter": "python",
   "pygments_lexer": "ipython3",
   "version": "3.7.2"
  }
 },
 "nbformat": 4,
 "nbformat_minor": 1
}
